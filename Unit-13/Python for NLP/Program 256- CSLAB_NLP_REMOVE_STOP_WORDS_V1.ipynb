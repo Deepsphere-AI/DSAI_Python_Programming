{
  "nbformat": 4,
  "nbformat_minor": 0,
  "metadata": {
    "colab": {
      "provenance": [],
      "authorship_tag": "ABX9TyMGtpa2oQx4pNjEJwQimany",
      "include_colab_link": true
    },
    "kernelspec": {
      "name": "python3",
      "display_name": "Python 3"
    },
    "language_info": {
      "name": "python"
    }
  },
  "cells": [
    {
      "cell_type": "markdown",
      "metadata": {
        "id": "view-in-github",
        "colab_type": "text"
      },
      "source": [
        "<a href=\"https://colab.research.google.com/github/Deepsphere-AI/DSAI_Python_Programming/blob/main/Unit-13/Python%20for%20NLP/Program%20256-%20CSLAB_NLP_REMOVE_STOP_WORDS_V1.ipynb\" target=\"_parent\"><img src=\"https://colab.research.google.com/assets/colab-badge.svg\" alt=\"Open In Colab\"/></a>"
      ]
    },
    {
      "cell_type": "code",
      "execution_count": null,
      "metadata": {
        "id": "wS215f4HLHrW"
      },
      "outputs": [],
      "source": [
        "\n",
        "# *********************************************************************************************************************\n",
        "  \n",
        "  # File Name \t:   CSLAB_NLP_REMOVE_STOP_WORDS_V1\n",
        "  # Purpose \t:   A Program in Python using NLP for Removing Stop Words\n",
        "  # Author\t:   Deepsphere.ai\n",
        "  # Reviewer \t:   Jothi Periasamy\n",
        "  # Date \t:   10/27/2022\n",
        "  # Version\t:   1.0\t\n",
        "  \n",
        "# ***********************************************************************************************************************\n",
        "\n",
        "## Program Description : Program for Removing Stop Words using NLP in Python\n",
        "\n",
        "## Python Development Environment & Runtime - Python, Anaconda\n",
        "\n",
        "from bs4 import BeautifulSoup\n",
        " \n",
        "import urllib.request\n",
        " \n",
        "import nltk\n",
        " \n",
        "from nltk.corpus import stopwords\n",
        " \n",
        "vAR_CSLAB_response = urllib.request.urlopen('http://php.net/')\n",
        " \n",
        "vAR_CSLAB_html = vAR_CSLAB_response.read()\n",
        " \n",
        "vAR_CSLAB_soup = BeautifulSoup(vAR_CSLAB_html,\"html5lib\")\n",
        " \n",
        "vAR_CSLAB_text = vAR_CSLAB_soup.get_text(strip=True)\n",
        " \n",
        "vAR_CSLAB_tokens = [t for t in vAR_CSLAB_text.split()]\n",
        " \n",
        "vAR_CSLAB_clean_tokens = vAR_CSLAB_tokens[:]\n",
        " \n",
        "vAR_CSLAB_sr = stopwords.words('english')\n",
        " \n",
        "for token in vAR_CSLAB_tokens:\n",
        " \n",
        "    if token in stopwords.words('english'):\n",
        " \n",
        "        vAR_CSLAB_clean_tokens.remove(token)\n",
        " \n",
        "vAR_CSLAB_freq = nltk.FreqDist(vAR_CSLAB_clean_tokens)\n",
        " \n",
        "for key,val in vAR_CSLAB_freq.items():\n",
        " \n",
        "    print (str(key) + ':' + str(val))\n",
        "    \n",
        "# ****************************************************************************************************************************\n",
        "#   Disclaimer.\n",
        "\n",
        "# We are providing this code block strictly for learning and researching, this is not a production\n",
        "# ready code. We have no liability on this particular code under any circumstances; users should use\n",
        "# this code on their own risk. All software, hardware and othr products that are referenced in these \n",
        "# materials belong to the respective vendor who developed or who owns this product.\n",
        "\n",
        "# ****************************************************************************************************************************\n",
        "  "
      ]
    }
  ]
}