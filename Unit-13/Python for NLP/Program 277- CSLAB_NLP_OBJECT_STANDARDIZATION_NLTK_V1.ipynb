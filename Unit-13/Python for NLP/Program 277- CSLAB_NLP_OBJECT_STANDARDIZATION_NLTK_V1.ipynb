{
  "nbformat": 4,
  "nbformat_minor": 0,
  "metadata": {
    "colab": {
      "provenance": [],
      "authorship_tag": "ABX9TyMbRIMCACZ65Lg2czEayqvs",
      "include_colab_link": true
    },
    "kernelspec": {
      "name": "python3",
      "display_name": "Python 3"
    },
    "language_info": {
      "name": "python"
    }
  },
  "cells": [
    {
      "cell_type": "markdown",
      "metadata": {
        "id": "view-in-github",
        "colab_type": "text"
      },
      "source": [
        "<a href=\"https://colab.research.google.com/github/Deepsphere-AI/DSAI_Python_Programming/blob/main/Unit-13/Python%20for%20NLP/Program%20277-%20CSLAB_NLP_OBJECT_STANDARDIZATION_NLTK_V1.ipynb\" target=\"_parent\"><img src=\"https://colab.research.google.com/assets/colab-badge.svg\" alt=\"Open In Colab\"/></a>"
      ]
    },
    {
      "cell_type": "code",
      "execution_count": null,
      "metadata": {
        "id": "O4ATtfscvRms"
      },
      "outputs": [],
      "source": [
        "\n",
        "# *********************************************************************************************************************\n",
        "  \n",
        "  # File Name \t:   CSLAB_NLP_OBJECT_STANDARDIZATION_NLTK_V1\n",
        "  # Purpose \t:   A Program in Python using NLP for Object Stanardization\n",
        "  # Author\t:   Deepsphere.ai\n",
        "  # Reviewer \t:   Jothi Periasamy\n",
        "  # Date \t:   10/28/2022\n",
        "  # Version\t:   1.0\t\n",
        "  \n",
        "# ***********************************************************************************************************************\n",
        "\n",
        "## Program Description : Program for Object Stanardization using NLP in Python\n",
        "\n",
        "## Python Development Environment & Runtime - Python, Anaconda\n",
        "\n",
        "vAR_CSLAB_lookup_dict = {'rt':'Retweet', 'dm':'direct message', \"awsm\" : \"awesome\", \"luv\" :\"love\"}\n",
        "\n",
        "def vAR_CSLAB_lookup_words(input_text):\n",
        "    vAR_CSLAB_words = input_text.split() \n",
        "    vAR_CSLAB_new_words = [] \n",
        "    for word in vAR_CSLAB_words:\n",
        "        if word.lower() in vAR_CSLAB_lookup_dict:\n",
        "            vAR_CSLAB_word = vAR_CSLAB_lookup_dict[word.lower()]\n",
        "        vAR_CSLAB_new_words.append(word) \n",
        "        vAR_CSLAB_new_text = \" \".join(vAR_CSLAB_new_words) \n",
        "        return vAR_CSLAB_new_text\n",
        "\n",
        "vAR_CSLAB_lookup_words(\"Retweet this is a retweeted tweet by DP\")\n",
        "    \n",
        "# ****************************************************************************************************************************\n",
        "#   Disclaimer.\n",
        "\n",
        "# We are providing this code block strictly for learning and researching, this is not a production\n",
        "# ready code. We have no liability on this particular code under any circumstances; users should use\n",
        "# this code on their own risk. All software, hardware and othr products that are referenced in these \n",
        "# materials belong to the respective vendor who developed or who owns this product.\n",
        "\n",
        "# ****************************************************************************************************************************\n",
        "  "
      ]
    }
  ]
}