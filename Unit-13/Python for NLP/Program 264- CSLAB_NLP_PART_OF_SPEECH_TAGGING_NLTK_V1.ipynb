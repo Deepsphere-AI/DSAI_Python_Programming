{
  "nbformat": 4,
  "nbformat_minor": 0,
  "metadata": {
    "colab": {
      "provenance": [],
      "authorship_tag": "ABX9TyOqqqMyMeYMomWc7bvxCnnR",
      "include_colab_link": true
    },
    "kernelspec": {
      "name": "python3",
      "display_name": "Python 3"
    },
    "language_info": {
      "name": "python"
    }
  },
  "cells": [
    {
      "cell_type": "markdown",
      "metadata": {
        "id": "view-in-github",
        "colab_type": "text"
      },
      "source": [
        "<a href=\"https://colab.research.google.com/github/Deepsphere-AI/DSAI_Python_Programming/blob/main/Unit-13/Python%20for%20NLP/Program%20264-%20CSLAB_NLP_PART_OF_SPEECH_TAGGING_NLTK_V1.ipynb\" target=\"_parent\"><img src=\"https://colab.research.google.com/assets/colab-badge.svg\" alt=\"Open In Colab\"/></a>"
      ]
    },
    {
      "cell_type": "code",
      "execution_count": null,
      "metadata": {
        "id": "39K6S4rLQN8F"
      },
      "outputs": [],
      "source": [
        "\n",
        "# *********************************************************************************************************************\n",
        "  \n",
        "  # File Name \t:   CSLAB_NLP_PART_OF_SPEECH_TAGGING_NLTK_V1\n",
        "  # Purpose \t:   A Program in Python using NLP for Part of Speech Tagging\n",
        "  # Author\t:   Deepsphere.ai\n",
        "  # Reviewer \t:   Jothi Periasamy\n",
        "  # Date \t:   10/27/2022\n",
        "  # Version\t:   1.0\t\n",
        "\n",
        "# ***********************************************************************************************************************\n",
        "\n",
        "## Program Description : Program for Part of Speech Tagging using NLP in Python\n",
        "\n",
        "## Python Development Environment & Runtime - Python, Anaconda\n",
        "\n",
        "import nltk\n",
        "from nltk.corpus import state_union\n",
        "from nltk.tokenize import PunktSentenceTokenizer\n",
        "\n",
        "vAR_CSLAB_train_text = state_union.raw(\"2005-GWBush.txt\")\n",
        "vAR_CSLAB_sample_text = state_union.raw(\"2006-GWBush.txt\")\n",
        "\n",
        "vAR_CSLAB_custom_sent_tokenizer = PunktSentenceTokenizer(vAR_CSLAB_train_text)\n",
        "\n",
        "vAR_CSLAB_tokenized = vAR_CSLAB_custom_sent_tokenizer.tokenize(vAR_CSLAB_sample_text)\n",
        "\n",
        "def vAR_CSLAB_process_content():\n",
        "    try:\n",
        "        for i in vAR_CSLAB_tokenized[:5]:\n",
        "            vAR_CSLAB_words = nltk.word_tokenize(i)\n",
        "            vAR_CSLAB_tagged = nltk.pos_tag(vAR_CSLAB_words)\n",
        "            print(vAR_CSLAB_tagged)\n",
        "\n",
        "    except Exception as vAR_CSLAB_e:\n",
        "        print(str(vAR_CSLAB_e))\n",
        "\n",
        "vAR_CSLAB_process_content()\n",
        "    \n",
        "# ****************************************************************************************************************************\n",
        "#   Disclaimer.\n",
        "\n",
        "# We are providing this code block strictly for learning and researching, this is not a production\n",
        "# ready code. We have no liability on this particular code under any circumstances; users should use\n",
        "# this code on their own risk. All software, hardware and othr products that are referenced in these \n",
        "# materials belong to the respective vendor who developed or who owns this product.\n",
        "\n",
        "# ****************************************************************************************************************************\n",
        "  "
      ]
    }
  ]
}