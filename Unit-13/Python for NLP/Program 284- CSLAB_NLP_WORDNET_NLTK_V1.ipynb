{
  "nbformat": 4,
  "nbformat_minor": 0,
  "metadata": {
    "colab": {
      "provenance": [],
      "authorship_tag": "ABX9TyOwTAJZ0nzur9qC4JkPu8+7",
      "include_colab_link": true
    },
    "kernelspec": {
      "name": "python3",
      "display_name": "Python 3"
    },
    "language_info": {
      "name": "python"
    }
  },
  "cells": [
    {
      "cell_type": "markdown",
      "metadata": {
        "id": "view-in-github",
        "colab_type": "text"
      },
      "source": [
        "<a href=\"https://colab.research.google.com/github/Deepsphere-AI/DSAI_Python_Programming/blob/main/Unit-13/Python%20for%20NLP/Program%20284-%20CSLAB_NLP_WORDNET_NLTK_V1.ipynb\" target=\"_parent\"><img src=\"https://colab.research.google.com/assets/colab-badge.svg\" alt=\"Open In Colab\"/></a>"
      ]
    },
    {
      "cell_type": "code",
      "execution_count": null,
      "metadata": {
        "id": "OsWOziNS3zs9"
      },
      "outputs": [],
      "source": [
        "\n",
        "# *********************************************************************************************************************\n",
        "  \n",
        "  # File Name \t:   CSLAB_NLP_WORDNET_NLTK_V1\n",
        "  # Purpose \t:   A Program in Python using NLP for Wordnet\n",
        "  # Author\t:   Deepsphere.ai\n",
        "  # Reviewer \t:   Jothi Periasamy\n",
        "  # Date \t:   10/28/2022\n",
        "  # Version\t:   1.0\t\n",
        "  \n",
        "# ***********************************************************************************************************************\n",
        "\n",
        "## Program Description : Program for Wordnet using NLP in Python\n",
        "\n",
        "## Python Development Environment & Runtime - Python, Anaconda\n",
        "\n",
        "from nltk.corpus import wordnet\n",
        "\n",
        "vAR_CSLAB_syns = wordnet.synsets(\"program\")\n",
        "\n",
        "vAR_CSLAB_synonyms = []\n",
        "vAR_CSLAB_antonyms = []\n",
        "\n",
        "for syn in wordnet.synsets(\"good\"):\n",
        "    for vAR_CSLAB_l in syn.lemmas():\n",
        "        vAR_CSLAB_synonyms.append(vAR_CSLAB_l.name())\n",
        "        if vAR_CSLAB_l.antonyms():\n",
        "            vAR_CSLAB_antonyms.append(vAR_CSLAB_l.antonyms()[0].name())\n",
        "\n",
        "print(set(vAR_CSLAB_synonyms))\n",
        "print(set(vAR_CSLAB_antonyms))\n",
        "    \n",
        "vAR_CSLAB_w1 = wordnet.synset('ship.n.01')\n",
        "\n",
        "vAR_CSLAB_w2 = wordnet.synset('boat.n.01')\n",
        "\n",
        "print(vAR_CSLAB_w1.wup_similarity(vAR_CSLAB_w2))\n",
        "\n",
        "# ****************************************************************************************************************************\n",
        "#   Disclaimer.\n",
        "\n",
        "# We are providing this code block strictly for learning and researching, this is not a production\n",
        "# ready code. We have no liability on this particular code under any circumstances; users should use\n",
        "# this code on their own risk. All software, hardware and othr products that are referenced in these \n",
        "# materials belong to the respective vendor who developed or who owns this product.\n",
        "\n",
        "# ****************************************************************************************************************************\n",
        "  "
      ]
    }
  ]
}