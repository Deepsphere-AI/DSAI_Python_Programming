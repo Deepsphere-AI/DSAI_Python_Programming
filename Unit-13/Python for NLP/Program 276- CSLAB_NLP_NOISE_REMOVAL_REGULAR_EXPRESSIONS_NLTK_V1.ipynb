{
  "nbformat": 4,
  "nbformat_minor": 0,
  "metadata": {
    "colab": {
      "provenance": [],
      "authorship_tag": "ABX9TyMtmqdW8jbiXlLoNLBBMf6p",
      "include_colab_link": true
    },
    "kernelspec": {
      "name": "python3",
      "display_name": "Python 3"
    },
    "language_info": {
      "name": "python"
    }
  },
  "cells": [
    {
      "cell_type": "markdown",
      "metadata": {
        "id": "view-in-github",
        "colab_type": "text"
      },
      "source": [
        "<a href=\"https://colab.research.google.com/github/Deepsphere-AI/DSAI_Python_Programming/blob/main/Unit-13/Python%20for%20NLP/Program%20276-%20CSLAB_NLP_NOISE_REMOVAL_REGULAR_EXPRESSIONS_NLTK_V1.ipynb\" target=\"_parent\"><img src=\"https://colab.research.google.com/assets/colab-badge.svg\" alt=\"Open In Colab\"/></a>"
      ]
    },
    {
      "cell_type": "code",
      "execution_count": null,
      "metadata": {
        "id": "VPP9o8wZu0um"
      },
      "outputs": [],
      "source": [
        "\n",
        "# *********************************************************************************************************************\n",
        "  \n",
        "  # File Name \t:   CSLAB_NLP_NOISE_REMOVAL_REGULAR_EXPRESSIONS_NLTK_V1\n",
        "  # Purpose \t:   A Program in Python using NLP for Noise Removal by Regular Expressions\n",
        "  # Author\t:   Deepsphere.ai\n",
        "  # Reviewer \t:   Jothi Periasamy\n",
        "  # Date \t:   10/28/2022\n",
        "  # Version\t:   1.0\t\n",
        "  \n",
        "# ***********************************************************************************************************************\n",
        "\n",
        "## Program Description : Program for Noise Removal by Regular Expressions using NLP in Python\n",
        "\n",
        "## Python Development Environment & Runtime - Python, Anaconda\n",
        "\n",
        "import re \n",
        "\n",
        "def vAR_CSLAB_remove_regex(input_text, regex_pattern):\n",
        "    vAR_CSLAB_urls = re.finditer(regex_pattern, input_text) \n",
        "    for i in vAR_CSLAB_urls: \n",
        "        vAR_CSLAB_input_text = re.sub(i.group().strip(), '', input_text)\n",
        "    return input_text\n",
        "\n",
        "vAR_CSLAB_regex_pattern = \"#[\\w]*\"  \n",
        "\n",
        "vAR_CSLAB_remove_regex(\"remove this #hashtag from my text\", vAR_CSLAB_regex_pattern)\n",
        "    \n",
        "# ****************************************************************************************************************************\n",
        "#   Disclaimer.\n",
        "\n",
        "# We are providing this code block strictly for learning and researching, this is not a production\n",
        "# ready code. We have no liability on this particular code under any circumstances; users should use\n",
        "# this code on their own risk. All software, hardware and othr products that are referenced in these \n",
        "# materials belong to the respective vendor who developed or who owns this product.\n",
        "\n",
        "# ****************************************************************************************************************************\n",
        "  "
      ]
    }
  ]
}