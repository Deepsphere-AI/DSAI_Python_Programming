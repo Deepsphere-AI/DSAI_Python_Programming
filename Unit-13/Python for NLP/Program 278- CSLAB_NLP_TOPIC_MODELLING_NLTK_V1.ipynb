{
  "nbformat": 4,
  "nbformat_minor": 0,
  "metadata": {
    "colab": {
      "provenance": [],
      "authorship_tag": "ABX9TyNcJ/9A1tEfQyLlIFZJTz5g",
      "include_colab_link": true
    },
    "kernelspec": {
      "name": "python3",
      "display_name": "Python 3"
    },
    "language_info": {
      "name": "python"
    }
  },
  "cells": [
    {
      "cell_type": "markdown",
      "metadata": {
        "id": "view-in-github",
        "colab_type": "text"
      },
      "source": [
        "<a href=\"https://colab.research.google.com/github/Deepsphere-AI/DSAI_Python_Programming/blob/main/Unit-13/Python%20for%20NLP/Program%20278-%20CSLAB_NLP_TOPIC_MODELLING_NLTK_V1.ipynb\" target=\"_parent\"><img src=\"https://colab.research.google.com/assets/colab-badge.svg\" alt=\"Open In Colab\"/></a>"
      ]
    },
    {
      "cell_type": "code",
      "execution_count": null,
      "metadata": {
        "id": "zgMYRcvivxqL"
      },
      "outputs": [],
      "source": [
        "\n",
        "# *********************************************************************************************************************\n",
        "  \n",
        "  # File Name \t:   CSLAB_NLP_TOPIC_MODELLING_NLTK_V1\n",
        "  # Purpose \t:   A Program in Python using NLP for Topic Modelling\n",
        "  # Author\t:   Durga Prasad\n",
        "  # Reviewer \t:   Jothi Periasamy\n",
        "  # Date and Time\t:   27/12/2018 19:18 hrs\n",
        "  # Version\t:   1.0\t\n",
        "  \n",
        "# ***********************************************************************************************************************\n",
        "\n",
        "## Program Description : Program for Topic Modelling using NLP in Python\n",
        "\n",
        "## Python Development Environment & Runtime - Python, Anaconda\n",
        "\n",
        "vAR_CSLAB_doc1 = \"Sugar is bad to consume. My sister likes to have sugar, but not my father.\" \n",
        "\n",
        "vAR_CSLAB_doc2 = \"My father spends a lot of time driving my sister around to dance practice.\"\n",
        "\n",
        "vAR_CSLAB_doc3 = \"Doctors suggest that driving may cause increased stress and blood pressure.\"\n",
        "\n",
        "vAR_CSLAB_doc_complete = [vAR_CSLAB_doc1, vAR_CSLAB_doc2, vAR_CSLAB_doc3]\n",
        "\n",
        "vAR_CSLAB_doc_clean = [doc.split() for doc in vAR_CSLAB_doc_complete]\n",
        "\n",
        "import gensim\n",
        "\n",
        "# Creating the object for LDA model using gensim library\n",
        "vAR_CSLAB_Lda = gensim.models.ldamodel.LdaModel\n",
        "\n",
        "vAR_CSLAB_Lda\n",
        "    \n",
        "# ****************************************************************************************************************************\n",
        "#   Disclaimer.\n",
        "\n",
        "# We are providing this code block strictly for learning and researching, this is not a production\n",
        "# ready code. We have no liability on this particular code under any circumstances; users should use\n",
        "# this code on their own risk. All software, hardware and othr products that are referenced in these \n",
        "# materials belong to the respective vendor who developed or who owns this product.\n",
        "\n",
        "# ****************************************************************************************************************************\n",
        "  "
      ]
    }
  ]
}