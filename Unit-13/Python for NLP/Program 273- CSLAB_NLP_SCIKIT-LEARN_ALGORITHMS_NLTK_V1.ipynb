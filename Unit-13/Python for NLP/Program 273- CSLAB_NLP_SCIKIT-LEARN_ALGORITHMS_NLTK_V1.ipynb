{
  "nbformat": 4,
  "nbformat_minor": 0,
  "metadata": {
    "colab": {
      "provenance": [],
      "authorship_tag": "ABX9TyNM2ZJDxUD4j74O48dtrmIf",
      "include_colab_link": true
    },
    "kernelspec": {
      "name": "python3",
      "display_name": "Python 3"
    },
    "language_info": {
      "name": "python"
    }
  },
  "cells": [
    {
      "cell_type": "markdown",
      "metadata": {
        "id": "view-in-github",
        "colab_type": "text"
      },
      "source": [
        "<a href=\"https://colab.research.google.com/github/Deepsphere-AI/DSAI_Python_Programming/blob/main/Unit-13/Python%20for%20NLP/Program%20273-%20CSLAB_NLP_SCIKIT-LEARN_ALGORITHMS_NLTK_V1.ipynb\" target=\"_parent\"><img src=\"https://colab.research.google.com/assets/colab-badge.svg\" alt=\"Open In Colab\"/></a>"
      ]
    },
    {
      "cell_type": "code",
      "execution_count": null,
      "metadata": {
        "id": "pCx27HB7U5Dq"
      },
      "outputs": [],
      "source": [
        "\n",
        "# *********************************************************************************************************************\n",
        "  \n",
        "  # File Name \t:   CSLAB_NLP_SCIKIT-LEARN_ALGORITHMS_NLTK_V1\n",
        "  # Purpose \t:   A Program in Python using NLP for Scikit Learn Algorithms\n",
        "  # Author\t:   Deepsphere.ai\n",
        "  # Reviewer \t:   Jothi Periasamy\n",
        "  # Date \t:   10/27/2022\n",
        "  # Version\t:   1.0\t\n",
        "  \n",
        "# ***********************************************************************************************************************\n",
        "\n",
        "## Program Description : Program for Scikit Learn Algorithms using NLP in Python\n",
        "\n",
        "## Python Development Environment & Runtime - Python, Anaconda\n",
        "\n",
        "from nltk.classify.scikitlearn import SklearnClassifier\n",
        "\n",
        "from sklearn.naive_bayes import MultinomialNB,BernoulliNB\n",
        "\n",
        "vAR_CSLAB_MNB_classifier = SklearnClassifier(MultinomialNB())\n",
        "vAR_CSLAB_MNB_classifier.train(vAR_CSLAB_train)\n",
        "\n",
        "vAR_CSLAB_BNB_classifier = SklearnClassifier(BernoulliNB())\n",
        "vAR_CSLAB_BNB_classifier.train(vAR_CSLAB_train)\n",
        "\n",
        "from sklearn.linear_model import LogisticRegression,SGDClassifier\n",
        "from sklearn.svm import SVC, LinearSVC, NuSVC\n",
        "\n",
        "vAR_CSLAB_classifier.show_most_informative_features(15)\n",
        "\n",
        "vAR_CSLAB_MNB_classifier = SklearnClassifier(MultinomialNB())\n",
        "vAR_CSLAB_MNB_classifier.train(vAR_CSLAB_train)\n",
        "\n",
        "vAR_CSLAB_BernoulliNB_classifier = SklearnClassifier(BernoulliNB())\n",
        "vAR_CSLAB_BernoulliNB_classifier.train(vAR_CSLAB_train)\n",
        "\n",
        "vAR_CSLAB_LogisticRegression_classifier = SklearnClassifier(LogisticRegression())\n",
        "vAR_CSLAB_LogisticRegression_classifier.train(vAR_CSLAB_train)\n",
        "\n",
        "    \n",
        "# ****************************************************************************************************************************\n",
        "#   Disclaimer.\n",
        "\n",
        "# We are providing this code block strictly for learning and researching, this is not a production\n",
        "# ready code. We have no liability on this particular code under any circumstances; users should use\n",
        "# this code on their own risk. All software, hardware and othr products that are referenced in these \n",
        "# materials belong to the respective vendor who developed or who owns this product.\n",
        "\n",
        "# ****************************************************************************************************************************\n",
        "  "
      ]
    }
  ]
}