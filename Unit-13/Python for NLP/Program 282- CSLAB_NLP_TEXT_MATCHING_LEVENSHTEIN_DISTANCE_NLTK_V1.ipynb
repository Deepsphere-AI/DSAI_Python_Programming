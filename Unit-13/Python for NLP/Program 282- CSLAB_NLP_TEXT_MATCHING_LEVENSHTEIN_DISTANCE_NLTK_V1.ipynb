{
  "nbformat": 4,
  "nbformat_minor": 0,
  "metadata": {
    "colab": {
      "provenance": [],
      "authorship_tag": "ABX9TyNZajWo8LgNbicrEpi/kHDK",
      "include_colab_link": true
    },
    "kernelspec": {
      "name": "python3",
      "display_name": "Python 3"
    },
    "language_info": {
      "name": "python"
    }
  },
  "cells": [
    {
      "cell_type": "markdown",
      "metadata": {
        "id": "view-in-github",
        "colab_type": "text"
      },
      "source": [
        "<a href=\"https://colab.research.google.com/github/Deepsphere-AI/DSAI_Python_Programming/blob/main/Unit-13/Python%20for%20NLP/Program%20282-%20CSLAB_NLP_TEXT_MATCHING_LEVENSHTEIN_DISTANCE_NLTK_V1.ipynb\" target=\"_parent\"><img src=\"https://colab.research.google.com/assets/colab-badge.svg\" alt=\"Open In Colab\"/></a>"
      ]
    },
    {
      "cell_type": "code",
      "execution_count": null,
      "metadata": {
        "id": "ApGaGCMD26QI"
      },
      "outputs": [],
      "source": [
        "\n",
        "# *********************************************************************************************************************\n",
        "  \n",
        "  # File Name \t:   CSLAB_NLP_TEXT_MATCHING_LEVENSHTEIN_DISTANCE_NLTK_V1\n",
        "  # Purpose \t:   A Program in Python using NLP for Levenshtein Distance\n",
        "  # Author\t:   Deepsphere.ai\n",
        "  # Reviewer \t:   Jothi Periasamy\n",
        "  # Date \t:   10/28/2022\n",
        "  # Version\t:   1.0\t\n",
        "  \n",
        "# ***********************************************************************************************************************\n",
        "\n",
        "## Program Description : Program for Levenshtein Distance using NLP in Python\n",
        "\n",
        "## Python Development Environment & Runtime - Python, Anaconda\n",
        "\n",
        "def vAR_CSLAB_levenshtein(vAR_CSLAB_s1,vAR_CSLAB_s2): \n",
        "    \n",
        "    if len(vAR_CSLAB_s1) > len(vAR_CSLAB_s2):\n",
        "        \n",
        "        vAR_CSLAB_s1,vAR_CSLAB_s2 = vAR_CSLAB_s2,vAR_CSLAB_s1 \n",
        "    \n",
        "    vAR_CSLAB_distances = range(len(vAR_CSLAB_s1) + 1) \n",
        "    \n",
        "    for vAR_CSLAB_index2,vAR_CSLAB_char2 in enumerate(vAR_CSLAB_s2):\n",
        "        \n",
        "        vAR_CSLAB_newDistances = [vAR_CSLAB_index2+1]\n",
        "        \n",
        "        for vAR_CSLAB_index1,vAR_CSLAB_char1 in enumerate(vAR_CSLAB_s1):\n",
        "            if vAR_CSLAB_char1 == vAR_CSLAB_char2:\n",
        "                vAR_CSLAB_newDistances.append(vAR_CSLAB_distances[vAR_CSLAB_index1]) \n",
        "            \n",
        "            else:\n",
        "                 vAR_CSLAB_newDistances.append(1 + min((vAR_CSLAB_distances[vAR_CSLAB_index1], vAR_CSLAB_distances[vAR_CSLAB_index1+1], vAR_CSLAB_newDistances[-1]))) \n",
        "        \n",
        "        vAR_CSLAB_distances = vAR_CSLAB_newDistances \n",
        "    \n",
        "    return vAR_CSLAB_distances[-1]\n",
        "\n",
        "print(vAR_CSLAB_levenshtein(\"analyze\",\"analyse\"))\n",
        "    \n",
        "# ****************************************************************************************************************************\n",
        "#   Disclaimer.\n",
        "\n",
        "# We are providing this code block strictly for learning and researching, this is not a production\n",
        "# ready code. We have no liability on this particular code under any circumstances; users should use\n",
        "# this code on their own risk. All software, hardware and othr products that are referenced in these \n",
        "# materials belong to the respective vendor who developed or who owns this product.\n",
        "\n",
        "# ****************************************************************************************************************************\n",
        "  "
      ]
    }
  ]
}