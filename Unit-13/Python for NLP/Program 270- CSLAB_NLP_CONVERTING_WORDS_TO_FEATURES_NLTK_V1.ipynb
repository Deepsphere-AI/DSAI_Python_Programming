{
  "nbformat": 4,
  "nbformat_minor": 0,
  "metadata": {
    "colab": {
      "provenance": [],
      "authorship_tag": "ABX9TyN18sIRz4wBUF4H4e5uJiXg",
      "include_colab_link": true
    },
    "kernelspec": {
      "name": "python3",
      "display_name": "Python 3"
    },
    "language_info": {
      "name": "python"
    }
  },
  "cells": [
    {
      "cell_type": "markdown",
      "metadata": {
        "id": "view-in-github",
        "colab_type": "text"
      },
      "source": [
        "<a href=\"https://colab.research.google.com/github/Deepsphere-AI/DSAI_Python_Programming/blob/main/Unit-13/Python%20for%20NLP/Program%20270-%20CSLAB_NLP_CONVERTING_WORDS_TO_FEATURES_NLTK_V1.ipynb\" target=\"_parent\"><img src=\"https://colab.research.google.com/assets/colab-badge.svg\" alt=\"Open In Colab\"/></a>"
      ]
    },
    {
      "cell_type": "code",
      "execution_count": null,
      "metadata": {
        "id": "-geTEEbBTIyr"
      },
      "outputs": [],
      "source": [
        "\n",
        "# *********************************************************************************************************************\n",
        "  \n",
        "  # File Name \t:   CSLAB_NLP_CONVERTING_WORDS_TO_FEATURES_NLTK_V1\n",
        "  # Purpose \t:   A Program in Python using NLP for Converting Words to Features\n",
        "  # Author\t:   Deepsphere.ai\n",
        "  # Reviewer \t:   Jothi Periasamy\n",
        "  # Date \t:   10/27/2022\n",
        "  # Version\t:   1.0\t\n",
        "  \n",
        "# ***********************************************************************************************************************\n",
        "\n",
        "## Program Description : Program for Converting Words to Features using NLP in Python\n",
        "\n",
        "## Python Development Environment & Runtime - Python, Anaconda\n",
        "\n",
        "import nltk\n",
        "import random\n",
        "from nltk.corpus import movie_reviews\n",
        "\n",
        "vAR_CSLAB_documents = [(list(movie_reviews.words(fileid)), category)\n",
        "             for category in movie_reviews.categories()\n",
        "             for fileid in movie_reviews.fileids(category)]\n",
        "\n",
        "random.shuffle(vAR_CSLAB_documents)\n",
        "\n",
        "vAR_CSLAB_all_words = []\n",
        "\n",
        "for w in movie_reviews.words():\n",
        "    vAR_CSLAB_all_words.append(w.lower())\n",
        "\n",
        "vAR_CSLAB_all_words = nltk.FreqDist(vAR_CSLAB_all_words)\n",
        "\n",
        "vAR_CSLAB_word_features = list(vAR_CSLAB_all_words.keys())[:3000]\n",
        "\n",
        "def vAR_CSLAB_find_features(vAR_CSLAB_document):\n",
        "    vAR_CSLAB_words = set(vAR_CSLAB_document)\n",
        "    vAR_CSLAB_features = {}\n",
        "    for w in vAR_CSLAB_word_features:\n",
        "        vAR_CSLAB_features[w] = (w in vAR_CSLAB_words)\n",
        "\n",
        "    return vAR_CSLAB_features\n",
        "\n",
        "print((vAR_CSLAB_find_features(movie_reviews.words('neg/cv000_29416.txt'))))\n",
        "\n",
        "# ****************************************************************************************************************************\n",
        "#   Disclaimer.\n",
        "\n",
        "# We are providing this code block strictly for learning and researching, this is not a production\n",
        "# ready code. We have no liability on this particular code under any circumstances; users should use\n",
        "# this code on their own risk. All software, hardware and othr products that are referenced in these \n",
        "# materials belong to the respective vendor who developed or who owns this product.\n",
        "\n",
        "# ****************************************************************************************************************************\n",
        "  "
      ]
    }
  ]
}