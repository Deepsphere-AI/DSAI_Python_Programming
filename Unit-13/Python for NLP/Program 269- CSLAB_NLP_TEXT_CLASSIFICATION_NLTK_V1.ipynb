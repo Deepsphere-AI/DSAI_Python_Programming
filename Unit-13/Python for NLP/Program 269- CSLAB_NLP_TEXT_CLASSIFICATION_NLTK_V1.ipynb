{
  "nbformat": 4,
  "nbformat_minor": 0,
  "metadata": {
    "colab": {
      "provenance": [],
      "authorship_tag": "ABX9TyM1NmylTDWysZ6HBEOuBVvX",
      "include_colab_link": true
    },
    "kernelspec": {
      "name": "python3",
      "display_name": "Python 3"
    },
    "language_info": {
      "name": "python"
    }
  },
  "cells": [
    {
      "cell_type": "markdown",
      "metadata": {
        "id": "view-in-github",
        "colab_type": "text"
      },
      "source": [
        "<a href=\"https://colab.research.google.com/github/Deepsphere-AI/DSAI_Python_Programming/blob/main/Unit-13/Python%20for%20NLP/Program%20269-%20CSLAB_NLP_TEXT_CLASSIFICATION_NLTK_V1.ipynb\" target=\"_parent\"><img src=\"https://colab.research.google.com/assets/colab-badge.svg\" alt=\"Open In Colab\"/></a>"
      ]
    },
    {
      "cell_type": "code",
      "execution_count": null,
      "metadata": {
        "id": "mezrlOVDStvH"
      },
      "outputs": [],
      "source": [
        "\n",
        "# *********************************************************************************************************************\n",
        "  \n",
        "  # File Name \t:   CSLAB_NLP_TEXT_CLASSIFICATION_NLTK_V1\n",
        "  # Purpose \t:   A Program in Python using NLP for Text Classification\n",
        "  # Author\t:   Deepsphere.ai\n",
        "  # Reviewer \t:   Jothi Periasamy\n",
        "  # Date \t:   10/27/2022\n",
        "  # Version\t:   1.0\t\n",
        "  \n",
        "# ***********************************************************************************************************************\n",
        "\n",
        "## Program Description : Program for Text Classification using NLP in Python\n",
        "\n",
        "## Python Development Environment & Runtime - Python, Anaconda\n",
        "\n",
        "import nltk\n",
        "import random\n",
        "from nltk.corpus import movie_reviews\n",
        "\n",
        "vAR_CSLAB_documents = [(list(movie_reviews.words(fileid)), category)\n",
        "             for category in movie_reviews.categories()\n",
        "             for fileid in movie_reviews.fileids(category)]\n",
        "\n",
        "random.shuffle(vAR_CSLAB_documents)\n",
        "\n",
        "print(vAR_CSLAB_documents[1])\n",
        "\n",
        "vAR_CSLAB_all_words = []\n",
        "for w in movie_reviews.words():\n",
        "    vAR_CSLAB_all_words.append(w.lower())\n",
        "\n",
        "vAR_CSLAB_all_words = nltk.FreqDist(vAR_CSLAB_all_words)\n",
        "#print(vAR_CSLAB_all_words.most_common(15))\n",
        "#print(vAR_CSLAB_all_words[\"stupid\"])\n",
        "\n",
        "vAR_CSLAB_documents = [(list(movie_reviews.words(fileid)), category)\n",
        "             for category in movie_reviews.categories()\n",
        "             for fileid in movie_reviews.fileids(category)]\n",
        "\n",
        "print(vAR_CSLAB_all_words.most_common(15))\n",
        "\n",
        "print(vAR_CSLAB_all_words[\"stupid\"])\n",
        "\n",
        "# ****************************************************************************************************************************\n",
        "#   Disclaimer.\n",
        "\n",
        "# We are providing this code block strictly for learning and researching, this is not a production\n",
        "# ready code. We have no liability on this particular code under any circumstances; users should use\n",
        "# this code on their own risk. All software, hardware and othr products that are referenced in these \n",
        "# materials belong to the respective vendor who developed or who owns this product.\n",
        "\n",
        "# ****************************************************************************************************************************\n",
        "  "
      ]
    }
  ]
}