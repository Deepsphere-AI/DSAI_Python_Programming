{
  "nbformat": 4,
  "nbformat_minor": 0,
  "metadata": {
    "colab": {
      "provenance": [],
      "authorship_tag": "ABX9TyO/J67TumcQuPVgTlstI+Gb",
      "include_colab_link": true
    },
    "kernelspec": {
      "name": "python3",
      "display_name": "Python 3"
    },
    "language_info": {
      "name": "python"
    }
  },
  "cells": [
    {
      "cell_type": "markdown",
      "metadata": {
        "id": "view-in-github",
        "colab_type": "text"
      },
      "source": [
        "<a href=\"https://colab.research.google.com/github/Deepsphere-AI/DSAI_Python_Programming/blob/main/Unit-13/Python%20for%20NLP/Program%20263-%20CSLAB_NLP_LEMMATIZING_WORDS_NLTK_V1.ipynb\" target=\"_parent\"><img src=\"https://colab.research.google.com/assets/colab-badge.svg\" alt=\"Open In Colab\"/></a>"
      ]
    },
    {
      "cell_type": "code",
      "execution_count": null,
      "metadata": {
        "id": "FyKijIWiPiEs"
      },
      "outputs": [],
      "source": [
        "\n",
        "# *********************************************************************************************************************\n",
        "  \n",
        "  # File Name \t:   CSLAB_NLP_LEMMATIZING_WORDS_NLTK_V1\n",
        "  # Purpose \t:   A Program in Python using NLP for Lemmatizing Words\n",
        "  # Author\t:   Deepsphere.ai\n",
        "  # Reviewer \t:   Jothi Periasamy\n",
        "  # Date \t:   10/27/2022\n",
        "  # Version\t:   1.0\t\n",
        "  \n",
        "# ***********************************************************************************************************************\n",
        "\n",
        "## Program Description : Program for Lemmatizing Words using NLP in Python\n",
        "\n",
        "## Python Development Environment & Runtime - Python, Anaconda\n",
        "\n",
        "from nltk.stem import PorterStemmer\n",
        " \n",
        "vAR_CSLAB_stemmer = PorterStemmer()\n",
        " \n",
        "print(vAR_CSLAB_stemmer.stem('increases'))\n",
        "\n",
        "from nltk.stem import WordNetLemmatizer\n",
        " \n",
        "vAR_CSLAB_lemmatizer = WordNetLemmatizer()\n",
        " \n",
        "print(vAR_CSLAB_lemmatizer.lemmatize('increases'))\n",
        "\n",
        "from nltk.stem import WordNetLemmatizer\n",
        " \n",
        "vAR_CSLAB_lemmatizer = WordNetLemmatizer()\n",
        " \n",
        "print(vAR_CSLAB_lemmatizer.lemmatize('playing', pos=\"v\"))\n",
        "\n",
        "from nltk.stem import WordNetLemmatizer\n",
        " \n",
        "vAR_CSLAB_lemmatizer = WordNetLemmatizer()\n",
        " \n",
        "print(vAR_CSLAB_lemmatizer.lemmatize('playing', pos=\"v\"))\n",
        " \n",
        "print(vAR_CSLAB_lemmatizer.lemmatize('playing', pos=\"n\"))\n",
        " \n",
        "print(vAR_CSLAB_lemmatizer.lemmatize('playing', pos=\"a\"))\n",
        " \n",
        "print(vAR_CSLAB_lemmatizer.lemmatize('playing', pos=\"r\"))\n",
        "    \n",
        "# ****************************************************************************************************************************\n",
        "#   Disclaimer.\n",
        "\n",
        "# We are providing this code block strictly for learning and researching, this is not a production\n",
        "# ready code. We have no liability on this particular code under any circumstances; users should use\n",
        "# this code on their own risk. All software, hardware and othr products that are referenced in these \n",
        "# materials belong to the respective vendor who developed or who owns this product.\n",
        "\n",
        "# ****************************************************************************************************************************\n",
        "  "
      ]
    }
  ]
}