{
  "nbformat": 4,
  "nbformat_minor": 0,
  "metadata": {
    "colab": {
      "provenance": [],
      "authorship_tag": "ABX9TyMo1DmKIn3GOo0X9ETJqBtB",
      "include_colab_link": true
    },
    "kernelspec": {
      "name": "python3",
      "display_name": "Python 3"
    },
    "language_info": {
      "name": "python"
    }
  },
  "cells": [
    {
      "cell_type": "markdown",
      "metadata": {
        "id": "view-in-github",
        "colab_type": "text"
      },
      "source": [
        "<a href=\"https://colab.research.google.com/github/Deepsphere-AI/DSAI_Python_Programming/blob/main/Unit-13/Python%20for%20NLP/Program%20283-%20CSLAB_NLP_COSINE_SIMILARITY_NLTK_V1.ipynb\" target=\"_parent\"><img src=\"https://colab.research.google.com/assets/colab-badge.svg\" alt=\"Open In Colab\"/></a>"
      ]
    },
    {
      "cell_type": "code",
      "execution_count": null,
      "metadata": {
        "id": "uI6hu1uJ3YFF"
      },
      "outputs": [],
      "source": [
        "\n",
        "# *********************************************************************************************************************\n",
        "  \n",
        "  # File Name \t:   CSLAB_NLP_COSINE_SIMILARITY_NLTK_V1\n",
        "  # Purpose \t:   A Program in Python using NLP for Cosine Similarity\n",
        "  # Author\t:   Deepsphere.ai\n",
        "  # Reviewer \t:   Jothi Periasamy\n",
        "  # Date \t:   10/28/2022\n",
        "  # Version\t:   1.0\t\n",
        "  \n",
        "# ***********************************************************************************************************************\n",
        "\n",
        "## Program Description : Program for Cosine Similarity using NLP in Python\n",
        "\n",
        "## Python Development Environment & Runtime - Python, Anaconda\n",
        "\n",
        "import math\n",
        "from collections import Counter\n",
        "\n",
        "def vAR_CSLAB_get_cosine(vec1, vec2):\n",
        "    vAR_CSLAB_common = set(vec1.keys()) & set(vec2.keys())\n",
        "    vAR_CSLAB_numerator = sum([vec1[x] * vec2[x] for x in vAR_CSLAB_common])\n",
        "\n",
        "    vAR_CSLAB_sum1 = sum([vec1[x]**2 for x in vec1.keys()]) \n",
        "    vAR_CSLAB_sum2 = sum([vec2[x]**2 for x in vec2.keys()]) \n",
        "    vAR_CSLAB_denominator = math.sqrt(vAR_CSLAB_sum1) * math.sqrt(vAR_CSLAB_sum2)\n",
        "   \n",
        "    if not vAR_CSLAB_denominator:\n",
        "        return 0.0 \n",
        "    else:\n",
        "        return float(vAR_CSLAB_numerator) / vAR_CSLAB_denominator\n",
        "\n",
        "def vAR_CSLAB_text_to_vector(text): \n",
        "    vAR_CSLAB_words = text.split() \n",
        "    return Counter(vAR_CSLAB_words)\n",
        "\n",
        "vAR_CSLAB_text1 = 'This is an article on analytics vidhya' \n",
        "\n",
        "vAR_CSLAB_text2 = 'article on analytics vidhya is about natural language processing'\n",
        "\n",
        "vAR_CSLAB_vector1 = vAR_CSLAB_text_to_vector(vAR_CSLAB_text1) \n",
        "\n",
        "vAR_CSLAB_vector2 = vAR_CSLAB_text_to_vector(vAR_CSLAB_text2) \n",
        "\n",
        "vAR_CSLAB_cosine = vAR_CSLAB_get_cosine(vAR_CSLAB_vector1, vAR_CSLAB_vector2)\n",
        "\n",
        "vAR_CSLAB_cosine\n",
        "    \n",
        "# ****************************************************************************************************************************\n",
        "#   Disclaimer.\n",
        "\n",
        "# We are providing this code block strictly for learning and researching, this is not a production\n",
        "# ready code. We have no liability on this particular code under any circumstances; users should use\n",
        "# this code on their own risk. All software, hardware and othr products that are referenced in these \n",
        "# materials belong to the respective vendor who developed or who owns this product.\n",
        "\n",
        "# ****************************************************************************************************************************\n",
        "  "
      ]
    }
  ]
}