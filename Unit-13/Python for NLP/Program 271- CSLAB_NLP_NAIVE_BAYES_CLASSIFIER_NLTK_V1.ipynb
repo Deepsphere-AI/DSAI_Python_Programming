{
  "nbformat": 4,
  "nbformat_minor": 0,
  "metadata": {
    "colab": {
      "provenance": [],
      "authorship_tag": "ABX9TyP+gapmZ/5VuI48/ZqdJ1c4",
      "include_colab_link": true
    },
    "kernelspec": {
      "name": "python3",
      "display_name": "Python 3"
    },
    "language_info": {
      "name": "python"
    }
  },
  "cells": [
    {
      "cell_type": "markdown",
      "metadata": {
        "id": "view-in-github",
        "colab_type": "text"
      },
      "source": [
        "<a href=\"https://colab.research.google.com/github/Deepsphere-AI/DSAI_Python_Programming/blob/main/Unit-13/Python%20for%20NLP/Program%20271-%20CSLAB_NLP_NAIVE_BAYES_CLASSIFIER_NLTK_V1.ipynb\" target=\"_parent\"><img src=\"https://colab.research.google.com/assets/colab-badge.svg\" alt=\"Open In Colab\"/></a>"
      ]
    },
    {
      "cell_type": "code",
      "execution_count": null,
      "metadata": {
        "id": "fArjnA7-Tqe2"
      },
      "outputs": [],
      "source": [
        "\n",
        "# *********************************************************************************************************************\n",
        "  \n",
        "  # File Name \t:   CSLAB_NLP_NAIVE_BAYES_CLASSIFIER_NLTK_V1\n",
        "  # Purpose \t:   A Program in Python using NLP for Naive Bayes Classifier\n",
        "  # Author\t:   Deepsphere.ai\n",
        "  # Reviewer \t:   Jothi Periasamy\n",
        "  # Date \t:   10/27/2022\n",
        "  # Version\t:   1.0\t\n",
        "  \n",
        "# ***********************************************************************************************************************\n",
        "\n",
        "## Program Description : Program for Naive Bayes Classifier using NLP in Python\n",
        "\n",
        "## Python Development Environment & Runtime - Python, Anaconda\n",
        "\n",
        "import nltk\n",
        "\n",
        "nltk.usage(nltk.classify.ClassifierI)\n",
        "\n",
        "vAR_CSLAB_train = [(dict(a=1,b=1,c=1), 'y'),(dict(a=1,b=1,c=1), 'x'),(dict(a=1,b=1,c=0), 'y'),(dict(a=0,b=1,c=1), 'x'),(dict(a=0,b=1,c=1), 'y'),(dict(a=0,b=0,c=1), 'y'),(dict(a=0,b=1,c=0), 'x'),(dict(a=0,b=0,c=0), 'x'),(dict(a=0,b=1,c=1), 'y')]\n",
        "\n",
        "vAR_CSLAB_test = [(dict(a=1,b=0,c=1)), (dict(a=1,b=0,c=0)), (dict(a=0,b=1,c=1)), (dict(a=0,b=1,c=0))]\n",
        "\n",
        "vAR_CSLAB_classifier = nltk.classify.NaiveBayesClassifier.train(vAR_CSLAB_train)\n",
        "\n",
        "sorted(vAR_CSLAB_classifier.labels())\n",
        "\n",
        "vAR_CSLAB_classifier.classify_many(vAR_CSLAB_test)\n",
        "\n",
        "for pdist in vAR_CSLAB_classifier.prob_classify_many(vAR_CSLAB_test):\n",
        "    print('%.4f %.4f' % (pdist.prob('x'), pdist.prob('y')))\n",
        "    \n",
        "    \n",
        "# ****************************************************************************************************************************\n",
        "#   Disclaimer.\n",
        "\n",
        "# We are providing this code block strictly for learning and researching, this is not a production\n",
        "# ready code. We have no liability on this particular code under any circumstances; users should use\n",
        "# this code on their own risk. All software, hardware and othr products that are referenced in these \n",
        "# materials belong to the respective vendor who developed or who owns this product.\n",
        "\n",
        "# ****************************************************************************************************************************\n",
        "  "
      ]
    }
  ]
}