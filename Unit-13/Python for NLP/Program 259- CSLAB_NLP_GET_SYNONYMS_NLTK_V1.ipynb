{
  "nbformat": 4,
  "nbformat_minor": 0,
  "metadata": {
    "colab": {
      "provenance": [],
      "authorship_tag": "ABX9TyNeZK2WkfJ7dZP9y7iytgGd",
      "include_colab_link": true
    },
    "kernelspec": {
      "name": "python3",
      "display_name": "Python 3"
    },
    "language_info": {
      "name": "python"
    }
  },
  "cells": [
    {
      "cell_type": "markdown",
      "metadata": {
        "id": "view-in-github",
        "colab_type": "text"
      },
      "source": [
        "<a href=\"https://colab.research.google.com/github/Deepsphere-AI/DSAI_Python_Programming/blob/main/Unit-13/Python%20for%20NLP/Program%20259-%20CSLAB_NLP_GET_SYNONYMS_NLTK_V1.ipynb\" target=\"_parent\"><img src=\"https://colab.research.google.com/assets/colab-badge.svg\" alt=\"Open In Colab\"/></a>"
      ]
    },
    {
      "cell_type": "code",
      "execution_count": null,
      "metadata": {
        "id": "z4mddcV6NoxV"
      },
      "outputs": [],
      "source": [
        "\n",
        "# *********************************************************************************************************************\n",
        "  \n",
        "  # File Name \t:   CSLAB_NLP_GET_SYNONYMS_NLTK_V1\n",
        "  # Purpose \t:   A Program in Python using NLP for Getting Synonyms from Wordnet\n",
        "  # Author\t:   Deepsphere.ai\n",
        "  # Reviewer \t:   Jothi Periasamy\n",
        "  # Date \t:   10/27/2022\n",
        "  # Version\t:   1.0\t\n",
        "  \n",
        "# ***********************************************************************************************************************\n",
        "\n",
        "## Program Description : Program for Getting Synonyms from Wordnet using NLP in Python\n",
        "\n",
        "## Python Development Environment & Runtime - Python, Anaconda\n",
        "\n",
        "from nltk.corpus import wordnet\n",
        " \n",
        "vAR_CSLAB_syn = wordnet.synsets(\"NLP\")\n",
        " \n",
        "print(vAR_CSLAB_syn[0].definition())\n",
        " \n",
        "vAR_CSLAB_syn = wordnet.synsets(\"Python\")\n",
        " \n",
        "print(vAR_CSLAB_syn[0].definition())\n",
        "\n",
        "vAR_CSLAB_synonyms = []\n",
        " \n",
        "for vAR_CSLAB_syn in wordnet.synsets('Computer'):\n",
        " \n",
        "    for vAR_CSLAB_lemma in vAR_CSLAB_syn.lemmas():\n",
        " \n",
        "        vAR_CSLAB_synonyms.append(vAR_CSLAB_lemma.name())\n",
        " \n",
        "print(vAR_CSLAB_synonyms)\n",
        "    \n",
        "# ****************************************************************************************************************************\n",
        "#   Disclaimer.\n",
        "\n",
        "# We are providing this code block strictly for learning and researching, this is not a production\n",
        "# ready code. We have no liability on this particular code under any circumstances; users should use\n",
        "# this code on their own risk. All software, hardware and othr products that are referenced in these \n",
        "# materials belong to the respective vendor who developed or who owns this product.\n",
        "\n",
        "# ****************************************************************************************************************************\n",
        "  "
      ]
    }
  ]
}