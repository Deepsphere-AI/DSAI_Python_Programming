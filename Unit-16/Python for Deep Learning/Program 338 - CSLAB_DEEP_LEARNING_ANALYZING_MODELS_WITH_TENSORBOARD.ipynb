{
  "nbformat": 4,
  "nbformat_minor": 0,
  "metadata": {
    "colab": {
      "provenance": [],
      "authorship_tag": "ABX9TyOe3p7l7vHBsE5DAJWTGU3S",
      "include_colab_link": true
    },
    "kernelspec": {
      "name": "python3",
      "display_name": "Python 3"
    },
    "language_info": {
      "name": "python"
    }
  },
  "cells": [
    {
      "cell_type": "markdown",
      "metadata": {
        "id": "view-in-github",
        "colab_type": "text"
      },
      "source": [
        "<a href=\"https://colab.research.google.com/github/Deepsphere-AI/DSAI_Python_Programming/blob/main/Unit-16/Python%20for%20Deep%20Learning/Program%20338%20-%20CSLAB_DEEP_LEARNING_ANALYZING_MODELS_WITH_TENSORBOARD.ipynb\" target=\"_parent\"><img src=\"https://colab.research.google.com/assets/colab-badge.svg\" alt=\"Open In Colab\"/></a>"
      ]
    },
    {
      "cell_type": "code",
      "execution_count": null,
      "metadata": {
        "id": "H6jPHOLXuWUD"
      },
      "outputs": [],
      "source": [
        "\n",
        "# /*********************************************************************************************************************\n",
        "  \n",
        "#   File Name \t:   CSLAB_DEEP_LEARNING_ANALYZING_MODELS_WITH_TENSORBOARD\n",
        "#   Purpose \t:   A Program in Python for Analyzing Models with Tensorboard using Deep Learning\n",
        "#   Author\t:  Deepsphere.ai\n",
        "#   Reviewer \t:   Jothi Periasamy\n",
        "#   Date : 25/10/2022\n",
        "#   Version\t:   1.0\t\n",
        "\n",
        "# /***********************************************************************************************************************\n",
        "\n",
        "## Program Description : Program for Analyzing Models with Tensorboard using Deep Learning in Python\n",
        "\n",
        "## Python Development Environment & Runtime - Python, Anaconda\n",
        "\n",
        "import tensorflow as vAR_tf\n",
        "from tensorflow.keras.datasets import cifar10\n",
        "from tensorflow.keras.preprocessing.image import ImageDataGenerator\n",
        "from tensorflow.keras.models import Sequential\n",
        "from tensorflow.keras.layers import Dense, Dropout, Activation, Flatten\n",
        "from tensorflow.keras.layers import Conv2D, MaxPooling2D\n",
        "from tensorflow.keras.callbacks import TensorBoard\n",
        "\n",
        "import pickle\n",
        "\n",
        "vAR_CSLAB_pickle_in = open(\"vAR_CSLAB_X.pickle\",\"rb\")\n",
        "vAR_CSLAB_X = pickle.load(vAR_CSLAB_pickle_in)\n",
        "\n",
        "vAR_CSLAB_pickle_in = open(\"vAR_CSLAB_y.pickle\",\"rb\")\n",
        "vAR_CSLAB_y = pickle.load(vAR_CSLAB_pickle_in)\n",
        "\n",
        "vAR_CSLAB_X = vAR_CSLAB_X/255.0\n",
        "\n",
        "vAR_CSLAB_model = Sequential()\n",
        "\n",
        "vAR_CSLAB_model.add(Conv2D(64, (3, 3), input_shape=vAR_CSLAB_X.shape[1:]))\n",
        "vAR_CSLAB_model.add(Activation('relu'))\n",
        "vAR_CSLAB_model.add(MaxPooling2D(pool_size=(2, 2)))\n",
        "\n",
        "vAR_CSLAB_model.add(Conv2D(64, (3, 3)))\n",
        "vAR_CSLAB_model.add(Activation('relu'))\n",
        "vAR_CSLAB_model.add(MaxPooling2D(pool_size=(2, 2)))\n",
        "\n",
        "vAR_CSLAB_model.add(Flatten())  # this converts our 3D feature maps to 1D feature vectors\n",
        "vAR_CSLAB_model.add(Dense(64))\n",
        "vAR_CSLAB_model.add(Activation('relu'))\n",
        "\n",
        "vAR_CSLAB_model.add(Dense(1))\n",
        "vAR_CSLAB_model.add(Activation('sigmoid'))\n",
        "\n",
        "vAR_CSLAB_NAME = \"Cats-vs-dogs-64x2-CNN\"\n",
        "\n",
        "import os\n",
        "\n",
        "vAR_INI_File_Path = os.environ.get('PYTHON_TUTORIAL')\n",
        "\n",
        "import pandas as vAR_pd\n",
        "\n",
        "import configparser\n",
        "\n",
        "vAR_Config = configparser.ConfigParser(allow_no_value=True)\n",
        "\n",
        "vAR_Config.read(vAR_INI_File_Path)\n",
        "\n",
        "vAR_CSLAB_TENSORBOARD = vAR_Config['Data File Path']['vAR_CSLAB_PROGRAM_338_TENSORBOARD_LOG']\n",
        "\n",
        "vAR_CSLAB_tensorboard = TensorBoard(log_dir=vAR_CSLAB_TENSORBOARD.format(vAR_CSLAB_NAME))\n",
        "\n",
        "vAR_CSLAB_model.compile(loss='binary_crossentropy',optimizer='adam',metrics=['accuracy'])\n",
        "\n",
        "vAR_CSLAB_model.fit(vAR_CSLAB_X, vAR_CSLAB_y,batch_size=32,epochs=30,validation_split=0.3,callbacks=[vAR_CSLAB_tensorboard])\n",
        "\n",
        "# /****************************************************************************************************************************\n",
        "#   Disclaimer.\n",
        "\n",
        "# We are providing this code block strictly for learning and researching, this is not a production\n",
        "# ready code. We have no liability on this particular code under any circumstances; users should use\n",
        "# this code on their own risk. All software, hardware and othr products that are referenced in these \n",
        "# materials belong to the respective vendor who developed or who owns this product.\n",
        "\n",
        "# /****************************************************************************************************************************\n",
        "  "
      ]
    }
  ]
}