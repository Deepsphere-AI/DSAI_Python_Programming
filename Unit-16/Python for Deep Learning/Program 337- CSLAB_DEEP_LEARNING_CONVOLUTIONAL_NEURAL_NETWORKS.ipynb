{
  "nbformat": 4,
  "nbformat_minor": 0,
  "metadata": {
    "colab": {
      "provenance": [],
      "include_colab_link": true
    },
    "kernelspec": {
      "name": "python3",
      "display_name": "Python 3"
    },
    "language_info": {
      "name": "python"
    }
  },
  "cells": [
    {
      "cell_type": "markdown",
      "metadata": {
        "id": "view-in-github",
        "colab_type": "text"
      },
      "source": [
        "<a href=\"https://colab.research.google.com/github/Deepsphere-AI/DSAI_Python_Programming/blob/main/Unit-16/Python%20for%20Deep%20Learning/Program%20337-%20CSLAB_DEEP_LEARNING_CONVOLUTIONAL_NEURAL_NETWORKS.ipynb\" target=\"_parent\"><img src=\"https://colab.research.google.com/assets/colab-badge.svg\" alt=\"Open In Colab\"/></a>"
      ]
    },
    {
      "cell_type": "code",
      "execution_count": null,
      "metadata": {
        "id": "FSNj9zscrfwZ",
        "outputId": "cdf7ce56-5266-43f9-c9c4-7827d68a4826",
        "colab": {
          "base_uri": "https://localhost:8080/"
        }
      },
      "outputs": [
        {
          "output_type": "stream",
          "name": "stdout",
          "text": [
            "Mounted at /content/drive\n",
            "Epoch 1/3\n",
            "3/3 [==============================] - 6s 1s/step - loss: 1.5448 - accuracy: 0.7059 - val_loss: 0.7098 - val_accuracy: 0.0541\n",
            "Epoch 2/3\n",
            "3/3 [==============================] - 4s 1s/step - loss: 0.7567 - accuracy: 0.3529 - val_loss: 0.6747 - val_accuracy: 1.0000\n",
            "Epoch 3/3\n",
            "3/3 [==============================] - 6s 2s/step - loss: 0.6727 - accuracy: 0.6471 - val_loss: 1.0474 - val_accuracy: 0.0000e+00\n"
          ]
        },
        {
          "output_type": "execute_result",
          "data": {
            "text/plain": [
              "<keras.callbacks.History at 0x7f90c049e790>"
            ]
          },
          "metadata": {},
          "execution_count": 1
        }
      ],
      "source": [
        "\n",
        "# /*********************************************************************************************************************\n",
        "  \n",
        "#   File Name \t:   CSLAB_DEEP_LEARNING_CONVOLUTIONAL_NEURAL_NETWORKS\n",
        "#   Purpose \t:   A Program in Python for Convlutional Neural Networks using Deep Learning\n",
        "#   Author\t:   Deepsphere.ai\n",
        "#   Reviewer \t:   Jothi Periasamy\n",
        "#   Date : 25/10/2022\n",
        "#   Version\t:   1.0\t\n",
        "\n",
        "# /***********************************************************************************************************************\n",
        "\n",
        "## Program Description : Program for Convlutional Neural Networks using Deep Learning in Python\n",
        "\n",
        "## Python Development Environment & Runtime - Python, Anaconda\n",
        "\n",
        "import tensorflow as vAR_tf\n",
        "#from tensorflow.keras.datasets import cifar10\n",
        "from tensorflow.keras.preprocessing.image import ImageDataGenerator\n",
        "from tensorflow.keras.models import Sequential\n",
        "from tensorflow.keras.layers import Dense, Dropout, Activation, Flatten\n",
        "from tensorflow.keras.layers import Conv2D, MaxPooling2D\n",
        "\n",
        "from google.colab import drive\n",
        "drive.mount('/content/drive')\n",
        "\n",
        "import pickle\n",
        "\n",
        "vAR_CSLAB_pickle_in = open(\"/content/drive/MyDrive/Semester-4/Deep Learning for Enterprise/Model/vAR_CSLAB_X.pickle\",\"rb\")\n",
        "vAR_CSLAB_X = pickle.load(vAR_CSLAB_pickle_in)\n",
        "\n",
        "vAR_CSLAB_pickle_in = open(\"/content/drive/MyDrive/Semester-4/Deep Learning for Enterprise/Model/vAR_CSLAB_y.pickle\",\"rb\")\n",
        "vAR_CSLAB_y = pickle.load(vAR_CSLAB_pickle_in)\n",
        "\n",
        "vAR_CSLAB_X = vAR_CSLAB_X/255.0\n",
        "\n",
        "vAR_CSLAB_model = Sequential()\n",
        "\n",
        "vAR_CSLAB_model.add(Conv2D(256, (3, 3), input_shape=vAR_CSLAB_X.shape[1:]))\n",
        "\n",
        "vAR_CSLAB_model.add(Activation('relu'))\n",
        "\n",
        "vAR_CSLAB_model.add(MaxPooling2D(pool_size=(2, 2)))\n",
        "\n",
        "vAR_CSLAB_model.add(Conv2D(256, (3, 3)))\n",
        "\n",
        "vAR_CSLAB_model.add(Activation('relu'))\n",
        "\n",
        "vAR_CSLAB_model.add(MaxPooling2D(pool_size=(2, 2)))\n",
        "\n",
        "vAR_CSLAB_model.add(Flatten())  # this converts our 3D feature maps to 1D feature vectors\n",
        "\n",
        "vAR_CSLAB_model.add(Dense(64))\n",
        "\n",
        "vAR_CSLAB_model.add(Dense(1))\n",
        "\n",
        "vAR_CSLAB_model.add(Activation('sigmoid'))\n",
        "\n",
        "vAR_CSLAB_model.compile(loss='binary_crossentropy',\n",
        "              optimizer='adam',\n",
        "              metrics=['accuracy'])\n",
        "\n",
        "vAR_CSLAB_model.fit(vAR_CSLAB_X, vAR_CSLAB_y, batch_size=32, epochs=3, validation_split=0.3)\n",
        "\n",
        "# /****************************************************************************************************************************\n",
        "#   Disclaimer.\n",
        "\n",
        "# We are providing this code block strictly for learning and researching, this is not a production\n",
        "# ready code. We have no liability on this particular code under any circumstances; users should use\n",
        "# this code on their own risk. All software, hardware and othr products that are referenced in these \n",
        "# materials belong to the respective vendor who developed or who owns this product.\n",
        "\n",
        "# /****************************************************************************************************************************\n",
        "  "
      ]
    },
    {
      "cell_type": "markdown",
      "source": [
        "**Code Explanation**\n",
        "\n",
        "This code is building a binary image classification model using the TensorFlow library, specifically the Keras API. The code performs the following tasks:"
      ],
      "metadata": {
        "id": "GvAg9LM5CzT7"
      }
    },
    {
      "cell_type": "markdown",
      "source": [
        "1. Importing libraries: The first line of code import tensorflow as vAR_tf imports the TensorFlow library and renames it as vAR_tf. The other imports are for various functions and classes needed for building and training the model."
      ],
      "metadata": {
        "id": "Q8tveis9eIrS"
      }
    },
    {
      "cell_type": "markdown",
      "source": [
        "2. Mounting the Google Drive: The code uses the drive.mount() function to mount the Google Drive to the Colab runtime. This allows the code to access data stored in the drive."
      ],
      "metadata": {
        "id": "vUQt0m7zeI5X"
      }
    },
    {
      "cell_type": "markdown",
      "source": [
        "3. Loading the data: Two pickle files, vAR_CSLAB_X.pickle and vAR_CSLAB_y.pickle, containing the input images and their corresponding labels, respectively, are loaded into memory using the pickle library. The code then normalizes the input data by dividing by 255."
      ],
      "metadata": {
        "id": "iDSSrP7VeJGU"
      }
    },
    {
      "cell_type": "markdown",
      "source": [
        "4. Defining the model: The code creates a sequential model using the Sequential class from the Keras API. The model is then built by adding several layers to it. The first layer is a Convolutional 2D layer with 256 filters and a 3x3 kernel size. This layer takes the input shape of the data, which is defined as the shape of the vAR_CSLAB_X array excluding its batch size. The second layer is an activation layer using the ReLU activation function. Then, a MaxPooling2D layer is added with a pool size of 2x2. The code repeats these steps for another Convolutional 2D layer, activation layer, and MaxPooling2D layer. The final layers of the model include a Flatten layer to convert the 3D feature maps to 1D feature vectors, two Dense layers with 64 and 1 units, respectively, and an activation layer with the sigmoid activation function."
      ],
      "metadata": {
        "id": "N4nvKyldeJTN"
      }
    },
    {
      "cell_type": "markdown",
      "source": [
        "5. Compiling the model: The code uses the compile() method to specify the loss function (binary cross-entropy), optimizer (Adam), and evaluation metric (accuracy) for the model."
      ],
      "metadata": {
        "id": "OReD7P3leJjE"
      }
    },
    {
      "cell_type": "markdown",
      "source": [
        "6. Training the model: The code uses the fit() method to train the model on the input data (vAR_CSLAB_X) and corresponding labels (vAR_CSLAB_y). The batch size is set to 32, and the model will be trained for 3 epochs with a validation split of 0.3."
      ],
      "metadata": {
        "id": "N906sHZbeJ3x"
      }
    },
    {
      "cell_type": "markdown",
      "source": [
        "Once the code is executed, the model will be trained and its accuracy will be printed after each epoch."
      ],
      "metadata": {
        "id": "LKlWQumyeKFq"
      }
    }
  ]
}