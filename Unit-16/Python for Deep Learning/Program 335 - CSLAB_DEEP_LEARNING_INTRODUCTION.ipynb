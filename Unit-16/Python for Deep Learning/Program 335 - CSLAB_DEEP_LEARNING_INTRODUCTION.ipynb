{
  "nbformat": 4,
  "nbformat_minor": 0,
  "metadata": {
    "colab": {
      "provenance": [],
      "authorship_tag": "ABX9TyNB5QZBxW2T3N9dCq5tHnr4",
      "include_colab_link": true
    },
    "kernelspec": {
      "name": "python3",
      "display_name": "Python 3"
    },
    "language_info": {
      "name": "python"
    }
  },
  "cells": [
    {
      "cell_type": "markdown",
      "metadata": {
        "id": "view-in-github",
        "colab_type": "text"
      },
      "source": [
        "<a href=\"https://colab.research.google.com/github/Deepsphere-AI/DSAI_Python_Programming/blob/main/Unit-16/Python%20for%20Deep%20Learning/Program%20335%20-%20CSLAB_DEEP_LEARNING_INTRODUCTION.ipynb\" target=\"_parent\"><img src=\"https://colab.research.google.com/assets/colab-badge.svg\" alt=\"Open In Colab\"/></a>"
      ]
    },
    {
      "cell_type": "code",
      "execution_count": null,
      "metadata": {
        "id": "_ZDYuUM6pBsT"
      },
      "outputs": [],
      "source": [
        "\n",
        "# /*********************************************************************************************************************\n",
        "  \n",
        "#   File Name \t:   CSLAB_DEEP_LEARNING_INTRODUCTION\n",
        "#   Purpose \t:   A Program in Python for Introduction to Deep Learning\n",
        "#   Author\t:   Deepshere.ai\n",
        "#   Reviewer \t:   Jothi Periasamy\n",
        "#   Date \t:   25/10/2022 \n",
        "#   Version\t:   1.0\t\n",
        "\n",
        "# /***********************************************************************************************************************\n",
        "\n",
        "## Program Description : Program for Introduction to Deep Learning in Python\n",
        "\n",
        "## Python Development Environment & Runtime - Python, Anaconda\n",
        "\n",
        "import tensorflow as vAR_tf  # deep learning library. Tensors are just multi-dimensional arrays\n",
        "\n",
        "vAR_CSLAB_mnist = vAR_tf.keras.datasets.mnist  # mnist is a dataset of 28x28 images of handwritten digits and their labels\n",
        "\n",
        "(vAR_CSLAB_x_train, vAR_CSLAB_y_train),(vAR_CSLAB_x_test, vAR_CSLAB_y_test) = mnist.load_data()  # unpacks images to x_train/x_test and labels to y_train/y_test\n",
        "\n",
        "vAR_CSLAB_x_train = vAR_tf.keras.utils.normalize(vAR_CSLAB_x_train, axis=1)  # scales data between 0 and 1\n",
        "\n",
        "vAR_CSLAB_x_test = vAR_tf.keras.utils.normalize(vAR_CSLAB_x_test, axis=1)  # scales data between 0 and 1\n",
        "\n",
        "vAR_CSLAB_model = vAR_tf.keras.models.Sequential()  # a basic feed-forward model\n",
        "\n",
        "vAR_CSLAB_model.add(vAR_tf.keras.layers.Flatten())  # takes our 28x28 and makes it 1x784\n",
        "\n",
        "vAR_CSLAB_model.add(vAR_tf.keras.layers.Dense(128, activation=tf.nn.relu))  # a simple fully-connected layer, 128 units, relu activation\n",
        "\n",
        "vAR_CSLAB_model.add(vAR_tf.keras.layers.Dense(128, activation=tf.nn.relu))  # a simple fully-connected layer, 128 units, relu activation\n",
        "\n",
        "vAR_CSLAB_model.add(vAR_tf.keras.layers.Dense(10, activation=tf.nn.softmax))  # our output layer. 10 units for 10 classes. Softmax for probability distribution\n",
        "\n",
        "vAR_CSLAB_model.compile(optimizer='adam',  # Good default optimizer to start with\n",
        "              loss='sparse_categorical_crossentropy',  # how will we calculate our \"error.\" Neural network aims to minimize loss.\n",
        "              metrics=['accuracy'])  # what to track\n",
        "\n",
        "vAR_CSLAB_model.fit(vAR_CSLAB_x_train, vAR_CSLAB_y_train, epochs=3)  # train the model\n",
        "\n",
        "vAR_CSLAB_val_loss, vAR_CSLAB_val_acc = vAR_CSLAB_model.evaluate(vAR_CSLAB_x_test, vAR_CSLAB_y_test)  # evaluate the out of sample data with model\n",
        "\n",
        "print(vAR_CSLAB_val_loss)  # model's loss (error)\n",
        "\n",
        "print(vAR_CSLAB_val_acc)  # model's accuracy\n",
        "\n",
        "vAR_CSLAB_model.save('epic_num_reader.model')\n",
        "\n",
        "# /****************************************************************************************************************************\n",
        "#   Disclaimer.\n",
        "\n",
        "# We are providing this code block strictly for learning and researching, this is not a production\n",
        "# ready code. We have no liability on this particular code under any circumstances; users should use\n",
        "# this code on their own risk. All software, hardware and othr products that are referenced in these \n",
        "# materials belong to the respective vendor who developed or who owns this product.\n",
        "\n",
        "# /****************************************************************************************************************************\n",
        "  "
      ]
    }
  ]
}