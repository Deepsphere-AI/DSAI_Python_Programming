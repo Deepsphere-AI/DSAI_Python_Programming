{
  "nbformat": 4,
  "nbformat_minor": 0,
  "metadata": {
    "colab": {
      "provenance": [],
      "authorship_tag": "ABX9TyOMZaFuZNCvQ7oromdFtkup",
      "include_colab_link": true
    },
    "kernelspec": {
      "name": "python3",
      "display_name": "Python 3"
    },
    "language_info": {
      "name": "python"
    }
  },
  "cells": [
    {
      "cell_type": "markdown",
      "metadata": {
        "id": "view-in-github",
        "colab_type": "text"
      },
      "source": [
        "<a href=\"https://colab.research.google.com/github/Deepsphere-AI/DSAI_Python_Programming/blob/main/Unit-16/Python%20for%20Deep%20Learning/Program%20352-%20CSLAB_DEEP_LEARNING_NEURAL_NETWORKS_V1.ipynb\" target=\"_parent\"><img src=\"https://colab.research.google.com/assets/colab-badge.svg\" alt=\"Open In Colab\"/></a>"
      ]
    },
    {
      "cell_type": "code",
      "execution_count": null,
      "metadata": {
        "id": "s7Ga4O3W7d_8"
      },
      "outputs": [],
      "source": [
        "\n",
        "# *********************************************************************************************************************\n",
        "  \n",
        "  # File Name \t:   CSLAB_DEEP_LEARNING_NEURAL_NETWORKS_V1\n",
        "  # Purpose \t:   A Program in Python for Neural Networks - Deep Learning\n",
        "  # Author\t:   Deepsphere.ai\n",
        "  # Reviewer \t:   Jothi Periasamy\n",
        "  # Date \t:   28/10/2022\n",
        "  # Version\t:   1.0\t\n",
        "  \n",
        "# ***********************************************************************************************************************\n",
        "\n",
        "## Program Description : Program for Neural Networks - Deep Learning in Python\n",
        "\n",
        "## Python Development Environment & Runtime - Python, Anaconda, Tensorflow, Tensorboard\n",
        "\n",
        "import tensorflow as vAR_tf\n",
        "vAR_sess = vAR_tf.Session()\n",
        "\n",
        "vAR_CSLAB_a = vAR_tf.Variable(vAR_tf.constant(4.))\n",
        "vAR_CSLAB_x_val = 5.\n",
        "vAR_CSLAB_x_data = vAR_tf.placeholder(dtype=vAR_tf.float32)\n",
        "\n",
        "vAR_CSLAB_multiplication = vAR_tf.multiply(vAR_CSLAB_a, vAR_CSLAB_x_data)\n",
        "\n",
        "vAR_CSLAB_loss = vAR_tf.square(vAR_tf.subtract(vAR_CSLAB_multiplication, 50.))\n",
        "\n",
        "vAR_CSLAB_init = vAR_tf.global_variables_initializer()\n",
        "vAR_sess.run(vAR_CSLAB_init)\n",
        "vAR_CSLAB_my_opt = vAR_tf.train.GradientDescentOptimizer(0.01)\n",
        "vAR_CSLAB_train_step = vAR_CSLAB_my_opt.minimize(vAR_CSLAB_loss)\n",
        "\n",
        "print('Optimizing a Multiplication Gate Output to 50.')\n",
        "for i in range(10):\n",
        "    vAR_CSLAB_a_val_old = vAR_sess.run(vAR_CSLAB_a)\n",
        "    print(vAR_CSLAB_a_val_old)\n",
        "    vAR_sess.run(vAR_CSLAB_train_step, feed_dict={vAR_CSLAB_x_data: vAR_CSLAB_x_val})\n",
        "    vAR_CSLAB_a_val = vAR_sess.run(vAR_CSLAB_a)\n",
        "    vAR_CSLAB_mult_output = vAR_sess.run(vAR_CSLAB_multiplication, feed_dict={vAR_CSLAB_x_data: vAR_CSLAB_x_val})\n",
        "    print(str(vAR_CSLAB_a_val) + ' * ' + str(vAR_CSLAB_x_val) + ' = ' + str(vAR_CSLAB_mult_output))  \n",
        "    \n",
        "# ****************************************************************************************************************************\n",
        "#   Disclaimer.\n",
        "\n",
        "# We are providing this code block strictly for learning and researching, this is not a production\n",
        "# ready code. We have no liability on this particular code under any circumstances; users should use\n",
        "# this code on their own risk. All software, hardware and othr products that are referenced in these \n",
        "# materials belong to the respective vendor who developed or who owns this product.\n",
        "\n",
        "# ****************************************************************************************************************************\n",
        "  "
      ]
    }
  ]
}