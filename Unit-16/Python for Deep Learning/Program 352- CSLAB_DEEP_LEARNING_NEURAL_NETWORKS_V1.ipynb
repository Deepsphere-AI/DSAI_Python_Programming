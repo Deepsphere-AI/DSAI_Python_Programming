{
  "nbformat": 4,
  "nbformat_minor": 0,
  "metadata": {
    "colab": {
      "provenance": [],
      "include_colab_link": true
    },
    "kernelspec": {
      "name": "python3",
      "display_name": "Python 3"
    },
    "language_info": {
      "name": "python"
    }
  },
  "cells": [
    {
      "cell_type": "markdown",
      "metadata": {
        "id": "view-in-github",
        "colab_type": "text"
      },
      "source": [
        "<a href=\"https://colab.research.google.com/github/Deepsphere-AI/DSAI_Python_Programming/blob/main/Unit-16/Python%20for%20Deep%20Learning/Program%20352-%20CSLAB_DEEP_LEARNING_NEURAL_NETWORKS_V1.ipynb\" target=\"_parent\"><img src=\"https://colab.research.google.com/assets/colab-badge.svg\" alt=\"Open In Colab\"/></a>"
      ]
    },
    {
      "cell_type": "code",
      "execution_count": null,
      "metadata": {
        "id": "s7Ga4O3W7d_8",
        "colab": {
          "base_uri": "https://localhost:8080/"
        },
        "outputId": "ae658b81-6af7-4025-cfea-6ed35abe4a35"
      },
      "outputs": [
        {
          "output_type": "stream",
          "name": "stderr",
          "text": [
            "WARNING:tensorflow:From /usr/local/lib/python3.8/dist-packages/tensorflow/python/compat/v2_compat.py:107: disable_resource_variables (from tensorflow.python.ops.variable_scope) is deprecated and will be removed in a future version.\n",
            "Instructions for updating:\n",
            "non-resource variables are not supported in the long term\n"
          ]
        },
        {
          "output_type": "stream",
          "name": "stdout",
          "text": [
            "Optimizing a Multiplication Gate Output to 50.\n",
            "4.0\n",
            "7.0 * 5.0 = 35.0\n",
            "7.0\n",
            "8.5 * 5.0 = 42.5\n",
            "8.5\n",
            "9.25 * 5.0 = 46.25\n",
            "9.25\n",
            "9.625 * 5.0 = 48.125\n",
            "9.625\n",
            "9.8125 * 5.0 = 49.0625\n",
            "9.8125\n",
            "9.90625 * 5.0 = 49.53125\n",
            "9.90625\n",
            "9.953125 * 5.0 = 49.765625\n",
            "9.953125\n",
            "9.9765625 * 5.0 = 49.882812\n",
            "9.9765625\n",
            "9.988281 * 5.0 = 49.941406\n",
            "9.988281\n",
            "9.994141 * 5.0 = 49.970703\n"
          ]
        }
      ],
      "source": [
        "\n",
        "# *********************************************************************************************************************\n",
        "  \n",
        "  # File Name \t:   CSLAB_DEEP_LEARNING_NEURAL_NETWORKS_V1\n",
        "  # Purpose \t:   A Program in Python for Neural Networks - Deep Learning\n",
        "  # Author\t:   Deepsphere.ai\n",
        "  # Reviewer \t:   Jothi Periasamy\n",
        "  # Date \t:   28/10/2022\n",
        "  # Version\t:   1.0\t\n",
        "  \n",
        "# ***********************************************************************************************************************\n",
        "\n",
        "## Program Description : Program for Neural Networks - Deep Learning in Python\n",
        "\n",
        "## Python Development Environment & Runtime - Python, Anaconda, Tensorflow, Tensorboard\n",
        "\n",
        "import tensorflow.compat.v1 as vAR_tf\n",
        "\n",
        "vAR_tf.disable_v2_behavior() \n",
        "\n",
        "vAR_sess = vAR_tf.Session()\n",
        "\n",
        "vAR_CSLAB_a = vAR_tf.Variable(vAR_tf.constant(4.))\n",
        "vAR_CSLAB_x_val = 5.\n",
        "vAR_CSLAB_x_data = vAR_tf.placeholder(dtype=vAR_tf.float32)\n",
        "\n",
        "vAR_CSLAB_multiplication = vAR_tf.multiply(vAR_CSLAB_a, vAR_CSLAB_x_data)\n",
        "\n",
        "vAR_CSLAB_loss = vAR_tf.square(vAR_tf.subtract(vAR_CSLAB_multiplication, 50.))\n",
        "\n",
        "vAR_CSLAB_init = vAR_tf.global_variables_initializer()\n",
        "vAR_sess.run(vAR_CSLAB_init)\n",
        "vAR_CSLAB_my_opt = vAR_tf.train.GradientDescentOptimizer(0.01)\n",
        "vAR_CSLAB_train_step = vAR_CSLAB_my_opt.minimize(vAR_CSLAB_loss)\n",
        "\n",
        "print('Optimizing a Multiplication Gate Output to 50.')\n",
        "for i in range(10):\n",
        "    vAR_CSLAB_a_val_old = vAR_sess.run(vAR_CSLAB_a)\n",
        "    print(vAR_CSLAB_a_val_old)\n",
        "    vAR_sess.run(vAR_CSLAB_train_step, feed_dict={vAR_CSLAB_x_data: vAR_CSLAB_x_val})\n",
        "    vAR_CSLAB_a_val = vAR_sess.run(vAR_CSLAB_a)\n",
        "    vAR_CSLAB_mult_output = vAR_sess.run(vAR_CSLAB_multiplication, feed_dict={vAR_CSLAB_x_data: vAR_CSLAB_x_val})\n",
        "    print(str(vAR_CSLAB_a_val) + ' * ' + str(vAR_CSLAB_x_val) + ' = ' + str(vAR_CSLAB_mult_output))  \n",
        "    \n",
        "# ****************************************************************************************************************************\n",
        "#   Disclaimer.\n",
        "\n",
        "# We are providing this code block strictly for learning and researching, this is not a production\n",
        "# ready code. We have no liability on this particular code under any circumstances; users should use\n",
        "# this code on their own risk. All software, hardware and othr products that are referenced in these \n",
        "# materials belong to the respective vendor who developed or who owns this product.\n",
        "\n",
        "# ****************************************************************************************************************************\n",
        "  "
      ]
    },
    {
      "cell_type": "markdown",
      "source": [
        "**Code Explanation**"
      ],
      "metadata": {
        "id": "J9UCJTUxJ54O"
      }
    },
    {
      "cell_type": "markdown",
      "source": [
        "**Code Explanation**\n",
        "\n",
        "This code is an example of TensorFlow v1.x code that performs a simple optimization task. It sets up a TensorFlow session, declares a constant tensor (a), a placeholder tensor (x_data), and a multiply operation between a and x_data. Then it sets up a loss function that measures the difference between the result of the multiply operation and a target value of 50. The code uses gradient descent optimization to adjust the value of \"a\" in order to minimize the loss and make the result of the multiply operation equal to 50."
      ],
      "metadata": {
        "id": "axYJN06-J6UD"
      }
    },
    {
      "cell_type": "markdown",
      "source": [
        "Here is a detailed explanation of the code:\n",
        "\n",
        "1. Import TensorFlow v1.x library and disable v2 behavior: The first line of code imports TensorFlow v1.x and the second line disables the v2 behavior, which is the default behavior of TensorFlow in versions later than 1.x."
      ],
      "metadata": {
        "id": "vCKVFn3BJ6fo"
      }
    },
    {
      "cell_type": "markdown",
      "source": [
        "2. Set up TensorFlow session: The code sets up a TensorFlow session, which is a context in which you run TensorFlow operations."
      ],
      "metadata": {
        "id": "u8Ko04TMJ6oM"
      }
    },
    {
      "cell_type": "markdown",
      "source": [
        "3. Declare tensors: The code declares a constant tensor \"a\" with a value of 4, a placeholder tensor \"x_data\" with an initial value of 5, and a multiply operation \"multiplication\" between \"a\" and \"x_data\""
      ],
      "metadata": {
        "id": "Vk6I2mUFKYRP"
      }
    },
    {
      "cell_type": "markdown",
      "source": [
        "4. Define loss function: The code defines a loss function \"loss\", which measures the difference between the result of the multiply operation and a target value of 50."
      ],
      "metadata": {
        "id": "QzEG_IF0KYH-"
      }
    },
    {
      "cell_type": "markdown",
      "source": [
        "5. Initialize variables: The code initializes all the variables using \"global_variables_initializer()\"."
      ],
      "metadata": {
        "id": "mWLXaJY8KX9r"
      }
    },
    {
      "cell_type": "markdown",
      "source": [
        "7. Optimize the model: The code sets up a gradient descent optimizer \"my_opt\" with a learning rate of 0.01, and then minimizes the loss using the \"minimize()\" method. The optimization loop runs 10 times, printing the value of \"a\" before and after each iteration. The result of the multiply operation is also printed after each iteration."
      ],
      "metadata": {
        "id": "EmDMJCZ9KXxv"
      }
    },
    {
      "cell_type": "markdown",
      "source": [
        "8. Evaluate the model: The code prints the result of the multiply operation after the optimization loop has completed.\n",
        "\n",
        "\n",
        "\n",
        "\n"
      ],
      "metadata": {
        "id": "Vm1AZmriKXkw"
      }
    }
  ]
}