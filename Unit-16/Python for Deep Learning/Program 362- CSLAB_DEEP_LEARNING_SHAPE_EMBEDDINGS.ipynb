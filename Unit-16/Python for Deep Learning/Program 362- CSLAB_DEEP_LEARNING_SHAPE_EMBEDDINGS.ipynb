{
  "nbformat": 4,
  "nbformat_minor": 0,
  "metadata": {
    "colab": {
      "provenance": [],
      "authorship_tag": "ABX9TyM0vsb3kNtajqIk9KqSVsiq",
      "include_colab_link": true
    },
    "kernelspec": {
      "name": "python3",
      "display_name": "Python 3"
    },
    "language_info": {
      "name": "python"
    }
  },
  "cells": [
    {
      "cell_type": "markdown",
      "metadata": {
        "id": "view-in-github",
        "colab_type": "text"
      },
      "source": [
        "<a href=\"https://colab.research.google.com/github/Deepsphere-AI/DSAI_Python_Programming/blob/main/Unit-16/Python%20for%20Deep%20Learning/Program%20362-%20CSLAB_DEEP_LEARNING_SHAPE_EMBEDDINGS.ipynb\" target=\"_parent\"><img src=\"https://colab.research.google.com/assets/colab-badge.svg\" alt=\"Open In Colab\"/></a>"
      ]
    },
    {
      "cell_type": "code",
      "execution_count": null,
      "metadata": {
        "id": "8el85Uz8F4Qd"
      },
      "outputs": [],
      "source": [
        "\n",
        "# *********************************************************************************************************************\n",
        "  \n",
        "  # File Name \t:   CSLAB_DEEP_LEARNING_SHAPE_EMBEDDINGS\n",
        "  # Purpose \t:   A Program in Python for Shape Embeddings in Deep Learning\n",
        "  # Author\t:   Deepsphere.ai\n",
        "  # Reviewer \t:   Jothi Periasamy\n",
        "  # Date \t:   28/10/2022\n",
        "  # Version\t:   1.0\t\n",
        "  \n",
        "# ***********************************************************************************************************************\n",
        "\n",
        "## Program Description : Program in Python for Shape Embeddings in Deep Learning\n",
        "\n",
        "## Python Development Environment & Runtime - Python, Anaconda\n",
        "\n",
        "from __future__ import print_function\n",
        "import numpy as vAR_np\n",
        "import tensorflow as vAR_tf\n",
        "\n",
        "vAR_CSLAB_vocab_size = 10\n",
        "vAR_CSLAB_embedding_dim = 5\n",
        "vAR_CSLAB_batch_size = 16\n",
        "\n",
        "# The data set is an array of integer values, each being an ID in the range\n",
        "# [0, vocab_size)\n",
        "vAR_CSLAB_dataset = vAR_tf.placeholder(vAR_tf.int32, shape=[vAR_CSLAB_batch_size])\n",
        "\n",
        "# embedding is a lookup table for IDs, mapping them into\n",
        "# embedding_dim-dimensional vectors.\n",
        "vAR_CSLAB_embedding = vAR_tf.Variable(vAR_tf.random_uniform(\n",
        "    [vAR_CSLAB_vocab_size, vAR_CSLAB_embedding_dim], -1.0, 1.0))\n",
        "\n",
        "vAR_CSLAB_embed_out = vAR_tf.nn.embedding_lookup(vAR_CSLAB_embedding, vAR_CSLAB_dataset)\n",
        "\n",
        "with vAR_tf.Session() as vAR_sess:\n",
        "    vAR_tf.initialize_all_variables().run()\n",
        "\n",
        "    print('dataset shape:', vAR_CSLAB_dataset.get_shape())\n",
        "    print('embedding shape:', vAR_CSLAB_embedding.get_shape())\n",
        "    print('embed_out shape:', vAR_CSLAB_embed_out.get_shape())\n",
        "\n",
        "# ****************************************************************************************************************************\n",
        "  Disclaimer.\n",
        "\n",
        "We are providing this code block strictly for learning and researching, this is not a production\n",
        "ready code. We have no liability on this particular code under any circumstances; users should use\n",
        "this code on their own risk. All software, hardware and othr products that are referenced in these \n",
        "materials belong to the respective vendor who developed or who owns this product.\n",
        "\n",
        "# ****************************************************************************************************************************"
      ]
    }
  ]
}