{
  "nbformat": 4,
  "nbformat_minor": 0,
  "metadata": {
    "colab": {
      "provenance": [],
      "authorship_tag": "ABX9TyOWhGmeyMnEaMcU6mvsi5G1",
      "include_colab_link": true
    },
    "kernelspec": {
      "name": "python3",
      "display_name": "Python 3"
    },
    "language_info": {
      "name": "python"
    }
  },
  "cells": [
    {
      "cell_type": "markdown",
      "metadata": {
        "id": "view-in-github",
        "colab_type": "text"
      },
      "source": [
        "<a href=\"https://colab.research.google.com/github/Deepsphere-AI/DSAI_Python_Programming/blob/main/Unit-16/Python%20for%20Deep%20Learning/Program%20341%20-%20CSLAB_DEEP_LEARNING_RECURRENT_NEURAL_NETWORKS.ipynb\" target=\"_parent\"><img src=\"https://colab.research.google.com/assets/colab-badge.svg\" alt=\"Open In Colab\"/></a>"
      ]
    },
    {
      "cell_type": "code",
      "execution_count": null,
      "metadata": {
        "id": "vRssjRmYl5EH"
      },
      "outputs": [],
      "source": [
        "\n",
        "# /*********************************************************************************************************************\n",
        "  \n",
        "#   File Name \t:   CSLAB_DEEP_LEARNING_RECURRENT_NEURAL_NETWORKS\n",
        "#   Purpose \t:   A Program in Python for Recurrent Neural Networks using Deep Learning\n",
        "#   Author\t:   Deepsphere.ai\n",
        "#   Reviewer \t:   Jothi Periasamy\n",
        "#   Date \t:   26/10/2022 \n",
        "#   Version\t:   1.0\t\n",
        "\n",
        "# /***********************************************************************************************************************\n",
        "\n",
        "## Program Description : Program for Recurrent Neural Networks using Deep Learning in Python\n",
        "\n",
        "## Python Development Environment & Runtime - Python, Anaconda\n",
        "\n",
        "import tensorflow as vAR_tf\n",
        "from tensorflow.keras.models import Sequential\n",
        "from tensorflow.keras.layers import Dense, Dropout, LSTM#, CuDNNLSTM\n",
        "\n",
        "vAR_CSLAB_mnist = vAR_tf.keras.datasets.mnist  # mnist is a dataset of 28x28 images of handwritten digits and their labels\n",
        "(vAR_CSLAB_x_train, vAR_CSLAB_y_train),(vAR_CSLAB_x_test, vAR_CSLAB_y_test) = vAR_CSLAB_mnist.load_data()  # unpacks images to x_train/x_test and labels to y_train/y_test\n",
        "\n",
        "vAR_CSLAB_x_train = vAR_CSLAB_x_train/255.0\n",
        "vAR_CSLAB_x_test = vAR_CSLAB_x_test/255.0\n",
        "\n",
        "print(vAR_CSLAB_x_train.shape)\n",
        "print(vAR_CSLAB_x_train[0].shape)\n",
        "\n",
        "vAR_CSLAB_model = Sequential()\n",
        "\n",
        "# IF you are running with a GPU, try out the CuDNNLSTM layer type instead (don't pass an activation, tanh is required)\n",
        "vAR_CSLAB_model.add(LSTM(128, input_shape=(vAR_CSLAB_x_train.shape[1:]), activation='relu', return_sequences=True))\n",
        "vAR_CSLAB_model.add(Dropout(0.2))\n",
        "\n",
        "vAR_CSLAB_model.add(LSTM(128, activation='relu'))\n",
        "vAR_CSLAB_model.add(Dropout(0.1))\n",
        "\n",
        "vAR_CSLAB_model.add(Dense(32, activation='relu'))\n",
        "vAR_CSLAB_model.add(Dropout(0.2))\n",
        "\n",
        "vAR_CSLAB_model.add(Dense(10, activation='softmax'))\n",
        "\n",
        "vAR_CSLAB_opt = vAR_tf.keras.optimizers.Adam(lr=0.001, decay=1e-6)\n",
        "\n",
        "# Compile model\n",
        "vAR_CSLAB_model.compile(loss='sparse_categorical_crossentropy',optimizer=vAR_CSLAB_opt,metrics=['accuracy'])\n",
        "\n",
        "vAR_CSLAB_model.fit(vAR_CSLAB_x_train,vAR_CSLAB_y_train,epochs=3,validation_data=(vAR_CSLAB_x_test, vAR_CSLAB_y_test))\n",
        "\n",
        "# /****************************************************************************************************************************\n",
        "#   Disclaimer.\n",
        "\n",
        "# We are providing this code block strictly for learning and researching, this is not a production\n",
        "# ready code. We have no liability on this particular code under any circumstances; users should use\n",
        "# this code on their own risk. All software, hardware and othr products that are referenced in these \n",
        "# materials belong to the respective vendor who developed or who owns this product.\n",
        "\n",
        "# /****************************************************************************************************************************\n",
        "  "
      ]
    }
  ]
}