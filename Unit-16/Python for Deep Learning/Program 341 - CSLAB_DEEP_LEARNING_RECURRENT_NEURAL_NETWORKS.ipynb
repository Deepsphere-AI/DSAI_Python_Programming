{
  "cells": [
    {
      "cell_type": "markdown",
      "metadata": {
        "id": "view-in-github",
        "colab_type": "text"
      },
      "source": [
        "<a href=\"https://colab.research.google.com/github/Deepsphere-AI/DSAI_Python_Programming/blob/main/Unit-16/Python%20for%20Deep%20Learning/Program%20341%20-%20CSLAB_DEEP_LEARNING_RECURRENT_NEURAL_NETWORKS.ipynb\" target=\"_parent\"><img src=\"https://colab.research.google.com/assets/colab-badge.svg\" alt=\"Open In Colab\"/></a>"
      ]
    },
    {
      "cell_type": "code",
      "execution_count": null,
      "metadata": {
        "colab": {
          "background_save": true,
          "base_uri": "https://localhost:8080/"
        },
        "id": "vRssjRmYl5EH",
        "outputId": "aa4108ed-95f9-4912-c75c-7f9ab9435537"
      },
      "outputs": [
        {
          "name": "stdout",
          "output_type": "stream",
          "text": [
            "Downloading data from https://storage.googleapis.com/tensorflow/tf-keras-datasets/mnist.npz\n",
            "11490434/11490434 [==============================] - 0s 0us/step\n",
            "(60000, 28, 28)\n",
            "(28, 28)\n"
          ]
        },
        {
          "name": "stderr",
          "output_type": "stream",
          "text": [
            "/usr/local/lib/python3.8/dist-packages/keras/optimizers/optimizer_v2/adam.py:110: UserWarning: The `lr` argument is deprecated, use `learning_rate` instead.\n",
            "  super(Adam, self).__init__(name, **kwargs)\n"
          ]
        },
        {
          "name": "stdout",
          "output_type": "stream",
          "text": [
            "Epoch 1/3\n",
            "1875/1875 [==============================] - 186s 97ms/step - loss: 0.6205 - accuracy: 0.8027 - val_loss: 0.1564 - val_accuracy: 0.9514\n",
            "Epoch 2/3\n",
            "1875/1875 [==============================] - 174s 93ms/step - loss: 0.1603 - accuracy: 0.9567 - val_loss: 0.0999 - val_accuracy: 0.9693\n",
            "Epoch 3/3\n",
            "1875/1875 [==============================] - 171s 91ms/step - loss: 0.1174 - accuracy: 0.9689 - val_loss: 0.0949 - val_accuracy: 0.9754\n"
          ]
        },
        {
          "data": {
            "text/plain": [
              "<keras.callbacks.History at 0x7f6dfb871970>"
            ]
          },
          "execution_count": 1,
          "metadata": {},
          "output_type": "execute_result"
        }
      ],
      "source": [
        "\n",
        "# /*********************************************************************************************************************\n",
        "  \n",
        "#   File Name \t:   CSLAB_DEEP_LEARNING_RECURRENT_NEURAL_NETWORKS\n",
        "#   Purpose \t:   A Program in Python for Recurrent Neural Networks using Deep Learning\n",
        "#   Author\t:   Deepsphere.ai\n",
        "#   Reviewer \t:   Jothi Periasamy\n",
        "#   Date \t:   26/10/2022 \n",
        "#   Version\t:   1.0\t\n",
        "\n",
        "# /***********************************************************************************************************************\n",
        "\n",
        "## Program Description : Program for Recurrent Neural Networks using Deep Learning in Python\n",
        "\n",
        "## Python Development Environment & Runtime - Python, Anaconda\n",
        "\n",
        "import tensorflow as vAR_tf\n",
        "from tensorflow.keras.models import Sequential\n",
        "from tensorflow.keras.layers import Dense, Dropout, LSTM#, CuDNNLSTM\n",
        "\n",
        "vAR_CSLAB_mnist = vAR_tf.keras.datasets.mnist  # mnist is a dataset of 28x28 images of handwritten digits and their labels\n",
        "(vAR_CSLAB_x_train, vAR_CSLAB_y_train),(vAR_CSLAB_x_test, vAR_CSLAB_y_test) = vAR_CSLAB_mnist.load_data()  # unpacks images to x_train/x_test and labels to y_train/y_test\n",
        "\n",
        "vAR_CSLAB_x_train = vAR_CSLAB_x_train/255.0\n",
        "vAR_CSLAB_x_test = vAR_CSLAB_x_test/255.0\n",
        "\n",
        "print(vAR_CSLAB_x_train.shape)\n",
        "print(vAR_CSLAB_x_train[0].shape)\n",
        "\n",
        "vAR_CSLAB_model = Sequential()\n",
        "\n",
        "# IF you are running with a GPU, try out the CuDNNLSTM layer type instead (don't pass an activation, tanh is required)\n",
        "vAR_CSLAB_model.add(LSTM(128, input_shape=(vAR_CSLAB_x_train.shape[1:]), activation='relu', return_sequences=True))\n",
        "vAR_CSLAB_model.add(Dropout(0.2))\n",
        "\n",
        "vAR_CSLAB_model.add(LSTM(128, activation='relu'))\n",
        "vAR_CSLAB_model.add(Dropout(0.1))\n",
        "\n",
        "vAR_CSLAB_model.add(Dense(32, activation='relu'))\n",
        "vAR_CSLAB_model.add(Dropout(0.2))\n",
        "\n",
        "vAR_CSLAB_model.add(Dense(10, activation='softmax'))\n",
        "\n",
        "vAR_CSLAB_opt = vAR_tf.keras.optimizers.Adam(lr=0.001, decay=1e-6)\n",
        "\n",
        "# Compile model\n",
        "vAR_CSLAB_model.compile(loss='sparse_categorical_crossentropy',optimizer=vAR_CSLAB_opt,metrics=['accuracy'])\n",
        "\n",
        "vAR_CSLAB_model.fit(vAR_CSLAB_x_train,vAR_CSLAB_y_train,epochs=3,validation_data=(vAR_CSLAB_x_test, vAR_CSLAB_y_test))\n",
        "\n",
        "# /****************************************************************************************************************************\n",
        "#   Disclaimer.\n",
        "\n",
        "# We are providing this code block strictly for learning and researching, this is not a production\n",
        "# ready code. We have no liability on this particular code under any circumstances; users should use\n",
        "# this code on their own risk. All software, hardware and othr products that are referenced in these \n",
        "# materials belong to the respective vendor who developed or who owns this product.\n",
        "\n",
        "# /****************************************************************************************************************************\n",
        "  "
      ]
    },
    {
      "cell_type": "markdown",
      "metadata": {
        "id": "bW-LpmlqIVP6"
      },
      "source": [
        "**Code Explanation**\n",
        "\n",
        "The code you posted is a script in Python using the TensorFlow library for building a deep learning model for image classification. The model is trained on the MNIST dataset, which is a dataset of 28x28 grayscale images of handwritten digits and their labels.\n",
        "\n",
        "In the script, the following steps are performed:"
      ]
    },
    {
      "cell_type": "markdown",
      "source": [
        "1. Import the required modules from TensorFlow:\n",
        "\n",
        "The tensorflow module is imported as vAR_tf\n",
        "The Sequential class from the tensorflow.keras.models module is imported to build a sequential model\n",
        "The Dense, Dropout, and LSTM layers from the tensorflow.keras.layers module are imported to build the model"
      ],
      "metadata": {
        "id": "B2Ehd8e9iwUr"
      }
    },
    {
      "cell_type": "markdown",
      "source": [
        "2. Load the MNIST dataset:\n",
        "\n",
        "The vAR_CSLAB_mnist variable is assigned the mnist dataset from the TensorFlow's keras.datasets module.\n",
        "The load_data method of vAR_CSLAB_mnist is called to load the images and labels into vAR_CSLAB_x_train, vAR_CSLAB_y_train, vAR_CSLAB_x_test, and vAR_CSLAB_y_test variables."
      ],
      "metadata": {
        "id": "qeBVyCOhiwHs"
      }
    },
    {
      "cell_type": "markdown",
      "source": [
        "3. Preprocess the data:\n",
        "\n",
        "The images in vAR_CSLAB_x_train and vAR_CSLAB_x_test are divided by 255.0 to normalize the pixel values."
      ],
      "metadata": {
        "id": "ScYDQef0iv68"
      }
    },
    {
      "cell_type": "markdown",
      "source": [
        "4. Build the model:\n",
        "\n",
        "A sequential model is created and assigned to the vAR_CSLAB_model variable.\n",
        "Two LSTM layers with 128 units each are added to the model, with the first layer's input_shape argument set to the shape of the input data. The first LSTM layer also has the return_sequences argument set to True, indicating that it should return sequences to the next layer.\n",
        "After each LSTM layer, a Dropout layer is added with a rate of 0.2 or 0.1 to prevent overfitting.\n",
        "Two Dense layers with 32 and 10 units respectively, are added, with the final layer using a softmax activation function."
      ],
      "metadata": {
        "id": "4427LIjTivu6"
      }
    },
    {
      "cell_type": "markdown",
      "source": [
        "5. Compile the model:\n",
        "\n",
        "An Adam optimizer is created with a learning rate of 0.001 and a decay of 1e-6 and assigned to vAR_CSLAB_opt.\n",
        "The model is compiled using the compile method, specifying the loss function as sparse_categorical_crossentropy, the optimizer as vAR_CSLAB_opt, and the metrics as accuracy."
      ],
      "metadata": {
        "id": "pHEMzV8MivhI"
      }
    },
    {
      "cell_type": "markdown",
      "source": [
        "6. Train the model:\n",
        "\n",
        "The model is trained using the fit method, specifying the training data vAR_CSLAB_x_train and vAR_CSLAB_y_train, the number of epochs as 3, and the validation data as vAR_CSLAB_x_test and vAR_CSLAB_y_test."
      ],
      "metadata": {
        "id": "5BttJWu_ivRX"
      }
    }
  ],
  "metadata": {
    "colab": {
      "provenance": [],
      "include_colab_link": true
    },
    "kernelspec": {
      "display_name": "Python 3",
      "name": "python3"
    },
    "language_info": {
      "name": "python"
    }
  },
  "nbformat": 4,
  "nbformat_minor": 0
}