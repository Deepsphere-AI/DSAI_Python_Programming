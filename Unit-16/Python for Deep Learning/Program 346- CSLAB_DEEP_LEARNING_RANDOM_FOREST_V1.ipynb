{
  "nbformat": 4,
  "nbformat_minor": 0,
  "metadata": {
    "colab": {
      "provenance": [],
      "include_colab_link": true
    },
    "kernelspec": {
      "name": "python3",
      "display_name": "Python 3"
    },
    "language_info": {
      "name": "python"
    }
  },
  "cells": [
    {
      "cell_type": "markdown",
      "metadata": {
        "id": "view-in-github",
        "colab_type": "text"
      },
      "source": [
        "<a href=\"https://colab.research.google.com/github/Deepsphere-AI/DSAI_Python_Programming/blob/main/Unit-16/Python%20for%20Deep%20Learning/Program%20346-%20CSLAB_DEEP_LEARNING_RANDOM_FOREST_V1.ipynb\" target=\"_parent\"><img src=\"https://colab.research.google.com/assets/colab-badge.svg\" alt=\"Open In Colab\"/></a>"
      ]
    },
    {
      "cell_type": "code",
      "execution_count": 3,
      "metadata": {
        "id": "reTxotRysKeD",
        "colab": {
          "base_uri": "https://localhost:8080/"
        },
        "outputId": "013d740a-11fa-4185-a5a8-03c305783f51"
      },
      "outputs": [
        {
          "output_type": "stream",
          "name": "stdout",
          "text": [
            "Drive already mounted at /content/drive; to attempt to forcibly remount, call drive.mount(\"/content/drive\", force_remount=True).\n"
          ]
        }
      ],
      "source": [
        "\n",
        "# *********************************************************************************************************************\n",
        "  \n",
        "  # File Name \t:   CSLAB_DEEP_LEARNNG_RANDOM_FOREST_V1\n",
        "  # Purpose \t:   A Program in Python for Random Forest - Deep Learning\n",
        "  # Author\t:   Deepsphere.ai\n",
        "  # Reviewer \t:   Jothi Periasamy\n",
        "  # Date \t:   28/10/2022\n",
        "  # Version\t:   1.0\t\n",
        "  \n",
        "# ***********************************************************************************************************************\n",
        "\n",
        "## Program Description : Program for Random Forest - Deep Learning in Python\n",
        "\n",
        "## Python Development Environment & Runtime - Python, Anaconda, Tensorflow, Tensorboard\n",
        "\n",
        "from __future__ import print_function\n",
        "\n",
        "import numpy as vAR_np\n",
        "\n",
        "import sklearn\n",
        "\n",
        "from sklearn import datasets\n",
        "\n",
        "import pandas as vAR_pd\n",
        "\n",
        "import tensorflow.compat.v1 as vAR_tf\n",
        "\n",
        "vAR_tf.disable_v2_behavior() \n",
        "\n",
        "#from tensorflow.contrib.tensor_forest.python import tensor_forest\n",
        "\n",
        "from tensorflow.python.ops import resources\n",
        "\n",
        "from google.colab import drive\n",
        "\n",
        "drive.mount('/content/drive')\n",
        "\n",
        "vAR_CSLAB_data = vAR_pd.read_csv('/content/drive/MyDrive/Semester-4/Deep Learning for Enterprise/Data/Iris.csv')\n",
        "\n",
        "vAR_CSLAB_input_x = vAR_CSLAB_data.iloc[:, 0:-1].values\n",
        "\n",
        "vAR_CSLAB_input_y = vAR_CSLAB_data.iloc[:,4].values\n",
        "\n",
        "from sklearn.model_selection import train_test_split\n",
        "\n",
        "vAR_CSLAB_X_train, vAR_CSLAB_X_test, vAR_CSLAB_y_train, vAR_CSLAB_y_test = train_test_split(vAR_CSLAB_input_x, vAR_CSLAB_input_y, test_size = 0.25, random_state = 0)\n",
        "\n",
        "vAR_CSLAB_data1 = vAR_CSLAB_data.iloc[:,:].values\n",
        "\n",
        "# Parameters\n",
        "\n",
        "vAR_CSLAB_num_steps = 100 # Total steps to train\n",
        "\n",
        "vAR_CSLAB_num_classes = 2 \n",
        "\n",
        "vAR_CSLAB_num_features = 108 \n",
        "\n",
        "vAR_CSLAB_num_trees = 10 \n",
        "\n",
        "vAR_CSLAB_max_nodes = 1000\n",
        "\n",
        "# Input and Target placeholders \n",
        "\n",
        "vAR_CSLAB_X = vAR_tf.placeholder(vAR_tf.float32, shape=[None, vAR_CSLAB_num_features])\n",
        "\n",
        "vAR_CSLAB_Y = vAR_tf.placeholder(vAR_tf.int64, shape=[None])\n",
        "\n",
        "\n",
        "# ****************************************************************************************************************************\n",
        "#   Disclaimer.\n",
        "\n",
        "# We are providing this code block strictly for learning and researching, this is not a production\n",
        "# ready code. We have no liability on this particular code under any circumstances; users should use\n",
        "# this code on their own risk. All software, hardware and othr products that are referenced in these \n",
        "# materials belong to the respective vendor who developed or who owns this product.\n",
        "\n",
        "# ****************************************************************************************************************************\n",
        "  "
      ]
    },
    {
      "cell_type": "code",
      "source": [],
      "metadata": {
        "id": "YL0C_HaguGOU"
      },
      "execution_count": null,
      "outputs": []
    }
  ]
}