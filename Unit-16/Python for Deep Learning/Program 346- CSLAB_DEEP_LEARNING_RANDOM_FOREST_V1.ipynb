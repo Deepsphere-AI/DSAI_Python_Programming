{
  "nbformat": 4,
  "nbformat_minor": 0,
  "metadata": {
    "colab": {
      "provenance": [],
      "authorship_tag": "ABX9TyN1ezuw/RdFMP4rn7IrrWX7",
      "include_colab_link": true
    },
    "kernelspec": {
      "name": "python3",
      "display_name": "Python 3"
    },
    "language_info": {
      "name": "python"
    }
  },
  "cells": [
    {
      "cell_type": "markdown",
      "metadata": {
        "id": "view-in-github",
        "colab_type": "text"
      },
      "source": [
        "<a href=\"https://colab.research.google.com/github/Deepsphere-AI/DSAI_Python_Programming/blob/main/Unit-16/Python%20for%20Deep%20Learning/Program%20346-%20CSLAB_DEEP_LEARNING_RANDOM_FOREST_V1.ipynb\" target=\"_parent\"><img src=\"https://colab.research.google.com/assets/colab-badge.svg\" alt=\"Open In Colab\"/></a>"
      ]
    },
    {
      "cell_type": "code",
      "execution_count": null,
      "metadata": {
        "id": "reTxotRysKeD"
      },
      "outputs": [],
      "source": [
        "\n",
        "# *********************************************************************************************************************\n",
        "  \n",
        "  # File Name \t:   CSLAB_DEEP_LEARNNG_RANDOM_FOREST_V1\n",
        "  # Purpose \t:   A Program in Python for Random Forest - Deep Learning\n",
        "  # Author\t:   Deepsphere.ai\n",
        "  # Reviewer \t:   Jothi Periasamy\n",
        "  # Date \t:   28/10/2022\n",
        "  # Version\t:   1.0\t\n",
        "  \n",
        "# ***********************************************************************************************************************\n",
        "\n",
        "## Program Description : Program for Random Forest - Deep Learning in Python\n",
        "\n",
        "## Python Development Environment & Runtime - Python, Anaconda, Tensorflow, Tensorboard\n",
        "\n",
        "from __future__ import print_function\n",
        "\n",
        "import numpy as vAR_np\n",
        "\n",
        "import sklearn\n",
        "\n",
        "from sklearn import datasets\n",
        "\n",
        "import pandas as vAR_pd\n",
        "\n",
        "import tensorflow as vAR_tf\n",
        "\n",
        "#from tensorflow.contrib.tensor_forest.python import tensor_forest\n",
        "\n",
        "from tensorflow.python.ops import resources\n",
        "\n",
        "vAR_CSLAB_data = vAR_pd.read_csv('Iris.csv')\n",
        "\n",
        "vAR_CSLAB_input_x = vAR_CSLAB_data.iloc[:, 0:-1].values\n",
        "\n",
        "vAR_CSLAB_input_y = vAR_CSLAB_data.iloc[:,4].values\n",
        "\n",
        "from sklearn.model_selection import train_test_split\n",
        "\n",
        "vAR_CSLAB_X_train, vAR_CSLAB_X_test, vAR_CSLAB_y_train, vAR_CSLAB_y_test = train_test_split(vAR_CSLAB_input_x, vAR_CSLAB_input_y, test_size = 0.25, random_state = 0)\n",
        "\n",
        "vAR_CSLAB_data1 = vAR_CSLAB_data.iloc[:,:].values\n",
        "\n",
        "# Parameters\n",
        "\n",
        "vAR_CSLAB_num_steps = 100 # Total steps to train\n",
        "\n",
        "vAR_CSLAB_num_classes = 2 \n",
        "\n",
        "vAR_CSLAB_num_features = 108 \n",
        "\n",
        "vAR_CSLAB_num_trees = 10 \n",
        "\n",
        "vAR_CSLAB_max_nodes = 1000\n",
        "\n",
        "# Input and Target placeholders \n",
        "\n",
        "vAR_CSLAB_X = vAR_tf.placeholder(vAR_tf.float32, shape=[None, vAR_CSLAB_num_features])\n",
        "\n",
        "vAR_CSLAB_Y = vAR_tf.placeholder(vAR_tf.int64, shape=[None])\n",
        "\n",
        "\n",
        "# ****************************************************************************************************************************\n",
        "#   Disclaimer.\n",
        "\n",
        "# We are providing this code block strictly for learning and researching, this is not a production\n",
        "# ready code. We have no liability on this particular code under any circumstances; users should use\n",
        "# this code on their own risk. All software, hardware and othr products that are referenced in these \n",
        "# materials belong to the respective vendor who developed or who owns this product.\n",
        "\n",
        "# ****************************************************************************************************************************\n",
        "  "
      ]
    }
  ]
}