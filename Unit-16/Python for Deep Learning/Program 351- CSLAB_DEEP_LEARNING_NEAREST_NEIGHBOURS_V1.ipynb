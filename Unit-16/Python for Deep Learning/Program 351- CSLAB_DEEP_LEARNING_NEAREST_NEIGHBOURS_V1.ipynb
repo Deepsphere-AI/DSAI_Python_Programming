{
  "nbformat": 4,
  "nbformat_minor": 0,
  "metadata": {
    "colab": {
      "provenance": [],
      "authorship_tag": "ABX9TyODT3iuM6emmPNHQ6udyeU/",
      "include_colab_link": true
    },
    "kernelspec": {
      "name": "python3",
      "display_name": "Python 3"
    },
    "language_info": {
      "name": "python"
    }
  },
  "cells": [
    {
      "cell_type": "markdown",
      "metadata": {
        "id": "view-in-github",
        "colab_type": "text"
      },
      "source": [
        "<a href=\"https://colab.research.google.com/github/Deepsphere-AI/DSAI_Python_Programming/blob/main/Unit-16/Python%20for%20Deep%20Learning/Program%20351-%20CSLAB_DEEP_LEARNING_NEAREST_NEIGHBOURS_V1.ipynb\" target=\"_parent\"><img src=\"https://colab.research.google.com/assets/colab-badge.svg\" alt=\"Open In Colab\"/></a>"
      ]
    },
    {
      "cell_type": "code",
      "execution_count": null,
      "metadata": {
        "id": "rcmxzssa66sc"
      },
      "outputs": [],
      "source": [
        "\n",
        "# *********************************************************************************************************************\n",
        "  \n",
        "  # File Name \t:   CSLAB_DEEP_LEARNING_NEAREST_NEIGHBOURS_V1\n",
        "  # Purpose \t:   A Program in Python for Nearest Neighbours - Deep Learning\n",
        "  # Author\t:   Deepsphere.ai\n",
        "  # Reviewer \t:   Jothi Periasamy\n",
        "  # Date \t:   28/10/2022\n",
        "  # Version\t:   1.0\t\n",
        "  \n",
        "# ***********************************************************************************************************************\n",
        "\n",
        "## Program Description : Program for Nearest Neighbours - Deep Learning in Python\n",
        "\n",
        "## Python Development Environment & Runtime - Python, Anaconda, Tensorflow, Tensorboard\n",
        "\n",
        "import numpy as vAR_np\n",
        "import tensorflow as vAR_tf\n",
        "\n",
        "from tensorflow.examples.tutorials.mnist import input_data\n",
        "vAR_CSLAB_mnist = input_data.read_data_sets(\"mnist\", one_hot=True)\n",
        "\n",
        "vAR_CSLAB_mnist.train.images.shape\n",
        "\n",
        "vAR_CSLAB_Xtr, vAR_CSLAB_Ytr = vAR_CSLAB_mnist.train.next_batch(5000) #5000 for training (nn candidates)\n",
        "vAR_CSLAB_Xte, vAR_CSLAB_Yte = vAR_CSLAB_mnist.test.next_batch(200) #200 for testing\n",
        "\n",
        "vAR_CSLAB_xtr = vAR_tf.placeholder(\"float\", [None, 784])\n",
        "vAR_CSLAB_xte = vAR_tf.placeholder(\"float\", [784])\n",
        "\n",
        "vAR_CSLAB_distance = vAR_tf.reduce_sum(vAR_tf.abs(vAR_tf.add(vAR_CSLAB_xtr, vAR_tf.negative(vAR_CSLAB_xte))), reduction_indices=1)\n",
        "\n",
        "vAR_CSLAB_pred = vAR_tf.arg_min(vAR_CSLAB_distance, 0)\n",
        "\n",
        "vAR_CSLAB_accuracy = 0.\n",
        "\n",
        "vAR_CSLAB_init = vAR_tf.global_variables_initializer()\n",
        "\n",
        "with vAR_tf.Session() as vAR_sess:\n",
        "    vAR_sess.run(vAR_CSLAB_init)\n",
        "    \n",
        "    for i in range(len(vAR_CSLAB_Xte)):\n",
        "        #Get nearest neighbor\n",
        "        vAR_CSLAB_nn_index = vAR_sess.run(vAR_CSLAB_pred, feed_dict={vAR_CSLAB_xtr: vAR_CSLAB_Xtr, vAR_CSLAB_xte:vAR_CSLAB_Xte[i ,:]})\n",
        "        print (\"Test\", i, \"Prediction:\", vAR_np.argmax(vAR_CSLAB_Ytr[vAR_CSLAB_nn_index]), \"True Class:\", np.argmax(vAR_CSLAB_Yte[i]))\n",
        "            \n",
        "        if vAR_np.argmax(vAR_CSLAB_Ytr[vAR_CSLAB_nn_index]) == vAR_np.argmax(vAR_CSLAB_Yte[i]):\n",
        "            vAR_CSLAB_accuracy += 1./len(vAR_CSLAB_Xte)\n",
        "    print ('Done')\n",
        "    print (\"Accuracy : \", vAR_CSLAB_accuracy) \n",
        "\n",
        "    \n",
        "# ****************************************************************************************************************************\n",
        "#   Disclaimer.\n",
        "\n",
        "# We are providing this code block strictly for learning and researching, this is not a production\n",
        "# ready code. We have no liability on this particular code under any circumstances; users should use\n",
        "# this code on their own risk. All software, hardware and othr products that are referenced in these \n",
        "# materials belong to the respective vendor who developed or who owns this product.\n",
        "\n",
        "# ****************************************************************************************************************************\n",
        "  "
      ]
    }
  ]
}