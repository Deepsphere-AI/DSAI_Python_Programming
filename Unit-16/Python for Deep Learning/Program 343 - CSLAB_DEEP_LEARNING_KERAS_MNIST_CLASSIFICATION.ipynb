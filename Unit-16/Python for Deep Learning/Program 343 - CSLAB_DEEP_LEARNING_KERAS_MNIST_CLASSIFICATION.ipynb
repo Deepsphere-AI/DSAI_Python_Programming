{
  "nbformat": 4,
  "nbformat_minor": 0,
  "metadata": {
    "colab": {
      "provenance": [],
      "include_colab_link": true
    },
    "kernelspec": {
      "name": "python3",
      "display_name": "Python 3"
    },
    "language_info": {
      "name": "python"
    }
  },
  "cells": [
    {
      "cell_type": "markdown",
      "metadata": {
        "id": "view-in-github",
        "colab_type": "text"
      },
      "source": [
        "<a href=\"https://colab.research.google.com/github/Deepsphere-AI/DSAI_Python_Programming/blob/main/Unit-16/Python%20for%20Deep%20Learning/Program%20343%20-%20CSLAB_DEEP_LEARNING_KERAS_MNIST_CLASSIFICATION.ipynb\" target=\"_parent\"><img src=\"https://colab.research.google.com/assets/colab-badge.svg\" alt=\"Open In Colab\"/></a>"
      ]
    },
    {
      "cell_type": "code",
      "execution_count": 1,
      "metadata": {
        "id": "aiyuf-GLoYnh",
        "colab": {
          "base_uri": "https://localhost:8080/"
        },
        "outputId": "af029336-be65-45fb-ac43-cb1358f4e455"
      },
      "outputs": [
        {
          "output_type": "stream",
          "name": "stdout",
          "text": [
            "Downloading data from https://storage.googleapis.com/tensorflow/tf-keras-datasets/mnist.npz\n",
            "11490434/11490434 [==============================] - 0s 0us/step\n",
            "vAR_CSLAB_x_train shape: (60000, 28, 28, 1)\n",
            "60000 train samples\n",
            "10000 test samples\n",
            "469/469 [==============================] - 150s 316ms/step - loss: 2.2683 - accuracy: 0.1522 - val_loss: 2.2144 - val_accuracy: 0.2953\n",
            "Test loss: 2.214427947998047\n",
            "Test accuracy: 0.2953000068664551\n"
          ]
        }
      ],
      "source": [
        "\n",
        "# /*********************************************************************************************************************\n",
        "  \n",
        "#   File Name \t:   CSLAB_DEEP_LEARNING_KERAS_MNIST_CLASSIFICATION\n",
        "#   Purpose \t:   A Program in Python for MNIST Number Classification using Keras Library in Deep Learning\n",
        "#   Author\t:   Deepsphere.ai\n",
        "#   Reviewer \t:   Jothi Periasamy\n",
        "#   Date    :     26/10/2022\n",
        "#   Version\t:   1.0\t\n",
        "\n",
        "# /***********************************************************************************************************************\n",
        "\n",
        "## Program Description : Program in Python for MNIST Number Classification using Keras Library in Deep Learning\n",
        "\n",
        "## Python Development Environment & Runtime - Python, Anaconda\n",
        "\n",
        "import keras\n",
        "from keras.datasets import mnist\n",
        "from keras.models import Sequential\n",
        "from keras.layers import Dense, Dropout, Flatten\n",
        "from keras.layers import Conv2D, MaxPooling2D\n",
        "from keras import backend as K\n",
        "\n",
        "vAR_CSLAB_batch_size = 128\n",
        "vAR_CSLAB_num_classes = 10\n",
        "vAR_CSLAB_epochs = 1\n",
        "\n",
        "# input image dimensions\n",
        "vAR_CSLAB_img_rows, vAR_CSLAB_img_cols = 28, 28\n",
        "\n",
        "# the data, split between train and test sets\n",
        "(vAR_CSLAB_x_train, vAR_CSLAB_y_train), (vAR_CSLAB_x_test, vAR_CSLAB_y_test) = mnist.load_data()\n",
        "\n",
        "if K.image_data_format() == 'channels_first':\n",
        "    vAR_CSLAB_x_train = vAR_CSLAB_x_train.reshape(vAR_CSLAB_x_train.shape[0], 1, vAR_CSLAB_img_rows, vAR_CSLAB_img_cols)\n",
        "    vAR_CSLAB_x_test = vAR_CSLAB_x_test.reshape(vAR_CSLAB_x_test.shape[0], 1, vAR_CSLAB_img_rows, vAR_CSLAB_img_cols)\n",
        "    vAR_CSLAB_input_shape = (1, vAR_CSLAB_img_rows, vAR_CSLAB_img_cols)\n",
        "else:\n",
        "    vAR_CSLAB_x_train = vAR_CSLAB_x_train.reshape(vAR_CSLAB_x_train.shape[0], vAR_CSLAB_img_rows, vAR_CSLAB_img_cols, 1)\n",
        "    vAR_CSLAB_x_test = vAR_CSLAB_x_test.reshape(vAR_CSLAB_x_test.shape[0], vAR_CSLAB_img_rows, vAR_CSLAB_img_cols, 1)\n",
        "    vAR_CSLAB_input_shape = (vAR_CSLAB_img_rows, vAR_CSLAB_img_cols, 1)\n",
        "\n",
        "vAR_CSLAB_x_train = vAR_CSLAB_x_train.astype('float32')\n",
        "vAR_CSLAB_x_test = vAR_CSLAB_x_test.astype('float32')\n",
        "vAR_CSLAB_x_train /= 255\n",
        "vAR_CSLAB_x_test /= 255\n",
        "print('vAR_CSLAB_x_train shape:', vAR_CSLAB_x_train.shape)\n",
        "print(vAR_CSLAB_x_train.shape[0], 'train samples')\n",
        "print(vAR_CSLAB_x_test.shape[0], 'test samples')\n",
        "\n",
        "# convert class vectors to binary class matrices\n",
        "vAR_CSLAB_y_train = keras.utils.to_categorical(vAR_CSLAB_y_train, vAR_CSLAB_num_classes)\n",
        "vAR_CSLAB_y_test = keras.utils.to_categorical(vAR_CSLAB_y_test, vAR_CSLAB_num_classes)\n",
        "\n",
        "vAR_CSLAB_model = Sequential()\n",
        "vAR_CSLAB_model.add(Conv2D(32, kernel_size=(3, 3),\n",
        "                 activation='relu',\n",
        "                 input_shape=vAR_CSLAB_input_shape))\n",
        "vAR_CSLAB_model.add(Conv2D(64, (3, 3), activation='relu'))\n",
        "vAR_CSLAB_model.add(MaxPooling2D(pool_size=(2, 2)))\n",
        "vAR_CSLAB_model.add(Dropout(0.25))\n",
        "vAR_CSLAB_model.add(Flatten())\n",
        "vAR_CSLAB_model.add(Dense(128, activation='relu'))\n",
        "vAR_CSLAB_model.add(Dropout(0.5))\n",
        "vAR_CSLAB_model.add(Dense(vAR_CSLAB_num_classes, activation='softmax'))\n",
        "\n",
        "vAR_CSLAB_model.compile(loss=keras.losses.categorical_crossentropy,\n",
        "              optimizer=keras.optimizers.Adadelta(),\n",
        "              metrics=['accuracy'])\n",
        "\n",
        "vAR_CSLAB_model.fit(vAR_CSLAB_x_train, vAR_CSLAB_y_train,\n",
        "          batch_size=vAR_CSLAB_batch_size,\n",
        "          epochs=vAR_CSLAB_epochs,\n",
        "          verbose=1,\n",
        "          validation_data=(vAR_CSLAB_x_test, vAR_CSLAB_y_test))\n",
        "\n",
        "vAR_CSLAB_score = vAR_CSLAB_model.evaluate(vAR_CSLAB_x_test, vAR_CSLAB_y_test, verbose=0)\n",
        "print('Test loss:', vAR_CSLAB_score[0])\n",
        "print('Test accuracy:', vAR_CSLAB_score[1])\n",
        "\n",
        "\n",
        "# /****************************************************************************************************************************\n",
        "#   Disclaimer.\n",
        "\n",
        "# We are providing this code block strictly for learning and researching, this is not a production\n",
        "# ready code. We have no liability on this particular code under any circumstances; users should use\n",
        "# this code on their own risk. All software, hardware and othr products that are referenced in these \n",
        "# materials belong to the respective vendor who developed or who owns this product.\n",
        "\n",
        "# /****************************************************************************************************************************\n",
        "  "
      ]
    },
    {
      "cell_type": "code",
      "source": [],
      "metadata": {
        "id": "BcQo5WNypMH5"
      },
      "execution_count": null,
      "outputs": []
    }
  ]
}