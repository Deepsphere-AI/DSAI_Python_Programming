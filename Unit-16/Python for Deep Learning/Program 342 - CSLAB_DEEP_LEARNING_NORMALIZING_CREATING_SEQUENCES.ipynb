{
  "nbformat": 4,
  "nbformat_minor": 0,
  "metadata": {
    "colab": {
      "provenance": [],
      "include_colab_link": true
    },
    "kernelspec": {
      "name": "python3",
      "display_name": "Python 3"
    },
    "language_info": {
      "name": "python"
    }
  },
  "cells": [
    {
      "cell_type": "markdown",
      "metadata": {
        "id": "view-in-github",
        "colab_type": "text"
      },
      "source": [
        "<a href=\"https://colab.research.google.com/github/Deepsphere-AI/DSAI_Python_Programming/blob/main/Unit-16/Python%20for%20Deep%20Learning/Program%20342%20-%20CSLAB_DEEP_LEARNING_NORMALIZING_CREATING_SEQUENCES.ipynb\" target=\"_parent\"><img src=\"https://colab.research.google.com/assets/colab-badge.svg\" alt=\"Open In Colab\"/></a>"
      ]
    },
    {
      "cell_type": "code",
      "execution_count": 3,
      "metadata": {
        "id": "OC6OQDmdmcBN",
        "colab": {
          "base_uri": "https://localhost:8080/"
        },
        "outputId": "cf1db224-b1f7-45d9-b4de-d1631d685182"
      },
      "outputs": [
        {
          "output_type": "stream",
          "name": "stdout",
          "text": [
            "Drive already mounted at /content/drive; to attempt to forcibly remount, call drive.mount(\"/content/drive\", force_remount=True).\n",
            "         time        low       high       open      close      volume\n",
            "0  1528968660  96.580002  96.589996  96.589996  96.580002    9.647200\n",
            "1  1528968720  96.449997  96.669998  96.589996  96.660004  314.387024\n",
            "2  1528968780  96.470001  96.570000  96.570000  96.570000   77.129799\n",
            "3  1528968840  96.449997  96.570000  96.570000  96.500000    7.216067\n",
            "4  1528968900  96.279999  96.540001  96.500000  96.389999  524.539978\n",
            "BTC-USD\n",
            "LTC-USD\n",
            "BCH-USD\n",
            "ETH-USD\n",
            "            BTC-USD_close  BTC-USD_volume  LTC-USD_close  LTC-USD_volume  \\\n",
            "time                                                                       \n",
            "1528968660    6489.549805        0.587100    6489.549805        0.587100   \n",
            "1528968720    6487.379883        7.706374    6487.379883        7.706374   \n",
            "1528968780    6479.410156        3.088252    6479.410156        3.088252   \n",
            "1528968840    6479.410156        1.404100    6479.410156        1.404100   \n",
            "1528968900    6479.979980        0.753000    6479.979980        0.753000   \n",
            "\n",
            "            BCH-USD_close  BCH-USD_volume  ETH-USD_close  ETH-USD_volume  \n",
            "time                                                                      \n",
            "1528968660    6489.549805        0.587100    6489.549805        0.587100  \n",
            "1528968720    6487.379883        7.706374    6487.379883        7.706374  \n",
            "1528968780    6479.410156        3.088252    6479.410156        3.088252  \n",
            "1528968840    6479.410156        1.404100    6479.410156        1.404100  \n",
            "1528968900    6479.979980        0.753000    6479.979980        0.753000  \n",
            "            BTC-USD_close  BTC-USD_volume  LTC-USD_close  LTC-USD_volume  \\\n",
            "time                                                                       \n",
            "1528968660    6489.549805        0.587100    6489.549805        0.587100   \n",
            "1528968720    6487.379883        7.706374    6487.379883        7.706374   \n",
            "1528968780    6479.410156        3.088252    6479.410156        3.088252   \n",
            "1528968840    6479.410156        1.404100    6479.410156        1.404100   \n",
            "1528968900    6479.979980        0.753000    6479.979980        0.753000   \n",
            "\n",
            "            BCH-USD_close  BCH-USD_volume  ETH-USD_close  ETH-USD_volume  \\\n",
            "time                                                                       \n",
            "1528968660    6489.549805        0.587100    6489.549805        0.587100   \n",
            "1528968720    6487.379883        7.706374    6487.379883        7.706374   \n",
            "1528968780    6479.410156        3.088252    6479.410156        3.088252   \n",
            "1528968840    6479.410156        1.404100    6479.410156        1.404100   \n",
            "1528968900    6479.979980        0.753000    6479.979980        0.753000   \n",
            "\n",
            "                 future  target  \n",
            "time                             \n",
            "1528968660  6479.410156       0  \n",
            "1528968720  6479.979980       0  \n",
            "1528968780  6480.000000       1  \n",
            "1528968840  6477.220215       0  \n",
            "1528968900  6480.000000       1  \n"
          ]
        }
      ],
      "source": [
        "\n",
        "# /*********************************************************************************************************************\n",
        "  \n",
        "#   File Name \t:   CSLAB_DEEP_LEARNING_NORMALIZING_CREATING_SEQUENCES\n",
        "#   Purpose \t:   A Program in Python for Normalizing & Creating Sequences using Deep Learning\n",
        "#   Author\t:   Deepsphere.ai\n",
        "#   Reviewer \t:   Jothi Periasamy\n",
        "#   Date :   26/10/2022\n",
        "#   Version\t:   1.0\t\n",
        "\n",
        "# /***********************************************************************************************************************\n",
        "\n",
        "## Program Description : Program for Normalizing & Creating Sequences using Deep Learning in Python\n",
        "\n",
        "## Python Development Environment & Runtime - Python, Anaconda\n",
        "\n",
        "import pandas as vAR_pd\n",
        "\n",
        "import pandas as vAR_pd\n",
        "\n",
        "from google.colab import drive\n",
        "\n",
        "drive.mount('/content/drive')\n",
        "\n",
        "vAR_CSLAB_CREATE_SEQUENCES = '/content/drive/MyDrive/Semester-4/Deep Learning for Enterprise/Data/crypto_data/LTC-USD.csv'\n",
        "\n",
        "vAR_CSLAB_df = vAR_pd.read_csv(vAR_CSLAB_CREATE_SEQUENCES, names=['time', 'low', 'high', 'open', 'close', 'volume'])\n",
        "\n",
        "print(vAR_CSLAB_df.head())\n",
        "\n",
        "vAR_CSLAB_main_df = vAR_pd.DataFrame() # begin empty\n",
        "\n",
        "ratios = [\"BTC-USD\", \"LTC-USD\", \"BCH-USD\", \"ETH-USD\"]  # the 4 ratios we want to consider\n",
        "for ratio in ratios:  # begin iteration\n",
        "    print(ratio)\n",
        "    vAR_CSLAB_dataset = \"/content/drive/MyDrive/Semester-4/Deep Learning for Enterprise/Data/crypto_data/BTC-USD.csv\"  # get the full path to the file.\n",
        "    vAR_CSLAB_df = vAR_pd.read_csv(vAR_CSLAB_dataset, names=['time', 'low', 'high', 'open', 'close', 'volume'])  # read in specific file\n",
        "\n",
        "    # rename volume and close to include the ticker so we can still which close/volume is which:\n",
        "    vAR_CSLAB_df.rename(columns={\"close\": f\"{ratio}_close\", \"volume\": f\"{ratio}_volume\"}, inplace=True)\n",
        "\n",
        "    vAR_CSLAB_df.set_index(\"time\", inplace=True)  # set time as index so we can join them on this shared time\n",
        "    vAR_CSLAB_df = vAR_CSLAB_df[[f\"{ratio}_close\", f\"{ratio}_volume\"]]  # ignore the other columns besides price and volume\n",
        "\n",
        "    if len(vAR_CSLAB_main_df)==0:  # if the dataframe is empty\n",
        "        vAR_CSLAB_main_df = vAR_CSLAB_df  # then it's just the current df\n",
        "    else:  # otherwise, join this data to the main one\n",
        "        vAR_CSLAB_main_df = vAR_CSLAB_main_df.join(vAR_CSLAB_df)\n",
        "        \n",
        "vAR_CSLAB_main_df.fillna(method=\"ffill\", inplace=True)  # if there are gaps in data, use previously known values\n",
        "vAR_CSLAB_main_df.dropna(inplace=True)\n",
        "print(vAR_CSLAB_main_df.head())  # how did we do??\n",
        "\n",
        "vAR_CSLAB_SEQ_LEN = 60  # how long of a preceeding sequence to collect for RNN\n",
        "vAR_CSLAB_FUTURE_PERIOD_PREDICT = 3  # how far into the future are we trying to predict?\n",
        "vAR_CSLAB_RATIO_TO_PREDICT = \"LTC-USD\"\n",
        "\n",
        "def classify(current, future):\n",
        "    if float(future) > float(current):\n",
        "        return 1\n",
        "    else:\n",
        "        return 0\n",
        "    \n",
        "vAR_CSLAB_main_df['future'] = vAR_CSLAB_main_df[f'{vAR_CSLAB_RATIO_TO_PREDICT}_close'].shift(-vAR_CSLAB_FUTURE_PERIOD_PREDICT)\n",
        "\n",
        "vAR_CSLAB_main_df['target'] = list(map(classify, vAR_CSLAB_main_df[f'{vAR_CSLAB_RATIO_TO_PREDICT}_close'], vAR_CSLAB_main_df['future']))\n",
        "\n",
        "print(vAR_CSLAB_main_df.head())\n",
        "\n",
        "# /****************************************************************************************************************************\n",
        "#   Disclaimer.\n",
        "\n",
        "# We are providing this code block strictly for learning and researching, this is not a production\n",
        "# ready code. We have no liability on this particular code under any circumstances; users should use\n",
        "# this code on their own risk. All software, hardware and othr products that are referenced in these \n",
        "# materials belong to the respective vendor who developed or who owns this product.\n",
        "\n",
        "# /****************************************************************************************************************************\n",
        "  "
      ]
    },
    {
      "cell_type": "code",
      "source": [],
      "metadata": {
        "id": "jUom8KKJoQkp"
      },
      "execution_count": null,
      "outputs": []
    }
  ]
}