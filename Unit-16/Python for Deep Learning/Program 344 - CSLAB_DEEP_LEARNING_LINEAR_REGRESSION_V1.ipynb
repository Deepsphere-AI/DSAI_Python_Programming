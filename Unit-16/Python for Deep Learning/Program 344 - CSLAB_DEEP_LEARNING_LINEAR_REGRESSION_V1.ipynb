{
  "nbformat": 4,
  "nbformat_minor": 0,
  "metadata": {
    "colab": {
      "provenance": [],
      "include_colab_link": true
    },
    "kernelspec": {
      "name": "python3",
      "display_name": "Python 3"
    },
    "language_info": {
      "name": "python"
    }
  },
  "cells": [
    {
      "cell_type": "markdown",
      "metadata": {
        "id": "view-in-github",
        "colab_type": "text"
      },
      "source": [
        "<a href=\"https://colab.research.google.com/github/Deepsphere-AI/DSAI_Python_Programming/blob/main/Unit-16/Python%20for%20Deep%20Learning/Program%20344%20-%20CSLAB_DEEP_LEARNING_LINEAR_REGRESSION_V1.ipynb\" target=\"_parent\"><img src=\"https://colab.research.google.com/assets/colab-badge.svg\" alt=\"Open In Colab\"/></a>"
      ]
    },
    {
      "cell_type": "code",
      "execution_count": 4,
      "metadata": {
        "id": "mr_OcGdRq1J9",
        "colab": {
          "base_uri": "https://localhost:8080/"
        },
        "outputId": "ea11ff21-83e5-4231-c4c0-79a2de5aa5df"
      },
      "outputs": [
        {
          "output_type": "stream",
          "name": "stderr",
          "text": [
            "WARNING:tensorflow:From /usr/local/lib/python3.8/dist-packages/tensorflow/python/compat/v2_compat.py:107: disable_resource_variables (from tensorflow.python.ops.variable_scope) is deprecated and will be removed in a future version.\n",
            "Instructions for updating:\n",
            "non-resource variables are not supported in the long term\n"
          ]
        },
        {
          "output_type": "stream",
          "name": "stdout",
          "text": [
            "Epoch 50 : vAR_CSLAB_cost = 5.8868036 W = 0.9951241 b = 1.238105\n",
            "Epoch 100 : vAR_CSLAB_cost = 5.79127 W = 0.99812365 b = 1.0914395\n",
            "Epoch 150 : vAR_CSLAB_cost = 5.7119684 W = 1.0008028 b = 0.96044284\n",
            "Epoch 200 : vAR_CSLAB_cost = 5.6459413 W = 1.0031956 b = 0.84343934\n",
            "Epoch 250 : vAR_CSLAB_cost = 5.5907993 W = 1.0053328 b = 0.7389355\n",
            "Epoch 300 : vAR_CSLAB_cost = 5.544608 W = 1.007242 b = 0.6455921\n",
            "Epoch 350 : vAR_CSLAB_cost = 5.5057893 W = 1.008947 b = 0.56221986\n",
            "Epoch 400 : vAR_CSLAB_cost = 5.473066 W = 1.01047 b = 0.48775342\n",
            "Epoch 450 : vAR_CSLAB_cost = 5.445385 W = 1.0118302 b = 0.42124158\n",
            "Epoch 500 : vAR_CSLAB_cost = 5.4219036 W = 1.0130452 b = 0.36183482\n",
            "Epoch 550 : vAR_CSLAB_cost = 5.4019227 W = 1.0141305 b = 0.30877408\n",
            "Epoch 600 : vAR_CSLAB_cost = 5.3848557 W = 1.0150996 b = 0.2613811\n",
            "Epoch 650 : vAR_CSLAB_cost = 5.370246 W = 1.0159653 b = 0.21905078\n",
            "Epoch 700 : vAR_CSLAB_cost = 5.3576994 W = 1.0167387 b = 0.18124203\n",
            "Epoch 750 : vAR_CSLAB_cost = 5.3468933 W = 1.0174294 b = 0.14747237\n",
            "Epoch 800 : vAR_CSLAB_cost = 5.337558 W = 1.0180461 b = 0.11730931\n",
            "Epoch 850 : vAR_CSLAB_cost = 5.3294754 W = 1.0185971 b = 0.090368524\n",
            "Epoch 900 : vAR_CSLAB_cost = 5.322459 W = 1.0190892 b = 0.06630575\n",
            "Epoch 950 : vAR_CSLAB_cost = 5.3163586 W = 1.0195289 b = 0.044813294\n",
            "Epoch 1000 : vAR_CSLAB_cost = 5.3110332 W = 1.0199214 b = 0.02561658\n"
          ]
        }
      ],
      "source": [
        "\n",
        "# /*********************************************************************************************************************\n",
        "  \n",
        "#   File Name \t:   CSLAB_DEEP_LEARNING_LINEAR_REGRESSION_V1\n",
        "#   Purpose \t:   A Program in Python for Linear Regression - Deep Learning\n",
        "#   Author\t:   Deepsphere.ai\n",
        "#   Reviewer \t:   Jothi Periasamy\n",
        "#   Date :  26/10/2022\n",
        "#   Version\t:   1.0\t\n",
        "\n",
        "# /***********************************************************************************************************************\n",
        "\n",
        "## Program Description : Program for Linear Regression - Deep Learning in Python\n",
        "\n",
        "## Python Development Environment & Runtime - Python, Anaconda, Tensorflow, Tensorboard\n",
        "\n",
        "import numpy as vAR_np \n",
        "import tensorflow.compat.v1 as vAR_tf\n",
        "vAR_tf.disable_v2_behavior() \n",
        "import matplotlib.pyplot as vAR_plt\n",
        "vAR_np.random.seed(101) \n",
        "#vAR_tf.set_random_seed(101)\n",
        "\n",
        "# Genrating random linear data \n",
        "# There will be 50 data points ranging from 0 to 50 \n",
        "vAR_CSLAB_x = vAR_np.linspace(0, 50, 50) \n",
        "vAR_CSLAB_y = vAR_np.linspace(0, 50, 50) \n",
        "  \n",
        "# Adding noise to the random linear data \n",
        "vAR_CSLAB_x += vAR_np.random.uniform(-4, 4, 50) \n",
        "vAR_CSLAB_y += vAR_np.random.uniform(-4, 4, 50) \n",
        "  \n",
        "vAR_CSLAB_n = len(vAR_CSLAB_x) # Number of data points\n",
        "\n",
        "vAR_CSLAB_X = vAR_tf.placeholder(\"float\") \n",
        "vAR_CSLAB_Y = vAR_tf.placeholder(\"float\")\n",
        "\n",
        "vAR_CSLAB_W = vAR_tf.Variable(vAR_np.random.randn(), name = \"W\") \n",
        "vAR_CSLAB_b = vAR_tf.Variable(vAR_np.random.randn(), name = \"b\")\n",
        "\n",
        "vAR_CSLAB_learning_rate = 0.01\n",
        "vAR_CSLAB_training_epochs = 1000\n",
        "\n",
        "# Hypothesis \n",
        "vAR_CSLAB_y_pred = vAR_tf.add(vAR_tf.multiply(vAR_CSLAB_X, vAR_CSLAB_W), vAR_CSLAB_b) \n",
        "  \n",
        "# MeanvAR_ Squared Error Cost Function \n",
        "vAR_CSLAB_cost = vAR_tf.reduce_sum(vAR_tf.pow(vAR_CSLAB_y_pred-vAR_CSLAB_Y, 2)) / (2 * vAR_CSLAB_n) \n",
        "  \n",
        "# Gradient Descent Optimizer \n",
        "vAR_CSLAB_optimizer = vAR_tf.train.GradientDescentOptimizer(vAR_CSLAB_learning_rate).minimize(vAR_CSLAB_cost) \n",
        "  \n",
        "# Global Variables Initializer \n",
        "vAR_CSLAB_init = vAR_tf.global_variables_initializer() \n",
        "\n",
        "# Starting the Tensorflow Session \n",
        "with vAR_tf.Session() as sess: \n",
        "      \n",
        "    # Initializing the Variables \n",
        "    sess.run(vAR_CSLAB_init) \n",
        "      \n",
        "    # Iterating through all the epochs \n",
        "    for epoch in range(vAR_CSLAB_training_epochs): \n",
        "          \n",
        "        # Feeding each data point into the optimizer using Feed Dictionary \n",
        "        for (_x, _y) in zip(vAR_CSLAB_x, vAR_CSLAB_y): \n",
        "            sess.run(vAR_CSLAB_optimizer, feed_dict = {vAR_CSLAB_X : _x, vAR_CSLAB_Y : _y}) \n",
        "          \n",
        "        # Displaying the result after every 50 epochs \n",
        "        if (epoch + 1) % 50 == 0: \n",
        "            # Calculating the cost a every epoch \n",
        "            vAR_CSLAB_c = sess.run(vAR_CSLAB_cost, feed_dict = {vAR_CSLAB_X : vAR_CSLAB_x, vAR_CSLAB_Y : vAR_CSLAB_y}) \n",
        "            print(\"Epoch\", (epoch + 1), \": vAR_CSLAB_cost =\", vAR_CSLAB_c, \"W =\", sess.run(vAR_CSLAB_W), \"b =\", sess.run(vAR_CSLAB_b)) \n",
        "      \n",
        "    # Storing necessary values to be used outside the Session \n",
        "    vAR_CSLAB_training_cost = sess.run(vAR_CSLAB_cost, feed_dict ={vAR_CSLAB_X: vAR_CSLAB_x, vAR_CSLAB_Y: vAR_CSLAB_y}) \n",
        "    vAR_CSLAB_weight = sess.run(vAR_CSLAB_W) \n",
        "    vAR_CSLAB_bias = sess.run(vAR_CSLAB_b) \n",
        "    \n",
        "# /****************************************************************************************************************************\n",
        "#   Disclaimer.\n",
        "\n",
        "# We are providing this code block strictly for learning and researching, this is not a production\n",
        "# ready code. We have no liability on this particular code under any circumstances; users should use\n",
        "# this code on their own risk. All software, hardware and othr products that are referenced in these \n",
        "# materials belong to the respective vendor who developed or who owns this product.\n",
        "\n",
        "# /****************************************************************************************************************************\n",
        "  "
      ]
    },
    {
      "cell_type": "code",
      "source": [],
      "metadata": {
        "id": "igAfSeW_q_QB"
      },
      "execution_count": null,
      "outputs": []
    }
  ]
}