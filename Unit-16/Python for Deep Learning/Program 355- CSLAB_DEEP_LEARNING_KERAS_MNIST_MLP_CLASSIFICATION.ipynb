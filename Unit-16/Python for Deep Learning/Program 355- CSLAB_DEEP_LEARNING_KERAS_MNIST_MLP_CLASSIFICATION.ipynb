{
  "nbformat": 4,
  "nbformat_minor": 0,
  "metadata": {
    "colab": {
      "provenance": [],
      "authorship_tag": "ABX9TyNyWDBCx5vFa8Y+rlP/THUY",
      "include_colab_link": true
    },
    "kernelspec": {
      "name": "python3",
      "display_name": "Python 3"
    },
    "language_info": {
      "name": "python"
    }
  },
  "cells": [
    {
      "cell_type": "markdown",
      "metadata": {
        "id": "view-in-github",
        "colab_type": "text"
      },
      "source": [
        "<a href=\"https://colab.research.google.com/github/Deepsphere-AI/DSAI_Python_Programming/blob/main/Unit-16/Python%20for%20Deep%20Learning/Program%20355-%20CSLAB_DEEP_LEARNING_KERAS_MNIST_MLP_CLASSIFICATION.ipynb\" target=\"_parent\"><img src=\"https://colab.research.google.com/assets/colab-badge.svg\" alt=\"Open In Colab\"/></a>"
      ]
    },
    {
      "cell_type": "code",
      "execution_count": null,
      "metadata": {
        "id": "r3WoOxpI95PG"
      },
      "outputs": [],
      "source": [
        "\n",
        "# *********************************************************************************************************************\n",
        "  \n",
        "  # File Name \t:   CSLAB_DEEP_LEARNING_KERAS_MNIST_MLP_CLASSIFICATION\n",
        "  # Purpose \t:   A Program in Python for Multi layer Perceptron using Keras Library in Deep Learning\n",
        "  # Author\t:   Deepsphere.ai\n",
        "  # Reviewer \t:   Jothi Periasamy\n",
        "  # Date \t:   28/10/2022\n",
        "  # Version\t:   1.0\t\n",
        "  \n",
        "# ***********************************************************************************************************************\n",
        "\n",
        "## Program Description : Program in Python for Multi layer Perceptron using Keras Library in Deep Learning\n",
        "\n",
        "## Python Development Environment & Runtime - Python, Anaconda\n",
        "\n",
        "from __future__ import print_function\n",
        "\n",
        "import keras\n",
        "from keras.datasets import mnist\n",
        "from keras.models import Sequential\n",
        "from keras.layers import Dense, Dropout\n",
        "from keras.optimizers import RMSprop\n",
        "\n",
        "vAR_CSLAB_batch_size = 128\n",
        "vAR_CSLAB_num_classes = 10\n",
        "vAR_CSLAB_epochs = 1\n",
        "\n",
        "# the data, split between train and test sets\n",
        "(vAR_CSLAB_x_train, vAR_CSLAB_y_train), (vAR_CSLAB_x_test, vAR_CSLAB_y_test) = mnist.load_data()\n",
        "\n",
        "vAR_CSLAB_x_train = vAR_CSLAB_x_train.reshape(60000, 784)\n",
        "vAR_CSLAB_x_test = vAR_CSLAB_x_test.reshape(10000, 784)\n",
        "vAR_CSLAB_x_train = vAR_CSLAB_x_train.astype('float32')\n",
        "vAR_CSLAB_x_test = vAR_CSLAB_x_test.astype('float32')\n",
        "vAR_CSLAB_x_train /= 255\n",
        "vAR_CSLAB_x_test /= 255\n",
        "print(vAR_CSLAB_x_train.shape[0], 'train samples')\n",
        "print(vAR_CSLAB_x_test.shape[0], 'test samples')\n",
        "\n",
        "# convert class vectors to binary class matrices\n",
        "vAR_CSLAB_y_train = keras.utils.to_categorical(vAR_CSLAB_y_train, vAR_CSLAB_num_classes)\n",
        "vAR_CSLAB_y_test = keras.utils.to_categorical(vAR_CSLAB_y_test, vAR_CSLAB_num_classes)\n",
        "\n",
        "vAR_CSLAB_model = Sequential()\n",
        "vAR_CSLAB_model.add(Dense(512, activation='relu', input_shape=(784,)))\n",
        "vAR_CSLAB_model.add(Dropout(0.2))\n",
        "vAR_CSLAB_model.add(Dense(512, activation='relu'))\n",
        "vAR_CSLAB_model.add(Dropout(0.2))\n",
        "vAR_CSLAB_model.add(Dense(vAR_CSLAB_num_classes, activation='softmax'))\n",
        "\n",
        "vAR_CSLAB_model.summary()\n",
        "\n",
        "vAR_CSLAB_model.compile(loss='categorical_crossentropy',\n",
        "              optimizer=RMSprop(),\n",
        "              metrics=['accuracy'])\n",
        "\n",
        "vAR_CSLAB_history = vAR_CSLAB_model.fit(vAR_CSLAB_x_train, vAR_CSLAB_y_train,\n",
        "                    batch_size=vAR_CSLAB_batch_size,\n",
        "                    epochs=vAR_CSLAB_epochs,\n",
        "                    verbose=1,\n",
        "                    validation_data=(vAR_CSLAB_x_test, vAR_CSLAB_y_test))\n",
        "vAR_CSLAB_score = vAR_CSLAB_model.evaluate(vAR_CSLAB_x_test, vAR_CSLAB_y_test, verbose=0)\n",
        "print('Test loss:', vAR_CSLAB_score[0])\n",
        "print('Test accuracy:', vAR_CSLAB_score[1])\n",
        "\n",
        "# ****************************************************************************************************************************\n",
        "#   Disclaimer.\n",
        "\n",
        "# We are providing this code block strictly for learning and researching, this is not a production\n",
        "# ready code. We have no liability on this particular code under any circumstances; users should use\n",
        "# this code on their own risk. All software, hardware and othr products that are referenced in these \n",
        "# materials belong to the respective vendor who developed or who owns this product.\n",
        "\n",
        "# ****************************************************************************************************************************\n",
        "  "
      ]
    }
  ]
}