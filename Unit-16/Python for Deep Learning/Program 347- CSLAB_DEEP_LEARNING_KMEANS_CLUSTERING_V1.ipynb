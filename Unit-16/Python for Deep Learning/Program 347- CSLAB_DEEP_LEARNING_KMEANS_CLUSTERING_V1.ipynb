{
  "nbformat": 4,
  "nbformat_minor": 0,
  "metadata": {
    "colab": {
      "provenance": [],
      "include_colab_link": true
    },
    "kernelspec": {
      "name": "python3",
      "display_name": "Python 3"
    },
    "language_info": {
      "name": "python"
    }
  },
  "cells": [
    {
      "cell_type": "markdown",
      "metadata": {
        "id": "view-in-github",
        "colab_type": "text"
      },
      "source": [
        "<a href=\"https://colab.research.google.com/github/Deepsphere-AI/DSAI_Python_Programming/blob/main/Unit-16/Python%20for%20Deep%20Learning/Program%20347-%20CSLAB_DEEP_LEARNING_KMEANS_CLUSTERING_V1.ipynb\" target=\"_parent\"><img src=\"https://colab.research.google.com/assets/colab-badge.svg\" alt=\"Open In Colab\"/></a>"
      ]
    },
    {
      "cell_type": "code",
      "execution_count": null,
      "metadata": {
        "id": "86HWRprHss_C",
        "colab": {
          "base_uri": "https://localhost:8080/",
          "height": 389
        },
        "outputId": "b46f5903-dadb-40c3-f4d4-3bba73093cb7"
      },
      "outputs": [
        {
          "output_type": "stream",
          "name": "stderr",
          "text": [
            "WARNING:tensorflow:From /usr/local/lib/python3.8/dist-packages/tensorflow/python/compat/v2_compat.py:107: disable_resource_variables (from tensorflow.python.ops.variable_scope) is deprecated and will be removed in a future version.\n",
            "Instructions for updating:\n",
            "non-resource variables are not supported in the long term\n",
            "WARNING:matplotlib.axes._axes:*c* argument looks like a single numeric RGB or RGBA sequence, which should be avoided as value-mapping will have precedence in case its length matches with *x* & *y*.  Please use the *color* keyword-argument or provide a 2-D array with a single row if you intend to specify the same RGB or RGBA value for all points.\n",
            "WARNING:matplotlib.axes._axes:*c* argument looks like a single numeric RGB or RGBA sequence, which should be avoided as value-mapping will have precedence in case its length matches with *x* & *y*.  Please use the *color* keyword-argument or provide a 2-D array with a single row if you intend to specify the same RGB or RGBA value for all points.\n",
            "WARNING:matplotlib.axes._axes:*c* argument looks like a single numeric RGB or RGBA sequence, which should be avoided as value-mapping will have precedence in case its length matches with *x* & *y*.  Please use the *color* keyword-argument or provide a 2-D array with a single row if you intend to specify the same RGB or RGBA value for all points.\n"
          ]
        },
        {
          "output_type": "display_data",
          "data": {
            "text/plain": [
              "<Figure size 432x288 with 1 Axes>"
            ],
            "image/png": "[encoded data removed]"
          },
          "metadata": {
            "needs_background": "light"
          }
        }
      ],
      "source": [
        "\n",
        "# *********************************************************************************************************************\n",
        "  \n",
        "  # File Name \t:   CSLAB_DEEP_LEARNNG_KMEANS_CLUSTERING_V1\n",
        "  # Purpose \t:   A Program in Python for Kmeans Clustering - Deep Learning\n",
        "  # Author\t:   Deepsphere.ai\n",
        "  # Reviewer \t:   Jothi Periasamy\n",
        "  # Date \t:   28/10/2022\n",
        "  # Version\t:   1.0\t\n",
        "  \n",
        "# ***********************************************************************************************************************\n",
        "\n",
        "## Program Description : Program for Kmeans Clustering - Deep Learning in Python\n",
        "\n",
        "## Python Development Environment & Runtime - Python, Anaconda, Tensorflow, Tensorboard\n",
        "\n",
        "import tensorflow.compat.v1 as vAR_tf\n",
        "\n",
        "vAR_tf.disable_v2_behavior() \n",
        "\n",
        "import numpy as vAR_np\n",
        "\n",
        "vAR_CSLAB_seed = 700\n",
        "\n",
        "def vAR_CSLAB_create_samples(vAR_CSLAB_n_clusters, vAR_CSLAB_n_samples_per_cluster, vAR_CSLAB_n_features, vAR_CSLAB_embiggen_factor, vAR_CSLAB_seed):\n",
        "    vAR_np.random.seed(vAR_CSLAB_seed)\n",
        "    vAR_CSLAB_slices = []\n",
        "    vAR_CSLAB_centroids = []\n",
        "        \n",
        "    # Create samples for each cluster\n",
        "    for i in range(vAR_CSLAB_n_clusters):\n",
        "        vAR_CSLAB_samples = vAR_tf.random_normal((vAR_CSLAB_n_samples_per_cluster, vAR_CSLAB_n_features),\n",
        "                                   mean=0.0, stddev=5.0, dtype=vAR_tf.float32, seed=vAR_CSLAB_seed, name=\"cluster_{}\".format(i))\n",
        "        \n",
        "        vAR_CSLAB_current_centroid = (vAR_np.random.random((1, vAR_CSLAB_n_features)) * vAR_CSLAB_embiggen_factor) - (vAR_CSLAB_embiggen_factor/2)\n",
        "        \n",
        "        vAR_CSLAB_centroids.append(vAR_CSLAB_current_centroid)\n",
        "        \n",
        "        vAR_CSLAB_samples += vAR_CSLAB_current_centroid\n",
        "        \n",
        "        vAR_CSLAB_slices.append(vAR_CSLAB_samples)\n",
        "        \n",
        "    # Create a big \"samples\" dataset\n",
        "    vAR_CSLAB_samples = vAR_tf.concat(vAR_CSLAB_slices, 0, name='samples')\n",
        "    vAR_CSLAB_centroids = vAR_tf.concat(vAR_CSLAB_centroids, 0, name='centroids')\n",
        "    return vAR_CSLAB_centroids, vAR_CSLAB_samples\n",
        "\n",
        "import matplotlib.pyplot as vAR_plt\n",
        "%matplotlib inline\n",
        "\n",
        "def vAR_CSLAB_plot_clusters(vAR_CSLAB_all_samples, vAR_CSLAB_centroids, vAR_CSLAB_n_samples_per_cluster):\n",
        "     \n",
        "    #Plot out the different clusters\n",
        "     #Choose a different colour for each cluster\n",
        "    vAR_CSLAB_colour = vAR_plt.cm.rainbow(vAR_np.linspace(0,1,len(vAR_CSLAB_centroids)))\n",
        "    for i, vAR_CSLAB_centroid in enumerate(vAR_CSLAB_centroids):\n",
        "        vAR_CSLAB_samples = vAR_CSLAB_all_samples[i*vAR_CSLAB_n_samples_per_cluster:(i+1)*vAR_CSLAB_n_samples_per_cluster]\n",
        "        vAR_plt.scatter(vAR_CSLAB_samples[:,0], vAR_CSLAB_samples[:,1], c=vAR_CSLAB_colour[i])\n",
        "         #Grab just the samples fpr the given cluster and plot them out with a new colour\n",
        "         #Also plot centroid\n",
        "        vAR_plt.plot(vAR_CSLAB_centroid[0], vAR_CSLAB_centroid[1], markersize=35, marker=\"x\", color='k', mew=10)\n",
        "        vAR_plt.plot(vAR_CSLAB_centroid[0], vAR_CSLAB_centroid[1], markersize=30, marker=\"x\", color='m', mew=5)\n",
        "    vAR_plt.show()\n",
        "    \n",
        "vAR_CSLAB_n_features = 2\n",
        "vAR_CSLAB_n_clusters = 3\n",
        "vAR_CSLAB_n_samples_per_cluster = 500\n",
        "vAR_CSLAB_vAR_CSLAB_seed = 700\n",
        "vAR_CSLAB_embiggen_factor = 70\n",
        "\n",
        "vAR_CSLAB_centroids, vAR_CSLAB_samples = vAR_CSLAB_create_samples(vAR_CSLAB_n_clusters, vAR_CSLAB_n_samples_per_cluster, vAR_CSLAB_n_features, vAR_CSLAB_embiggen_factor, vAR_CSLAB_seed)\n",
        "\n",
        "vAR_CSLAB_model = vAR_tf.global_variables_initializer()\n",
        "with vAR_tf.Session() as session:\n",
        "    vAR_CSLAB_sample_values = session.run(vAR_CSLAB_samples)\n",
        "    vAR_CSLAB_centroid_values = session.run(vAR_CSLAB_centroids)\n",
        "    \n",
        "    vAR_CSLAB_plot_clusters(vAR_CSLAB_sample_values, vAR_CSLAB_centroid_values, vAR_CSLAB_n_samples_per_cluster)\n",
        "    \n",
        "# ****************************************************************************************************************************\n",
        "#   Disclaimer.\n",
        "\n",
        "# We are providing this code block strictly for learning and researching, this is not a production\n",
        "# ready code. We have no liability on this particular code under any circumstances; users should use\n",
        "# this code on their own risk. All software, hardware and othr products that are referenced in these \n",
        "# materials belong to the respective vendor who developed or who owns this product.\n",
        "\n",
        "# ****************************************************************************************************************************\n",
        "  "
      ]
    },
    {
      "cell_type": "markdown",
      "source": [
        "**Code Explanation**\n",
        "\n",
        "This code generates and plots 3 clusters of 2-dimensional data points, with each cluster having 500 samples.\n",
        "\n",
        "The code starts by importing the TensorFlow library and disabling v2 behavior. It then imports Numpy, which is a numerical computing library that is used to generate random numbers."
      ],
      "metadata": {
        "id": "cz_ThDFVBrfe"
      }
    },
    {
      "cell_type": "markdown",
      "source": [
        "The vAR_CSLAB_create_samples function generates the samples for each cluster. The function takes 5 parameters: vAR_CSLAB_n_clusters, vAR_CSLAB_n_samples_per_cluster, vAR_CSLAB_n_features, vAR_CSLAB_embiggen_factor, and vAR_CSLAB_seed. The first three parameters determine the number of clusters, the number of samples per cluster, and the number of features for each sample, respectively. The vAR_CSLAB_embiggen_factor parameter is used to shift the centroid of the cluster, and the vAR_CSLAB_seed parameter is used to set the random seed for Numpy's random number generator.\n",
        "\n",
        "In the vAR_CSLAB_create_samples function, the Numpy random number generator is first seeded with the vAR_CSLAB_seed value. Then, for each cluster, the code generates a set of random samples using TensorFlow's random_normal function. The mean of the samples is set to 0 and the standard deviation is set to 5."
      ],
      "metadata": {
        "id": "mo4ks3zoB0fN"
      }
    },
    {
      "cell_type": "markdown",
      "source": [
        "Next, the code generates a random centroid for each cluster. The centroid is generated by first generating a random vector of size (1, vAR_CSLAB_n_features) using Numpy's random.random function, and then scaling and shifting the vector to the desired range.\n",
        "\n",
        "Finally, the code concatenates all the samples and centroids into two big arrays, which are returned by the function."
      ],
      "metadata": {
        "id": "533Ey5B6B0o6"
      }
    },
    {
      "cell_type": "markdown",
      "source": [
        "The vAR_CSLAB_plot_clusters function is used to plot the generated samples and centroids. The function takes three parameters: vAR_CSLAB_all_samples, vAR_CSLAB_centroids, and vAR_CSLAB_n_samples_per_cluster. The vAR_CSLAB_all_samples parameter is an array containing all the samples, while the vAR_CSLAB_centroids parameter is an array containing the centroids. The vAR_CSLAB_n_samples_per_cluster parameter is used to determine the number of samples in each cluster.\n",
        "\n",
        "The function uses the matplotlib library to plot the samples and centroids. It first assigns a different color to each cluster, and then plots the samples for each cluster using a scatter plot. The centroid of each cluster is plotted using two crosses, one with a black color and another with a magenta color, for visual emphasis. Finally, the function displays the plot using the show method.\n",
        "\n",
        "The code then sets the parameters for the number of features, clusters, samples per cluster, random seed, and embiggen factor. It then calls the vAR_CSLAB_create_samples function to generate the samples and centroids, and runs a TensorFlow session to compute the values of the generated data. Finally, it calls the vAR_CSLAB_plot_clusters function to plot the generated data."
      ],
      "metadata": {
        "id": "qaeZhZeMB01y"
      }
    }
  ]
}