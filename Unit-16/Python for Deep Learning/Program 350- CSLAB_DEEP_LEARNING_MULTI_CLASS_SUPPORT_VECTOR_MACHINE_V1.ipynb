{
  "nbformat": 4,
  "nbformat_minor": 0,
  "metadata": {
    "colab": {
      "provenance": [],
      "include_colab_link": true
    },
    "kernelspec": {
      "name": "python3",
      "display_name": "Python 3"
    },
    "language_info": {
      "name": "python"
    }
  },
  "cells": [
    {
      "cell_type": "markdown",
      "metadata": {
        "id": "view-in-github",
        "colab_type": "text"
      },
      "source": [
        "<a href=\"https://colab.research.google.com/github/Deepsphere-AI/DSAI_Python_Programming/blob/main/Unit-16/Python%20for%20Deep%20Learning/Program%20350-%20CSLAB_DEEP_LEARNING_MULTI_CLASS_SUPPORT_VECTOR_MACHINE_V1.ipynb\" target=\"_parent\"><img src=\"https://colab.research.google.com/assets/colab-badge.svg\" alt=\"Open In Colab\"/></a>"
      ]
    },
    {
      "cell_type": "code",
      "execution_count": null,
      "metadata": {
        "id": "nRcfy5xhuzup",
        "colab": {
          "base_uri": "https://localhost:8080/"
        },
        "outputId": "42bfc9d7-d690-4034-97a6-9f2430d2acba"
      },
      "outputs": [
        {
          "output_type": "stream",
          "name": "stdout",
          "text": [
            "Train on 105 samples\n",
            "Epoch 1/20\n",
            "105/105 [==============================] - 0s 2ms/sample - loss: 1.0765 - acc: 0.3524\n",
            "Epoch 2/20\n",
            "105/105 [==============================] - 0s 70us/sample - loss: 0.8716 - acc: 0.6381\n",
            "Epoch 3/20\n",
            "105/105 [==============================] - 0s 79us/sample - loss: 0.7494 - acc: 0.9333\n",
            "Epoch 4/20\n",
            "105/105 [==============================] - 0s 80us/sample - loss: 0.7122 - acc: 0.7143\n",
            "Epoch 5/20\n",
            "105/105 [==============================] - 0s 61us/sample - loss: 0.6435 - acc: 0.8286\n",
            "Epoch 6/20\n",
            "105/105 [==============================] - 0s 123us/sample - loss: 0.6419 - acc: 0.6667\n",
            "Epoch 7/20\n",
            "105/105 [==============================] - 0s 118us/sample - loss: 0.5846 - acc: 0.7905\n",
            "Epoch 8/20\n",
            "105/105 [==============================] - 0s 121us/sample - loss: 0.5412 - acc: 0.9048\n",
            "Epoch 9/20\n",
            "105/105 [==============================] - 0s 86us/sample - loss: 0.5736 - acc: 0.7429\n",
            "Epoch 10/20\n",
            "105/105 [==============================] - 0s 66us/sample - loss: 0.4990 - acc: 0.7905\n",
            "Epoch 11/20\n",
            "105/105 [==============================] - 0s 86us/sample - loss: 0.4791 - acc: 0.9333\n",
            "Epoch 12/20\n",
            "105/105 [==============================] - 0s 52us/sample - loss: 0.4840 - acc: 0.8476\n",
            "Epoch 13/20\n",
            "105/105 [==============================] - 0s 80us/sample - loss: 0.4533 - acc: 0.9524\n",
            "Epoch 14/20\n",
            "105/105 [==============================] - 0s 142us/sample - loss: 0.4412 - acc: 0.8667\n",
            "Epoch 15/20\n",
            "105/105 [==============================] - 0s 82us/sample - loss: 0.4443 - acc: 0.8857\n",
            "Epoch 16/20\n",
            "105/105 [==============================] - 0s 77us/sample - loss: 0.4171 - acc: 0.7333\n",
            "Epoch 17/20\n",
            "105/105 [==============================] - 0s 57us/sample - loss: 0.3989 - acc: 0.9238\n",
            "Epoch 18/20\n",
            "105/105 [==============================] - 0s 66us/sample - loss: 0.3818 - acc: 0.9429\n",
            "Epoch 19/20\n",
            "105/105 [==============================] - 0s 47us/sample - loss: 0.3691 - acc: 0.9524\n",
            "Epoch 20/20\n",
            "105/105 [==============================] - 0s 53us/sample - loss: 0.3680 - acc: 0.9048\n",
            "Test Accuracy:  1.0 \n",
            "Test Loss:  0.36347368359565735\n"
          ]
        },
        {
          "output_type": "stream",
          "name": "stderr",
          "text": [
            "/usr/local/lib/python3.8/dist-packages/keras/engine/training_v1.py:2333: UserWarning: `Model.state_updates` will be removed in a future version. This property should not be used in TensorFlow 2.0, as `updates` are applied automatically.\n",
            "  updates = self.state_updates\n"
          ]
        }
      ],
      "source": [
        "\n",
        "# *********************************************************************************************************************\n",
        "  \n",
        "  # File Name \t:   CSLAB_DEEP_LEARNING_MULTI_CLASS_SUPPORT_VECTOR_MACHINE_V1\n",
        "  # Purpose \t:   A Program in Python for Multiclass Support Vector Machine - Deep Learning\n",
        "  # Author\t:   Deepsphere.ai\n",
        "  # Reviewer \t:   Jothi Periasamy\n",
        "  # Date \t:   28/10/2022\n",
        "  # Version\t:   1.0\t\n",
        "  \n",
        "# ***********************************************************************************************************************\n",
        "\n",
        "## Program Description : Program for Multiclass Support Vector Machine - Deep Learning in Python\n",
        "\n",
        "## Python Development Environment & Runtime - Python, Anaconda, Tensorflow, Tensorboard\n",
        "\n",
        "import numpy as np\n",
        "from sklearn import datasets\n",
        "from sklearn.model_selection import train_test_split\n",
        "from keras import models\n",
        "from keras import layers\n",
        "from keras.utils import to_categorical\n",
        "\n",
        "# Load the iris dataset\n",
        "\n",
        "vAR_CSLAB_iris = datasets.load_iris()\n",
        "vAR_CSLAB_X = vAR_CSLAB_iris.data\n",
        "vAR_CSLAB_y = vAR_CSLAB_iris.target\n",
        "\n",
        "# Create training and test split\n",
        "\n",
        "vAR_CSLAB_X_train, vAR_CSLAB_X_test, vAR_CSLAB_y_train, vAR_CSLAB_y_test = train_test_split(vAR_CSLAB_X, vAR_CSLAB_y, test_size=0.3, stratify=vAR_CSLAB_y, random_state=42)\n",
        "\n",
        "# Create categorical labels\n",
        "\n",
        "vAR_CSLAB_train_labels = to_categorical(vAR_CSLAB_y_train)\n",
        "vAR_CSLAB_test_labels = to_categorical(vAR_CSLAB_y_test)\n",
        "\n",
        "# Create the model\n",
        "\n",
        "vAR_CSLAB_model = models.Sequential()\n",
        "\n",
        "vAR_CSLAB_model.add(layers.Dense(512, activation='relu', input_shape=(4,)))\n",
        "\n",
        "vAR_CSLAB_model.add(layers.Dense(3, activation='softmax'))\n",
        "\n",
        "vAR_CSLAB_model.compile(optimizer='rmsprop',\n",
        "                loss='categorical_crossentropy',\n",
        "                metrics=['accuracy'])\n",
        "\n",
        "# Fit the neural network\n",
        "\n",
        "vAR_CSLAB_model.fit(vAR_CSLAB_X_train, vAR_CSLAB_train_labels, epochs=20, batch_size=40)\n",
        "\n",
        "vAR_CSLAB_test_loss, vAR_CSLAB_test_acc = vAR_CSLAB_model.evaluate(vAR_CSLAB_X_test, vAR_CSLAB_test_labels)\n",
        "\n",
        "# Print the test accuracy\n",
        "\n",
        "print('Test Accuracy: ', vAR_CSLAB_test_acc, '\\nTest Loss: ', vAR_CSLAB_test_loss)\n",
        "\n",
        "# ****************************************************************************************************************************\n",
        "#   Disclaimer.\n",
        "\n",
        "# We are providing this code block strictly for learning and researching, this is not a production\n",
        "# ready code. We have no liability on this particular code under any circumstances; users should use\n",
        "# this code on their own risk. All software, hardware and othr products that are referenced in these \n",
        "# materials belong to the respective vendor who developed or who owns this product.\n",
        "\n",
        "# ****************************************************************************************************************************\n",
        "  "
      ]
    },
    {
      "cell_type": "markdown",
      "source": [
        "**Code Explanation**\n",
        "\n",
        "The code is a simple implementation of a neural network using the Keras library to classify the iris dataset. The iris dataset is a classic dataset in machine learning, which contains the sepal length, sepal width, petal length, and petal width of 150 iris flowers, 50 from each of three species: setosa, versicolor, and virginica.\n",
        "\n",
        "The code first imports the required libraries, including numpy, scikit-learn, and keras. Numpy is a library for working with arrays and matrices, while scikit-learn is a machine learning library that contains datasets such as the iris dataset and tools for model selection, including the train_test_split function used in this code. Keras is a high-level deep learning library that provides a simple way to define and train neural networks."
      ],
      "metadata": {
        "id": "ldZggCunHVto"
      }
    },
    {
      "cell_type": "markdown",
      "source": [
        "Next, the iris dataset is loaded using the datasets.load_iris() function from scikit-learn. The iris data is stored in the variable vAR_CSLAB_iris and the features and labels are separated into two arrays, vAR_CSLAB_X and vAR_CSLAB_y, respectively.\n",
        "\n",
        "The data is then split into training and test sets using the train_test_split function from scikit-learn. This function takes the features and labels as input and returns four arrays, the training features and labels and the test features and labels, which are stored in the variables vAR_CSLAB_X_train, vAR_CSLAB_X_test, vAR_CSLAB_y_train, and vAR_CSLAB_y_test. The test_size argument specifies the size of the test set (30% in this case), and the stratify argument ensures that the proportion of classes in the training and test sets is the same as in the original dataset. The random_state argument sets a seed for the random number generator used to perform the split, so that the same split is obtained every time the code is run"
      ],
      "metadata": {
        "id": "FtXUjZB8IGcI"
      }
    },
    {
      "cell_type": "markdown",
      "source": [
        "The labels are then converted to categorical format using the to_categorical function from keras.utils, which converts a class vector to binary class matrix. The categorical training and test labels are stored in the variables vAR_CSLAB_train_labels and vAR_CSLAB_test_labels.\n",
        "\n",
        "The neural network is then defined using the Sequential class from the models module of keras. The add method is used to add two dense (fully connected) layers to the network. The first layer has 512 units and uses the ReLU activation function, and the second layer has 3 units and uses the softmax activation function, which returns the probabilities for each class. The compile method is used to specify the optimizer, loss function, and evaluation metric for the network. The optimizer used is RMSprop, the loss function is categorical crossentropy, and the metric is accuracy.\n",
        "\n",
        "The network is then fit to the training data using the fit method, which trains the network for 20 epochs with a batch size of 40. The evaluate method is then used to evaluate the network on the test data, and the test loss and accuracy are stored in the variables vAR_CSLAB_test_loss and vAR_CSLAB_test_acc. Finally, the test accuracy and loss are printed to the console."
      ],
      "metadata": {
        "id": "CfW8iG9tIGMn"
      }
    }
  ]
}