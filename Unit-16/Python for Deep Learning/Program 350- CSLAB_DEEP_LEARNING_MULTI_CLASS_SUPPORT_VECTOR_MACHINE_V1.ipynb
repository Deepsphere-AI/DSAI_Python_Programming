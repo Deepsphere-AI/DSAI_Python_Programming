{
  "nbformat": 4,
  "nbformat_minor": 0,
  "metadata": {
    "colab": {
      "provenance": [],
      "include_colab_link": true
    },
    "kernelspec": {
      "name": "python3",
      "display_name": "Python 3"
    },
    "language_info": {
      "name": "python"
    }
  },
  "cells": [
    {
      "cell_type": "markdown",
      "metadata": {
        "id": "view-in-github",
        "colab_type": "text"
      },
      "source": [
        "<a href=\"https://colab.research.google.com/github/Deepsphere-AI/DSAI_Python_Programming/blob/main/Unit-16/Python%20for%20Deep%20Learning/Program%20350-%20CSLAB_DEEP_LEARNING_MULTI_CLASS_SUPPORT_VECTOR_MACHINE_V1.ipynb\" target=\"_parent\"><img src=\"https://colab.research.google.com/assets/colab-badge.svg\" alt=\"Open In Colab\"/></a>"
      ]
    },
    {
      "cell_type": "code",
      "execution_count": 5,
      "metadata": {
        "id": "nRcfy5xhuzup"
      },
      "outputs": [],
      "source": [
        "\n",
        "# *********************************************************************************************************************\n",
        "  \n",
        "  # File Name \t:   CSLAB_DEEP_LEARNING_MULTI_CLASS_SUPPORT_VECTOR_MACHINE_V1\n",
        "  # Purpose \t:   A Program in Python for Multiclass Support Vector Machine - Deep Learning\n",
        "  # Author\t:   Deepsphere.ai\n",
        "  # Reviewer \t:   Jothi Periasamy\n",
        "  # Date \t:   28/10/2022\n",
        "  # Version\t:   1.0\t\n",
        "  \n",
        "# ***********************************************************************************************************************\n",
        "\n",
        "## Program Description : Program for Multiclass Support Vector Machine - Deep Learning in Python\n",
        "\n",
        "## Python Development Environment & Runtime - Python, Anaconda, Tensorflow, Tensorboard\n",
        "\n",
        "import tensorflow.compat.v1 as vAR_tf\n",
        "\n",
        "vAR_tf.disable_v2_behavior() \n",
        "\n",
        "import numpy as vAR_np\n",
        "\n",
        "from sklearn import datasets\n",
        "\n",
        "vAR_CSLAB_iris = datasets.load_iris()\n",
        "vAR_CSLAB_x_vals = vAR_np.array([[x[0], x[3]] for x in vAR_CSLAB_iris.data])\n",
        "vAR_CSLAB_y_vals1 = vAR_np.array([1 if y==0 else -1 for y in vAR_CSLAB_iris.target])\n",
        "vAR_CSLAB_y_vals2 = vAR_np.array([1 if y==1 else -1 for y in vAR_CSLAB_iris.target])\n",
        "vAR_CSLAB_y_vals3 = vAR_np.array([1 if y==2 else -1 for y in vAR_CSLAB_iris.target])\n",
        "vAR_CSLAB_y_vals = vAR_np.array([vAR_CSLAB_y_vals1, vAR_CSLAB_y_vals2, vAR_CSLAB_y_vals3])\n",
        "vAR_CSLAB_class1_x = [x[0] for i,x in enumerate(vAR_CSLAB_x_vals) if vAR_CSLAB_iris.target[i]==0]\n",
        "vAR_CSLAB_class1_y = [x[1] for i,x in enumerate(vAR_CSLAB_x_vals) if vAR_CSLAB_iris.target[i]==0]\n",
        "vAR_CSLAB_class2_x = [x[0] for i,x in enumerate(vAR_CSLAB_x_vals) if vAR_CSLAB_iris.target[i]==1]\n",
        "vAR_CSLAB_class2_y = [x[1] for i,x in enumerate(vAR_CSLAB_x_vals) if vAR_CSLAB_iris.target[i]==1]\n",
        "vAR_CSLAB_class3_x = [x[0] for i,x in enumerate(vAR_CSLAB_x_vals) if vAR_CSLAB_iris.target[i]==2]\n",
        "vAR_CSLAB_class3_y = [x[1] for i,x in enumerate(vAR_CSLAB_x_vals) if vAR_CSLAB_iris.target[i]==2]\n",
        "\n",
        "vAR_CSLAB_batch_size = 50\n",
        "\n",
        "vAR_CSLAB_x_data = vAR_tf.placeholder(shape=[None, 2], dtype=vAR_tf.float32)\n",
        "vAR_CSLAB_y_target = vAR_tf.placeholder(shape=[3, None], dtype=vAR_tf.float32)\n",
        "vAR_CSLAB_prediction_grid = vAR_tf.placeholder(shape=[None, 2], dtype=vAR_tf.float32)\n",
        "\n",
        "vAR_CSLAB_b = vAR_tf.Variable(vAR_tf.random_normal(shape=[3,vAR_CSLAB_batch_size]))\n",
        "\n",
        "vAR_CSLAB_gamma = vAR_tf.constant(-10.0)\n",
        "vAR_CSLAB_dist = vAR_tf.reduce_sum(vAR_tf.square(vAR_CSLAB_x_data), 1)\n",
        "vAR_CSLAB_dist = vAR_tf.reshape(vAR_CSLAB_dist, [-1,1])\n",
        "vAR_CSLAB_sq_dists = vAR_tf.add(vAR_tf.subtract(vAR_CSLAB_dist, vAR_tf.multiply(2., vAR_tf.matmul(vAR_CSLAB_x_data, vAR_tf.transpose(vAR_CSLAB_x_data)))), vAR_tf.transpose(vAR_CSLAB_dist))\n",
        "vAR_CSLAB_my_kernel = vAR_tf.exp(vAR_tf.multiply(vAR_CSLAB_gamma, vAR_tf.abs(vAR_CSLAB_sq_dists)))\n",
        "\n",
        "def vAR_CSLAB_reshape_matmul(mat):\n",
        "    vAR_CSLAB_v1 = vAR_tf.expand_dims(mat, 1)\n",
        "    vAR_CSLAB_v2 = vAR_tf.reshape(vAR_CSLAB_v1, [3, vAR_CSLAB_batch_size, 1])\n",
        "    return(vAR_tf.batch_matmul(vAR_CSLAB_v2, vAR_CSLAB_v1))\n",
        "\n",
        "vAR_CSLAB_model_output = vAR_tf.matmul(vAR_CSLAB_b, vAR_CSLAB_my_kernel)\n",
        "vAR_CSLAB_first_term = vAR_tf.reduce_sum(vAR_CSLAB_b)\n",
        "vAR_CSLAB_b_vec_cross = vAR_tf.matmul(vAR_tf.transpose(vAR_CSLAB_b), vAR_CSLAB_b)\n",
        "    \n",
        "# ****************************************************************************************************************************\n",
        "#   Disclaimer.\n",
        "\n",
        "# We are providing this code block strictly for learning and researching, this is not a production\n",
        "# ready code. We have no liability on this particular code under any circumstances; users should use\n",
        "# this code on their own risk. All software, hardware and othr products that are referenced in these \n",
        "# materials belong to the respective vendor who developed or who owns this product.\n",
        "\n",
        "# ****************************************************************************************************************************\n",
        "  "
      ]
    },
    {
      "cell_type": "code",
      "source": [],
      "metadata": {
        "id": "lCOG6Uc9xZjP"
      },
      "execution_count": null,
      "outputs": []
    }
  ]
}