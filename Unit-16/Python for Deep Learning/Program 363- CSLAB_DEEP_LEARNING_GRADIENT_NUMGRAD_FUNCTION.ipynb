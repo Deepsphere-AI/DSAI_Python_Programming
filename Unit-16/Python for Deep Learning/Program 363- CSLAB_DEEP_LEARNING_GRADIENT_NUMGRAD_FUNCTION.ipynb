{
  "nbformat": 4,
  "nbformat_minor": 0,
  "metadata": {
    "colab": {
      "provenance": [],
      "authorship_tag": "ABX9TyPq0aPds9PpxQhjsW5vwmcA",
      "include_colab_link": true
    },
    "kernelspec": {
      "name": "python3",
      "display_name": "Python 3"
    },
    "language_info": {
      "name": "python"
    }
  },
  "cells": [
    {
      "cell_type": "markdown",
      "metadata": {
        "id": "view-in-github",
        "colab_type": "text"
      },
      "source": [
        "<a href=\"https://colab.research.google.com/github/Deepsphere-AI/DSAI_Python_Programming/blob/main/Unit-16/Python%20for%20Deep%20Learning/Program%20363-%20CSLAB_DEEP_LEARNING_GRADIENT_NUMGRAD_FUNCTION.ipynb\" target=\"_parent\"><img src=\"https://colab.research.google.com/assets/colab-badge.svg\" alt=\"Open In Colab\"/></a>"
      ]
    },
    {
      "cell_type": "code",
      "execution_count": null,
      "metadata": {
        "id": "Ob2DxgMMGblh"
      },
      "outputs": [],
      "source": [
        "\n",
        "# *********************************************************************************************************************\n",
        "  \n",
        "  # File Name \t:   CSLAB_DEEP_LEARNING_GRADIENT_NUMGRAD_FUNCTION\n",
        "  # Purpose \t:   A Program in Python for Numgrad Function in Deep Learning\n",
        "  # Author\t:   Deepsphere.ai\n",
        "  # Reviewer \t:   Jothi Periasamy\n",
        "  # Date \t:   28/10/2022\n",
        "  # Version\t:   1.0\t\n",
        "  \n",
        "# ***********************************************************************************************************************\n",
        "\n",
        "## Program Description : Program in Python for Numgrad Function in Deep Learning\n",
        "\n",
        "## Python Development Environment & Runtime - Python, Anaconda\n",
        "\n",
        "import numpy as vAR_np\n",
        "\n",
        "def vAR_CSLAB_eval_numerical_gradient(f, vAR_CSLAB_x, verbose=False, h=1e-5):\n",
        "    \n",
        "    vAR_CSLAB_grad = vAR_np.zeros_like(vAR_CSLAB_x)\n",
        "\n",
        "    vAR_CSLAB_it = vAR_np.nditer(vAR_CSLAB_x, flags=['multi_index'], op_flags=['readwrite'])\n",
        "    while not vAR_CSLAB_it.finished:\n",
        "        vAR_CSLAB_ix = vAR_CSLAB_it.multi_index\n",
        "        vAR_CSLAB_oldval = vAR_CSLAB_x[vAR_CSLAB_ix]\n",
        "        vAR_CSLAB_x[vAR_CSLAB_ix] = vAR_CSLAB_oldval + h\n",
        "        vAR_CSLAB_fxph = f(vAR_CSLAB_x) # evalute f(x + h)\n",
        "        vAR_CSLAB_x[vAR_CSLAB_ix] = vAR_CSLAB_oldval - h\n",
        "        vAR_CSLAB_fxmh = f(vAR_CSLAB_x) # evaluate f(x - h)\n",
        "        vAR_CSLAB_x[vAR_CSLAB_ix] = vAR_CSLAB_oldval # restore\n",
        "\n",
        "        # compute the partial derivative with centered formula\n",
        "        vAR_CSLAB_grad[vAR_CSLAB_ix] = (vAR_CSLAB_fxph - vAR_CSLAB_fxmh) / (2 * h)\n",
        "        if verbose:\n",
        "            print(vAR_CSLAB_ix, vAR_CSLAB_grad[vAR_CSLAB_ix])\n",
        "        vAR_CSLAB_it.iternext()\n",
        "    return vAR_CSLAB_grad\n",
        "\n",
        "# ****************************************************************************************************************************\n",
        "#   Disclaimer.\n",
        "\n",
        "# We are providing this code block strictly for learning and researching, this is not a production\n",
        "# ready code. We have no liability on this particular code under any circumstances; users should use\n",
        "# this code on their own risk. All software, hardware and othr products that are referenced in these \n",
        "# materials belong to the respective vendor who developed or who owns this product.\n",
        "\n",
        "# ****************************************************************************************************************************\n",
        " "
      ]
    }
  ]
}