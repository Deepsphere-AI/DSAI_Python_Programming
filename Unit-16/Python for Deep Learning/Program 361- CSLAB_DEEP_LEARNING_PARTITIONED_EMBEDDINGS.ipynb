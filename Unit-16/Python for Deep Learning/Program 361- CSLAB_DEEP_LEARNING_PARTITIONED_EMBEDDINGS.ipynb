{
  "nbformat": 4,
  "nbformat_minor": 0,
  "metadata": {
    "colab": {
      "provenance": [],
      "authorship_tag": "ABX9TyPsLCtlwQur4kBfY81UbA3u",
      "include_colab_link": true
    },
    "kernelspec": {
      "name": "python3",
      "display_name": "Python 3"
    },
    "language_info": {
      "name": "python"
    }
  },
  "cells": [
    {
      "cell_type": "markdown",
      "metadata": {
        "id": "view-in-github",
        "colab_type": "text"
      },
      "source": [
        "<a href=\"https://colab.research.google.com/github/Deepsphere-AI/DSAI_Python_Programming/blob/main/Unit-16/Python%20for%20Deep%20Learning/Program%20361-%20CSLAB_DEEP_LEARNING_PARTITIONED_EMBEDDINGS.ipynb\" target=\"_parent\"><img src=\"https://colab.research.google.com/assets/colab-badge.svg\" alt=\"Open In Colab\"/></a>"
      ]
    },
    {
      "cell_type": "code",
      "execution_count": null,
      "metadata": {
        "id": "aGG5jpdCEPNS"
      },
      "outputs": [],
      "source": [
        "\n",
        "# *********************************************************************************************************************\n",
        "  \n",
        "  # File Name \t:   CSLAB_DEEP_LEARNING_PARTITIONED_EMBEDDINGS\n",
        "  # Purpose \t:   A Program in Python for Partitioned Embeddings in Deep Learning\n",
        "  # Author\t:   Deepsphere.ai\n",
        "  # Reviewer \t:   Jothi Periasamy\n",
        "  # Date \t:   28/10/2022\n",
        "  # Version\t:   1.0\t\n",
        "  \n",
        "# ***********************************************************************************************************************\n",
        "\n",
        "## Program Description : Program in Python for Partitioned Embeddings in Deep Learning\n",
        "\n",
        "## Python Development Environment & Runtime - Python, Anaconda\n",
        "\n",
        "# Explores a partitioned embedding.\n",
        "from __future__ import print_function\n",
        "import numpy as vAR_np\n",
        "import tensorflow as vAR_tf\n",
        "\n",
        "vAR_CSLAB_vocab_size = 20\n",
        "vAR_CSLAB_npartitions = 4\n",
        "vAR_CSLAB_vocab_per_partition = vAR_CSLAB_vocab_size // vAR_CSLAB_npartitions\n",
        "vAR_CSLAB_embedding_dim = 3\n",
        "vAR_CSLAB_batch_size = 16\n",
        "\n",
        "vAR_CSLAB_dataset = vAR_tf.placeholder(vAR_tf.int32, shape=[vAR_CSLAB_batch_size])\n",
        "\n",
        "vAR_CSLAB_embeddings = []\n",
        "for _ in range(vAR_CSLAB_npartitions):\n",
        "    vAR_CSLAB_embeddings.append(vAR_tf.Variable(vAR_tf.random_uniform(\n",
        "        [vAR_CSLAB_vocab_per_partition, vAR_CSLAB_embedding_dim], -1.0, 1.0)))\n",
        "\n",
        "vAR_CSLAB_embed_out = vAR_tf.nn.embedding_lookup(vAR_CSLAB_embeddings,\n",
        "                                   vAR_CSLAB_dataset,\n",
        "                                   partition_strategy='div',\n",
        "                                   validate_indices=True)\n",
        "\n",
        "with vAR_tf.Session() as vAR_CSLAB_sess:\n",
        "    vAR_tf.initialize_all_variables().run()\n",
        "\n",
        "    print('dataset shape:', vAR_CSLAB_dataset.get_shape())\n",
        "    print('embeddings shapes:',\n",
        "        [\"{0}: {1}\".format(i, vAR_CSLAB_embeddings[i].get_shape())\n",
        "         for i in range(vAR_CSLAB_npartitions)])\n",
        "    print('embed_out shape:', vAR_CSLAB_embed_out.get_shape())\n",
        "\n",
        "    vAR_CSLAB_indata = vAR_np.random.randint(0, vAR_CSLAB_vocab_size, size=(vAR_CSLAB_batch_size,))\n",
        "    print('indata:', vAR_CSLAB_indata)\n",
        "    vAR_CSLAB_emb = [0] * vAR_CSLAB_npartitions\n",
        "    vAR_CSLAB_emb[0], vAR_CSLAB_emb[1], vAR_CSLAB_emb[2], vAR_CSLAB_emb[3], vAR_CSLAB_embed_out = vAR_CSLAB_sess.run(\n",
        "        fetches=[vAR_CSLAB_embeddings[0], vAR_CSLAB_embeddings[1], vAR_CSLAB_embeddings[2], vAR_CSLAB_embeddings[3],\n",
        "                 vAR_CSLAB_embed_out],\n",
        "        feed_dict={vAR_CSLAB_dataset: vAR_CSLAB_indata})\n",
        "    for i in range(vAR_CSLAB_npartitions):\n",
        "        print('embeddings[{0}]\\n'.format(i), vAR_CSLAB_emb[i])\n",
        "    print('embed_out:\\n', vAR_CSLAB_embed_out)\n",
        "    \n",
        "\n",
        "# ****************************************************************************************************************************\n",
        "#   Disclaimer.\n",
        "\n",
        "# We are providing this code block strictly for learning and researching, this is not a production\n",
        "# ready code. We have no liability on this particular code under any circumstances; users should use\n",
        "# this code on their own risk. All software, hardware and othr products that are referenced in these \n",
        "# materials belong to the respective vendor who developed or who owns this product.\n",
        "\n",
        "# ****************************************************************************************************************************"
      ]
    }
  ]
}