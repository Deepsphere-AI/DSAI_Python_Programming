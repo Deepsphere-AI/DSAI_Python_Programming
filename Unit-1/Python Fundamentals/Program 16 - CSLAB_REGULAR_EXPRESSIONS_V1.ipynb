{
  "cells": [
    {
      "cell_type": "markdown",
      "metadata": {
        "id": "view-in-github",
        "colab_type": "text"
      },
      "source": [
        "<a href=\"https://colab.research.google.com/github/Deepsphere-AI/DSAI_Python_Programming/blob/main/Unit-1/Python%20Fundamentals/Program%2016%20-%20CSLAB_REGULAR_EXPRESSIONS_V1.ipynb\" target=\"_parent\"><img src=\"https://colab.research.google.com/assets/colab-badge.svg\" alt=\"Open In Colab\"/></a>"
      ]
    },
    {
      "cell_type": "code",
      "execution_count": 5,
      "metadata": {
        "id": "PGIA9mVT4JWq",
        "outputId": "ddae2596-6d91-45d3-fc67-fd29942fa962",
        "colab": {
          "base_uri": "https://localhost:8080/"
        }
      },
      "outputs": [
        {
          "output_type": "stream",
          "name": "stdout",
          "text": [
            "<re.Match object; span=(35, 39), match='[on]'>\n",
            "None\n",
            "Pass\n",
            "Pass\n",
            "You failed to match wha.t.`1an?ug{}ly@email.com\n"
          ]
        }
      ],
      "source": [
        "\n",
        "# **************************************************************************************\n",
        "  \n",
        "  # File Name \t:   CSLAB_REGULAR_EXPRESSIONS\n",
        "  # Purpose \t:   A Program in Python for Regular Expressions\n",
        "  # Author\t:   Deepsphere.ai\n",
        "  # Reviewer \t:   Jothi Periasamy\n",
        "  # Date \t:   10/21/2022 \n",
        "  # Version\t:   1.0\t\n",
        "  \n",
        "# **************************************************************************************\n",
        "  \n",
        "## Program Description : A Program for Regular Expressions in Python\n",
        "\n",
        "## Python Development Environment & Runtime - Python, Anaconda\n",
        "\n",
        "import re\n",
        "\n",
        "vAR_CSLAB_pattern = re.compile(r\"\\[(on|off)\\]\") # Slight optimization\n",
        "\n",
        "print(re.search(vAR_CSLAB_pattern, \"Mono: Playback 65 [75%] [-16.50dB] [on]\"))\n",
        "\n",
        "# Returns a Match object!\n",
        "\n",
        "print(re.search(vAR_CSLAB_pattern, \"Nada...:-(\"))\n",
        "\n",
        "# Doesn't return anything.\n",
        "\n",
        "# End Example\n",
        "\n",
        "# Exercise: make a regular expression that will match an email\n",
        "\n",
        "def vAR_CSLAB_test_email(your_pattern):\n",
        "    \n",
        "    vAR_CSLAB_pattern = re.compile(your_pattern)\n",
        "    \n",
        "    vAR_CSLAB_emails = [\"john@example.com\", \"python-list@python.org\", \"wha.t.`1an?ug{}ly@email.com\"]\n",
        "    \n",
        "    for email in vAR_CSLAB_emails:\n",
        "    \n",
        "        if not re.match(vAR_CSLAB_pattern, email):\n",
        "            print(\"You failed to match %s\" % (email))\n",
        "        \n",
        "        elif not your_pattern:\n",
        "            print(\"Forgot to enter a pattern!\")\n",
        "        \n",
        "        else:\n",
        "            print(\"Pass\")\n",
        "\n",
        "vAR_CSLAB_pattern = r\"\\b[A-Za-z0-9._%+-]+@[A-Za-z0-9.-]+\\.[A-Z|a-z]{2,}\\b\" # Your pattern here!\n",
        "\n",
        "vAR_CSLAB_test_email(vAR_CSLAB_pattern)\n",
        "   \n",
        "# **************************************************************************************\n",
        "# Disclaimer.\n",
        "\n",
        "# We are providing this code block strictly for learning and researching, this is not a production ready code. We have no liability on this particular code under any circumstances; users should use this code on their own risk. \n",
        "\n",
        "# All software, hardware and othr products that are referenced in these materials belong to the respective vendor who developed or who owns this product.\n",
        "\n",
        "# ************************************************************************************"
      ]
    }
  ],
  "metadata": {
    "colab": {
      "provenance": [],
      "include_colab_link": true
    },
    "kernelspec": {
      "display_name": "Python 3",
      "name": "python3"
    },
    "language_info": {
      "name": "python"
    }
  },
  "nbformat": 4,
  "nbformat_minor": 0
}