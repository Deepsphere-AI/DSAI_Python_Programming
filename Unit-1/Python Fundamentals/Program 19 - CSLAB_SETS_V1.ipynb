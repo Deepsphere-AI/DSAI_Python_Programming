{
  "cells": [
    {
      "cell_type": "markdown",
      "metadata": {
        "id": "view-in-github",
        "colab_type": "text"
      },
      "source": [
        "<a href=\"https://colab.research.google.com/github/Deepsphere-AI/DSAI_Python_Programming/blob/main/Unit-1/Python%20Fundamentals/Program%2019%20-%20CSLAB_SETS_V1.ipynb\" target=\"_parent\"><img src=\"https://colab.research.google.com/assets/colab-badge.svg\" alt=\"Open In Colab\"/></a>"
      ]
    },
    {
      "cell_type": "code",
      "execution_count": 1,
      "metadata": {
        "id": "FlWomwsf6iOI",
        "outputId": "dd1c4429-2e85-41a6-d030-144e271abb8e",
        "colab": {
          "base_uri": "https://localhost:8080/"
        }
      },
      "outputs": [
        {
          "output_type": "stream",
          "name": "stdout",
          "text": [
            "{'q', 'w', 'y', 'r', 't', 'e'}\n"
          ]
        }
      ],
      "source": [
        "\n",
        "# **************************************************************************************\n",
        "  \n",
        "  # File Name \t:   CSLAB_SETS_V1\n",
        "  # Purpose \t:   A Program in Python for Sets\n",
        "  # Author\t:   Deepsphere.ai\n",
        "  # Reviewer \t:   Jothi Periasamy\n",
        "  # Date and Time\t:   10/21/2022 \n",
        "  # Version\t:   1.0\t\n",
        "  \n",
        "# **************************************************************************************\n",
        "  \n",
        "## Program Description : A Program for Creation of Sets in Python\n",
        "\n",
        "## Python Development Environment & Runtime - Python, Anaconda\n",
        "\n",
        "vAR_CSLAB_A = set('qwerty')\n",
        "\n",
        "print(vAR_CSLAB_A)\n",
        "  \n",
        "# **************************************************************************************\n",
        "# Disclaimer.\n",
        "\n",
        "# We are providing this code block strictly for learning and researching, this is not a production ready code. We have no liability on this particular code under any circumstances; users should use this code on their own risk. \n",
        "\n",
        "# All software, hardware and othr products that are referenced in these materials belong to the respective vendor who developed or who owns this product.\n",
        "\n",
        "# **************************************************************************************"
      ]
    }
  ],
  "metadata": {
    "colab": {
      "provenance": [],
      "include_colab_link": true
    },
    "kernelspec": {
      "display_name": "Python 3",
      "name": "python3"
    },
    "language_info": {
      "name": "python"
    }
  },
  "nbformat": 4,
  "nbformat_minor": 0
}