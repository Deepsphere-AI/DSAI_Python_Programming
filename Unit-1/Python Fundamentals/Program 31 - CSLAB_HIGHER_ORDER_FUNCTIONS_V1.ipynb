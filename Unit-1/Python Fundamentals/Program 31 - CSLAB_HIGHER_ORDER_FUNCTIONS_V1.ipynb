{
  "nbformat": 4,
  "nbformat_minor": 0,
  "metadata": {
    "colab": {
      "provenance": [],
      "authorship_tag": "ABX9TyMeEc8S8QweKHk1ObVEVxMf",
      "include_colab_link": true
    },
    "kernelspec": {
      "name": "python3",
      "display_name": "Python 3"
    },
    "language_info": {
      "name": "python"
    }
  },
  "cells": [
    {
      "cell_type": "markdown",
      "metadata": {
        "id": "view-in-github",
        "colab_type": "text"
      },
      "source": [
        "<a href=\"https://colab.research.google.com/github/Deepsphere-AI/DSAI_Python_Programming/blob/main/Unit-1/Python%20Fundamentals/Program%2031%20-%20CSLAB_HIGHER_ORDER_FUNCTIONS_V1.ipynb\" target=\"_parent\"><img src=\"https://colab.research.google.com/assets/colab-badge.svg\" alt=\"Open In Colab\"/></a>"
      ]
    },
    {
      "cell_type": "code",
      "execution_count": null,
      "metadata": {
        "id": "LHP24ZraSLG1"
      },
      "outputs": [],
      "source": [
        "\n",
        "# **************************************************************************************\n",
        "  \n",
        "#   File Name \t:   CSLAB_HIGHER_ORDER_FUNCTIONS_V1\n",
        "#   Purpose \t:   A Program in Python for Higher order Functions\n",
        "#   Author\t:   Deepsphere.ai\n",
        "#   Reviewer \t:   Jothi Periasamy\n",
        "#   Date \t:   10/21/2022 \n",
        "#   Version\t:   1.0\t\n",
        "  \n",
        "# **************************************************************************************\n",
        "\n",
        "## Program Description : A Program for Higher Order Functions in Python\n",
        "\n",
        "## Python Development Environment & Runtime - Python, Anaconda\n",
        "\n",
        "def vAR_CSLAB_second_element(t): return t[1]\n",
        " \n",
        "vAR_CSLAB_zepp = [('Guitar', 'Jimmy'), ('Vocals', 'Robert'), ('Bass', 'John Paul'), ('Drums', 'John')]\n",
        " \n",
        "sorted(vAR_CSLAB_zepp)\n",
        "\n",
        "# **************************************************************************************\n",
        "# Disclaimer.\n",
        "\n",
        "# We are providing this code block strictly for learning and researching, this is not a production ready code. We have no liability on this particular code under any circumstances; users should use this code on their own risk. \n",
        "\n",
        "# All software, hardware and othr products that are referenced in these materials belong to the respective vendor who developed or who owns this product.\n",
        "\n",
        "# **************************************************************************************"
      ]
    }
  ]
}