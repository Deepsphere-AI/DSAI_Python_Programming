{
  "cells": [
    {
      "cell_type": "markdown",
      "metadata": {
        "colab_type": "text",
        "id": "view-in-github"
      },
      "source": [
        "<a href=\"https://colab.research.google.com/github/Deepsphere-AI/DSAI_Python_Programming/blob/main/unit-1/Python%20Fundamentals/Program%202%20-%20CSLAB_VARIABLE_V1.ipynb\" target=\"_parent\"><img src=\"https://colab.research.google.com/assets/colab-badge.svg\" alt=\"Open In Colab\"/></a>"
      ]
    },
    {
      "cell_type": "code",
      "execution_count": null,
      "metadata": {
        "id": "b6K_gczDf5Z1"
      },
      "outputs": [],
      "source": [
        "\n",
        "# /************************************************************************************************************************\n",
        "  \n",
        "#   File Name :   CSLAB_VARIABLE_V1\n",
        "#   Purpose \t:   A Program for Integer, Floating Point Integer & String Assignment in Python\n",
        "#   Author\t  :   Deepsphere.ai\n",
        "#   Reviewer \t:   Jothi Periasamy\n",
        "#   Date      :  21/10/2022 \n",
        "#   Version\t  :   1.0\t\n",
        "\n",
        "# /************************************************************************************************************************\n",
        "\n",
        "## Program Description : A Program for Variables for Integer, Floating Point Integer & String Assignment in Python\n",
        "\n",
        "## Python Development Environment & Runtime - Python, Anaconda\n",
        "\n",
        "# An Integer Assignment\n",
        "vAR_CSLAB_Counter = 100 \n",
        "\n",
        "# Floating Point Integer Assignment\n",
        "vAR_CSLAB_Miles = 1000.0 \n",
        "\n",
        "# String Assignment\n",
        "vAR_CSLAB_Name = \"John\"\n",
        "\n",
        "print (vAR_CSLAB_Counter)\n",
        "print (vAR_CSLAB_Miles)\n",
        "print (vAR_CSLAB_Name)\n",
        "\n",
        "# /************************************************************************************************************************\n",
        "# Disclaimer.\n",
        "\n",
        "# We are providing this code block strictly for learning and researching, this is not a production ready code. We have no liability on this particular code under any circumstances; users should use this code on their own risk. \n",
        "\n",
        "# All software, hardware and othr products that are referenced in these materials belong to the respective vendor who developed or who owns this product.\n",
        "\n",
        "# /************************************************************************************************************************\n",
        "  "
      ]
    }
  ],
  "metadata": {
    "colab": {
      "authorship_tag": "ABX9TyOIn869YSAAdmQCNMcjqJK+",
      "include_colab_link": true,
      "provenance": []
    },
    "kernelspec": {
      "display_name": "Python 3",
      "name": "python3"
    },
    "language_info": {
      "name": "python"
    }
  },
  "nbformat": 4,
  "nbformat_minor": 0
}
