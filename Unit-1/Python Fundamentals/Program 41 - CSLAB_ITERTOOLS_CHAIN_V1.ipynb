{
  "nbformat": 4,
  "nbformat_minor": 0,
  "metadata": {
    "colab": {
      "provenance": [],
      "authorship_tag": "ABX9TyPLUiaq3a3WRLE/am2LEIS4",
      "include_colab_link": true
    },
    "kernelspec": {
      "name": "python3",
      "display_name": "Python 3"
    },
    "language_info": {
      "name": "python"
    }
  },
  "cells": [
    {
      "cell_type": "markdown",
      "metadata": {
        "id": "view-in-github",
        "colab_type": "text"
      },
      "source": [
        "<a href=\"https://colab.research.google.com/github/Deepsphere-AI/DSAI_Python_Programming/blob/main/Unit-1/Python%20Fundamentals/Program%2041%20-%20CSLAB_ITERTOOLS_CHAIN_V1.ipynb\" target=\"_parent\"><img src=\"https://colab.research.google.com/assets/colab-badge.svg\" alt=\"Open In Colab\"/></a>"
      ]
    },
    {
      "cell_type": "code",
      "execution_count": null,
      "metadata": {
        "id": "sglYWmoLZe7l"
      },
      "outputs": [],
      "source": [
        "\n",
        "# **************************************************************************************\n",
        "  \n",
        "#   File Name \t:   CSLAB_ITERTOOLS_CHAIN_V1\n",
        "#   Purpose \t:   A Program in Python for Iter Tools\n",
        "#   Author\t:   Deepsphere.ai\n",
        "#   Reviewer \t:   Jothi Periasamy\n",
        "#   Date and Time\t:   10/25/2022 \n",
        "#   Version\t:   1.0\t\n",
        "  \n",
        "# **************************************************************************************\n",
        "\n",
        "## Program Description : A Program for Iter Tools in Python\n",
        "\n",
        "## Python Development Environment & Runtime - Python, Anaconda\n",
        "\n",
        "vAR_CSLAB_l1 = ['a', 'b', 'c']\n",
        "\n",
        "vAR_CSLAB_l2 = ['d', 'e', 'f']\n",
        "\n",
        "vAR_CSLAB_l1.extend(vAR_CSLAB_l2)\n",
        "\n",
        "vAR_CSLAB_l1\n",
        "\n",
        "import itertools\n",
        "\n",
        "vAR_CSLAB_l1 = ['a', 'b', 'c']\n",
        "\n",
        "vAR_CSLAB_l2 = ['d', 'e', 'f']\n",
        "\n",
        "vAR_CSLAB_chained = itertools.chain(vAR_CSLAB_l1, vAR_CSLAB_l2)\n",
        "\n",
        "vAR_CSLAB_chained\n",
        "\n",
        "[vAR_CSLAB_l for vAR_CSLAB_l in vAR_CSLAB_chained]\n",
        "\n",
        "\n",
        "# **************************************************************************************\n",
        "# Disclaimer.\n",
        "\n",
        "# We are providing this code block strictly for learning and researching, this is not a production ready code. We have no liability on this particular code under any circumstances; users should use this code on their own risk. \n",
        "\n",
        "# All software, hardware and othr products that are referenced in these materials belong to the respective vendor who developed or who owns this product.\n",
        "\n",
        "# **************************************************************************************\n",
        "  "
      ]
    }
  ]
}