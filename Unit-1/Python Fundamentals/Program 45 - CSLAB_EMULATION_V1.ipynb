{
  "nbformat": 4,
  "nbformat_minor": 0,
  "metadata": {
    "colab": {
      "provenance": [],
      "collapsed_sections": [],
      "authorship_tag": "ABX9TyNaUAZ/sisNEv11qWV7AeQX",
      "include_colab_link": true
    },
    "kernelspec": {
      "name": "python3",
      "display_name": "Python 3"
    },
    "language_info": {
      "name": "python"
    }
  },
  "cells": [
    {
      "cell_type": "markdown",
      "metadata": {
        "id": "view-in-github",
        "colab_type": "text"
      },
      "source": [
        "<a href=\"https://colab.research.google.com/github/Deepsphere-AI/DSAI_Python_Programming/blob/main/Unit-1/Python%20Fundamentals/Program%2045%20-%20CSLAB_EMULATION_V1.ipynb\" target=\"_parent\"><img src=\"https://colab.research.google.com/assets/colab-badge.svg\" alt=\"Open In Colab\"/></a>"
      ]
    },
    {
      "cell_type": "code",
      "execution_count": 46,
      "metadata": {
        "colab": {
          "base_uri": "https://localhost:8080/"
        },
        "id": "XxcFdZjvA7yX",
        "outputId": "fb1a1a28-1648-452a-cd5b-2c8d9941d22d"
      },
      "outputs": [
        {
          "output_type": "stream",
          "name": "stdout",
          "text": [
            "PYTHON\n",
            "Invalid command\n",
            "python\n",
            "b''\n",
            "svdbk\n",
            "Invalid command\n"
          ]
        }
      ],
      "source": [
        "#**************************************************************************************************\n",
        "  \n",
        "  # File Name \t:   CSLAB_EMULATION_V1\n",
        "  # Purpose \t:   A Program in Python for Emulation\n",
        "  # Author\t:   Deepsphere.ai\n",
        "  # Reviewer \t:   Jothi Periasamy\n",
        "  # Date and Time\t:   10/25/2022 \n",
        "  # Version\t:   1.0\t\n",
        "  \n",
        "# **************************************************************************************************\n",
        " \n",
        "## Program Description : A Program for Emulations in Python\n",
        "\n",
        "## Python Development Environment & Runtime - Python, Anaconda\n",
        "\n",
        "import subprocess\n",
        "import re\n",
        "\n",
        "while True:\n",
        "    # prevents lots of python error output\n",
        "    try:\n",
        "        vAR_CSLAB_s = input('')\n",
        "    except:\n",
        "        break\n",
        "\n",
        "    # check if you should exit\n",
        "    if vAR_CSLAB_s.strip().lower() == 'exit':\n",
        "        break\n",
        "\n",
        "    # try to run command\n",
        "    try:\n",
        "        vAR_CSLAB_cmd = subprocess.Popen(re.split(r'\\vAR_CSLAB_s+', vAR_CSLAB_s), stdout=subprocess.PIPE)\n",
        "        vAR_CSLAB_cmd_out = vAR_CSLAB_cmd.stdout.read()\n",
        "\n",
        "        # Process output\n",
        "        print (vAR_CSLAB_cmd_out)\n",
        "\n",
        "    except OSError:\n",
        "        print ('Invalid command') \n",
        "   \n",
        "# **************************************************************************************\n",
        "# Disclaimer.\n",
        "\n",
        "# We are providing this code block strictly for learning and researching, this is not a production ready code. We have no liability on this particular code under any circumstances; users should use this code on their own risk. \n",
        "\n",
        "# All software, hardware and othr products that are referenced in these materials belong to the respective vendor who developed or who owns this product.\n",
        "\n",
        "# **************************************************************************************\n"
      ]
    },
    {
      "cell_type": "code",
      "source": [],
      "metadata": {
        "id": "wHUcEg5LH3nK"
      },
      "execution_count": 46,
      "outputs": []
    },
    {
      "cell_type": "code",
      "source": [],
      "metadata": {
        "id": "gz9alYkGOJxX"
      },
      "execution_count": null,
      "outputs": []
    }
  ]
}