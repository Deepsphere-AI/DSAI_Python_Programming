{
  "nbformat": 4,
  "nbformat_minor": 0,
  "metadata": {
    "colab": {
      "provenance": [],
      "authorship_tag": "ABX9TyOcw0mjIYIVSIOjGb712iJJ",
      "include_colab_link": true
    },
    "kernelspec": {
      "name": "python3",
      "display_name": "Python 3"
    },
    "language_info": {
      "name": "python"
    }
  },
  "cells": [
    {
      "cell_type": "markdown",
      "metadata": {
        "id": "view-in-github",
        "colab_type": "text"
      },
      "source": [
        "<a href=\"https://colab.research.google.com/github/Deepsphere-AI/DSAI_Python_Programming/blob/main/Unit-1/Python%20Fundamentals/Program%2014%20-%20CSLAB_BLOCK_STRUCTURE_V2.ipynb\" target=\"_parent\"><img src=\"https://colab.research.google.com/assets/colab-badge.svg\" alt=\"Open In Colab\"/></a>"
      ]
    },
    {
      "cell_type": "code",
      "execution_count": null,
      "metadata": {
        "id": "P4FnDLb4mnTe"
      },
      "outputs": [],
      "source": [
        "# **************************************************************************************\n",
        "  \n",
        "  # File Name :   CSLAB_BLOCK_STRUCTURE\n",
        "  # Purpose \t:   A Program in Python for Block Structure\n",
        "  # Author\t  :   Deepsphere.ai\n",
        "  # Reviewer \t:   Jothi Periasamy\n",
        "  # Date    \t:   10/21/2022 \n",
        "  # Version\t  :   1.0\t\n",
        "  \n",
        "# **************************************************************************************\n",
        "  \n",
        "## Program Description : A Program for Block Structure in Python\n",
        "\n",
        "## Python Development Environment & Runtime - Python, Anaconda\n",
        "\n",
        "vAR_CSLAB_i = 25\n",
        "\n",
        "if vAR_CSLAB_i < 0:\n",
        "    \n",
        "    print (\"vAR_CSLAB_i is negative\")\n",
        "\n",
        "else:\n",
        "    \n",
        "    print (\"vAR_CSLAB_i is Non Negative\")\n",
        "    \n",
        "if vAR_CSLAB_i < 10:\n",
        "        \n",
        "    print (\"vAR_CSLAB_i has one digit\")\n",
        "    \n",
        "else:\n",
        "        \n",
        "    print (\"vAR_CSLAB_i has multiple digits\")\n",
        "   \n",
        "# **************************************************************************************\n",
        "# Disclaimer.\n",
        "\n",
        "# We are providing this code block strictly for learning and researching, this is not a production ready code. We have no liability on this particular code under any circumstances; users should use this code on their own risk. \n",
        "\n",
        "# All software, hardware and othr products that are referenced in these materials belong to the respective vendor who developed or who owns this product.\n",
        "\n",
        "# ************************************************************************************"
      ]
    }
  ]
}