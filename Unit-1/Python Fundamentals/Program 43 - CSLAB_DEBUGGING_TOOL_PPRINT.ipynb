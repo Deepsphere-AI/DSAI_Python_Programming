{
  "nbformat": 4,
  "nbformat_minor": 0,
  "metadata": {
    "colab": {
      "provenance": [],
      "include_colab_link": true
    },
    "kernelspec": {
      "name": "python3",
      "display_name": "Python 3"
    },
    "language_info": {
      "name": "python"
    }
  },
  "cells": [
    {
      "cell_type": "markdown",
      "metadata": {
        "id": "view-in-github",
        "colab_type": "text"
      },
      "source": [
        "<a href=\"https://colab.research.google.com/github/Deepsphere-AI/DSAI_Python_Programming/blob/main/Unit-1/Python%20Fundamentals/Program%2043%20-%20CSLAB_DEBUGGING_TOOL_PPRINT.ipynb\" target=\"_parent\"><img src=\"https://colab.research.google.com/assets/colab-badge.svg\" alt=\"Open In Colab\"/></a>"
      ]
    },
    {
      "cell_type": "code",
      "execution_count": 1,
      "metadata": {
        "id": "P9wPbXShdKHH",
        "outputId": "6cea4f92-8324-4d32-b625-8badc54cd3f7",
        "colab": {
          "base_uri": "https://localhost:8080/"
        }
      },
      "outputs": [
        {
          "output_type": "stream",
          "name": "stdout",
          "text": [
            "[{'extended': '', 'index': 0, 'letter': 'a'},\n",
            " {'extended': 'b', 'index': 1, 'letter': 'b'},\n",
            " {'extended': 'cc', 'index': 2, 'letter': 'c'},\n",
            " {'extended': 'ddd', 'index': 3, 'letter': 'd'},\n",
            " {'extended': 'eeee', 'index': 4, 'letter': 'e'},\n",
            " {'extended': 'fffff', 'index': 5, 'letter': 'f'},\n",
            " {'extended': 'gggggg', 'index': 6, 'letter': 'g'}]\n"
          ]
        }
      ],
      "source": [
        "\n",
        "# **************************************************************************************\n",
        "  \n",
        "  # File Name \t:   CSLAB_DEBUGGING_TOOL_PPRINT_V1\n",
        "  # Purpose \t:   A Program in Python for pprint\n",
        "  # Author\t:   Deepsphere.ai\n",
        "  # Reviewer \t:   Jothi Periasamy\n",
        "  # Date \t:   10/25/2022 \n",
        "  # Version\t:   1.0\t\n",
        "\n",
        "# **************************************************************************************\n",
        "\n",
        "## Program Description : A Program for pprint in Python\n",
        "\n",
        "## Python Development Environment & Runtime - Python, Anaconda\n",
        "\n",
        "import pprint\n",
        "\n",
        "vAR_CSLAB_deep = [{'letter': let, 'index': i, 'extended': let*i}\n",
        "        for i, let in enumerate(list('abcdefg'))]\n",
        "\n",
        "vAR_CSLAB_deep\n",
        "\n",
        "pprint.pprint(vAR_CSLAB_deep)\n",
        "\n",
        "# **************************************************************************************\n",
        "# Disclaimer.\n",
        "\n",
        "# We are providing this code block strictly for learning and researching, this is not a production ready code. We have no liability on this particular code under any circumstances; users should use this code on their own risk. \n",
        "\n",
        "# All software, hardware and othr products that are referenced in these materials belong to the respective vendor who developed or who owns this product.\n",
        "\n",
        "# **************************************************************************************\n",
        "  "
      ]
    }
  ]
}