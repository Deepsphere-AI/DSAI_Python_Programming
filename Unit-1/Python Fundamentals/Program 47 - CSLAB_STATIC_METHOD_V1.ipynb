{
  "nbformat": 4,
  "nbformat_minor": 0,
  "metadata": {
    "colab": {
      "provenance": [],
      "collapsed_sections": [],
      "authorship_tag": "ABX9TyPGevBCXQMNiWPncnb9rHnG",
      "include_colab_link": true
    },
    "kernelspec": {
      "name": "python3",
      "display_name": "Python 3"
    },
    "language_info": {
      "name": "python"
    }
  },
  "cells": [
    {
      "cell_type": "markdown",
      "metadata": {
        "id": "view-in-github",
        "colab_type": "text"
      },
      "source": [
        "<a href=\"https://colab.research.google.com/github/Deepsphere-AI/DSAI_Python_Programming/blob/main/Unit-1/Python%20Fundamentals/Program%2047%20-%20CSLAB_STATIC_METHOD_V1.ipynb\" target=\"_parent\"><img src=\"https://colab.research.google.com/assets/colab-badge.svg\" alt=\"Open In Colab\"/></a>"
      ]
    },
    {
      "cell_type": "code",
      "execution_count": 39,
      "metadata": {
        "colab": {
          "base_uri": "https://localhost:8080/"
        },
        "id": "XxcFdZjvA7yX",
        "outputId": "bcd8c28f-cf63-407d-837c-25103c1eef9a"
      },
      "outputs": [
        {
          "output_type": "stream",
          "name": "stdout",
          "text": [
            "The sum is: 15\n"
          ]
        }
      ],
      "source": [
        "# **************************************************************************************************\n",
        "  \n",
        "  # File Name \t:   CSLAB_STATIC_METHOD_V1\n",
        "  # Purpose \t:   A Program in Python for Static Method\n",
        "  # Author\t:   Deepsphere.ai\n",
        "  # Reviewer \t:   Jothi Periasamy\n",
        "  # Date and Time\t:   10/25/2022 \n",
        "  # Version\t:   1.0\t\n",
        "  \n",
        "# **************************************************************************************************\n",
        " \n",
        "## Program Description : A Program for Static Method in Python\n",
        "\n",
        "## Python Development Environment & Runtime - Python, Anaconda\n",
        "\n",
        "class vAR_CSLAB_Mathematics:\n",
        "\n",
        "    def vAR_CSLAB_addNumbers(x, y):\n",
        "        \n",
        "        return x + y\n",
        "\n",
        "# create addNumbers static method\n",
        "\n",
        "vAR_CSLAB_Mathematics.addNumbers = staticmethod(vAR_CSLAB_Mathematics.vAR_CSLAB_addNumbers)\n",
        "\n",
        "print('The sum is:', vAR_CSLAB_Mathematics.vAR_CSLAB_addNumbers(5, 10))\n",
        "   \n",
        "# **************************************************************************************\n",
        "# Disclaimer.\n",
        "\n",
        "# We are providing this code block strictly for learning and researching, this is not a production ready code. We have no liability on this particular code under any circumstances; users should use this code on their own risk. \n",
        "\n",
        "# All software, hardware and othr products that are referenced in these materials belong to the respective vendor who developed or who owns this product.\n",
        "\n",
        "# **************************************************************************************"
      ]
    },
    {
      "cell_type": "code",
      "source": [],
      "metadata": {
        "id": "dDbRVNVYA85M"
      },
      "execution_count": 6,
      "outputs": []
    },
    {
      "cell_type": "code",
      "source": [],
      "metadata": {
        "id": "Cq6mLjVvBhJN"
      },
      "execution_count": null,
      "outputs": []
    }
  ]
}