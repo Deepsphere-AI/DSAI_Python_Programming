{
  "cells": [
    {
      "cell_type": "markdown",
      "metadata": {
        "colab_type": "text",
        "id": "view-in-github"
      },
      "source": [
        "<a href=\"https://colab.research.google.com/github/Deepsphere-AI/DSAI_Python_Programming/blob/main/Unit-1/Python%20Fundamentals/Program%2047%20-%20CSLAB_STATIC_METHOD_V1.ipynb\" target=\"_parent\"><img src=\"https://colab.research.google.com/assets/colab-badge.svg\" alt=\"Open In Colab\"/></a>"
      ]
    },
    {
      "cell_type": "code",
      "execution_count": null,
      "metadata": {
        "id": "rQ-NMtO9kIK4"
      },
      "outputs": [],
      "source": [
        "\n",
        "# **************************************************************************************************\n",
        "  \n",
        "  # File Name \t:   CSLAB_STATIC_METHOD_V1\n",
        "  # Purpose \t:   A Program in Python for Static Method\n",
        "  # Author\t:   Deepsphere.ai\n",
        "  # Reviewer \t:   Jothi Periasamy\n",
        "  # Date and Time\t:   10/25/2022 \n",
        "  # Version\t:   1.0\t\n",
        "  \n",
        "# **************************************************************************************************\n",
        " \n",
        "## Program Description : A Program for Static Method in Python\n",
        "\n",
        "## Python Development Environment & Runtime - Python, Anaconda\n",
        "\n",
        "class vAR_CSLAB_Mathematics:\n",
        "\n",
        "    def vAR_CSLAB_addNumbers(x, y):\n",
        "        \n",
        "        return x + y\n",
        "\n",
        "# create addNumbers static method\n",
        "\n",
        "vAR_CSLAB_Mathematics.addNumbers = staticmethod(Mathematics.addNumbers)\n",
        "\n",
        "print('The sum is:', vAR_CSLAB_Mathematics.addNumbers(5, 10))\n",
        "   \n",
        "# **************************************************************************************\n",
        "# Disclaimer.\n",
        "\n",
        "# We are providing this code block strictly for learning and researching, this is not a production ready code. We have no liability on this particular code under any circumstances; users should use this code on their own risk. \n",
        "\n",
        "# All software, hardware and othr products that are referenced in these materials belong to the respective vendor who developed or who owns this product.\n",
        "\n",
        "# **************************************************************************************"
      ]
    }
  ],
  "metadata": {
    "colab": {
      "authorship_tag": "ABX9TyN3A2DN9f9A7kTt34gjk3sm",
      "include_colab_link": true,
      "provenance": []
    },
    "kernelspec": {
      "display_name": "Python 3",
      "name": "python3"
    },
    "language_info": {
      "name": "python"
    }
  },
  "nbformat": 4,
  "nbformat_minor": 0
}
