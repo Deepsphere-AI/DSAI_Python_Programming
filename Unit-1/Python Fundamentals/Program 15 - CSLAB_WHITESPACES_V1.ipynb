{
  "cells": [
    {
      "cell_type": "markdown",
      "metadata": {
        "colab_type": "text",
        "id": "view-in-github"
      },
      "source": [
        "<a href=\"https://colab.research.google.com/github/Deepsphere-AI/DSAI_Python_Programming/blob/main/unit-1/Python%20Fundamentals/Program%2015%20-%20CSLAB_WHITESPACES_V1.ipynb\" target=\"_parent\"><img src=\"https://colab.research.google.com/assets/colab-badge.svg\" alt=\"Open In Colab\"/></a>"
      ]
    },
    {
      "cell_type": "code",
      "execution_count": null,
      "metadata": {
        "id": "SxOcRwuX3Y5C"
      },
      "outputs": [],
      "source": [
        "\n",
        "# **************************************************************************************\n",
        "  \n",
        "  # File Name \t:   CSLAB_WHITESPACES\n",
        "  # Purpose \t:   A Program in Python for Whitespaces\n",
        "  # Author\t:   Deepsphere.ai\n",
        "  # Reviewer \t:   Jothi Periasamy\n",
        "  # Date \t:   10/21/2022 \n",
        "  # Version\t:   1.0\t\n",
        "  \n",
        "# **************************************************************************************\n",
        "  \n",
        "## Program Description : A Program for Whitespaces in Python\n",
        "\n",
        "## Python Development Environment & Runtime - Python, Anaconda\n",
        "\n",
        "vAR_CSLAB_X = 49\n",
        "\n",
        "for vAR_CSLAB_X in range(0, 5):\n",
        "  \n",
        "    print (vAR_CSLAB_X)\n",
        "    \n",
        "    print (2*vAR_CSLAB_X)\n",
        "\n",
        "    print (vAR_CSLAB_X)\n",
        "   \n",
        "# **************************************************************************************\n",
        "# Disclaimer.\n",
        "\n",
        "# We are providing this code block strictly for learning and researching, this is not a production ready code. We have no liability on this particular code under any circumstances; users should use this code on their own risk. \n",
        "\n",
        "# All software, hardware and othr products that are referenced in these materials belong to the respective vendor who developed or who owns this product.\n",
        "\n",
        "# ************************************************************************************"
      ]
    }
  ],
  "metadata": {
    "colab": {
      "authorship_tag": "ABX9TyPhk2H2DA36NGpuErZ/8xXO",
      "include_colab_link": true,
      "provenance": []
    },
    "kernelspec": {
      "display_name": "Python 3",
      "name": "python3"
    },
    "language_info": {
      "name": "python"
    }
  },
  "nbformat": 4,
  "nbformat_minor": 0
}
