{
  "cells": [
    {
      "cell_type": "markdown",
      "metadata": {
        "id": "view-in-github",
        "colab_type": "text"
      },
      "source": [
        "<a href=\"https://colab.research.google.com/github/Deepsphere-AI/DSAI_Python_Programming/blob/main/Unit-1/Python%20Fundamentals/Program%2015%20-%20CSLAB_WHITESPACES_V1.ipynb\" target=\"_parent\"><img src=\"https://colab.research.google.com/assets/colab-badge.svg\" alt=\"Open In Colab\"/></a>"
      ]
    },
    {
      "cell_type": "code",
      "execution_count": 1,
      "metadata": {
        "id": "SxOcRwuX3Y5C",
        "outputId": "d3cea7c6-3b75-4dde-ec32-02bec4e99b0a",
        "colab": {
          "base_uri": "https://localhost:8080/"
        }
      },
      "outputs": [
        {
          "output_type": "stream",
          "name": "stdout",
          "text": [
            "0\n",
            "0\n",
            "0\n",
            "1\n",
            "2\n",
            "1\n",
            "2\n",
            "4\n",
            "2\n",
            "3\n",
            "6\n",
            "3\n",
            "4\n",
            "8\n",
            "4\n"
          ]
        }
      ],
      "source": [
        "\n",
        "# **************************************************************************************\n",
        "  \n",
        "  # File Name \t:   CSLAB_WHITESPACES\n",
        "  # Purpose \t:   A Program in Python for Whitespaces\n",
        "  # Author\t:   Deepsphere.ai\n",
        "  # Reviewer \t:   Jothi Periasamy\n",
        "  # Date \t:   10/21/2022 \n",
        "  # Version\t:   1.0\t\n",
        "  \n",
        "# **************************************************************************************\n",
        "  \n",
        "## Program Description : A Program for Whitespaces in Python\n",
        "\n",
        "## Python Development Environment & Runtime - Python, Anaconda\n",
        "\n",
        "vAR_CSLAB_X = 49\n",
        "\n",
        "for vAR_CSLAB_X in range(0, 5):\n",
        "  \n",
        "    print (vAR_CSLAB_X)\n",
        "    \n",
        "    print (2*vAR_CSLAB_X)\n",
        "\n",
        "    print (vAR_CSLAB_X)\n",
        "   \n",
        "# **************************************************************************************\n",
        "# Disclaimer.\n",
        "\n",
        "# We are providing this code block strictly for learning and researching, this is not a production ready code. We have no liability on this particular code under any circumstances; users should use this code on their own risk. \n",
        "\n",
        "# All software, hardware and othr products that are referenced in these materials belong to the respective vendor who developed or who owns this product.\n",
        "\n",
        "# ************************************************************************************"
      ]
    },
    {
      "cell_type": "code",
      "source": [
        "## Whitespaces are the characters such as spaces, tabs and newlines\n",
        "\n",
        "vAR_STRING1 = ' ' ## strimg with a Space \n",
        "print(vAR_STRING1.isspace())\n",
        "\n",
        "vAR_STRING2 = '' ## strimg without a Space\n",
        "print(vAR_STRING2.isspace())\n",
        "\n",
        "vAR_STRING3 = '\\n \\t' ## New Line and Horizontal Tab \n",
        "print(vAR_STRING3.isspace())\n",
        "\n",
        "vAR_STRING4 = '\\r\\t\\n' ## Carraige Return, Horizontal Tab and New Line \n",
        "print(vAR_STRING4.isspace())"
      ],
      "metadata": {
        "id": "OiUrG5kuuDT-",
        "outputId": "233dbb36-0698-4f48-d07e-bc6984b358c8",
        "colab": {
          "base_uri": "https://localhost:8080/"
        }
      },
      "execution_count": 11,
      "outputs": [
        {
          "output_type": "stream",
          "name": "stdout",
          "text": [
            "True\n",
            "False\n",
            "True\n",
            "True\n"
          ]
        }
      ]
    },
    {
      "cell_type": "code",
      "source": [],
      "metadata": {
        "id": "kVaRV76uwFIi"
      },
      "execution_count": null,
      "outputs": []
    }
  ],
  "metadata": {
    "colab": {
      "provenance": [],
      "include_colab_link": true
    },
    "kernelspec": {
      "display_name": "Python 3",
      "name": "python3"
    },
    "language_info": {
      "name": "python"
    }
  },
  "nbformat": 4,
  "nbformat_minor": 0
}