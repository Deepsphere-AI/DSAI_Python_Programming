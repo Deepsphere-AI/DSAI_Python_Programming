{
  "cells": [
    {
      "cell_type": "markdown",
      "metadata": {
        "colab_type": "text",
        "id": "view-in-github"
      },
      "source": [
        "<a href=\"https://colab.research.google.com/github/Deepsphere-AI/DSAI_Python_Programming/blob/main/Unit-1/Python%20Fundamentals/Program%2025%20-%20CSLAB_ACCEPTING_VARIABLE_ARGUMENTS_V1.ipynb\" target=\"_parent\"><img src=\"https://colab.research.google.com/assets/colab-badge.svg\" alt=\"Open In Colab\"/></a>"
      ]
    },
    {
      "cell_type": "code",
      "execution_count": null,
      "metadata": {
        "id": "6p-cyWym-mqH"
      },
      "outputs": [],
      "source": [
        "\n",
        "# **************************************************************************************\n",
        "  \n",
        "  # File Name \t:   CSLAB_ACCEPTING_VARIABLE_ARGUMENTS_V1\n",
        "  # Purpose \t:   A Program in Python for Accepting Variable Arguments\n",
        "  # Author\t:   Deepsphere.ai\n",
        "  # Reviewer \t:   Jothi Periasamy\n",
        "  # Date \t:   10/21/2022 \n",
        "  # Version\t:   1.0\t\n",
        "  \n",
        "\n",
        "# **************************************************************************************\n",
        " \n",
        "## Program Description : A Program for Accepting Variable Arguments in Python\n",
        "\n",
        "## Python Development Environment & Runtime - Python, Anaconda\n",
        "\n",
        "def vAR_CSLAB_myFun(vAR_CSLAB_arg1, vAR_CSLAB_arg2, vAR_CSLAB_arg3): \n",
        "    print(\"arg1:\", vAR_CSLAB_arg1) \n",
        "    print(\"arg2:\", vAR_CSLAB_arg2) \n",
        "    print(\"arg3:\", vAR_CSLAB_arg3) \n",
        "      \n",
        "# Now we can use *args or **kwargs to \n",
        "# pass arguments to this function :  \n",
        "\n",
        "vAR_CSLAB_args = (\"Geeks\", \"for\", \"Geeks\") \n",
        "vAR_CSLAB_myFun(*vAR_CSLAB_args) \n",
        "  \n",
        "vAR_CSLAB_kwargs = {\"vAR_CSLAB_arg1\" : \"Geeks\", \"vAR_CSLAB_arg2\" : \"for\", \"vAR_CSLAB_arg3\" : \"Geeks\"} \n",
        "vAR_CSLAB_myFun(**vAR_CSLAB_kwargs)\n",
        "   \n",
        "# **************************************************************************************\n",
        "# Disclaimer.\n",
        "\n",
        "# We are providing this code block strictly for learning and researching, this is not a production ready code. We have no liability on this particular code under any circumstances; users should use this code on their own risk. \n",
        "\n",
        "# All software, hardware and othr products that are referenced in these materials belong to the respective vendor who developed or who owns this product.\n",
        "\n",
        "# **************************************************************************************\n",
        "  "
      ]
    }
  ],
  "metadata": {
    "colab": {
      "authorship_tag": "ABX9TyNqIrsb9YV/M5WSa7lj2/wJ",
      "include_colab_link": true,
      "provenance": []
    },
    "kernelspec": {
      "display_name": "Python 3",
      "name": "python3"
    },
    "language_info": {
      "name": "python"
    }
  },
  "nbformat": 4,
  "nbformat_minor": 0
}
