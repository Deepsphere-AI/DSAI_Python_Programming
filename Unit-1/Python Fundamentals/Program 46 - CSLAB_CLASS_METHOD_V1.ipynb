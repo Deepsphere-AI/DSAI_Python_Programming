{
  "nbformat": 4,
  "nbformat_minor": 0,
  "metadata": {
    "colab": {
      "provenance": [],
      "authorship_tag": "ABX9TyOFtm0f6+fD/P685UI7lq7s",
      "include_colab_link": true
    },
    "kernelspec": {
      "name": "python3",
      "display_name": "Python 3"
    },
    "language_info": {
      "name": "python"
    }
  },
  "cells": [
    {
      "cell_type": "markdown",
      "metadata": {
        "id": "view-in-github",
        "colab_type": "text"
      },
      "source": [
        "<a href=\"https://colab.research.google.com/github/Deepsphere-AI/DSAI_Python_Programming/blob/main/Unit-1/Python%20Fundamentals/Program%2046%20-%20CSLAB_CLASS_METHOD_V1.ipynb\" target=\"_parent\"><img src=\"https://colab.research.google.com/assets/colab-badge.svg\" alt=\"Open In Colab\"/></a>"
      ]
    },
    {
      "cell_type": "code",
      "execution_count": null,
      "metadata": {
        "id": "V_-6L3KTjAPK"
      },
      "outputs": [],
      "source": [
        "\n",
        "# **************************************************************************************************\n",
        "  \n",
        "  # File Name \t:   CSLAB_CLASS_METHOD_V1\n",
        "  # Purpose \t:   A Program in Python for Class Method\n",
        "  # Author\t:   Deepsphere.ai\n",
        "  # Reviewer \t:   Jothi Periasamy\n",
        "  # Date \t:   10/25/2022 \n",
        "  # Version\t:   1.0\t\n",
        " \n",
        "# **************************************************************************************************\n",
        " \n",
        "## Program Description : A Program for Class Method in Python\n",
        "\n",
        "## Python Development Environment & Runtime - Python, Anaconda\n",
        "\n",
        "class vAR_CSLAB_Person:\n",
        "    \n",
        "    vAR_CSLAB_age = 25\n",
        "\n",
        "    def vAR_CSLAB_printAge(cls):\n",
        "        \n",
        "        print('The age is:', cls.age)\n",
        "\n",
        "# create printAge class method\n",
        "\n",
        "vAR_CSLAB_Person.printAge = classmethod(Person.printAge)\n",
        "\n",
        "Person.printAge()\n",
        "                    \n",
        "   \n",
        "# **************************************************************************************\n",
        "# Disclaimer.\n",
        "\n",
        "# We are providing this code block strictly for learning and researching, this is not a production ready code. We have no liability on this particular code under any circumstances; users should use this code on their own risk. \n",
        "\n",
        "# All software, hardware and othr products that are referenced in these materials belong to the respective vendor who developed or who owns this product.\n",
        "\n",
        "# **************************************************************************************"
      ]
    }
  ]
}