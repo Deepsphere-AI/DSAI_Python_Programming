{
  "cells": [
    {
      "cell_type": "markdown",
      "metadata": {
        "colab_type": "text",
        "id": "view-in-github"
      },
      "source": [
        "<a href=\"https://colab.research.google.com/github/Deepsphere-AI/DSAI_Python_Programming/blob/main/Unit-1/Python%20Fundamentals/Program%2012%20-%20CSLAB_IF_ELSE_STATEMENT_V1.ipynb\" target=\"_parent\"><img src=\"https://colab.research.google.com/assets/colab-badge.svg\" alt=\"Open In Colab\"/></a>"
      ]
    },
    {
      "cell_type": "code",
      "execution_count": null,
      "metadata": {
        "id": "dKSCG1pNtaea"
      },
      "outputs": [],
      "source": [
        "\n",
        "# **************************************************************************************\n",
        "  \n",
        "  # File Name :   CSLAB_IF_ELSE_STATEMENT\n",
        "  # Purpose \t:   A Program in Python for Ifelse Statement\n",
        "  # Author\t  :   Deepsphere.ai\n",
        "  # Reviewer \t:   Jothi Periasamy\n",
        "  # Date \t    :   10/21/2022 \n",
        "  # Version\t  :   1.0\t\n",
        "  \n",
        "# **************************************************************************************\n",
        "\n",
        "## Program Description : A Program for IF Else Statement in Python\n",
        "\n",
        "## Python Development Environment & Runtime - Python, Anaconda\n",
        "\n",
        "vAR_CSLAB1 = 100\n",
        "\n",
        "if vAR_CSLAB1 :\n",
        "   \n",
        "    print (\"1 - Got a true expression value\")\n",
        "   \n",
        "    print (vAR_CSLAB1)\n",
        "\n",
        "else:\n",
        "   \n",
        "    print (\"1 - Got a false expression value\")\n",
        "   \n",
        "    print (vAR_CSLAB1)\n",
        "\n",
        "vAR_CSLAB2 = 0\n",
        "\n",
        "if vAR_CSLAB2:\n",
        "   \n",
        "    print (\"2 - Got a true expression value\")\n",
        "   \n",
        "    print (vAR_CSLAB2)\n",
        "\n",
        "else:\n",
        "   \n",
        "    print (\"2 - Got a false expression value\")\n",
        "   \n",
        "    print (vAR_CSLAB2)\n",
        "\n",
        "    print (\"Good bye!\")\n",
        "   \n",
        "# **************************************************************************************\n",
        "# Disclaimer.\n",
        "\n",
        "# We are providing this code block strictly for learning and researching, this is not a production ready code. We have no liability on this particular code under any circumstances; users should use this code on their own risk. \n",
        "\n",
        "# All software, hardware and othr products that are referenced in these materials belong to the respective vendor who developed or who owns this product.\n",
        "\n",
        "# ************************************************************************************"
      ]
    }
  ],
  "metadata": {
    "colab": {
      "authorship_tag": "ABX9TyNCRqqF5kbkzd0A50aT7EIm",
      "include_colab_link": true,
      "provenance": []
    },
    "kernelspec": {
      "display_name": "Python 3.9.13 64-bit (microsoft store)",
      "language": "python",
      "name": "python3"
    },
    "language_info": {
      "name": "python",
      "version": "3.9.13"
    },
    "vscode": {
      "interpreter": {
        "hash": "f7161cb5baffb24dee6a1726ecc12fdf408657b8c9335ee291ca814aa42784e7"
      }
    }
  },
  "nbformat": 4,
  "nbformat_minor": 0
}
