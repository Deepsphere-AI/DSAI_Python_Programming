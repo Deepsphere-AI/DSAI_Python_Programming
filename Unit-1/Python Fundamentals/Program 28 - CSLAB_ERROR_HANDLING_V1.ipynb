{
  "nbformat": 4,
  "nbformat_minor": 0,
  "metadata": {
    "colab": {
      "provenance": [],
      "authorship_tag": "ABX9TyOMsrA0WEcp5CpSxleoII2P",
      "include_colab_link": true
    },
    "kernelspec": {
      "name": "python3",
      "display_name": "Python 3"
    },
    "language_info": {
      "name": "python"
    }
  },
  "cells": [
    {
      "cell_type": "markdown",
      "metadata": {
        "id": "view-in-github",
        "colab_type": "text"
      },
      "source": [
        "<a href=\"https://colab.research.google.com/github/Deepsphere-AI/DSAI_Python_Programming/blob/main/Unit-1/Python%20Fundamentals/Program%2028%20-%20CSLAB_ERROR_HANDLING_V1.ipynb\" target=\"_parent\"><img src=\"https://colab.research.google.com/assets/colab-badge.svg\" alt=\"Open In Colab\"/></a>"
      ]
    },
    {
      "cell_type": "code",
      "execution_count": null,
      "metadata": {
        "id": "wXOhmfr7QPBA"
      },
      "outputs": [],
      "source": [
        "\n",
        "# **************************************************************************************\n",
        "  \n",
        "#   File Name \t:   CSLAB_ERROR_HANDLING_V1\n",
        "#   Purpose \t:   A Program in Python for Error Handling\n",
        "#   Author\t:   Deepsphere.ai\n",
        "#   Reviewer \t:   Jothi Periasamy\n",
        "#   Date \t:   10/21/2022 \n",
        "#   Version\t:   1.0\t\n",
        "\n",
        "# **************************************************************************************\n",
        " \n",
        "## Program Description : A Program for Error Handling in Python\n",
        "\n",
        "## Python Development Environment & Runtime - Python, Anaconda\n",
        "\n",
        "vAR_CSLAB_Total_Marks = int(input(\"Enter Total Marks Scored: \"))\n",
        "\n",
        "vAR_CSLAB_Num_of_Sections = int(input(\"Enter Num of Sections: \"))\n",
        "\n",
        "vAR_CSLAB_Average = 0\n",
        "\n",
        "try:\n",
        "    vAR_CSLAB_Average = int(vAR_CSLAB_Total_Marks/vAR_CSLAB_Num_of_Sections)\n",
        "except ZeroDivisionError:\n",
        "\n",
        "    print(\"Error:There has to be atleast 1 or more than 1 sections.\")\n",
        "    \n",
        "print(\"Average marks scored per section is: \", vAR_CSLAB_Average)\n",
        "\n",
        "# **************************************************************************************\n",
        "# Disclaimer.\n",
        "\n",
        "# We are providing this code block strictly for learning and researching, this is not a production ready code. We have no liability on this particular code under any circumstances; users should use this code on their own risk. \n",
        "\n",
        "# All software, hardware and othr products that are referenced in these materials belong to the respective vendor who developed or who owns this product.\n",
        "\n",
        "# **************************************************************************************\n",
        "  "
      ]
    }
  ]
}