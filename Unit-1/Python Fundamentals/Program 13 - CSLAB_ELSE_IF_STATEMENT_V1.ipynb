{
  "cells": [
    {
      "cell_type": "markdown",
      "metadata": {
        "id": "view-in-github",
        "colab_type": "text"
      },
      "source": [
        "<a href=\"https://colab.research.google.com/github/Deepsphere-AI/DSAI_Python_Programming/blob/main/Unit-1/Python%20Fundamentals/Program%2013%20-%20CSLAB_ELSE_IF_STATEMENT_V1.ipynb\" target=\"_parent\"><img src=\"https://colab.research.google.com/assets/colab-badge.svg\" alt=\"Open In Colab\"/></a>"
      ]
    },
    {
      "cell_type": "code",
      "execution_count": 1,
      "metadata": {
        "id": "bGNxV7d8udbR",
        "outputId": "2213d1a3-7432-40a2-e6fe-bf727043acda",
        "colab": {
          "base_uri": "https://localhost:8080/"
        }
      },
      "outputs": [
        {
          "output_type": "stream",
          "name": "stdout",
          "text": [
            "3 - Got a true expression value\n",
            "100\n"
          ]
        }
      ],
      "source": [
        "\n",
        "# **************************************************************************************\n",
        "  \n",
        "  # File Name :   CSLAB_ELSE_IF_STATEMENT\n",
        "  # Purpose \t:   A Program in Python for Else If Statement\n",
        "  # Author\t  :   Deepsphere.ai\n",
        "  # Reviewer \t:   Jothi Periasamy\n",
        "  # Date    \t:   10/21/2022 \n",
        "  # Version\t  :   1.0\t\n",
        " \n",
        "# **************************************************************************************\n",
        "\n",
        "## Program Description : A Program for Else if Statement in Python\n",
        "\n",
        "## Python Development Environment & Runtime - Python, Anaconda\n",
        "\n",
        "vAR_CSLAB1 = 100\n",
        "\n",
        "if vAR_CSLAB1 == 200:\n",
        "    \n",
        "    print (\"1 - Got a true expression value\")\n",
        "   \n",
        "    print (vAR_CSLAB1)\n",
        "    \n",
        "elif vAR_CSLAB1 == 150:\n",
        "    \n",
        "    print (\"2 - Got a true expression value\")\n",
        "   \n",
        "    print(vAR_CSLAB1)\n",
        "\n",
        "elif vAR_CSLAB1 == 100:\n",
        "\n",
        "    print (\"3 - Got a true expression value\")\n",
        "   \n",
        "    print(vAR_CSLAB1)\n",
        "\n",
        "else:\n",
        "   \n",
        "    print (\"4 - Got a false expression value\")\n",
        "   \n",
        "    print (vAR_CSLAB1)\n",
        "\n",
        "    print (\"Good bye!\")\n",
        "   \n",
        "# **************************************************************************************\n",
        "# Disclaimer.\n",
        "\n",
        "# We are providing this code block strictly for learning and researching, this is not a production ready code. We have no liability on this particular code under any circumstances; users should use this code on their own risk. \n",
        "\n",
        "# All software, hardware and othr products that are referenced in these materials belong to the respective vendor who developed or who owns this product.\n",
        "\n",
        "# ************************************************************************************"
      ]
    }
  ],
  "metadata": {
    "colab": {
      "provenance": [],
      "include_colab_link": true
    },
    "kernelspec": {
      "display_name": "Python 3",
      "name": "python3"
    },
    "language_info": {
      "name": "python"
    }
  },
  "nbformat": 4,
  "nbformat_minor": 0
}