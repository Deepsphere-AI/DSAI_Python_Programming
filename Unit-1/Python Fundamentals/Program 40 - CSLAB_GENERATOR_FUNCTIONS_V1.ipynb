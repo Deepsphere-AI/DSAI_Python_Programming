{
  "nbformat": 4,
  "nbformat_minor": 0,
  "metadata": {
    "colab": {
      "provenance": [],
      "authorship_tag": "ABX9TyNpWKsZrVSBzEhiT/BR86rm",
      "include_colab_link": true
    },
    "kernelspec": {
      "name": "python3",
      "display_name": "Python 3"
    },
    "language_info": {
      "name": "python"
    }
  },
  "cells": [
    {
      "cell_type": "markdown",
      "metadata": {
        "id": "view-in-github",
        "colab_type": "text"
      },
      "source": [
        "<a href=\"https://colab.research.google.com/github/Deepsphere-AI/DSAI_Python_Programming/blob/main/Unit-1/Python%20Fundamentals/Program%2040%20-%20CSLAB_GENERATOR_FUNCTIONS_V1.ipynb\" target=\"_parent\"><img src=\"https://colab.research.google.com/assets/colab-badge.svg\" alt=\"Open In Colab\"/></a>"
      ]
    },
    {
      "cell_type": "code",
      "execution_count": null,
      "metadata": {
        "id": "PJ3cbbryX7YV"
      },
      "outputs": [],
      "source": [
        "\n",
        "# **************************************************************************************\n",
        "  \n",
        "#   File Name \t:   CSLAB_GENERATOR_FUNCTIONS_V1\n",
        "#   Purpose \t:   A Program in Python for Generator Functions\n",
        "#   Author\t:   Deepsphere.ai\n",
        "#   Reviewer \t:   Jothi Periasamy\n",
        "#   Date \t:   10/25/2022 \n",
        "#   Version\t:   1.0\t\n",
        "  \n",
        "\n",
        "# **************************************************************************************\n",
        "\n",
        "## Program Description : A Program for Generator Functions in Python\n",
        "\n",
        "## Python Development Environment & Runtime - Python, Anaconda\n",
        "\n",
        "def vAR_CSLAB_fib(vAR_CSLAB_limit): \n",
        "      \n",
        "    # Initialize first two Fibonacci Numbers  \n",
        "    vAR_CSLAB_a, vAR_CSLAB_b = 0, 1\n",
        "  \n",
        "    # One by one yield next Fibonacci Number \n",
        "    while vAR_CSLAB_a < vAR_CSLAB_limit: \n",
        "        yield vAR_CSLAB_a \n",
        "        vAR_CSLAB_a, vAR_CSLAB_b = vAR_CSLAB_b, vAR_CSLAB_a + vAR_CSLAB_b \n",
        "  \n",
        "# Create a generator object \n",
        "vAR_CSLAB_x = vAR_CSLAB_fib(5) \n",
        "  \n",
        "# Iterating over the generator object using next \n",
        "print(vAR_CSLAB_x. __next__() ); # In Python 3, __next__() \n",
        "print(vAR_CSLAB_x. __next__() ); \n",
        "print(vAR_CSLAB_x. __next__() ); \n",
        "print(vAR_CSLAB_x. __next__() ); \n",
        "print(vAR_CSLAB_x. __next__() ); \n",
        "  \n",
        "# Iterating over the generator object using for \n",
        "# in loop. \n",
        "print(\"\\nUsing for in loop\") \n",
        "for i in fib(5):  \n",
        "    print(i) \n",
        "\n",
        "# **************************************************************************************\n",
        "# Disclaimer.\n",
        "\n",
        "# We are providing this code block strictly for learning and researching, this is not a production ready code. We have no liability on this particular code under any circumstances; users should use this code on their own risk. \n",
        "\n",
        "# All software, hardware and othr products that are referenced in these materials belong to the respective vendor who developed or who owns this product.\n",
        "\n",
        "# **************************************************************************************\n",
        "  "
      ]
    }
  ]
}