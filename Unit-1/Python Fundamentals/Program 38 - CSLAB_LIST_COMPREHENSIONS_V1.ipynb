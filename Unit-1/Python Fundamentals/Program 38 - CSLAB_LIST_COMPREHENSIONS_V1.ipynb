{
  "nbformat": 4,
  "nbformat_minor": 0,
  "metadata": {
    "colab": {
      "provenance": [],
      "include_colab_link": true
    },
    "kernelspec": {
      "name": "python3",
      "display_name": "Python 3"
    },
    "language_info": {
      "name": "python"
    }
  },
  "cells": [
    {
      "cell_type": "markdown",
      "metadata": {
        "id": "view-in-github",
        "colab_type": "text"
      },
      "source": [
        "<a href=\"https://colab.research.google.com/github/Deepsphere-AI/DSAI_Python_Programming/blob/main/Unit-1/Python%20Fundamentals/Program%2038%20-%20CSLAB_LIST_COMPREHENSIONS_V1.ipynb\" target=\"_parent\"><img src=\"https://colab.research.google.com/assets/colab-badge.svg\" alt=\"Open In Colab\"/></a>"
      ]
    },
    {
      "cell_type": "code",
      "execution_count": 2,
      "metadata": {
        "id": "mmHXJ07xWb8N",
        "outputId": "4b9a8db5-cdc4-43a3-8d96-23beac1d517c",
        "colab": {
          "base_uri": "https://localhost:8080/"
        }
      },
      "outputs": [
        {
          "output_type": "stream",
          "name": "stdout",
          "text": [
            "[102.56, 97.7, 99.14, 100.03999999999999]\n"
          ]
        }
      ],
      "source": [
        "\n",
        "# **************************************************************************************\n",
        "  \n",
        "#   File Name \t:   CSLAB_LIST_COMPREHENSIONS_V1\n",
        "#   Purpose \t:   A Program in Python for List Comprehensions\n",
        "#   Author\t:   Deepsphere.ai\n",
        "#   Reviewer \t:   Jothi Periasamy\n",
        "#   Date \t:   10/25/2022 \n",
        "#   Version\t:   1.0\t\n",
        "  \n",
        "# **************************************************************************************\n",
        "\n",
        "## Program Description : A Program for List Comprehensions in Python\n",
        "\n",
        "## Python Development Environment & Runtime - Python, Anaconda\n",
        "\n",
        "vAR_CSLAB_Celsius = [39.2, 36.5, 37.3, 37.8]\n",
        "\n",
        "vAR_CSLAB_Fahrenheit = [ ((float(9)/5)*x + 32) for x in vAR_CSLAB_Celsius ]\n",
        "\n",
        "print (vAR_CSLAB_Fahrenheit)\n",
        "\n",
        "# **************************************************************************************\n",
        "# Disclaimer.\n",
        "\n",
        "# We are providing this code block strictly for learning and researching, this is not a production ready code. We have no liability on this particular code under any circumstances; users should use this code on their own risk. \n",
        "\n",
        "# All software, hardware and othr products that are referenced in these materials belong to the respective vendor who developed or who owns this product.\n",
        "\n",
        "# **************************************************************************************\n",
        "  "
      ]
    }
  ]
}