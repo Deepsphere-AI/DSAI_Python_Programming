{
  "cells": [
    {
      "cell_type": "markdown",
      "metadata": {
        "id": "view-in-github",
        "colab_type": "text"
      },
      "source": [
        "<a href=\"https://colab.research.google.com/github/Deepsphere-AI/DSAI_Python_Programming/blob/main/Unit-1/Python%20Fundamentals/Program%2022%20-%20CSLAB_LOOP_ELSE_V1.ipynb\" target=\"_parent\"><img src=\"https://colab.research.google.com/assets/colab-badge.svg\" alt=\"Open In Colab\"/></a>"
      ]
    },
    {
      "cell_type": "code",
      "execution_count": 1,
      "metadata": {
        "id": "ZpjC0mkq8pPu",
        "outputId": "a20b2a11-696a-479a-a38d-87d4ae4913d5",
        "colab": {
          "base_uri": "https://localhost:8080/"
        }
      },
      "outputs": [
        {
          "output_type": "stream",
          "name": "stdout",
          "text": [
            "2 is a prime number\n",
            "3 is a prime number\n",
            "4 equals 2 * 2.0\n",
            "5 is a prime number\n",
            "6 equals 2 * 3.0\n",
            "7 is a prime number\n",
            "8 equals 2 * 4.0\n",
            "9 equals 3 * 3.0\n"
          ]
        }
      ],
      "source": [
        "\n",
        "# **************************************************************************************\n",
        "  \n",
        "  # File Name \t:   CSLAB_LOOP_ELSE_V1\n",
        "  # Purpose \t:   A Program in Python for LOOP-ELSE\n",
        "  # Author\t:   Deepsphere.ai\n",
        "  # Reviewer \t:   Jothi Periasamy\n",
        "  # Date \t:   10/21/2022 \n",
        "  # Version\t:   1.0\t\n",
        "  \n",
        "# **************************************************************************************\n",
        " \n",
        "## Program Description : A Program for Else Statement in Loops in Python\n",
        "\n",
        "## Python Development Environment & Runtime - Python, Anaconda\n",
        "\n",
        "for vAR_CSLAB_n in range(2, 10):\n",
        "    for vAR_CSLAB_x in range(2, vAR_CSLAB_n):\n",
        "        if vAR_CSLAB_n % vAR_CSLAB_x == 0:\n",
        "            print(vAR_CSLAB_n, 'equals', vAR_CSLAB_x, '*', vAR_CSLAB_n/vAR_CSLAB_x)\n",
        "            break\n",
        "    else:\n",
        "        # loop fell through without finding a factor\n",
        "        print(vAR_CSLAB_n, 'is a prime number')\n",
        "   \n",
        "# **************************************************************************************\n",
        "# Disclaimer.\n",
        "\n",
        "# We are providing this code block strictly for learning and researching, this is not a production ready code. We have no liability on this particular code under any circumstances; users should use this code on their own risk. \n",
        "\n",
        "# All software, hardware and othr products that are referenced in these materials belong to the respective vendor who developed or who owns this product.\n",
        "\n",
        "# **************************************************************************************\n",
        "  "
      ]
    }
  ],
  "metadata": {
    "colab": {
      "provenance": [],
      "include_colab_link": true
    },
    "kernelspec": {
      "display_name": "Python 3.9.13 64-bit (microsoft store)",
      "language": "python",
      "name": "python3"
    },
    "language_info": {
      "name": "python",
      "version": "3.9.13"
    },
    "vscode": {
      "interpreter": {
        "hash": "f7161cb5baffb24dee6a1726ecc12fdf408657b8c9335ee291ca814aa42784e7"
      }
    }
  },
  "nbformat": 4,
  "nbformat_minor": 0
}