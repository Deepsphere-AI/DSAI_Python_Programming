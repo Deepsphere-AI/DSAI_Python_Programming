{
  "nbformat": 4,
  "nbformat_minor": 0,
  "metadata": {
    "colab": {
      "provenance": [],
      "authorship_tag": "ABX9TyMCoCdyC0ppBUOKRxSc6pBh",
      "include_colab_link": true
    },
    "kernelspec": {
      "name": "python3",
      "display_name": "Python 3"
    },
    "language_info": {
      "name": "python"
    }
  },
  "cells": [
    {
      "cell_type": "markdown",
      "metadata": {
        "id": "view-in-github",
        "colab_type": "text"
      },
      "source": [
        "<a href=\"https://colab.research.google.com/github/Deepsphere-AI/DSAI_Python_Programming/blob/main/Unit-1/Python%20Fundamentals/Program%2042%20-%20CSLAB_ITERTOOLS_IZIP_V1.ipynb\" target=\"_parent\"><img src=\"https://colab.research.google.com/assets/colab-badge.svg\" alt=\"Open In Colab\"/></a>"
      ]
    },
    {
      "cell_type": "code",
      "execution_count": null,
      "metadata": {
        "id": "X0auo6sbbuHQ"
      },
      "outputs": [],
      "source": [
        "\n",
        "# **************************************************************************************\n",
        "  \n",
        "  # File Name \t:   CSLAB_ITERTOOLS_IZIP_V1\n",
        "  # Purpose \t:   A Program in Python for Iter Tools - Izip()\n",
        "  # Author\t:   Deepsphere.ai\n",
        "  # Reviewer \t:   Jothi Periasamy\n",
        "  # Date \t:   10/25/2022 \n",
        "  # Version\t:   1.0\t\n",
        "\n",
        "# **************************************************************************************\n",
        "\n",
        "## Program Description : A Program for Iter Tools - IZIP in Python\n",
        "\n",
        "## Python Development Environment & Runtime - Python, Anaconda\n",
        "\n",
        "vAR_CSLAB_name = ['Jimmy', 'Robert', 'John Paul', 'John']\n",
        "\n",
        "vAR_CSLAB_instruments = ['Guitar', 'Vocals', 'Bass', 'Drums']\n",
        "\n",
        "vAR_CSLAB_zepp = zip(vAR_CSLAB_name, vAR_CSLAB_instruments)\n",
        "\n",
        "vAR_CSLAB_zepp\n",
        "\n",
        "[vAR_CSLAB_musician for vAR_CSLAB_musician in vAR_CSLAB_zepp]\n",
        "\n",
        "# **************************************************************************************\n",
        "# Disclaimer.\n",
        "\n",
        "# We are providing this code block strictly for learning and researching, this is not a production ready code. We have no liability on this particular code under any circumstances; users should use this code on their own risk. \n",
        "\n",
        "# All software, hardware and othr products that are referenced in these materials belong to the respective vendor who developed or who owns this product.\n",
        "\n",
        "# **************************************************************************************\n",
        "  "
      ]
    }
  ]
}