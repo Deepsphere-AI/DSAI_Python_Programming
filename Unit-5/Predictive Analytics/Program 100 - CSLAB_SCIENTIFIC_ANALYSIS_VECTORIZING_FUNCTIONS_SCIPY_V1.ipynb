{
  "nbformat": 4,
  "nbformat_minor": 0,
  "metadata": {
    "colab": {
      "provenance": [],
      "authorship_tag": "ABX9TyOwW/Ftwq/ZUTnrOREDdcT3",
      "include_colab_link": true
    },
    "kernelspec": {
      "name": "python3",
      "display_name": "Python 3"
    },
    "language_info": {
      "name": "python"
    }
  },
  "cells": [
    {
      "cell_type": "markdown",
      "metadata": {
        "id": "view-in-github",
        "colab_type": "text"
      },
      "source": [
        "<a href=\"https://colab.research.google.com/github/Deepsphere-AI/DSAI_Python_Programming/blob/main/Unit-5/Predictive%20Analytics/Program%20100%20-%20CSLAB_SCIENTIFIC_ANALYSIS_VECTORIZING_FUNCTIONS_SCIPY_V1.ipynb\" target=\"_parent\"><img src=\"https://colab.research.google.com/assets/colab-badge.svg\" alt=\"Open In Colab\"/></a>"
      ]
    },
    {
      "cell_type": "code",
      "execution_count": null,
      "metadata": {
        "id": "n2b-jlNCiK5X"
      },
      "outputs": [],
      "source": [
        "\n",
        "# *********************************************************************************************************************\n",
        "  \n",
        "  # File Name \t:   CSLAB_SCIENTIFIC_ANALYSIS_VECTORIZING_FUNCTIONS_SCIPY_V1\n",
        "  # Purpose \t:   A Program in Python for Vectorizing Functions in scipy\n",
        "  # Author\t:  Deepsphere.ai\n",
        "  # Reviewer \t:   Jothi Periasamy\n",
        "  # Date \t:   10/26/2022\n",
        "  # Version\t:   1.0\t\n",
        "  \n",
        "# ***********************************************************************************************************************\n",
        "\n",
        "## Program Description : Program for Vectorizing Functions in scipy in Python\n",
        "\n",
        "## Python Development Environment & Runtime - Python, Anaconda\n",
        "\n",
        "from scipy import *\n",
        " \n",
        "def addsubtract(vAR_CSLAB_A,vAR_CSLAB_B):\n",
        "    \n",
        "    if vAR_CSLAB_A > vAR_CSLAB_B:  \n",
        "        \n",
        "        return vAR_CSLAB_A - vAR_CSLAB_B  \n",
        "    \n",
        "    else:  \n",
        "        \n",
        "        return vAR_CSLAB_A + vAR_CSLAB_B\n",
        "\n",
        "vAR_CSLAB_vec_addsubtract = vectorize(addsubtract)\n",
        "\n",
        "vAR_CSLAB_vec_addsubtract([0,3,6,9],[1,3,5,7])\n",
        "\n",
        "print(addsubtract(5,6))\n",
        "\n",
        "print(addsubtract(6,5))\n",
        "\n",
        "# ****************************************************************************************************************************\n",
        "#   Disclaimer.\n",
        "\n",
        "# We are providing this code block strictly for learning and researching, this is not a production\n",
        "# ready code. We have no liability on this particular code under any circumstances; users should use\n",
        "# this code on their own risk. All software, hardware and othr products that are referenced in these \n",
        "# materials belong to the respective vendor who developed or who owns this product.\n",
        "\n",
        "# ****************************************************************************************************************************\n",
        "  "
      ]
    }
  ]
}