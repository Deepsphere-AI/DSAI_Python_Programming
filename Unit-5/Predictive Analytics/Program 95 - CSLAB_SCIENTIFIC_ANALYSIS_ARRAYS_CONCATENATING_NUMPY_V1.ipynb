{
  "nbformat": 4,
  "nbformat_minor": 0,
  "metadata": {
    "colab": {
      "provenance": [],
      "include_colab_link": true
    },
    "kernelspec": {
      "name": "python3",
      "display_name": "Python 3"
    },
    "language_info": {
      "name": "python"
    }
  },
  "cells": [
    {
      "cell_type": "markdown",
      "metadata": {
        "id": "view-in-github",
        "colab_type": "text"
      },
      "source": [
        "<a href=\"https://colab.research.google.com/github/Deepsphere-AI/DSAI_Python_Programming/blob/main/Unit-5/Predictive%20Analytics/Program%2095%20-%20CSLAB_SCIENTIFIC_ANALYSIS_ARRAYS_CONCATENATING_NUMPY_V1.ipynb\" target=\"_parent\"><img src=\"https://colab.research.google.com/assets/colab-badge.svg\" alt=\"Open In Colab\"/></a>"
      ]
    },
    {
      "cell_type": "code",
      "execution_count": 24,
      "metadata": {
        "id": "IF2oGBCjafYF",
        "colab": {
          "base_uri": "https://localhost:8080/"
        },
        "outputId": "6360c410-bad9-4592-9f07-14de7c52d664"
      },
      "outputs": [
        {
          "output_type": "stream",
          "name": "stdout",
          "text": [
            "[1 2 3 4 5 6]\n",
            "[[1 2]\n",
            " [3 4]\n",
            " [5 6]]\n",
            "[[1 2 5]\n",
            " [3 4 6]]\n",
            "[[1 4]\n",
            " [2 5]\n",
            " [3 6]]\n",
            "[1 2 3 4 5 6]\n",
            "[[1 2 3]\n",
            " [4 5 6]]\n"
          ]
        }
      ],
      "source": [
        "\n",
        "# *********************************************************************************************************************\n",
        "  \n",
        "  # File Name \t:   CSLAB_SCIENTIFIC_ANALYSIS_ARRAYS_CONCATENATING_NUMPY_V1\n",
        "  # Purpose \t:   A Program in Python for Concatenating Arrays using Numpy\n",
        "  # Author\t:   Deepsphere.ai\n",
        "  # Reviewer \t:   Jothi Periasamy\n",
        "  # Date \t:   10/26/2022\n",
        "  # Version\t:   1.0\t\n",
        "  \n",
        "# ***********************************************************************************************************************\n",
        "\n",
        "## Program Description : Program for Concatenating Arrays using Numpy in Python\n",
        "\n",
        "## Python Development Environment & Runtime - Python, Anaconda\n",
        "\n",
        "import numpy as vAR_np\n",
        "\n",
        "vAR_CSLAB_ARRAY1 = vAR_np.array([[1, 2], [3, 4]])\n",
        "\n",
        "vAR_CSLAB_ARRAY2 = vAR_np.array([[5, 6]])\n",
        "\n",
        "print(vAR_np.concatenate((vAR_CSLAB_ARRAY1, vAR_CSLAB_ARRAY2), axis=None))\n",
        "\n",
        "print(vAR_np.concatenate((vAR_CSLAB_ARRAY1, vAR_CSLAB_ARRAY2), axis=0))\n",
        "\n",
        "print(vAR_np.concatenate((vAR_CSLAB_ARRAY1, vAR_CSLAB_ARRAY2.T), axis=1))\n",
        "\n",
        "\n",
        "vAR_CSLAB_ARRAY3 = vAR_np.array([1, 2, 3])\n",
        "\n",
        "vAR_CSLAB_ARRAY4 = vAR_np.array([4, 5, 6])\n",
        "\n",
        "vAR_CSLAB_ARRAY5 = vAR_np.stack((vAR_CSLAB_ARRAY3, vAR_CSLAB_ARRAY4), axis=1)\n",
        "\n",
        "print(vAR_CSLAB_ARRAY5)\n",
        "\n",
        "\n",
        "vAR_CSLAB_ARRAY6 = vAR_np.hstack((vAR_CSLAB_ARRAY3, vAR_CSLAB_ARRAY4))\n",
        "\n",
        "print(vAR_CSLAB_ARRAY6)\n",
        "\n",
        "\n",
        "vAR_CSLAB_ARRAY7 = vAR_np.vstack((vAR_CSLAB_ARRAY3, vAR_CSLAB_ARRAY4))\n",
        "\n",
        "print(vAR_CSLAB_ARRAY7)\n",
        "\n",
        "# ****************************************************************************************************************************\n",
        "#   Disclaimer.\n",
        "\n",
        "# We are providing this code block strictly for learning and researching, this is not a production\n",
        "# ready code. We have no liability on this particular code under any circumstances; users should use\n",
        "# this code on their own risk. All software, hardware and othr products that are referenced in these \n",
        "# materials belong to the respective vendor who developed or who owns this product.\n",
        "\n",
        "# ****************************************************************************************************************************\n",
        "  "
      ]
    },
    {
      "cell_type": "code",
      "source": [],
      "metadata": {
        "id": "XGVh3YKSxUJU"
      },
      "execution_count": null,
      "outputs": []
    }
  ]
}