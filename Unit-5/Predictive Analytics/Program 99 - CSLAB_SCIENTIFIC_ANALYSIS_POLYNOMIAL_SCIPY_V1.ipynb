{
  "nbformat": 4,
  "nbformat_minor": 0,
  "metadata": {
    "colab": {
      "provenance": [],
      "include_colab_link": true
    },
    "kernelspec": {
      "name": "python3",
      "display_name": "Python 3"
    },
    "language_info": {
      "name": "python"
    }
  },
  "cells": [
    {
      "cell_type": "markdown",
      "metadata": {
        "id": "view-in-github",
        "colab_type": "text"
      },
      "source": [
        "<a href=\"https://colab.research.google.com/github/Deepsphere-AI/DSAI_Python_Programming/blob/main/Unit-5/Predictive%20Analytics/Program%2099%20-%20CSLAB_SCIENTIFIC_ANALYSIS_POLYNOMIAL_SCIPY_V1.ipynb\" target=\"_parent\"><img src=\"https://colab.research.google.com/assets/colab-badge.svg\" alt=\"Open In Colab\"/></a>"
      ]
    },
    {
      "cell_type": "code",
      "execution_count": 15,
      "metadata": {
        "id": "DlJA1dp9hjak",
        "colab": {
          "base_uri": "https://localhost:8080/"
        },
        "outputId": "7d36a498-c762-4647-a711-1ba93d10ac58"
      },
      "outputs": [
        {
          "output_type": "stream",
          "name": "stdout",
          "text": [
            "   2\n",
            "3 x + 4 x + 5\n",
            "   2\n",
            "3 x + 4 x + 7\n",
            "   2\n",
            "6 x + 8 x + 10\n",
            "     2\n",
            "1.5 x + 2 x + 2.5\n",
            "   2\n",
            "2 x + 4\n",
            "    2\n",
            "-2 x + 2 x - 2\n",
            "   3     2\n",
            "2 x + 1 x + 2 x + 3\n",
            "(poly1d([0.]), poly1d([1., 1.]))\n",
            " \n",
            "4 x - 1\n",
            " \n",
            "4\n"
          ]
        }
      ],
      "source": [
        "\n",
        "# *********************************************************************************************************************\n",
        "  \n",
        "  # File Name \t:   CSLAB_SCIENTIFIC_ANALYSIS_POLYNOMIAL_SCIPY_V1\n",
        "  # Purpose \t:   A Program in Python for Polynomials in scipy\n",
        "  # Author\t:   Deepsphere.ai\n",
        "  # Reviewer \t:   Jothi Periasamy\n",
        "  # Date \t:   10/26/2022\n",
        "  # Version\t:   1.0\t\n",
        "  \n",
        "# ***********************************************************************************************************************\n",
        "\n",
        "## Program Description : Program for Polynomials using scipy in Python\n",
        "\n",
        "## Python Development Environment & Runtime - Python, Anaconda\n",
        "  \n",
        "from scipy import *\n",
        " \n",
        "## Mathematical Manipulation\n",
        "\n",
        "vAR_CSLAB_P = poly1d([3,4,5])\n",
        "\n",
        "print(vAR_CSLAB_P)\n",
        "\n",
        "print(vAR_CSLAB_P + 2)\n",
        "\n",
        "print(vAR_CSLAB_P * 2)\n",
        "\n",
        "print(vAR_CSLAB_P / 2)\n",
        "\n",
        "\n",
        "vAR_CSLAB_P = poly1d ([1, 1]) # p(x) ≡ x + 1\n",
        "\n",
        "vAR_CSLAB_Q = poly1d ([2, -1, 3])\n",
        "\n",
        "print(vAR_CSLAB_P + vAR_CSLAB_Q)\n",
        "\n",
        "print(vAR_CSLAB_P - vAR_CSLAB_Q)\n",
        "\n",
        "print(vAR_CSLAB_P * vAR_CSLAB_Q)\n",
        "\n",
        "print(vAR_CSLAB_P / vAR_CSLAB_Q)\n",
        "\n",
        "\n",
        "## Differentiation\n",
        "\n",
        "vAR_CSLAB_P = poly1d ([2, -1, 3])\n",
        "\n",
        "print(vAR_CSLAB_P. deriv ())\n",
        "\n",
        "print(vAR_CSLAB_P. deriv (2))\n",
        "\n",
        "# ****************************************************************************************************************************\n",
        "#   Disclaimer.\n",
        "\n",
        "# We are providing this code block strictly for learning and researching, this is not a production\n",
        "# ready code. We have no liability on this particular code under any circumstances; users should use\n",
        "# this code on their own risk. All software, hardware and othr products that are referenced in these \n",
        "# materials belong to the respective vendor who developed or who owns this product.\n",
        "\n",
        "# ****************************************************************************************************************************\n",
        "  "
      ]
    },
    {
      "cell_type": "code",
      "source": [],
      "metadata": {
        "id": "dZ5uGh7wDHxD"
      },
      "execution_count": null,
      "outputs": []
    }
  ]
}