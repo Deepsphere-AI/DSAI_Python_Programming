{
  "nbformat": 4,
  "nbformat_minor": 0,
  "metadata": {
    "colab": {
      "provenance": [],
      "include_colab_link": true
    },
    "kernelspec": {
      "name": "python3",
      "display_name": "Python 3"
    },
    "language_info": {
      "name": "python"
    }
  },
  "cells": [
    {
      "cell_type": "markdown",
      "metadata": {
        "id": "view-in-github",
        "colab_type": "text"
      },
      "source": [
        "<a href=\"https://colab.research.google.com/github/Deepsphere-AI/DSAI_Python_Programming/blob/main/Unit-5/Predictive%20Analytics/Program%2093%20-%20CSLAB_SCIENTIFIC_ANALYSIS_ARRAYS_NUMPY_V1.ipynb\" target=\"_parent\"><img src=\"https://colab.research.google.com/assets/colab-badge.svg\" alt=\"Open In Colab\"/></a>"
      ]
    },
    {
      "cell_type": "code",
      "execution_count": 7,
      "metadata": {
        "id": "ixo8pUs-ZKsb",
        "colab": {
          "base_uri": "https://localhost:8080/"
        },
        "outputId": "1bbd1d68-f229-4090-d5b6-b489ee1e2128"
      },
      "outputs": [
        {
          "output_type": "stream",
          "name": "stdout",
          "text": [
            "0\n",
            "1\n",
            "2\n",
            "3\n"
          ]
        }
      ],
      "source": [
        "\n",
        "# *********************************************************************************************************************\n",
        "  \n",
        "  # File Name \t:   CSLAB_SCIENTIFIC_ANALYSIS_ARRAYS_NUMPY_V1\n",
        "  # Purpose \t:   A Program in Python for Arrays using Numpy\n",
        "  # Author\t:   Deepsphere.ai\n",
        "  # Reviewer \t:   Jothi Periasamy\n",
        "  # Date \t:   10/26/2022\n",
        "  # Version\t:   1.0\t\n",
        " \n",
        "# ***********************************************************************************************************************\n",
        "\n",
        "## Program Description : Program for Arrays using Numpy in Python\n",
        "\n",
        "## Python Development Environment & Runtime - Python, Anaconda\n",
        "\n",
        "import numpy as vAR_np\n",
        "\n",
        "# Creation of Arrays from a List\n",
        "\n",
        "vAR_CSLAB_X = vAR_np.array([42,47,11], int)\n",
        "\n",
        "#vAR_CSLAB_X\n",
        "\n",
        "# Creation of Arrays from a List\n",
        "\n",
        "vAR_CSLAB_Y = vAR_np.array( ((11,12,13), (21,22,23), (31,32,33)) )\n",
        "\n",
        "#vAR_CSLAB_Y\n",
        "\n",
        "#*****************************************************************************************************************************\n",
        "\n",
        "# Check whether the created Array is object or not\n",
        "\n",
        "#print(\"vAR_CSLAB_Y =\", vAR_CSLAB_Y, \"and type(vAR_CSLAB_Y) =\", type(vAR_CSLAB_Y))\n",
        "\n",
        "\n",
        "#*****************************************************************************************************************************\n",
        "\n",
        "# Dimension in Arrays - A dimension in arrays is one level of array depth (nested arrays - arrays that have arrays as their elements)\n",
        "\n",
        "# 0-D Arrays\n",
        "\n",
        "vAR_CSLAB_Arr = vAR_np.array(555)\n",
        "\n",
        "#print(vAR_CSLAB_Arr)\n",
        "\n",
        "\n",
        "# 1-D Arrays\n",
        "\n",
        "vAR_CSLAB_Arr1 = vAR_np.array([52, 63, 74, 85, 96])\n",
        "\n",
        "#print(vAR_CSLAB_Arr1)\n",
        "\n",
        "\n",
        "# 2-D Arrays\n",
        "\n",
        "vAR_CSLAB_Arr2 = vAR_np.array([[52, 63, 74], [85, 96, 107]])\n",
        "\n",
        "#print(vAR_CSLAB_Arr2)\n",
        "\n",
        "\n",
        "# 3-D Arrays\n",
        "\n",
        "vAR_CSLAB_Arr3 = vAR_np.array([[[10, 20, 30], [40, 50, 60]], [[11, 22, 33], [44, 55, 66]]])\n",
        "\n",
        "#print(vAR_CSLAB_Arr3)\n",
        "\n",
        "\n",
        "# 4-D Arrays\n",
        "\n",
        "vAR_CSLAB_Arr3 = vAR_np.array([[[10, 20, 30], [40, 50, 60]], [[11, 22, 33], [44, 55, 66]]])\n",
        "\n",
        "#print(vAR_CSLAB_Arr3)\n",
        "\n",
        "\n",
        "## Check the Number od Dimensions\n",
        "\n",
        "print(vAR_CSLAB_Arr.ndim)\n",
        "print(vAR_CSLAB_Arr1.ndim)\n",
        "print(vAR_CSLAB_Arr2.ndim)\n",
        "print(vAR_CSLAB_Arr3.ndim)\n",
        "\n",
        "# ****************************************************************************************************************************\n",
        "#   Disclaimer.\n",
        "\n",
        "# We are providing this code block strictly for learning and researching, this is not a production\n",
        "# ready code. We have no liability on this particular code under any circumstances; users should use\n",
        "# this code on their own risk. All software, hardware and othr products that are referenced in these \n",
        "# materials belong to the respective vendor who developed or who owns this product.\n",
        "\n",
        "# ****************************************************************************************************************************\n",
        "  "
      ]
    },
    {
      "cell_type": "code",
      "source": [],
      "metadata": {
        "id": "Hpry4gPLjuhj"
      },
      "execution_count": null,
      "outputs": []
    }
  ]
}