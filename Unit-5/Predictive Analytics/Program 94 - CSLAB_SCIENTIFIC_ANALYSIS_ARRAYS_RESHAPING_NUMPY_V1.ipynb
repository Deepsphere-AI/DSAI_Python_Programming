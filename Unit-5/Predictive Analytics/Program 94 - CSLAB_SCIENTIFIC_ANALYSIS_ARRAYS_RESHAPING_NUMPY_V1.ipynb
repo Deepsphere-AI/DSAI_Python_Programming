{
  "nbformat": 4,
  "nbformat_minor": 0,
  "metadata": {
    "colab": {
      "provenance": [],
      "include_colab_link": true
    },
    "kernelspec": {
      "name": "python3",
      "display_name": "Python 3"
    },
    "language_info": {
      "name": "python"
    }
  },
  "cells": [
    {
      "cell_type": "markdown",
      "metadata": {
        "id": "view-in-github",
        "colab_type": "text"
      },
      "source": [
        "<a href=\"https://colab.research.google.com/github/Deepsphere-AI/DSAI_Python_Programming/blob/main/Unit-5/Predictive%20Analytics/Program%2094%20-%20CSLAB_SCIENTIFIC_ANALYSIS_ARRAYS_RESHAPING_NUMPY_V1.ipynb\" target=\"_parent\"><img src=\"https://colab.research.google.com/assets/colab-badge.svg\" alt=\"Open In Colab\"/></a>"
      ]
    },
    {
      "cell_type": "code",
      "execution_count": null,
      "metadata": {
        "id": "Af3LlPKSZuiB",
        "colab": {
          "base_uri": "https://localhost:8080/"
        },
        "outputId": "9b9acd09-f5cb-4a7e-980f-19ccddcf855e"
      },
      "outputs": [
        {
          "output_type": "stream",
          "name": "stdout",
          "text": [
            "[ 1  2  3  4  5  6  7  8  9 10 11 12]\n",
            "[[[ 1  2]\n",
            "  [ 3  4]\n",
            "  [ 5  6]]\n",
            "\n",
            " [[ 7  8]\n",
            "  [ 9 10]\n",
            "  [11 12]]]\n",
            "[[1 2 3]\n",
            " [4 5 6]]\n",
            "[1 2 3 4 5 6]\n"
          ]
        }
      ],
      "source": [
        "\n",
        "# *********************************************************************************************************************\n",
        "  \n",
        "  # File Name \t:   CSLAB_SCIENTIFIC_ANALYSIS_ARRAYS_RESHAPING_NUMPY_V1\n",
        "  # Purpose \t:   A Program in Python for Reshaping Arrays using Numpy\n",
        "  # Author\t:   Deepsphere.ai\n",
        "  # Reviewer \t:   Jothi Periasamy\n",
        "  # Date \t:   10/26/2022\n",
        "  # Version\t:   1.0\t\n",
        "  \n",
        "# ***********************************************************************************************************************\n",
        "\n",
        "## Program Description : Program for Reshaping Arrays using Numpy in Python\n",
        "\n",
        "## Python Development Environment & Runtime - Python, Anaconda\n",
        "\n",
        "import numpy as vAR_np\n",
        "\n",
        "vAR_CSLAB_arr = vAR_np.array([1, 2, 3, 4, 5, 6, 7, 8, 9, 10, 11, 12])\n",
        "\n",
        "print(vAR_CSLAB_arr)\n",
        "\n",
        "vAR_CSLAB_newarr = vAR_CSLAB_arr.reshape(4, 3)\n",
        "\n",
        "#print(vAR_CSLAB_newarr)\n",
        "\n",
        "## Reshaping from 1-D to 3-D\n",
        "\n",
        "vAR_CSLAB_Reshape1Dto3D = vAR_CSLAB_arr.reshape(2, 3, 2)\n",
        "\n",
        "print(vAR_CSLAB_Reshape1Dto3D)\n",
        "\n",
        "\n",
        "\n",
        "vAR_CSLAB_arr = vAR_np.array([1, 2, 3, 4, 5, 6, 7, 8])\n",
        "\n",
        "#vAR_CSLAB_newarr1 = vAR_CSLAB_arr.reshape(3, 3)\n",
        "\n",
        "#print(vAR_CSLAB_newarr1) ## Results in a error message\n",
        "\n",
        "\n",
        "# Flattening the Array\n",
        "\n",
        "vAR_CSLAB_arr = vAR_np.array([[1, 2, 3], [4, 5, 6]])\n",
        "\n",
        "print(vAR_CSLAB_arr)\n",
        "\n",
        "vAR_CSLAB_newarr2 = vAR_CSLAB_arr.reshape(-1)\n",
        "\n",
        "print(vAR_CSLAB_newarr2)\n",
        "\n",
        "# ****************************************************************************************************************************\n",
        "#   Disclaimer.\n",
        "\n",
        "# We are providing this code block strictly for learning and researching, this is not a production\n",
        "# ready code. We have no liability on this particular code under any circumstances; users should use\n",
        "# this code on their own risk. All software, hardware and othr products that are referenced in these \n",
        "# materials belong to the respective vendor who developed or who owns this product.\n",
        "\n",
        "# ****************************************************************************************************************************\n",
        "  "
      ]
    },
    {
      "cell_type": "code",
      "source": [],
      "metadata": {
        "id": "8nTHa5f4pL72"
      },
      "execution_count": null,
      "outputs": []
    }
  ]
}