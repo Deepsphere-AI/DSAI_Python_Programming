{
  "nbformat": 4,
  "nbformat_minor": 0,
  "metadata": {
    "colab": {
      "provenance": [],
      "include_colab_link": true
    },
    "kernelspec": {
      "name": "python3",
      "display_name": "Python 3"
    },
    "language_info": {
      "name": "python"
    }
  },
  "cells": [
    {
      "cell_type": "markdown",
      "metadata": {
        "id": "view-in-github",
        "colab_type": "text"
      },
      "source": [
        "<a href=\"https://colab.research.google.com/github/Deepsphere-AI/DSAI_Python_Programming/blob/main/Unit-5/Predictive%20Analytics/Program%20101%20-%20CSLAB_SCIENTIFIC_ANALYSIS_SELECT_FUNCTION_SCIPY_V1.ipynb\" target=\"_parent\"><img src=\"https://colab.research.google.com/assets/colab-badge.svg\" alt=\"Open In Colab\"/></a>"
      ]
    },
    {
      "cell_type": "code",
      "execution_count": 2,
      "metadata": {
        "id": "Cfty_dGemC01",
        "colab": {
          "base_uri": "https://localhost:8080/"
        },
        "outputId": "c6abca08-112a-429f-b57f-427bb0f12dc6"
      },
      "outputs": [
        {
          "output_type": "stream",
          "name": "stdout",
          "text": [
            "[  0   1   2   0   0 125 216 343]\n"
          ]
        },
        {
          "output_type": "stream",
          "name": "stderr",
          "text": [
            "<ipython-input-2-e7516e8eb857>:24: DeprecationWarning: scipy.select is deprecated and will be removed in SciPy 2.0.0, use numpy.select instead\n",
            "  select([(vAR_CSLAB_X) > 3, (vAR_CSLAB_X) >= 0],[0,(vAR_CSLAB_X)+2])\n"
          ]
        }
      ],
      "source": [
        "\n",
        "# *********************************************************************************************************************\n",
        "  \n",
        "  # File Name \t:   CSLAB_SCIENTIFIC_ANALYSIS_SELECT_FUNCTION_SCIPY_V1\n",
        "  # Purpose \t:   A Program in Python for Select Functions in scipy\n",
        "  # Author\t:   Deepsphere.ai\n",
        "  # Reviewer \t:   Jothi Periasamy\n",
        "  # Date \t:   10/26/2022\n",
        "  # Version\t:   1.0\t\n",
        "  \n",
        "# ***********************************************************************************************************************\n",
        "\n",
        "## Program Description : Program for Select Functions in scipy in Python\n",
        "\n",
        "## Python Development Environment & Runtime - Python, Anaconda\n",
        "\n",
        "from scipy import *\n",
        "\n",
        "import numpy as vAR_np \n",
        "\n",
        "vAR_CSLAB_X = r_[-2:3] \n",
        "\n",
        "vAR_CSLAB_X \n",
        "\n",
        "select([(vAR_CSLAB_X) > 3, (vAR_CSLAB_X) >= 0],[0,(vAR_CSLAB_X)+2]) \n",
        "\n",
        "\n",
        "# importing numpy as geek \n",
        "  \n",
        "vAR_CSLAB_ARRAY = vAR_np.arange(8)\n",
        "  \n",
        "vAR_CSLAB_CONDITION = [vAR_CSLAB_ARRAY<3, vAR_CSLAB_ARRAY>4]\n",
        "\n",
        "vAR_CSLAB_CHOICE = [vAR_CSLAB_ARRAY, vAR_CSLAB_ARRAY**3]\n",
        "  \n",
        "vAR_CSLAB_RESULT = vAR_np.select(vAR_CSLAB_CONDITION, vAR_CSLAB_CHOICE)\n",
        "  \n",
        "print (vAR_CSLAB_RESULT)\n",
        "\n",
        "# ****************************************************************************************************************************\n",
        "#   Disclaimer.\n",
        "\n",
        "# We are providing this code block strictly for learning and researching, this is not a production\n",
        "# ready code. We have no liability on this particular code under any circumstances; users should use\n",
        "# this code on their own risk. All software, hardware and othr products that are referenced in these \n",
        "# materials belong to the respective vendor who developed or who owns this product.\n",
        "\n",
        "# ****************************************************************************************************************************\n",
        "  "
      ]
    },
    {
      "cell_type": "code",
      "source": [],
      "metadata": {
        "id": "Fy-2H1CfHLyb"
      },
      "execution_count": null,
      "outputs": []
    }
  ]
}