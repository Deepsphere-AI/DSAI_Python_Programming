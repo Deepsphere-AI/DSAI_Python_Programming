{
  "nbformat": 4,
  "nbformat_minor": 0,
  "metadata": {
    "colab": {
      "provenance": [],
      "include_colab_link": true
    },
    "kernelspec": {
      "name": "python3",
      "display_name": "Python 3"
    },
    "language_info": {
      "name": "python"
    }
  },
  "cells": [
    {
      "cell_type": "markdown",
      "metadata": {
        "id": "view-in-github",
        "colab_type": "text"
      },
      "source": [
        "<a href=\"https://colab.research.google.com/github/Deepsphere-AI/DSAI_Python_Programming/blob/main/Unit-5/Predictive%20Analytics/Program%2097%20-%20CSLAB_SCIENTIFIC_ANALYSIS_ARRAYS_INITIALIZING_WITH_ZEROS_ONES_NUMPY_V1.ipynb\" target=\"_parent\"><img src=\"https://colab.research.google.com/assets/colab-badge.svg\" alt=\"Open In Colab\"/></a>"
      ]
    },
    {
      "cell_type": "code",
      "execution_count": 10,
      "metadata": {
        "id": "5wqcQiFQb7tT",
        "colab": {
          "base_uri": "https://localhost:8080/"
        },
        "outputId": "d8b0cdb6-ffdf-491a-8d9c-abb9cc088958"
      },
      "outputs": [
        {
          "output_type": "stream",
          "name": "stdout",
          "text": [
            "[[1. 1. 1.]\n",
            " [1. 1. 1.]]\n",
            "[[1. 1. 1.]\n",
            " [1. 1. 1.]]\n",
            "[[0. 0. 0.]\n",
            " [0. 0. 0.]]\n",
            "[[inf inf inf]\n",
            " [inf inf inf]]\n"
          ]
        },
        {
          "output_type": "stream",
          "name": "stderr",
          "text": [
            "<ipython-input-10-470815674dfc>:44: RuntimeWarning: divide by zero encountered in true_divide\n",
            "  vAR_CSLAB_ARRAY6 = vAR_CSLAB_ARRAY / vAR_CSLAB_ARRAY2\n"
          ]
        }
      ],
      "source": [
        "\n",
        "# *********************************************************************************************************************\n",
        "  \n",
        "  # File Name \t:   CSLAB_SCIENTIFIC_ANALYSIS_ARRAYS_INITIALIZING_WITH_ZEROS_ONES_NUMPY_V1\n",
        "  # Purpose \t:   A Program in Python for Initializing With Zero's & One's to Arrays using Numpy\n",
        "  # Author\t:   Deepsphere.ai\n",
        "  # Reviewer \t:   Jothi Periasamy\n",
        "  # Date \t:   10/26/2022\n",
        "  # Version\t:   1.0\t\n",
        "  \n",
        "# ***********************************************************************************************************************\n",
        "\n",
        "## Program Description : Program for Initializing With Zero's & One's to Arrays using Numpy in Python\n",
        "\n",
        "## Python Development Environment & Runtime - Python, Anaconda\n",
        "\n",
        "import numpy as vAR_np\n",
        "\n",
        "vAR_CSLAB_ARRAY = vAR_np.ones((2,3))\n",
        "\n",
        "vAR_CSLAB_ARRAY1 = vAR_np.ones((3,4),dtype=int)\n",
        "\n",
        "vAR_CSLAB_ARRAY2 = vAR_np.zeros((2,3))\n",
        "\n",
        "## Addition of Array's with elements zero and one\n",
        "\n",
        "vAR_CSLAB_ARRAY3 = vAR_CSLAB_ARRAY + vAR_CSLAB_ARRAY2 \n",
        "\n",
        "print(vAR_CSLAB_ARRAY3)\n",
        "\n",
        "## Subtraction of Array's with elements zero and one\n",
        "\n",
        "vAR_CSLAB_ARRAY4 = vAR_CSLAB_ARRAY - vAR_CSLAB_ARRAY2 \n",
        "\n",
        "print(vAR_CSLAB_ARRAY4)\n",
        "\n",
        "## Multiplication of Array's with elements zero and one\n",
        "\n",
        "vAR_CSLAB_ARRAY5 = vAR_CSLAB_ARRAY * vAR_CSLAB_ARRAY2 \n",
        "\n",
        "print(vAR_CSLAB_ARRAY5)\n",
        "\n",
        "## Division of Array's with elements zero and one\n",
        "\n",
        "vAR_CSLAB_ARRAY6 = vAR_CSLAB_ARRAY / vAR_CSLAB_ARRAY2 \n",
        "\n",
        "print(vAR_CSLAB_ARRAY6)\n",
        "\n",
        "# ****************************************************************************************************************************\n",
        "#   Disclaimer.\n",
        "\n",
        "# We are providing this code block strictly for learning and researching, this is not a production\n",
        "# ready code. We have no liability on this particular code under any circumstances; users should use\n",
        "# this code on their own risk. All software, hardware and othr products that are referenced in these \n",
        "# materials belong to the respective vendor who developed or who owns this product.\n",
        "\n",
        "# ****************************************************************************************************************************\n",
        "  "
      ]
    },
    {
      "cell_type": "code",
      "source": [],
      "metadata": {
        "id": "riA-WFN9_Mv8"
      },
      "execution_count": null,
      "outputs": []
    }
  ]
}