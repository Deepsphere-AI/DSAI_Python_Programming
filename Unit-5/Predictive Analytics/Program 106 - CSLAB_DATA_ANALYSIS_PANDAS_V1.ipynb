{
  "nbformat": 4,
  "nbformat_minor": 0,
  "metadata": {
    "colab": {
      "provenance": [],
      "authorship_tag": "ABX9TyOk7hafrGAV+55ot1k9x2nO",
      "include_colab_link": true
    },
    "kernelspec": {
      "name": "python3",
      "display_name": "Python 3"
    },
    "language_info": {
      "name": "python"
    }
  },
  "cells": [
    {
      "cell_type": "markdown",
      "metadata": {
        "id": "view-in-github",
        "colab_type": "text"
      },
      "source": [
        "<a href=\"https://colab.research.google.com/github/Deepsphere-AI/DSAI_Python_Programming/blob/main/Unit-5/Predictive%20Analytics/Program%20106%20-%20CSLAB_DATA_ANALYSIS_PANDAS_V1.ipynb\" target=\"_parent\"><img src=\"https://colab.research.google.com/assets/colab-badge.svg\" alt=\"Open In Colab\"/></a>"
      ]
    },
    {
      "cell_type": "code",
      "execution_count": null,
      "metadata": {
        "id": "Ng8ds-nerup4"
      },
      "outputs": [],
      "source": [
        "\n",
        "# **************************************************************************************************\n",
        "  \n",
        "#   File Name \t:   CSLAB_DATA_ANALYSIS_PANDAS_V1\n",
        "#   Purpose \t:   A Program in Python for Data Analysis\n",
        "#   Author\t:  Deepsphere.ai\n",
        "#   Reviewer \t:   Jothi Periasamy\n",
        "#   Date \t:   10/26/2022\n",
        "#   Version\t:   1.0\t\n",
        "  \n",
        "# **************************************************************************************************\n",
        " \n",
        "## Program Description : Program for Data Analysis in Python\n",
        "\n",
        "## Python Development Environment & Runtime - Python, Anaconda\n",
        "\n",
        "import os\n",
        "\n",
        "vAR_INI_File_Path = os.environ.get('PYTHON_TUTORIAL')\n",
        "\n",
        "import pandas as vAR_pd\n",
        "\n",
        "import configparser\n",
        "\n",
        "import matplotlib.pyplot as vAR_plt\n",
        "\n",
        "vAR_Config = configparser.ConfigParser(allow_no_value=True)\n",
        "\n",
        "vAR_Config.read(vAR_INI_File_Path)\n",
        "\n",
        "vAR_CSLAB_Customer = vAR_Config['Data File Path']['vAR_CSLAB_PROGRAM_106_CUSTOMER']  \n",
        "\n",
        "vAR_CSLAB_Customer = vAR_pd.read_excel(vAR_CSLAB_Customer)\n",
        "\n",
        "vAR_CSLAB_Customer\n",
        "\n",
        "vAR_CSLAB_FIGURE = plt.pyplot.figure() \n",
        "\n",
        "vAR_CSLAB_FIGURE = plt.pyplot.figure()\n",
        "\n",
        "vAR_CSLAB_AX = vAR_CSLAB_FIGURE.add_subplot(111)\n",
        "\n",
        "vAR_CSLAB_AX.hist(vAR_CSLAB_Customer['Customer_ID'], bins = 10, range = (vAR_CSLAB_Customer['Customer_ID'].min(),vAR_CSLAB_Customer['Customer_ID'].max()))\n",
        "\n",
        "vAR_plt.title('Sales Analysis')\n",
        "\n",
        "vAR_plt.xlabel('Customer_ID')\n",
        "\n",
        "vAR_plt.ylabel('Sales_Amount')\n",
        "\n",
        "vAR_plt.show()\n",
        "\n",
        "\n",
        "# **************************************************************************************************\n",
        "#   Disclaimer.\n",
        "\n",
        "# We are providing this code block strictly for learning and researching, this is not a production\n",
        "# ready code. We have no liability on this particular code under any circumstances; users should use\n",
        "# this code on their own risk. All software, hardware and othr products that are referenced in these \n",
        "# materials belong to the respective vendor who developed or who owns this product.\n",
        "\n",
        "# **************************************************************************************************\n",
        "  "
      ]
    }
  ]
}