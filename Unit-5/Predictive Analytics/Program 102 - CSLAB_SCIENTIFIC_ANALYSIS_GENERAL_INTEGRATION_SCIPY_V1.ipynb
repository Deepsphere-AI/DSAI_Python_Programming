{
  "nbformat": 4,
  "nbformat_minor": 0,
  "metadata": {
    "colab": {
      "provenance": [],
      "include_colab_link": true
    },
    "kernelspec": {
      "name": "python3",
      "display_name": "Python 3"
    },
    "language_info": {
      "name": "python"
    }
  },
  "cells": [
    {
      "cell_type": "markdown",
      "metadata": {
        "id": "view-in-github",
        "colab_type": "text"
      },
      "source": [
        "<a href=\"https://colab.research.google.com/github/Deepsphere-AI/DSAI_Python_Programming/blob/main/Unit-5/Predictive%20Analytics/Program%20102%20-%20CSLAB_SCIENTIFIC_ANALYSIS_GENERAL_INTEGRATION_SCIPY_V1.ipynb\" target=\"_parent\"><img src=\"https://colab.research.google.com/assets/colab-badge.svg\" alt=\"Open In Colab\"/></a>"
      ]
    },
    {
      "cell_type": "code",
      "execution_count": 4,
      "metadata": {
        "id": "0KjLZC88nLjN",
        "colab": {
          "base_uri": "https://localhost:8080/"
        },
        "outputId": "420d2110-9728-49dc-8400-02bbd563aee8"
      },
      "outputs": [
        {
          "output_type": "stream",
          "name": "stdout",
          "text": [
            "2.0\n",
            "2.220446049250313e-14\n",
            "(0.010416666666666668, 4.101620128472366e-16)\n",
            "(78.12499999999999, 8.673617379884033e-13)\n"
          ]
        }
      ],
      "source": [
        "\n",
        "# *********************************************************************************************************************\n",
        "  \n",
        "  # File Name \t:   CSLAB_SCIENTIFIC_ANALYSIS_GENERAL_INTEGRATION_SCIPY_V1\n",
        "  # Purpose \t:   A Program in Python for General Integration in scipy\n",
        "  # Author\t:   Deepsphere.ai\n",
        "  # Reviewer \t:   Jothi Periasamy\n",
        "  # Date \t:   10/26/2022\n",
        "  # Version\t:   1.0\t\n",
        "  \n",
        "# ***********************************************************************************************************************\n",
        "\n",
        "## Program Description : Program for General Integration in scipy in Python\n",
        "\n",
        "## Python Development Environment & Runtime - Python, Anaconda\n",
        "\n",
        "from scipy import *\n",
        "\n",
        "import scipy as sp\n",
        "\n",
        "from scipy.integrate import quad\n",
        "from scipy.integrate import dblquad\n",
        "from scipy.integrate import nquad\n",
        "\n",
        "## quad\n",
        "\n",
        "def vAR_CSLAB_f(x):\n",
        "  return 3.0*x*x + 1.0\n",
        "  \n",
        "vAR_CSLAB_I, vAR_CSLAB_err = quad(vAR_CSLAB_f, 0, 1)\n",
        "print(vAR_CSLAB_I)\n",
        "print(vAR_CSLAB_err)\n",
        "\n",
        "## dblquad\n",
        "\n",
        "vAR_CSLAB_area = dblquad(lambda x, y: x*y, 0, 0.5, \n",
        "               lambda x: 0, lambda x: 1-2*x)\n",
        "  \n",
        "print(vAR_CSLAB_area)\n",
        "\n",
        "## nquad\n",
        "\n",
        "def vAR_CSLAB_f(x, y, z):\n",
        "    return x*y*z\n",
        "  \n",
        "vAR_CSLAB_I = nquad(vAR_CSLAB_f, [[0, 1], [0, 5], [0, 5]])\n",
        "print(vAR_CSLAB_I)\n",
        "\n",
        "# ****************************************************************************************************************************\n",
        "#   Disclaimer.\n",
        "\n",
        "# We are providing this code block strictly for learning and researching, this is not a production\n",
        "# ready code. We have no liability on this particular code under any circumstances; users should use\n",
        "# this code on their own risk. All software, hardware and othr products that are referenced in these \n",
        "# materials belong to the respective vendor who developed or who owns this product.\n",
        "\n",
        "# ****************************************************************************************************************************\n",
        "  "
      ]
    },
    {
      "cell_type": "code",
      "source": [],
      "metadata": {
        "id": "Ugh9kK4HJK7H"
      },
      "execution_count": null,
      "outputs": []
    }
  ]
}