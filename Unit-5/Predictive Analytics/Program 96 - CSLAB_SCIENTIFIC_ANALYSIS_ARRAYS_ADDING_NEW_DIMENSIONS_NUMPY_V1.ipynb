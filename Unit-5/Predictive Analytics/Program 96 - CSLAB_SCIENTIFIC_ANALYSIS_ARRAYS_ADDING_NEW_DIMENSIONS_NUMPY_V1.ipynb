{
  "nbformat": 4,
  "nbformat_minor": 0,
  "metadata": {
    "colab": {
      "provenance": [],
      "include_colab_link": true
    },
    "kernelspec": {
      "name": "python3",
      "display_name": "Python 3"
    },
    "language_info": {
      "name": "python"
    }
  },
  "cells": [
    {
      "cell_type": "markdown",
      "metadata": {
        "id": "view-in-github",
        "colab_type": "text"
      },
      "source": [
        "<a href=\"https://colab.research.google.com/github/Deepsphere-AI/DSAI_Python_Programming/blob/main/Unit-5/Predictive%20Analytics/Program%2096%20-%20CSLAB_SCIENTIFIC_ANALYSIS_ARRAYS_ADDING_NEW_DIMENSIONS_NUMPY_V1.ipynb\" target=\"_parent\"><img src=\"https://colab.research.google.com/assets/colab-badge.svg\" alt=\"Open In Colab\"/></a>"
      ]
    },
    {
      "cell_type": "code",
      "execution_count": 12,
      "metadata": {
        "id": "qTcRYCZ-bE2w",
        "colab": {
          "base_uri": "https://localhost:8080/"
        },
        "outputId": "1e95215f-79a9-4860-f4df-4dcbc1efbbc8"
      },
      "outputs": [
        {
          "output_type": "stream",
          "name": "stdout",
          "text": [
            "(3,)\n",
            "(3,)\n",
            "[[ 3  8 10]\n",
            " [ 5  7  9]]\n",
            "(3,)\n",
            "(3,)\n",
            "[['R' 'Python' 'Scala']\n",
            " ['Java' 'C' 'C++']]\n",
            "(3,)\n",
            "(1, 3)\n",
            "[[ 50  60  70]\n",
            " [ 80  90 100]]\n",
            "(3,)\n",
            "(1, 3)\n",
            "[['R' 'Python' 'Scala']\n",
            " ['Java' 'C' 'C++']]\n"
          ]
        }
      ],
      "source": [
        "\n",
        "# *********************************************************************************************************************\n",
        "  \n",
        "  # File Name \t:   CSLAB_SCIENTIFIC_ANALYSIS_ARRAYS_ADDING_NEW_DIMENSIONS_NUMPY_V1\n",
        "  # Purpose \t:   A Program in Python for Adding New Dimensions to Arrays using Numpy\n",
        "  # Author\t:  Deepsphere.ai\n",
        "  # Reviewer \t:   Jothi Periasamy\n",
        "  # Date \t:   10/26/2022\n",
        "  # Version\t:   1.0\t\n",
        "  \n",
        "# ***********************************************************************************************************************\n",
        "\n",
        "## Program Description : Program for Adding New Dimensions to Arrays using Numpy in Python\n",
        "\n",
        "## Python Development Environment & Runtime - Python, Anaconda\n",
        "\n",
        "import numpy as vAR_np\n",
        "\n",
        "vAR_CSLAB_ARRAY = vAR_np.array([3,8,10])\n",
        "print(vAR_CSLAB_ARRAY.shape)\n",
        "\n",
        "vAR_CSLAB_ARRAY1 = vAR_np.expand_dims(vAR_CSLAB_ARRAY, axis = 0)\n",
        "print(vAR_CSLAB_ARRAY.shape)\n",
        "\n",
        "vAR_CSLAB_ARRAY2 = vAR_np.append(vAR_CSLAB_ARRAY1, [[5,7,9]], axis=0)\n",
        "print(vAR_CSLAB_ARRAY2)\n",
        "\n",
        "\n",
        "vAR_CSLAB_ARRAY = vAR_np.array([\"R\",\"Python\",\"Scala\"])\n",
        "print(vAR_CSLAB_ARRAY.shape)\n",
        " \n",
        "vAR_CSLAB_ARRAY1 = vAR_np.expand_dims(vAR_CSLAB_ARRAY, axis = 0)\n",
        "print(vAR_CSLAB_ARRAY.shape)\n",
        " \n",
        "vAR_CSLAB_ARRAY2 = vAR_np.append(vAR_CSLAB_ARRAY1, [[\"Java\",\"C\",\"C++\"]], axis=0)\n",
        "print(vAR_CSLAB_ARRAY2)\n",
        "\n",
        "## Adding a New Dimension using np.newaxis\n",
        "\n",
        "vAR_CSLAB_ARRAY = vAR_np.array([50,60,70])\n",
        "print(vAR_CSLAB_ARRAY.shape)\n",
        " \n",
        "vAR_CSLAB_ARRAY1 = vAR_CSLAB_ARRAY[vAR_np.newaxis]\n",
        "print(vAR_CSLAB_ARRAY1.shape)\n",
        " \n",
        "vAR_CSLAB_ARRAY2 = vAR_np.append(vAR_CSLAB_ARRAY1, [[80,90,100]], axis=0)\n",
        "print(vAR_CSLAB_ARRAY2)\n",
        "\n",
        "\n",
        "vAR_CSLAB_ARRAY = vAR_np.array([\"R\",\"Python\",\"Scala\"])\n",
        "print(vAR_CSLAB_ARRAY.shape)\n",
        " \n",
        "vAR_CSLAB_ARRAY1 = vAR_CSLAB_ARRAY[vAR_np.newaxis]\n",
        "print(vAR_CSLAB_ARRAY1.shape)\n",
        " \n",
        "vAR_CSLAB_ARRAY2 = vAR_np.append(vAR_CSLAB_ARRAY1, [[\"Java\",\"C\",\"C++\"]], axis=0)\n",
        "print(vAR_CSLAB_ARRAY2)\n",
        "\n",
        "# ****************************************************************************************************************************\n",
        "#   Disclaimer.\n",
        "\n",
        "# We are providing this code block strictly for learning and researching, this is not a production\n",
        "# ready code. We have no liability on this particular code under any circumstances; users should use\n",
        "# this code on their own risk. All software, hardware and othr products that are referenced in these \n",
        "# materials belong to the respective vendor who developed or who owns this product.\n",
        "\n",
        "# ****************************************************************************************************************************\n",
        "  "
      ]
    },
    {
      "cell_type": "code",
      "source": [],
      "metadata": {
        "id": "bLlgqVR169F2"
      },
      "execution_count": null,
      "outputs": []
    }
  ]
}