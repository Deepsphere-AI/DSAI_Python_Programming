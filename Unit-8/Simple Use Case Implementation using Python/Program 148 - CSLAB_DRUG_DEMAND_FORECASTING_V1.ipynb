{
  "nbformat": 4,
  "nbformat_minor": 0,
  "metadata": {
    "colab": {
      "provenance": [],
      "authorship_tag": "ABX9TyPcHS+5lQzU9Wn4RRoMyvwW",
      "include_colab_link": true
    },
    "kernelspec": {
      "name": "python3",
      "display_name": "Python 3"
    },
    "language_info": {
      "name": "python"
    }
  },
  "cells": [
    {
      "cell_type": "markdown",
      "metadata": {
        "id": "view-in-github",
        "colab_type": "text"
      },
      "source": [
        "<a href=\"https://colab.research.google.com/github/Deepsphere-AI/DSAI_Python_Programming/blob/main/Unit-8/Simple%20Use%20Case%20Implementation%20using%20Python/Program%20148%20-%20CSLAB_DRUG_DEMAND_FORECASTING_V1.ipynb\" target=\"_parent\"><img src=\"https://colab.research.google.com/assets/colab-badge.svg\" alt=\"Open In Colab\"/></a>"
      ]
    },
    {
      "cell_type": "code",
      "execution_count": null,
      "metadata": {
        "id": "XfDqkdxmlO8v"
      },
      "outputs": [],
      "source": [
        "# *********************************************************************************************************************\n",
        "  \n",
        "  # File Name \t:   CSLAB_DRUG_DEMAND_FORECASTING_V1\n",
        "  # Purpose \t:   A Program in Python For Drug Demad Forecasting Usecase\n",
        "  # Author\t:   Deepsphere.ai\n",
        "  # Reviewer \t:   Jothi Periasamy\n",
        "  # Date \t:   10/26/2022\n",
        "  # Version\t:   1.0\t\n",
        "  \n",
        "# ***********************************************************************************************************************\n",
        "\n",
        "## Program Description : Program For Drug Demad Forecasting Usecase in Python\n",
        "\n",
        "## Python Development Environment & Runtime - Python, Anaconda\n",
        "\n",
        "from mpl_toolkits.mplot3d import Axes3D\n",
        "\n",
        "import matplotlib.pyplot as plt\n",
        "\n",
        "import numpy as vAR_np\n",
        "\n",
        "vAR_CSLAB_fig = vAR_plt.figure()\n",
        "\n",
        "vAR_CSLAB_ax = vAR_CSLAB_fig.gca(projection='3d')\n",
        "\n",
        "vAR_CSLAB_X, vAR_CSLAB_Y = vAR_np.mgrid[0:6*vAR_np.pi:0.25, 0:4*vAR_np.pi:0.25]\n",
        "\n",
        "vAR_CSLAB_Z = vAR_np.sqrt(vAR_np.abs(vAR_np.cos(vAR_CSLAB_X) + vAR_np.cos(vAR_CSLAB_Y)))\n",
        "\n",
        "vAR_CSLAB_surf = vAR_CSLAB_ax.plot_surface(vAR_CSLAB_X + 1e5, vAR_CSLAB_Y + 1e5, vAR_CSLAB_Z, cmap='autumn', cstride=2, rstride=2)\n",
        "\n",
        "vAR_CSLAB_ax.set_zlim(0, 2)\n",
        "\n",
        "vAR_plt.show()\n",
        "\n",
        "\n",
        "# ****************************************************************************************************************************\n",
        "#   Disclaimer.\n",
        "\n",
        "# We are providing this code block strictly for learning and researching, this is not a production\n",
        "# ready code. We have no liability on this particular code under any circumstances; users should use\n",
        "# this code on their own risk. All software, hardware and othr products that are referenced in these \n",
        "# materials belong to the respective vendor who developed or who owns this product.\n",
        "\n",
        "# ****************************************************************************************************************************"
      ]
    }
  ]
}