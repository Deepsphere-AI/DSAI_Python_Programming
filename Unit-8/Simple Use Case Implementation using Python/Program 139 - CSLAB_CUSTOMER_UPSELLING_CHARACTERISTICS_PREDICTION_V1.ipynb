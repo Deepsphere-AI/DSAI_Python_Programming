{
  "cells": [
    {
      "cell_type": "markdown",
      "metadata": {
        "colab_type": "text",
        "id": "view-in-github"
      },
      "source": [
        "<a href=\"https://colab.research.google.com/github/Deepsphere-AI/DSAI_Python_Programming/blob/main/Unit-8/Simple%20Use%20Case%20Implementation%20using%20Python/Program%20139%20-%20CSLAB_CUSTOMER_UPSELLING_CHARACTERISTICS_PREDICTION_V1.ipynb\" target=\"_parent\"><img src=\"https://colab.research.google.com/assets/colab-badge.svg\" alt=\"Open In Colab\"/></a>"
      ]
    },
    {
      "cell_type": "code",
      "execution_count": null,
      "metadata": {
        "id": "5JF4Ayi2PFTJ"
      },
      "outputs": [],
      "source": [
        "\n",
        "# *********************************************************************************************************************\n",
        "  \n",
        "  # File Name \t:   CSLAB_CUSTOMER_UPSELLING_CHARACTERISTICS_PREDICTION_V1\n",
        "  # Purpose \t:   A Program in Python For Predicting Customers Upselling Characteristics Usecase\n",
        "  # Author\t:   Deepsphere.ai\n",
        "  # Reviewer \t:   Jothi Periasamy\n",
        "  # Date \t:   10/26/2022\n",
        "  # Version\t:   1.0\t\n",
        "  \n",
        "# ***********************************************************************************************************************\n",
        "\n",
        "## Program Description : Program For Predicting Customers Upselling Characteristics Usecase in Python\n",
        "\n",
        "## Python Development Environment & Runtime - Python, Anaconda\n",
        "\n",
        "import matplotlib.pyplot as vAR_plt\n",
        "\n",
        "import numpy as vAR_np\n",
        "\n",
        "vAR_CSLAB_t = vAR_np.arange(0.01, 5.0, 0.01)\n",
        "\n",
        "vAR_CSLAB_s = vAR_np.exp(-vAR_CSLAB_t)\n",
        "\n",
        "vAR_plt.plot(vAR_CSLAB_t, vAR_CSLAB_s)\n",
        "\n",
        "vAR_plt.xlim(5, 0)  \n",
        "\n",
        "vAR_plt.xlabel('Incresing time (vAR_CSLAB_s)')\n",
        "\n",
        "vAR_plt.ylabel('Upselling (%)')\n",
        "\n",
        "vAR_plt.title('Should be growing...')\n",
        "\n",
        "vAR_plt.grid(True)\n",
        "\n",
        "vAR_plt.show()\n",
        "\n",
        "# ****************************************************************************************************************************\n",
        "#   Disclaimer.\n",
        "\n",
        "# We are providing this code block strictly for learning and researching, this is not a production\n",
        "# ready code. We have no liability on this particular code under any circumstances; users should use\n",
        "# this code on their own risk. All software, hardware and othr products that are referenced in these \n",
        "# materials belong to the respective vendor who developed or who owns this product.\n",
        "\n",
        "# ****************************************************************************************************************************\n",
        "   "
      ]
    }
  ],
  "metadata": {
    "colab": {
      "authorship_tag": "ABX9TyMDuxDZ2snsyZkneG7poFS0",
      "include_colab_link": true,
      "provenance": []
    },
    "kernelspec": {
      "display_name": "Python 3.9.13 64-bit (microsoft store)",
      "language": "python",
      "name": "python3"
    },
    "language_info": {
      "name": "python",
      "version": "3.9.13"
    },
    "vscode": {
      "interpreter": {
        "hash": "f7161cb5baffb24dee6a1726ecc12fdf408657b8c9335ee291ca814aa42784e7"
      }
    }
  },
  "nbformat": 4,
  "nbformat_minor": 0
}
