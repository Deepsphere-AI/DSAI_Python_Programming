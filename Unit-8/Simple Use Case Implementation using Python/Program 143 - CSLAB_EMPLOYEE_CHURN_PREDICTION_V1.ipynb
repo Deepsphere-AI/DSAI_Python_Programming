{
  "nbformat": 4,
  "nbformat_minor": 0,
  "metadata": {
    "colab": {
      "provenance": [],
      "authorship_tag": "ABX9TyNYmRFN5I/G50qG6iJcIz/L",
      "include_colab_link": true
    },
    "kernelspec": {
      "name": "python3",
      "display_name": "Python 3"
    },
    "language_info": {
      "name": "python"
    }
  },
  "cells": [
    {
      "cell_type": "markdown",
      "metadata": {
        "id": "view-in-github",
        "colab_type": "text"
      },
      "source": [
        "<a href=\"https://colab.research.google.com/github/Deepsphere-AI/DSAI_Python_Programming/blob/main/Unit-8/Use%20CasSimple%20Use%20Case%20Implementation%20using%20Python20143%20-%20CSLAB_EMPLOYEE_CHURN_PREDICTION_V1.ipynb\" target=\"_parent\"><img src=\"https://colab.research.google.com/assets/colab-badge.svg\" alt=\"Open In Colab\"/></a>"
      ]
    },
    {
      "cell_type": "code",
      "execution_count": null,
      "metadata": {
        "id": "T2aaUsYxRiAU"
      },
      "outputs": [],
      "source": [
        "\n",
        "# *********************************************************************************************************************\n",
        "  \n",
        "  # File Name \t:   CSLAB_EMPLOYEE_CHURN_PREDICTION_V1\n",
        "  # Purpose \t:   A Program in Python For Predicting Employee Churn Rate Usecase\n",
        "  # Author\t:   Deepsphere.ai\n",
        "  # Reviewer \t:   Jothi Periasamy\n",
        "  # Date \t:   10/26/2022\n",
        "  # Version\t:   1.0\t\n",
        "  \n",
        "\n",
        "# ***********************************************************************************************************************\n",
        "\n",
        "## Program Description : Program For Predicting Employee Churn Rate Usecase in Python\n",
        "\n",
        "## Python Development Environment & Runtime - Python, Anaconda\n",
        "\n",
        "import numpy as vAR_np\n",
        "\n",
        "import matplotlib.pyplot as vAR_plt\n",
        "\n",
        "vAR_np.random.seed(0)\n",
        "\n",
        "def layers(vAR_CSLAB_n, vAR_CSLAB_m):\n",
        "\n",
        "    def bump(vAR_CSLAB_a):\n",
        "        \n",
        "        vAR_CSLAB_x = 1 / (.1 + vAR_np.random.random())\n",
        "        \n",
        "        vAR_CSLAB_y = 2 * vAR_np.random.random() - .5\n",
        "        \n",
        "        vAR_CSLAB_z = 10 / (.1 + vAR_np.random.random())\n",
        "        \n",
        "        for i in range(vAR_CSLAB_m):\n",
        "            \n",
        "            vAR_CSLAB_w = (i / float(vAR_CSLAB_m) - vAR_CSLAB_y) * vAR_CSLAB_z\n",
        "            \n",
        "            vAR_CSLAB_a[i] += vAR_CSLAB_x * vAR_np.exp(-vAR_CSLAB_w * vAR_CSLAB_w)\n",
        "            \n",
        "    vAR_CSLAB_a = vAR_np.zeros((vAR_CSLAB_m, vAR_CSLAB_n))\n",
        "    \n",
        "    for i in range(vAR_CSLAB_n):\n",
        "        \n",
        "        for j in range(5):\n",
        "            \n",
        "            bump(vAR_CSLAB_a[:, i])\n",
        "            \n",
        "    return vAR_CSLAB_a\n",
        "\n",
        "vAR_CSLAB_d = layers(3, 100)\n",
        "\n",
        "vAR_plt.subplots()\n",
        "\n",
        "vAR_plt.stackplot(range(100), vAR_CSLAB_d.T, baseline='wiggle')\n",
        "\n",
        "vAR_plt.show()\n",
        "\n",
        "/****************************************************************************************************************************\n",
        "  Disclaimer.\n",
        "\n",
        "We are providing this code block strictly for learning and researching, this is not a production\n",
        "ready code. We have no liability on this particular code under any circumstances; users should use\n",
        "this code on their own risk. All software, hardware and othr products that are referenced in these \n",
        "materials belong to the respective vendor who developed or who owns this product.\n",
        "\n",
        "/****************************************************************************************************************************\n",
        "   "
      ]
    }
  ]
}