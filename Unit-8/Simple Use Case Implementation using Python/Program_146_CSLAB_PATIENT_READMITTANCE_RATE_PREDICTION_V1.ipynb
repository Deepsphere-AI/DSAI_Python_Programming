{
  "nbformat": 4,
  "nbformat_minor": 0,
  "metadata": {
    "colab": {
      "provenance": [],
      "authorship_tag": "ABX9TyPM11VkR1RnPvhmas9F24y8",
      "include_colab_link": true
    },
    "kernelspec": {
      "name": "python3",
      "display_name": "Python 3"
    },
    "language_info": {
      "name": "python"
    }
  },
  "cells": [
    {
      "cell_type": "markdown",
      "metadata": {
        "id": "view-in-github",
        "colab_type": "text"
      },
      "source": [
        "<a href=\"https://colab.research.google.com/github/Deepsphere-AI/DSAI_Python_Programming/blob/main/Unit-8/Simple%20Use%20Case%20Implementation%20using%20Python/Program_146_CSLAB_PATIENT_READMITTANCE_RATE_PREDICTION_V1.ipynb\" target=\"_parent\"><img src=\"https://colab.research.google.com/assets/colab-badge.svg\" alt=\"Open In Colab\"/></a>"
      ]
    },
    {
      "cell_type": "code",
      "execution_count": null,
      "metadata": {
        "id": "oApC9XO72k3U"
      },
      "outputs": [],
      "source": [
        "# *********************************************************************************************************************\n",
        "  \n",
        "  # File Name \t:   CSLAB_PATIENT_READMITTANCE_RATE_PREDICTION_V1\n",
        "  # Purpose \t:   A Program in Python For Predicting Patient Readmittacnce Usecase\n",
        "  # Author\t:   Deepsphere.ai\n",
        "  # Reviewer \t:   Jothi Periasamy\n",
        "  # Date \t:   10/26/2022\n",
        "  # Version\t:   1.0\t\n",
        "  \n",
        "# ***********************************************************************************************************************\n",
        "\n",
        "## Program Description : Program For Predicting Patient Readmittacnce Usecase in Python\n",
        "\n",
        "## Python Development Environment & Runtime - Python, Anaconda\n",
        "\n",
        "from mpl_toolkits.mplot3d import axes3d\n",
        "\n",
        "import matplotlib.pyplot as vAR_plt\n",
        "  \n",
        "from matplotlib import cm\n",
        "\n",
        "vAR_CSLAB_fig = vAR_plt.figure()\n",
        "\n",
        "vAR_CSLAB_ax = vAR_CSLAB_fig.gca(projection='3d')\n",
        "\n",
        "vAR_CSLAB_X, vAR_CSLAB_Y, vAR_CSLAB_Z = axes3d.get_test_data(0.05)\n",
        "\n",
        "vAR_CSLAB_cset = vAR_CSLAB_ax.contour(vAR_CSLAB_X, vAR_CSLAB_Y, vAR_CSLAB_Z, extend3d=True, cmap=cm.coolwarm)\n",
        "\n",
        "vAR_CSLAB_ax.clabel(vAR_CSLAB_cset, fontsize=9, inline=1)\n",
        "\n",
        "vAR_plt.show()\n",
        "\n",
        "# ****************************************************************************************************************************\n",
        "#   Disclaimer.\n",
        "\n",
        "# We are providing this code block strictly for learning and researching, this is not a production\n",
        "# ready code. We have no liability on this particular code under any circumstances; users should use\n",
        "# this code on their own risk. All software, hardware and othr products that are referenced in these \n",
        "# materials belong to the respective vendor who developed or who owns this product.\n",
        "\n",
        "# ****************************************************************************************************************************"
      ]
    }
  ]
}