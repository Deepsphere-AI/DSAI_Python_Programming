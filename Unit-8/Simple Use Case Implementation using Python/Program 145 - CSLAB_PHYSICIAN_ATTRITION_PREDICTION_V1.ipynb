{
  "nbformat": 4,
  "nbformat_minor": 0,
  "metadata": {
    "colab": {
      "provenance": [],
      "authorship_tag": "ABX9TyPtnxLvAI/aXECjHL+f7Yw4",
      "include_colab_link": true
    },
    "kernelspec": {
      "name": "python3",
      "display_name": "Python 3"
    },
    "language_info": {
      "name": "python"
    }
  },
  "cells": [
    {
      "cell_type": "markdown",
      "metadata": {
        "id": "view-in-github",
        "colab_type": "text"
      },
      "source": [
        "<a href=\"https://colab.research.google.com/github/Deepsphere-AI/DSAI_Python_Programming/blob/main/Unit-8/Simple%20Use%20Case%20Implementation%20using%20Python/Program%20145%20-%20CSLAB_PHYSICIAN_ATTRITION_PREDICTION_V1.ipynb\" target=\"_parent\"><img src=\"https://colab.research.google.com/assets/colab-badge.svg\" alt=\"Open In Colab\"/></a>"
      ]
    },
    {
      "cell_type": "code",
      "execution_count": null,
      "metadata": {
        "id": "c8ob2fmKqe6D"
      },
      "outputs": [],
      "source": [
        "# *********************************************************************************************************************\n",
        "  \n",
        "  # File Name \t:   CSLAB_PHYSICIAN_ATTRITION_PREDICTION_V1\n",
        "  # Purpose \t:   A Program in Python For Predicting Patient Readmittacnce Usecase\n",
        "  # Author\t:   Deepsphere.ai\n",
        "  # Reviewer \t:   Jothi Periasamy\n",
        "  # Date \t:   10/26/2022\n",
        "  # Version\t:   1.0\t\n",
        "  \n",
        "/***********************************************************************************************************************\n",
        "\n",
        "## Program Description : Program For Predicting Physician Attrition Usecase in Python\n",
        "\n",
        "## Python Development Environment & Runtime - Python, Anaconda\n",
        "\n",
        "from mpl_toolkits.mplot3d import Axes3D\n",
        "\n",
        "import matplotlib.pyplot as vAR_plt\n",
        "\n",
        "import numpy as vAR_np\n",
        "\n",
        "vAR_CSLAB_fig = vAR_plt.figure()\n",
        "\n",
        "vAR_CSLAB_ax = vAR_CSLAB_fig.add_subplot(111, projection='3d')\n",
        "\n",
        "for vAR_CSLAB_c, vAR_CSLAB_z in zip(['r', 'g', 'b', 'y'], [30, 20, 10, 0]):\n",
        "\n",
        "    vAR_CSLAB_xs = vAR_np.arange(20)\n",
        "    \n",
        "    vAR_CSLAB_ys = vAR_np.random.rand(20)\n",
        "\n",
        "    vAR_CSLAB_cs = [vAR_CSLAB_c] * len(vAR_CSLAB_xs)\n",
        "    \n",
        "    vAR_CSLAB_cs[0] = 'vAR_CSLAB_c'\n",
        "    \n",
        "    vAR_CSLAB_ax.bar(vAR_CSLAB_xs, vAR_CSLAB_ys, zs=vAR_CSLAB_z, zdir='y', alpha=0.8)\n",
        "\n",
        "vAR_plt.show()\n",
        "\n",
        "/****************************************************************************************************************************\n",
        "  Disclaimer.\n",
        "\n",
        "We are providing this code block strictly for learning and researching, this is not a production\n",
        "ready code. We have no liability on this particular code under any circumstances; users should use\n",
        "this code on their own risk. All software, hardware and othr products that are referenced in these \n",
        "materials belong to the respective vendor who developed or who owns this product.\n",
        "\n",
        "/****************************************************************************************************************************"
      ]
    }
  ]
}