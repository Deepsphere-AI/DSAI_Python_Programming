{
  "cells": [
    {
      "cell_type": "markdown",
      "metadata": {
        "colab_type": "text",
        "id": "view-in-github"
      },
      "source": [
        "<a href=\"https://colab.research.google.com/github/Deepsphere-AI/DSAI_Python_Programming/blob/main/Unit-8/Simple%20Use%20Case%20Implementation%20using%20Python/Program%20141%20-%20CSLAB_INVENTORY_DEMAND_FORECASTING_V1.ipynb\" target=\"_parent\"><img src=\"https://colab.research.google.com/assets/colab-badge.svg\" alt=\"Open In Colab\"/></a>"
      ]
    },
    {
      "cell_type": "code",
      "execution_count": null,
      "metadata": {
        "id": "hAVfAxsYQUzL"
      },
      "outputs": [],
      "source": [
        "\n",
        "# *********************************************************************************************************************\n",
        "  \n",
        "  # File Name \t:   CSLAB_INVENTORY_DEMAND_FORECASTING_V1\n",
        "  # Purpose \t:   A Program in Python For Inventory Demand Forecasting Usecase\n",
        "  # Author\t:   Deepsphere.ai\n",
        "  # Reviewer \t:   Jothi Periasamy\n",
        "  # Date \t:   10/26/2022\n",
        "  # Version\t:   1.0\t\n",
        "  \n",
        "# ***********************************************************************************************************************\n",
        "\n",
        "## Program Description : Program For Inventory Demand Forecasting Usecase in Python\n",
        "\n",
        "## Python Development Environment & Runtime - Python, Anaconda\n",
        "\n",
        "import matplotlib.pyplot as vAR_plt\n",
        "\n",
        "import numpy as vAR_np\n",
        "\n",
        "vAR_CSLAB_t1 = vAR_np.arange(0.0, 2.0, 0.1)\n",
        "\n",
        "vAR_CSLAB_t2 = vAR_np.arange(0.0, 2.0, 0.01)\n",
        "\n",
        "vAR_CSLAB_l1, = vAR_plt.plot(vAR_CSLAB_t2, vAR_np.exp(-vAR_CSLAB_t2))\n",
        "\n",
        "vAR_CSLAB_l2, vAR_CSLAB_l3 = vAR_plt.plot(vAR_CSLAB_t2, vAR_np.sin(2 * vAR_np.pi * vAR_CSLAB_t2), '--go', vAR_CSLAB_t1, vAR_np.log(1 + vAR_CSLAB_t1), '.')\n",
        "\n",
        "vAR_CSLAB_l4, = vAR_plt.plot(vAR_CSLAB_t2, vAR_np.exp(-vAR_CSLAB_t2) * vAR_np.sin(2 * vAR_np.pi * vAR_CSLAB_t2), 'rs-.')\n",
        "\n",
        "vAR_plt.legend((vAR_CSLAB_l2, vAR_CSLAB_l4), ('Actual Demand', 'Forecated Demand'), loc='upper right', shadow=True)\n",
        "\n",
        "vAR_plt.xlabel('time')\n",
        "\n",
        "vAR_plt.ylabel('Demand %')\n",
        "\n",
        "vAR_plt.show()\n",
        "\n",
        "\n",
        "# ****************************************************************************************************************************\n",
        "#   Disclaimer.\n",
        "\n",
        "# We are providing this code block strictly for learning and researching, this is not a production\n",
        "# ready code. We have no liability on this particular code under any circumstances; users should use\n",
        "# this code on their own risk. All software, hardware and othr products that are referenced in these \n",
        "# materials belong to the respective vendor who developed or who owns this product.\n",
        "\n",
        "# ****************************************************************************************************************************\n",
        "   "
      ]
    }
  ],
  "metadata": {
    "colab": {
      "authorship_tag": "ABX9TyMTEAVvawjsaRKZ1d7LBgF1",
      "include_colab_link": true,
      "provenance": []
    },
    "kernelspec": {
      "display_name": "Python 3.9.13 64-bit (microsoft store)",
      "language": "python",
      "name": "python3"
    },
    "language_info": {
      "name": "python",
      "version": "3.9.13"
    },
    "vscode": {
      "interpreter": {
        "hash": "f7161cb5baffb24dee6a1726ecc12fdf408657b8c9335ee291ca814aa42784e7"
      }
    }
  },
  "nbformat": 4,
  "nbformat_minor": 0
}
