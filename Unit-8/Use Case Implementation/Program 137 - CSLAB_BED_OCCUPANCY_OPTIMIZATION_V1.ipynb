{
  "nbformat": 4,
  "nbformat_minor": 0,
  "metadata": {
    "colab": {
      "provenance": [],
      "authorship_tag": "ABX9TyO68+rY+O2cvP5UWTfK+q4f",
      "include_colab_link": true
    },
    "kernelspec": {
      "name": "python3",
      "display_name": "Python 3"
    },
    "language_info": {
      "name": "python"
    }
  },
  "cells": [
    {
      "cell_type": "markdown",
      "metadata": {
        "id": "view-in-github",
        "colab_type": "text"
      },
      "source": [
        "<a href=\"https://colab.research.google.com/github/Deepsphere-AI/DSAI_Python_Programming/blob/main/Unit-8/Use%20Case%20Implementation/Program%20137%20-%20CSLAB_BED_OCCUPANCY_OPTIMIZATION_V1.ipynb\" target=\"_parent\"><img src=\"https://colab.research.google.com/assets/colab-badge.svg\" alt=\"Open In Colab\"/></a>"
      ]
    },
    {
      "cell_type": "code",
      "execution_count": null,
      "metadata": {
        "id": "y968aJsTNuvF"
      },
      "outputs": [],
      "source": [
        "\n",
        "# *********************************************************************************************************************\n",
        "  \n",
        "  # File Name \t:   CSLAB_BED_OCCUPANCY_OPTIMIZATION_V1\n",
        "  # Purpose \t:   A Program in Python Bed Occupancy Optimization Usecase\n",
        "  # Author\t:   Deepsphere.ai\n",
        "  # Reviewer \t:   Jothi Periasamy\n",
        "  # Date \t:   10/26/2022\n",
        "  # Version\t:   1.0\t\n",
        "  \n",
        "# ***********************************************************************************************************************\n",
        "\n",
        "## Program Description : Program for Bed Occupancy Optimization Usecase in Python\n",
        "\n",
        "## Python Development Environment & Runtime - Python, Anaconda\n",
        "  \n",
        "from mpl_toolkits.mplot3d import Axes3D\n",
        "\n",
        "import numpy as vAR_np\n",
        "\n",
        "import matplotlib.pyplot as vAR_plt\n",
        "\n",
        "vAR_CSLAB_fig = vAR_plt.figure()\n",
        "\n",
        "vAR_CSLAB_ax = vAR_CSLAB_fig.gca(projection='3d')\n",
        "\n",
        "vAR_CSLAB_x = vAR_np.linspace(0, 1, 100)\n",
        "\n",
        "vAR_CSLAB_y = vAR_np.sin(vAR_CSLAB_x * 2 * vAR_np.pi) / 2 + 0.5\n",
        "\n",
        "vAR_CSLAB_ax.plot(vAR_CSLAB_x, vAR_CSLAB_y, zs=0, zdir='z')\n",
        "\n",
        "vAR_CSLAB_colors = ('r', 'g', 'b', 'k')\n",
        "\n",
        "for vAR_CSLAB_c in vAR_CSLAB_colors:\n",
        "    \n",
        "    vAR_CSLAB_x = vAR_np.random.sample(20)\n",
        "    \n",
        "    vAR_CSLAB_y = vAR_np.random.sample(20)\n",
        "    \n",
        "    vAR_CSLAB_ax.scatter(vAR_CSLAB_x, vAR_CSLAB_y, 0, zdir='y', c=c)\n",
        "\n",
        "vAR_CSLAB_ax.legend()\n",
        "\n",
        "vAR_CSLAB_ax.set_xlim3d(0, 1)\n",
        "\n",
        "vAR_CSLAB_ax.set_ylim3d(0, 1)\n",
        "\n",
        "vAR_CSLAB_ax.set_zlim3d(0, 1)\n",
        "\n",
        "vAR_plt.show()\n",
        "\n",
        "# ****************************************************************************************************************************\n",
        "#   Disclaimer.\n",
        "\n",
        "# We are providing this code block strictly for learning and researching, this is not a production\n",
        "# ready code. We have no liability on this particular code under any circumstances; users should use\n",
        "# this code on their own risk. All software, hardware and othr products that are referenced in these \n",
        "# materials belong to the respective vendor who developed or who owns this product.\n",
        "\n",
        "# ****************************************************************************************************************************\n",
        "   "
      ]
    }
  ]
}