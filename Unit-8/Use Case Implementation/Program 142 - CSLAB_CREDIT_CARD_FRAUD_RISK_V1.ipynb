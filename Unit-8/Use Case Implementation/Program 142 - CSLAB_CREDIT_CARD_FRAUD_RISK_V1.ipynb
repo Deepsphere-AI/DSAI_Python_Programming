{
  "nbformat": 4,
  "nbformat_minor": 0,
  "metadata": {
    "colab": {
      "provenance": [],
      "authorship_tag": "ABX9TyMpHYYs212k6jNTDibMNpzu",
      "include_colab_link": true
    },
    "kernelspec": {
      "name": "python3",
      "display_name": "Python 3"
    },
    "language_info": {
      "name": "python"
    }
  },
  "cells": [
    {
      "cell_type": "markdown",
      "metadata": {
        "id": "view-in-github",
        "colab_type": "text"
      },
      "source": [
        "<a href=\"https://colab.research.google.com/github/Deepsphere-AI/DSAI_Python_Programming/blob/main/Unit-8/Use%20Case%20Implementation/Program%20142%20-%20CSLAB_CREDIT_CARD_FRAUD_RISK_V1.ipynb\" target=\"_parent\"><img src=\"https://colab.research.google.com/assets/colab-badge.svg\" alt=\"Open In Colab\"/></a>"
      ]
    },
    {
      "cell_type": "code",
      "execution_count": null,
      "metadata": {
        "id": "-MvPc9EtQyUy"
      },
      "outputs": [],
      "source": [
        "\n",
        "# *********************************************************************************************************************\n",
        "  \n",
        "  # File Name \t:   CSLAB_CREDIT_CARD_FRAUD_RISK_V1\n",
        "  # Purpose \t:   A Program in Python For Credit Card Fraud Risk Usecase\n",
        "  # Author\t:   Deepsphere.ai\n",
        "  # Reviewer \t:   Jothi Periasamy\n",
        "  # Date \t:   10/26/2022\n",
        "  # Version\t:   1.0\t\n",
        "  \n",
        "# ***********************************************************************************************************************\n",
        "\n",
        "## Program Description : Program For Credit Card Fraud Risk Usecase in Python\n",
        "\n",
        "## Python Development Environment & Runtime - Python, Anaconda\n",
        "\n",
        "import matplotlib.pyplot as vAR_plt\n",
        "\n",
        "from numpy import arange, pi, cos, sin\n",
        "\n",
        "from numpy.random import rand\n",
        "\n",
        "vAR_CSLAB_rx, vAR_CSLAB_ry = 3., 1.\n",
        "\n",
        "vAR_CSLAB_area = vAR_CSLAB_rx * vAR_CSLAB_ry * pi\n",
        "\n",
        "vAR_CSLAB_theta = arange(0, 2*pi + 0.01, 0.1)\n",
        "\n",
        "vAR_CSLAB_verts = list(zip(vAR_CSLAB_rx/vAR_CSLAB_area*cos(vAR_CSLAB_theta), vAR_CSLAB_ry/vAR_CSLAB_area*sin(vAR_CSLAB_theta)))\n",
        "\n",
        "vAR_CSLAB_x, vAR_CSLAB_y, vAR_CSLAB_s, vAR_CSLAB_c = rand(4, 30)\n",
        "\n",
        "vAR_CSLAB_s *= 10**2.\n",
        "\n",
        "vAR_CSLAB_fig, vAR_CSLAB_ax = vAR_plt.subplots()\n",
        "\n",
        "vAR_CSLAB_ax.scatter(vAR_CSLAB_x, vAR_CSLAB_y, vAR_CSLAB_s, vAR_CSLAB_c, marker=None, verts=vAR_CSLAB_verts)\n",
        "\n",
        "vAR_plt.show()\n",
        "\n",
        "# ****************************************************************************************************************************\n",
        "#   Disclaimer.\n",
        "\n",
        "# We are providing this code block strictly for learning and researching, this is not a production\n",
        "# ready code. We have no liability on this particular code under any circumstances; users should use\n",
        "# this code on their own risk. All software, hardware and othr products that are referenced in these \n",
        "# materials belong to the respective vendor who developed or who owns this product.\n",
        "\n",
        "# ****************************************************************************************************************************\n",
        "   "
      ]
    }
  ]
}