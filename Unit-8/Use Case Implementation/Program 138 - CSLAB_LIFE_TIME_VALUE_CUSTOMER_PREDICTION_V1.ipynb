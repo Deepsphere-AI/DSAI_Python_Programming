{
  "nbformat": 4,
  "nbformat_minor": 0,
  "metadata": {
    "colab": {
      "provenance": [],
      "authorship_tag": "ABX9TyNLi//qvmvxDb70+co2Trdi",
      "include_colab_link": true
    },
    "kernelspec": {
      "name": "python3",
      "display_name": "Python 3"
    },
    "language_info": {
      "name": "python"
    }
  },
  "cells": [
    {
      "cell_type": "markdown",
      "metadata": {
        "id": "view-in-github",
        "colab_type": "text"
      },
      "source": [
        "<a href=\"https://colab.research.google.com/github/Deepsphere-AI/DSAI_Python_Programming/blob/main/Unit-8/Use%20Case%20Implementation/Program%20138%20-%20CSLAB_LIFE_TIME_VALUE_CUSTOMER_PREDICTION_V1.ipynb\" target=\"_parent\"><img src=\"https://colab.research.google.com/assets/colab-badge.svg\" alt=\"Open In Colab\"/></a>"
      ]
    },
    {
      "cell_type": "code",
      "execution_count": null,
      "metadata": {
        "id": "Byd11OXkOYkW"
      },
      "outputs": [],
      "source": [
        "\n",
        "# *********************************************************************************************************************\n",
        "  \n",
        "  # File Name \t:   CSLAB_LIFE_TIME_VALUE_CUSTOMER_PREDICTION_V1\n",
        "  # Purpose \t:   A Program in Python For Predicting Life Time Value Customers Usecase\n",
        "  # Author\t:   Deepsphere.ai\n",
        "  # Reviewer \t:   Jothi Periasamy\n",
        "  # Date \t:   10/26/2022\n",
        "  # Version\t:   1.0\t\n",
        "  \n",
        "# ***********************************************************************************************************************\n",
        "\n",
        "## Program Description : Program For Predicting Life Time Value Customers Usecase in Python\n",
        "\n",
        "## Python Development Environment & Runtime - Python, Anaconda\n",
        "\n",
        "import matplotlib\n",
        "\n",
        "from numpy.random import randn\n",
        "\n",
        "import matplotlib.pyplot as vAR_plt\n",
        "\n",
        "from matplotlib.ticker import FuncFormatter\n",
        "\n",
        "def to_percent(vAR_CSLAB_y, vAR_CSLAB_position):\n",
        "    \n",
        "    vAR_CSLAB_s = str(100 * vAR_CSLAB_y)\n",
        "\n",
        "    if matplotlib.rcParams['text.usetex'] is True:\n",
        "        \n",
        "        return vAR_CSLAB_s + r'$\\%$'\n",
        "    \n",
        "    else:\n",
        "        \n",
        "        return vAR_CSLAB_s + '%'\n",
        "\n",
        "vAR_CSLAB_x = randn(5000)\n",
        "\n",
        "vAR_plt.hist(vAR_CSLAB_x, bins=50, normed=True)\n",
        "\n",
        "vAR_CSLAB_formatter = FuncFormatter(to_percent)\n",
        "\n",
        "vAR_plt.gca().yaxis.set_major_formatter(vAR_CSLAB_formatter)\n",
        "\n",
        "vAR_plt.show()\n",
        "\n",
        "# ****************************************************************************************************************************\n",
        "#   Disclaimer.\n",
        "\n",
        "# We are providing this code block strictly for learning and researching, this is not a production\n",
        "# ready code. We have no liability on this particular code under any circumstances; users should use\n",
        "# this code on their own risk. All software, hardware and othr products that are referenced in these \n",
        "# materials belong to the respective vendor who developed or who owns this product.\n",
        "\n",
        "# ****************************************************************************************************************************\n",
        "   "
      ]
    }
  ]
}