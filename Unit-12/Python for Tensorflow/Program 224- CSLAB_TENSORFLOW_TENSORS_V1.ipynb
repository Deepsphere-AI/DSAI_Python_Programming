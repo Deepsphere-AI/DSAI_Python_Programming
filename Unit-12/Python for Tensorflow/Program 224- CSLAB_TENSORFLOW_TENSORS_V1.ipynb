{
  "nbformat": 4,
  "nbformat_minor": 0,
  "metadata": {
    "colab": {
      "provenance": [],
      "authorship_tag": "ABX9TyNo1Z+wmDjF7p+A9QattCLv",
      "include_colab_link": true
    },
    "kernelspec": {
      "name": "python3",
      "display_name": "Python 3"
    },
    "language_info": {
      "name": "python"
    }
  },
  "cells": [
    {
      "cell_type": "markdown",
      "metadata": {
        "id": "view-in-github",
        "colab_type": "text"
      },
      "source": [
        "<a href=\"https://colab.research.google.com/github/Deepsphere-AI/DSAI_Python_Programming/blob/main/Unit-12/Python%20for%20Tensorflow/Program%20224-%20CSLAB_TENSORFLOW_TENSORS_V1.ipynb\" target=\"_parent\"><img src=\"https://colab.research.google.com/assets/colab-badge.svg\" alt=\"Open In Colab\"/></a>"
      ]
    },
    {
      "cell_type": "code",
      "execution_count": null,
      "metadata": {
        "id": "-SwtvuMqoAQr"
      },
      "outputs": [],
      "source": [
        "\n",
        "# *********************************************************************************************************************\n",
        "  \n",
        "  # File Name \t:   CSLAB_TENSORFLOW_TENSORS_V1\n",
        "  # Purpose \t:   A Program in Python Tensorflow for Tensors\n",
        "  # Author\t:   Deepsphere.ai\n",
        "  # Reviewer \t:   Jothi Periasamy\n",
        "  # Date \t:   10/27/2022\n",
        "  # Version\t:   1.0\t\n",
        "  \n",
        "# ***********************************************************************************************************************\n",
        "\n",
        "## Program Description : Program for Tensors using Tensorflow in Python\n",
        "\n",
        "## Python Development Environment & Runtime - Python, Anaconda, Tensorflow, Tensorboard\n",
        "\n",
        "import tensorflow as vAR_tf\n",
        "\n",
        "vAR_CSLAB_C = vAR_tf.constant([[1.0, 2.0], [3.0, 4.0]])\n",
        "\n",
        "vAR_CSLAB_D = vAR_tf.constant([[1.0, 1.0], [0.0, 1.0]])\n",
        "\n",
        "# Construct a `Session` to execute the graph.\n",
        "vAR_CSLAB_sess = vAR_tf.Session()\n",
        "\n",
        "vAR_CSLAB_E = vAR_tf.matmul(vAR_CSLAB_C, vAR_CSLAB_D)\n",
        "\n",
        "# Execute the graph and store the value that `e` represents in `result`.\n",
        "vAR_CSLAB_result = vAR_CSLAB_sess.run(vAR_CSLAB_E)\n",
        "\n",
        "vAR_CSLAB_result\n",
        "\n",
        "# ****************************************************************************************************************************\n",
        "#   Disclaimer.\n",
        "\n",
        "# We are providing this code block strictly for learning and researching, this is not a production\n",
        "# ready code. We have no liability on this particular code under any circumstances; users should use\n",
        "# this code on their own risk. All software, hardware and othr products that are referenced in these \n",
        "# materials belong to the respective vendor who developed or who owns this product.\n",
        "\n",
        "# ****************************************************************************************************************************\n",
        "  "
      ]
    }
  ]
}