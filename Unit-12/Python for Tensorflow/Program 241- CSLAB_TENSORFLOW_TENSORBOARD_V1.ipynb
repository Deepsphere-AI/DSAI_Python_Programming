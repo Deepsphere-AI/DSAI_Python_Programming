{
  "nbformat": 4,
  "nbformat_minor": 0,
  "metadata": {
    "colab": {
      "provenance": [],
      "authorship_tag": "ABX9TyO7d/8oMIri+XUZ0nbOGYfy",
      "include_colab_link": true
    },
    "kernelspec": {
      "name": "python3",
      "display_name": "Python 3"
    },
    "language_info": {
      "name": "python"
    }
  },
  "cells": [
    {
      "cell_type": "markdown",
      "metadata": {
        "id": "view-in-github",
        "colab_type": "text"
      },
      "source": [
        "<a href=\"https://colab.research.google.com/github/Deepsphere-AI/DSAI_Python_Programming/blob/main/Unit-12/Python%20for%20Tensorflow/Program%20241-%20CSLAB_TENSORFLOW_TENSORBOARD_V1.ipynb\" target=\"_parent\"><img src=\"https://colab.research.google.com/assets/colab-badge.svg\" alt=\"Open In Colab\"/></a>"
      ]
    },
    {
      "cell_type": "code",
      "execution_count": null,
      "metadata": {
        "id": "8sHFwX0r_B4V"
      },
      "outputs": [],
      "source": [
        "\n",
        "# *********************************************************************************************************************\n",
        "  \n",
        "  # File Name \t:   CSLAB_TENSORFLOW_TENSORBOARD_V1\n",
        "  # Purpose \t:   A Program in Python Tensorflow for Tensorboard \n",
        "  # Author\t:   Deepsphere.ai\n",
        "  # Reviewer \t:   Jothi Periasamy\n",
        "  # Date \t:   10/27/2022\n",
        "  # Version\t:   1.0\t\n",
        "  \n",
        "# ***********************************************************************************************************************\n",
        "\n",
        "## Program Description : Program for Tensorboard using Tensorflow in Python\n",
        "\n",
        "## Python Development Environment & Runtime - Python, Anaconda, Tensorflow, Tensorboard\n",
        "\n",
        "import tensorflow as vAR_tf\n",
        "\n",
        "vAR_CSLAB_a = vAR_tf.constant(5)\n",
        "\n",
        "vAR_CSLAB_b = vAR_tf.placeholder(vAR_tf.int32,shape=[2,2])\n",
        "\n",
        "vAR_CSLAB_f = vAR_CSLAB_b + vAR_CSLAB_a\n",
        "\n",
        "with vAR_tf.Session() as sess:\n",
        "    \n",
        "    vAR_fetches = [vAR_CSLAB_a,vAR_CSLAB_b]\n",
        "    \n",
        "    vAR_outs = sess.run(vAR_fetches,feed_dict={vAR_CSLAB_b:[[4,4],[5,5]]})\n",
        "    \n",
        "    vAR_tf.summary.FileWriter('tensorboard/logs',sess.graph)\n",
        "\n",
        "# ****************************************************************************************************************************\n",
        "#   Disclaimer.\n",
        "\n",
        "# We are providing this code block strictly for learning and researching, this is not a production\n",
        "# ready code. We have no liability on this particular code under any circumstances; users should use\n",
        "# this code on their own risk. All software, hardware and othr products that are referenced in these \n",
        "# materials belong to the respective vendor who developed or who owns this product.\n",
        "\n",
        "# ****************************************************************************************************************************\n",
        "  "
      ]
    }
  ]
}