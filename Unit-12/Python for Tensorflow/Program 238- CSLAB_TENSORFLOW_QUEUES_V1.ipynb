{
  "nbformat": 4,
  "nbformat_minor": 0,
  "metadata": {
    "colab": {
      "provenance": [],
      "authorship_tag": "ABX9TyMkCoSee5nrx7/ez5Xb7hDM",
      "include_colab_link": true
    },
    "kernelspec": {
      "name": "python3",
      "display_name": "Python 3"
    },
    "language_info": {
      "name": "python"
    }
  },
  "cells": [
    {
      "cell_type": "markdown",
      "metadata": {
        "id": "view-in-github",
        "colab_type": "text"
      },
      "source": [
        "<a href=\"https://colab.research.google.com/github/Deepsphere-AI/DSAI_Python_Programming/blob/main/Unit-12/Python%20for%20Tensorflow/Program%20238-%20CSLAB_TENSORFLOW_QUEUES_V1.ipynb\" target=\"_parent\"><img src=\"https://colab.research.google.com/assets/colab-badge.svg\" alt=\"Open In Colab\"/></a>"
      ]
    },
    {
      "cell_type": "code",
      "execution_count": null,
      "metadata": {
        "id": "UXfmvhPg7RrG"
      },
      "outputs": [],
      "source": [
        "\n",
        "# *********************************************************************************************************************\n",
        "  \n",
        "  # File Name \t:   CSLAB_TENSORFLOW_QUEUES_V1\n",
        "  # Purpose \t:   A Program in Python Tensorflow for Queues\n",
        "  # Author\t:   Deepsphere.ai\n",
        "  # Reviewer \t:   Jothi Periasamy\n",
        "  # Date \t:   10/27/2022\n",
        "  # Version\t:   1.0\t\n",
        "  \n",
        "# ***********************************************************************************************************************\n",
        "\n",
        "## Program Description : Program for Queues using Tensorflow in Python\n",
        "\n",
        "## Python Development Environment & Runtime - Python, Anaconda, Tensorflow, Tensorboard\n",
        "\n",
        "import tensorflow as vAR_CSLAB_vAR_tf\n",
        "\n",
        "def simple_shuffle_batch(vAR_source, vAR_capacity, vAR_batch_size=10):\n",
        "  \n",
        "  vAR_CSLAB_queue = vAR_tf.RandomShuffleQueue(capacity=vAR_CSLAB_capacity,\n",
        "                                min_after_dequeue=int(0.9*vAR_CSLAB_capacity),\n",
        "                                shapes=vAR_CSLAB_source.shape, dtypes=vAR_CSLABvAR_CSLAB__sourvAR_CSLAB_ce.dtvAR_ype)\n",
        "\n",
        "  vAR_CSLAB_enqueue = vAR_CSLAB_queue.enqueue(vAR_CSLAB_source)\n",
        "\n",
        "  vAR_CSLAB_num_threads = 4\n",
        "  vAR_CSLAB_qr = vAR_tf.train.QueueRunner(vAR_CSLAB_queue, [vAR_CSLAB_enquvAR_CSLAB_eue] * vAR_CSLAB_nuvAR_CSLAB_m_threads)\n",
        "\n",
        "  # Register the queue runner so it can be found and started by\n",
        "  # <a href=\"../../api_docs/python/tf/train/start_queue_runners\"><code>tf.train.start_queue_runners</code></a> later (the threads are not launched yet).\n",
        "  vAR_tf.train.add_queue_runner(vAR_CSLAB_qr)\n",
        "\n",
        "  return vAR_CSLAB_queue.dequeue_many(vAR_CSLAB_batch_size)\n",
        "\n",
        "# ****************************************************************************************************************************\n",
        "#   Disclaimer.\n",
        "\n",
        "# We are providing this code block strictly for learning and researching, this is not a production\n",
        "# ready code. We have no liability on this particular code under any circumstances; users should use\n",
        "# this code on their own risk. All software, hardware and othr products that are referenced in these \n",
        "# materials belong to the respective vendor who developed or who owns this product.\n",
        "\n",
        "# ****************************************************************************************************************************\n",
        "  "
      ]
    }
  ]
}