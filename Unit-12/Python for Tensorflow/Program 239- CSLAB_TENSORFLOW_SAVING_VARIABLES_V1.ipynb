{
  "nbformat": 4,
  "nbformat_minor": 0,
  "metadata": {
    "colab": {
      "provenance": [],
      "authorship_tag": "ABX9TyPBWDBwWZXbviAzRzmhuKec",
      "include_colab_link": true
    },
    "kernelspec": {
      "name": "python3",
      "display_name": "Python 3"
    },
    "language_info": {
      "name": "python"
    }
  },
  "cells": [
    {
      "cell_type": "markdown",
      "metadata": {
        "id": "view-in-github",
        "colab_type": "text"
      },
      "source": [
        "<a href=\"https://colab.research.google.com/github/Deepsphere-AI/DSAI_Python_Programming/blob/main/Unit-12/Python%20for%20Tensorflow/Program%20239-%20CSLAB_TENSORFLOW_SAVING_VARIABLES_V1.ipynb\" target=\"_parent\"><img src=\"https://colab.research.google.com/assets/colab-badge.svg\" alt=\"Open In Colab\"/></a>"
      ]
    },
    {
      "cell_type": "code",
      "execution_count": null,
      "metadata": {
        "id": "rTLoZW3U7x04"
      },
      "outputs": [],
      "source": [
        "\n",
        "# *********************************************************************************************************************\n",
        "  \n",
        "  # File Name \t:   CSLAB_TENSORFLOW_SAVING_VARIABLES_V1\n",
        "  # Purpose \t:   A Program in Python Tensorflow for Saving Variables\n",
        "  # Author\t:   Deepsphere.ai\n",
        "  # Reviewer \t:   Jothi Periasamy\n",
        "  # Date \t:   10/27/2022\n",
        "  # Version\t:   1.0\t\n",
        "  \n",
        "# ***********************************************************************************************************************\n",
        "\n",
        "## Program Description : Program for Saving Variables using Tensorflow in Python\n",
        "\n",
        "## Python Development Environment & Runtime - Python, Anaconda, Tensorflow, Tensorboard\n",
        "\n",
        "import tensorflow as vAR_tf\n",
        "\n",
        "vAR_tf.reset_default_graph()\n",
        "\n",
        "vAR_CSLAB_v1 = vAR_tf.get_variable(\"v1\", shape=[3], initializer=tf.zeros_initializer)\n",
        "vAR_CSLAB_v2 = vAR_tf.get_variable(\"v2\", shape=[5], initializer=tf.zeros_initializer)\n",
        "\n",
        "vAR_CSLAB_inc_v1 = vAR_CSLAB_v1.assign(vAR_CSLAB_v1+1)\n",
        "vAR_CSLAB_dec_v2 = vAR_CSLAB_v2.assign(vAR_CSLAB_v2-1)\n",
        "\n",
        "vAR_CSLAB_init_op = vAR_tf.global_variables_initializer()\n",
        "\n",
        "vAR_CSLAB_saver = vAR_tf.train.Saver({\"vAR_CSLAB_v2\":vAR_CSLAB_v2})\n",
        "\n",
        "vAR_CSLAB_saver\n",
        "\n",
        "# ****************************************************************************************************************************\n",
        "#   Disclaimer.\n",
        "\n",
        "# We are providing this code block strictly for learning and researching, this is not a production\n",
        "# ready code. We have no liability on this particular code under any circumstances; users should use\n",
        "# this code on their own risk. All software, hardware and othr products that are referenced in these \n",
        "# materials belong to the respective vendor who developed or who owns this product.\n",
        "\n",
        "# ****************************************************************************************************************************\n",
        "  "
      ]
    }
  ]
}