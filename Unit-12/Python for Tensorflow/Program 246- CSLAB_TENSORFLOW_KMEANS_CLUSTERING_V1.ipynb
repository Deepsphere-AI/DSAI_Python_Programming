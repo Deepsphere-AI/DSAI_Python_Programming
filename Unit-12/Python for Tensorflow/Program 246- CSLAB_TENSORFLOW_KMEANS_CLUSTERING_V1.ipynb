{
  "nbformat": 4,
  "nbformat_minor": 0,
  "metadata": {
    "colab": {
      "provenance": [],
      "authorship_tag": "ABX9TyNFf4MPC+mGTxA9YpxQsrmE",
      "include_colab_link": true
    },
    "kernelspec": {
      "name": "python3",
      "display_name": "Python 3"
    },
    "language_info": {
      "name": "python"
    }
  },
  "cells": [
    {
      "cell_type": "markdown",
      "metadata": {
        "id": "view-in-github",
        "colab_type": "text"
      },
      "source": [
        "<a href=\"https://colab.research.google.com/github/Deepsphere-AI/DSAI_Python_Programming/blob/main/Unit-12/Python%20for%20Tensorflow/Program%20246-%20CSLAB_TENSORFLOW_KMEANS_CLUSTERING_V1.ipynb\" target=\"_parent\"><img src=\"https://colab.research.google.com/assets/colab-badge.svg\" alt=\"Open In Colab\"/></a>"
      ]
    },
    {
      "cell_type": "code",
      "execution_count": null,
      "metadata": {
        "id": "pNKgwblDEv_X"
      },
      "outputs": [],
      "source": [
        "\n",
        "# *********************************************************************************************************************\n",
        "  \n",
        "  # File Name \t:   CSLAB_TENSORFLOW_KMEANS_CLUSTERING_V1\n",
        "  # Purpose \t:   A Program in Python Tensorflow for Kmeans Clustering\n",
        "  # Author\t:   Deepsphere.ai\n",
        "  # Reviewer \t:   Jothi Periasamy\n",
        "  # Date \t:   10/27/2022\n",
        "  # Version\t:   1.0\t\n",
        "  \n",
        "# ***********************************************************************************************************************\n",
        "\n",
        "## Program Description : Program for Kmeans Clustering using Tensorflow in Python\n",
        "\n",
        "## Python Development Environment & Runtime - Python, Anaconda, Tensorflow, Tensorboard\n",
        "\n",
        "import tensorflow as vAR_tf\n",
        "import numpy as vAR_np\n",
        "\n",
        "vAR_CSLAB_seed = 700\n",
        "\n",
        "def vAR_CSLAB_create_samples(vAR_CSLAB_n_clusters, vAR_CSLAB_n_samples_per_cluster, vAR_CSLAB_n_features, vAR_CSLAB_embiggen_factor, vAR_CSLAB_seed):\n",
        "    vAR_np.random.seed(vAR_CSLAB_seed)\n",
        "    vAR_CSLAB_slices = []\n",
        "    vAR_CSLAB_centroids = []\n",
        "        \n",
        "    # Create samples for each cluster\n",
        "    for i in range(vAR_CSLAB_n_clusters):\n",
        "        vAR_CSLAB_samples = vAR_tf.random_normal((vAR_CSLAB_n_samples_per_cluster, vAR_CSLAB_n_features),\n",
        "                                   mean=0.0, stddev=5.0, dtype=vAR_tf.float32, seed=vAR_CSLAB_seed, name=\"cluster_{}\".format(i))\n",
        "        \n",
        "        vAR_CSLAB_current_centroid = (vAR_np.random.random((1, vAR_CSLAB_n_features)) * vAR_CSLAB_embiggen_factor) - (vAR_CSLAB_embiggen_factor/2)\n",
        "        \n",
        "        vAR_CSLAB_centroids.append(vAR_CSLAB_current_centroid)\n",
        "        \n",
        "        vAR_CSLAB_samples += vAR_CSLAB_current_centroid\n",
        "        \n",
        "        vAR_CSLAB_slices.append(vAR_CSLAB_samples)\n",
        "        \n",
        "    # Create a big \"samples\" dataset\n",
        "    vAR_CSLAB_samples = vAR_tf.concat(vAR_CSLAB_slices, 0, name='samples')\n",
        "    vAR_CSLAB_centroids = vAR_tf.concat(vAR_CSLAB_centroids, 0, name='centroids')\n",
        "    return vAR_CSLAB_centroids, vAR_CSLAB_samples\n",
        "\n",
        "import matplotlib.pyplot as vAR_plt\n",
        "%matplotlib inline\n",
        "\n",
        "def vAR_CSLAB_plot_clusters(vAR_CSLAB_all_samples, vAR_CSLAB_centroids, vAR_CSLAB_n_samples_per_cluster):\n",
        "     \n",
        "    #Plot out the different clusters\n",
        "     #Choose a different colour for each cluster\n",
        "    vAR_CSLAB_colour = vAR_plt.cm.rainbow(vAR_np.linspace(0,1,len(vAR_CSLAB_centroids)))\n",
        "    for i, vAR_CSLAB_centroid in enumerate(vAR_CSLAB_centroids):\n",
        "        vAR_CSLAB_samples = vAR_CSLAB_all_samples[i*vAR_CSLAB_n_samples_per_cluster:(i+1)*vAR_CSLAB_n_samples_per_cluster]\n",
        "        vAR_plt.scatter(vAR_CSLAB_samples[:,0], vAR_CSLAB_samples[:,1], c=vAR_CSLAB_colour[i])\n",
        "         #Grab just the samples fpr the given cluster and plot them out with a new colour\n",
        "         #Also plot centroid\n",
        "        vAR_plt.plot(vAR_CSLAB_centroid[0], vAR_CSLAB_centroid[1], markersize=35, marker=\"x\", color='k', mew=10)\n",
        "        vAR_plt.plot(vAR_CSLAB_centroid[0], vAR_CSLAB_centroid[1], markersize=30, marker=\"x\", color='m', mew=5)\n",
        "    vAR_plt.show()\n",
        "    \n",
        "vAR_CSLAB_n_features = 2\n",
        "vAR_CSLAB_n_clusters = 3\n",
        "vAR_CSLAB_n_samples_per_cluster = 500\n",
        "vAR_CSLAB_vAR_CSLAB_seed = 700\n",
        "vAR_CSLAB_embiggen_factor = 70\n",
        "\n",
        "vAR_CSLAB_centroids, vAR_CSLAB_samples = vAR_CSLAB_create_samples(vAR_CSLAB_n_clusters, vAR_CSLAB_n_samples_per_cluster, vAR_CSLAB_n_features, vAR_CSLAB_embiggen_factor, vAR_CSLAB_seed)\n",
        "\n",
        "vAR_CSLAB_model = vAR_tf.global_variables_initializer()\n",
        "with vAR_tf.Session() as session:\n",
        "    vAR_CSLAB_sample_values = session.run(vAR_CSLAB_samples)\n",
        "    vAR_CSLAB_centroid_values = session.run(vAR_CSLAB_centroids)\n",
        "    \n",
        "    vAR_CSLAB_plot_clusters(vAR_CSLAB_sample_values, vAR_CSLAB_centroid_values, vAR_CSLAB_n_samples_per_cluster)\n",
        "    \n",
        "    \n",
        "# ****************************************************************************************************************************\n",
        "#   Disclaimer.\n",
        "\n",
        "# We are providing this code block strictly for learning and researching, this is not a production\n",
        "# ready code. We have no liability on this particular code under any circumstances; users should use\n",
        "# this code on their own risk. All software, hardware and othr products that are referenced in these \n",
        "# materials belong to the respective vendor who developed or who owns this product.\n",
        "\n",
        "# ****************************************************************************************************************************\n",
        "  "
      ]
    }
  ]
}