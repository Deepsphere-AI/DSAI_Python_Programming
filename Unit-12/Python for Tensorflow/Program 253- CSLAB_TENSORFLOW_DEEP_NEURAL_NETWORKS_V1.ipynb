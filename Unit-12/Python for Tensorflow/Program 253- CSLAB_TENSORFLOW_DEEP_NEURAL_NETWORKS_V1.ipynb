{
  "nbformat": 4,
  "nbformat_minor": 0,
  "metadata": {
    "colab": {
      "provenance": [],
      "authorship_tag": "ABX9TyNHETG3UstEak+X328a/1+Q",
      "include_colab_link": true
    },
    "kernelspec": {
      "name": "python3",
      "display_name": "Python 3"
    },
    "language_info": {
      "name": "python"
    }
  },
  "cells": [
    {
      "cell_type": "markdown",
      "metadata": {
        "id": "view-in-github",
        "colab_type": "text"
      },
      "source": [
        "<a href=\"https://colab.research.google.com/github/Deepsphere-AI/DSAI_Python_Programming/blob/main/Unit-12/Python%20for%20Tensorflow/Program%20253-%20CSLAB_TENSORFLOW_DEEP_NEURAL_NETWORKS_V1.ipynb\" target=\"_parent\"><img src=\"https://colab.research.google.com/assets/colab-badge.svg\" alt=\"Open In Colab\"/></a>"
      ]
    },
    {
      "cell_type": "code",
      "execution_count": null,
      "metadata": {
        "id": "79Z9UzFGJnc_"
      },
      "outputs": [],
      "source": [
        "\n",
        "# *********************************************************************************************************************\n",
        "  \n",
        "  # File Name \t:   CSLAB_TENSORFLOW_DEEP_NEURAL_NETWORKS_V1\n",
        "  # Purpose \t:   A Program in Python Tensorflow for Deep Neural Networks\n",
        "  # Author\t:   Deepsphere.ai\n",
        "  # Reviewer \t:   Jothi Periasamy\n",
        "  # Date \t:   10/27/2022\n",
        "  # Version\t:   1.0\t\n",
        "  \n",
        "# ***********************************************************************************************************************\n",
        "\n",
        "## Program Description : Program for Deep Neural Networks using Tensorflow in Python\n",
        "\n",
        "## Python Development Environment & Runtime - Python, Anaconda, Tensorflow, Tensorboard\n",
        "\n",
        "import tensorflow as vAR_tf\n",
        "from sklearn import datasets\n",
        "from tensorflow.python.framework import ops\n",
        "ops.reset_default_graph()\n",
        "\n",
        "vAR_CSLAB_iris = datasets.load_iris()\n",
        "\n",
        "vAR_CSLAB_sl= vAR_tf.feature_column.numeric_column(\"sl\")\n",
        "vAR_CSLAB_sw = vAR_tf.feature_column.numeric_column(\"sw\")\n",
        "vAR_CSLAB_pl = vAR_tf.feature_column.numeric_column(\"pl\")\n",
        "\n",
        "vAR_CSLAB_estimator = vAR_tf.estimator.DNNRegressor(feature_columns = [vAR_CSLAB_sl,vAR_CSLAB_sw,vAR_CSLAB_pl],hidden_units = [5])\n",
        "\n",
        "def vAR_CSLAB_input_fn( vAR_CSLAB_num_epochs, vAR_CSLAB_shuffle):\n",
        "    \n",
        "    vAR_CSLAB_x = {'sl':vAR_CSLAB_iris.data.T[0],'sw':vAR_CSLAB_iris.data.T[1],'pl':vAR_CSLAB_iris.data.T[2]}\n",
        "    \n",
        "    vAR_CSLAB_labels = vAR_CSLAB_iris.data.T[3]\n",
        "    return vAR_tf.estimator.inputs.numpy_input_fn(vAR_CSLAB_x,y=vAR_CSLAB_labels,batch_size=100,num_epochs=vAR_CSLAB_num_epochs,shuffle=vAR_CSLAB_shuffle)\n",
        "\n",
        "vAR_CSLAB_estimator.train(input_fn=vAR_CSLAB_input_fn(vAR_CSLAB_num_epochs=None, vAR_CSLAB_shuffle=True), steps=100)\n",
        "\n",
        "vAR_CSLAB_df_data = vAR_CSLAB_iris.data.T[:3]\n",
        "\n",
        "vAR_CSLAB_estimator.predict\n",
        "\n",
        "def vAR_CSLAB_input_fn_pred( vAR_CSLAB_num_epochs, vAR_CSLAB_shuffle):\n",
        "    \n",
        "    vAR_CSLAB_x = {'sl':vAR_CSLAB_iris.data.T[0][:5],'sw':vAR_CSLAB_iris.data.T[1][:5],'pl':vAR_CSLAB_iris.data.T[2][:5]}\n",
        "    \n",
        "    vAR_CSLAB_labels = None\n",
        "    return vAR_tf.estimator.inputs.numpy_input_fn(vAR_CSLAB_x,y=vAR_CSLAB_labels,batch_size=100,num_epochs=vAR_CSLAB_num_epochs,shuffle=vAR_CSLAB_shuffle)\n",
        "\n",
        "vAR_CSLAB_pred = vAR_CSLAB_estimator.predict(input_fn=vAR_CSLAB_input_fn_pred)\n",
        "\n",
        "print(vAR_CSLAB_pred)\n",
        "    \n",
        "# ****************************************************************************************************************************\n",
        "#   Disclaimer.\n",
        "\n",
        "# We are providing this code block strictly for learning and researching, this is not a production\n",
        "# ready code. We have no liability on this particular code under any circumstances; users should use\n",
        "# this code on their own risk. All software, hardware and othr products that are referenced in these \n",
        "# materials belong to the respective vendor who developed or who owns this product.\n",
        "\n",
        "# ****************************************************************************************************************************\n",
        "  "
      ]
    }
  ]
}