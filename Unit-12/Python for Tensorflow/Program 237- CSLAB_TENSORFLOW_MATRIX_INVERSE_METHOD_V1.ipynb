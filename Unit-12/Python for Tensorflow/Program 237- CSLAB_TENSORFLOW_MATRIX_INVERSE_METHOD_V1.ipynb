{
  "nbformat": 4,
  "nbformat_minor": 0,
  "metadata": {
    "colab": {
      "provenance": [],
      "authorship_tag": "ABX9TyPrkgbiS6KwDdExAhDDPwRA",
      "include_colab_link": true
    },
    "kernelspec": {
      "name": "python3",
      "display_name": "Python 3"
    },
    "language_info": {
      "name": "python"
    }
  },
  "cells": [
    {
      "cell_type": "markdown",
      "metadata": {
        "id": "view-in-github",
        "colab_type": "text"
      },
      "source": [
        "<a href=\"https://colab.research.google.com/github/Deepsphere-AI/DSAI_Python_Programming/blob/main/Unit-12/Python%20for%20Tensorflow/Program%20237-%20CSLAB_TENSORFLOW_MATRIX_INVERSE_METHOD_V1.ipynb\" target=\"_parent\"><img src=\"https://colab.research.google.com/assets/colab-badge.svg\" alt=\"Open In Colab\"/></a>"
      ]
    },
    {
      "cell_type": "code",
      "execution_count": null,
      "metadata": {
        "id": "gBC-mbrI6pl-"
      },
      "outputs": [],
      "source": [
        "\n",
        "# *********************************************************************************************************************\n",
        "  \n",
        "  # File Name \t:   CSLAB_TENSORFLOW_MATRIX_INVERSE_METHOD_V1\n",
        "  # Purpose \t:   A Program in Python Tensorflow for Matrix Inverse Method\n",
        "  # Author\t:   Deepsphere.ai\n",
        "  # Reviewer \t:   Jothi Periasamy\n",
        "  # Date \t:   10/27/2022\n",
        "  # Version\t:   1.0\t\n",
        "\n",
        "# ***********************************************************************************************************************\n",
        "\n",
        "## Program Description : Program for Matrix Inverse Method using Tensorflow in Python\n",
        "\n",
        "## Python Development Environment & Runtime - Python, Anaconda, Tensorflow, Tensorboard\n",
        "\n",
        "import matplotlib.pyplot as vAR_plt\n",
        "\n",
        "import numpy as vAR_np\n",
        "\n",
        "import tensorflow as vAR_tf\n",
        "\n",
        "vAR_CSLAB_x_vals = vAR_np.linspace(0, 10, 100)\n",
        "\n",
        "vAR_CSLAB_y_vals = vAR_CSLAB_x_vals + vAR_np.random.normal(0, 1, 100)\n",
        "\n",
        "vAR_CSLAB_x_vals_column = vAR_CSLAB_x_vals[:,vAR_np.newaxis]\n",
        "\n",
        "vAR_CSLAB_ones_column  = vAR_np.repeat(1, 100)[:,vAR_np.newaxis]\n",
        "\n",
        "vAR_CSLAB_A_tensor = vAR_tf.constant([[1.0, 2.0], [3.0, 4.0]])\n",
        "\n",
        "vAR_CSLAB_b_tensor = vAR_tf.constant([[1.0, 1.0], [0.0, 1.0]])\n",
        "\n",
        "vAR_CSLAB_tA_A = vAR_tf.matmul(vAR_tf.transpose(vAR_CSLAB_A_tensor), vAR_CSLAB_A_tensor)\n",
        "                               \n",
        "vAR_CSLAB_tA_A_inv = vAR_tf.matrix_inverse(vAR_CSLAB_tA_A)\n",
        "\n",
        "vAR_CSLAB_product = vAR_tf.matmul(vAR_CSLAB_tA_A_inv, vAR_tf.transpose(vAR_CSLAB_A_tensor))\n",
        "\n",
        "print(vAR_CSLAB_sess.run(vAR_CSLAB_product))\n",
        "\n",
        "# ****************************************************************************************************************************\n",
        "#   Disclaimer.\n",
        "\n",
        "# We are providing this code block strictly for learning and researching, this is not a production\n",
        "# ready code. We have no liability on this particular code under any circumstances; users should use\n",
        "# this code on their own risk. All software, hardware and othr products that are referenced in these \n",
        "# materials belong to the respective vendor who developed or who owns this product.\n",
        "\n",
        "# ****************************************************************************************************************************\n",
        "  "
      ]
    }
  ]
}