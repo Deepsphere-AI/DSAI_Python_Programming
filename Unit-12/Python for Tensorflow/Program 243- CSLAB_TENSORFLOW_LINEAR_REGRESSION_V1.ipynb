{
  "nbformat": 4,
  "nbformat_minor": 0,
  "metadata": {
    "colab": {
      "provenance": [],
      "authorship_tag": "ABX9TyMkln674mjbmA/SfY82jXmf",
      "include_colab_link": true
    },
    "kernelspec": {
      "name": "python3",
      "display_name": "Python 3"
    },
    "language_info": {
      "name": "python"
    }
  },
  "cells": [
    {
      "cell_type": "markdown",
      "metadata": {
        "id": "view-in-github",
        "colab_type": "text"
      },
      "source": [
        "<a href=\"https://colab.research.google.com/github/Deepsphere-AI/DSAI_Python_Programming/blob/main/Unit-12/Python%20for%20Tensorflow/Program%20243-%20CSLAB_TENSORFLOW_LINEAR_REGRESSION_V1.ipynb\" target=\"_parent\"><img src=\"https://colab.research.google.com/assets/colab-badge.svg\" alt=\"Open In Colab\"/></a>"
      ]
    },
    {
      "cell_type": "code",
      "execution_count": null,
      "metadata": {
        "id": "VoUw9-0EDRVG"
      },
      "outputs": [],
      "source": [
        "\n",
        "# *********************************************************************************************************************\n",
        "  \n",
        "  # File Name \t:   CSLAB_TENSORFLOW_LINEAR_REGRESSION_V1\n",
        "  # Purpose \t:   A Program in Python Tensorflow for Linear Regression\n",
        "  # Author\t:   Deepsphere.ai\n",
        "  # Reviewer \t:   Jothi Periasamy\n",
        "  # Date \t:   10/27/2022\n",
        "  # Version\t:   1.0\t\n",
        "  \n",
        "# **********************************************************************************************************************\n",
        "\n",
        "## Program Description : Program for Linear Regression using Tensorflow in Python\n",
        "\n",
        "## Python Development Environment & Runtime - Python, Anaconda, Tensorflow, Tensorboard\n",
        "\n",
        "import numpy as vAR_np \n",
        "import tensorflow as vAR_tf \n",
        "import matplotlib.pyplot as vAR_plt\n",
        "vAR_np.random.seed(101) \n",
        "vAR_tf.set_random_seed(101)\n",
        "\n",
        "# Genrating random linear data \n",
        "# There will be 50 data points ranging from 0 to 50 \n",
        "vAR_CSLAB_x = vAR_np.linspace(0, 50, 50) \n",
        "vAR_CSLAB_y = vAR_np.linspace(0, 50, 50) \n",
        "  \n",
        "# Adding noise to the random linear data \n",
        "vAR_CSLAB_x += vAR_np.random.uniform(-4, 4, 50) \n",
        "vAR_CSLAB_y += vAR_np.random.uniform(-4, 4, 50) \n",
        "  \n",
        "vAR_CSLAB_n = len(vAR_CSLAB_x) # Number of data points\n",
        "\n",
        "vAR_CSLAB_X = tf.placeholder(\"float\") \n",
        "vAR_CSLAB_Y = tf.placeholder(\"float\")\n",
        "\n",
        "vAR_CSLAB_W = tf.Variable(vAR_np.random.randn(), name = \"W\") \n",
        "vAR_CSLAB_b = tf.Variable(vAR_np.random.randn(), name = \"b\")\n",
        "\n",
        "vAR_CSLAB_learning_rate = 0.01\n",
        "vAR_CSLAB_training_epochs = 1000\n",
        "\n",
        "# Hypothesis \n",
        "vAR_CSLAB_y_pred = vAR_tf.add(vAR_tf.multiply(vAR_CSLAB_X, vAR_CSLAB_W), vAR_CSLAB_b) \n",
        "  \n",
        "# MeanvAR_ Squared Error Cost Function \n",
        "vAR_CSLAB_cost = vAR_tf.reduce_sum(vAR_tf.pow(vAR_CSLAB_y_pred-vAR_CSLAB_Y, 2)) / (2 * vAR_CSLAB_n) \n",
        "  \n",
        "# Gradient Descent Optimizer \n",
        "vAR_CSLAB_optimizer = vAR_tf.train.GradientDescentOptimizer(vAR_CSLAB_learning_rate).minimize(vAR_CSLAB_cost) \n",
        "  \n",
        "# Global Variables Initializer \n",
        "vAR_CSLAB_init = vAR_tf.global_variables_initializer() \n",
        "\n",
        "# Starting the Tensorflow Session \n",
        "with vAR_tf.Session() as sess: \n",
        "      \n",
        "    # Initializing the Variables \n",
        "    sess.run(vAR_CSLAB_init) \n",
        "      \n",
        "    # Iterating through all the epochs \n",
        "    for epoch in range(vAR_CSLAB_training_epochs): \n",
        "          \n",
        "        # Feeding each data point into the optimizer using Feed Dictionary \n",
        "        for (_x, _y) in zip(vAR_CSLAB_x, vAR_CSLAB_y): \n",
        "            sess.run(vAR_CSLAB_optimizer, feed_dict = {vAR_CSLAB_X : _x, vAR_CSLAB_Y : _y}) \n",
        "          \n",
        "        # Displaying the result after every 50 epochs \n",
        "        if (epoch + 1) % 50 == 0: \n",
        "            # Calculating the cost a every epoch \n",
        "            vAR_CSLAB_c = sess.run(vAR_CSLAB_cost, feed_dict = {vAR_CSLAB_X : vAR_CSLAB_x, vAR_CSLAB_Y : vAR_CSLAB_y}) \n",
        "            print(\"Epoch\", (epoch + 1), \": vAR_CSLAB_cost =\", vAR_CSLAB_c, \"W =\", sess.run(vAR_CSLAB_W), \"b =\", sess.run(vAR_CSLAB_b)) \n",
        "      \n",
        "    # Storing necessary values to be used outside the Session \n",
        "    vAR_CSLAB_training_cost = sess.run(vAR_CSLAB_cost, feed_dict ={vAR_CSLAB_X: vAR_CSLAB_x, vAR_CSLAB_Y: vAR_CSLAB_y}) \n",
        "    vAR_CSLAB_weight = sess.run(vAR_CSLAB_W) \n",
        "    vAR_CSLAB_bias = sess.run(vAR_CSLAB_b) \n",
        "    \n",
        "# ****************************************************************************************************************************\n",
        "#   Disclaimer.\n",
        "\n",
        "# We are providing this code block strictly for learning and researching, this is not a production\n",
        "# ready code. We have no liability on this particular code under any circumstances; users should use\n",
        "# this code on their own risk. All software, hardware and othr products that are referenced in these \n",
        "# materials belong to the respective vendor who developed or who owns this product.\n",
        "\n",
        "# ****************************************************************************************************************************\n",
        "  "
      ]
    }
  ]
}