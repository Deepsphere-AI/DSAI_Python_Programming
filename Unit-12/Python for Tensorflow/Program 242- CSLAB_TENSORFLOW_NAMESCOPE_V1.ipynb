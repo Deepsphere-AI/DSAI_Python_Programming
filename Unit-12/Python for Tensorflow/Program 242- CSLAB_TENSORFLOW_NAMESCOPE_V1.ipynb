{
  "nbformat": 4,
  "nbformat_minor": 0,
  "metadata": {
    "colab": {
      "provenance": [],
      "authorship_tag": "ABX9TyP+FV2h375MIu1Bs5OA+hZT",
      "include_colab_link": true
    },
    "kernelspec": {
      "name": "python3",
      "display_name": "Python 3"
    },
    "language_info": {
      "name": "python"
    }
  },
  "cells": [
    {
      "cell_type": "markdown",
      "metadata": {
        "id": "view-in-github",
        "colab_type": "text"
      },
      "source": [
        "<a href=\"https://colab.research.google.com/github/Deepsphere-AI/DSAI_Python_Programming/blob/main/Unit-12/Python%20for%20Tensorflow/Program%20242-%20CSLAB_TENSORFLOW_NAMESCOPE_V1.ipynb\" target=\"_parent\"><img src=\"https://colab.research.google.com/assets/colab-badge.svg\" alt=\"Open In Colab\"/></a>"
      ]
    },
    {
      "cell_type": "code",
      "execution_count": null,
      "metadata": {
        "id": "Jr3p_-ZTAx4N"
      },
      "outputs": [],
      "source": [
        "\n",
        "# *********************************************************************************************************************\n",
        "  \n",
        "#   File Name \t:   CSLAB_TENSORFLOW_NAMESCOPE_V1\n",
        "#   Purpose \t:   A Program in Python Tensorflow for Namescopes\n",
        "#   Author\t:   Deepsphere.ai\n",
        "#   Reviewer \t:   Jothi Periasamy\n",
        "#   Date \t:   10/27/2022\n",
        "#   Version\t:   1.0\t\n",
        "\n",
        "# ***********************************************************************************************************************\n",
        "\n",
        "## Program Description : Program for Namescopes using Tensorflow in Python\n",
        "\n",
        "## Python Development Environment & Runtime - Python, Anaconda, Tensorflow, Tensorboard\n",
        "\n",
        "import tensorflow as vAR_tf\n",
        "\n",
        "with vAR_tf.name_scope(\"Scope_A\"):\n",
        "    vAR_CSLAB_a = vAR_tf.add(1, 2, name=\"A_add\")\n",
        "    #b = tf.mul(a, 3, name=\"A_mul\")\n",
        "\n",
        "with vAR_tf.name_scope(\"Scope_B\"):\n",
        "    vAR_CSLAB_c = vAR_tf.add(4, 5, name=\"B_add\")\n",
        "    #d = tf.mul(c, 6, name=\"B_mul\")\n",
        "\n",
        "vAR_CSLAB_e = vAR_tf.add(vAR_CSLAB_a,vAR_CSLAB_c, name=\"output\")\n",
        "\n",
        "print(vAR_CSLAB_e)\n",
        "\n",
        "# ****************************************************************************************************************************\n",
        "#   Disclaimer.\n",
        "\n",
        "# We are providing this code block strictly for learning and researching, this is not a production\n",
        "# ready code. We have no liability on this particular code under any circumstances; users should use\n",
        "# this code on their own risk. All software, hardware and othr products that are referenced in these \n",
        "# materials belong to the respective vendor who developed or who owns this product.\n",
        "\n",
        "# ****************************************************************************************************************************\n",
        "  "
      ]
    }
  ]
}