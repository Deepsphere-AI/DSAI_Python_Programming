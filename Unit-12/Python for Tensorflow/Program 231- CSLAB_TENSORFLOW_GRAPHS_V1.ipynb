{
  "nbformat": 4,
  "nbformat_minor": 0,
  "metadata": {
    "colab": {
      "provenance": [],
      "authorship_tag": "ABX9TyOppotah1uNw3kQ8WtOLgt1",
      "include_colab_link": true
    },
    "kernelspec": {
      "name": "python3",
      "display_name": "Python 3"
    },
    "language_info": {
      "name": "python"
    }
  },
  "cells": [
    {
      "cell_type": "markdown",
      "metadata": {
        "id": "view-in-github",
        "colab_type": "text"
      },
      "source": [
        "<a href=\"https://colab.research.google.com/github/Deepsphere-AI/DSAI_Python_Programming/blob/main/Unit-12/Python%20for%20Tensorflow/Program%20231-%20CSLAB_TENSORFLOW_GRAPHS_V1.ipynb\" target=\"_parent\"><img src=\"https://colab.research.google.com/assets/colab-badge.svg\" alt=\"Open In Colab\"/></a>"
      ]
    },
    {
      "cell_type": "code",
      "execution_count": null,
      "metadata": {
        "id": "8LgtWtwvufzo"
      },
      "outputs": [],
      "source": [
        "\n",
        "# *********************************************************************************************************************\n",
        "  \n",
        "  # File Name \t:   CSLAB_TENSORFLOW_GRAPHS_V1\n",
        "  # Purpose \t:   A Program in Python Tensorflow for Graphs\n",
        "  # Author\t:   Deepsphere.ai\n",
        "  # Reviewer \t:   Jothi Periasamy\n",
        "  # Date \t:   10/27/2022\n",
        "  # Version\t:   1.0\t\n",
        "  \n",
        "# ***********************************************************************************************************************\n",
        "\n",
        "## Program Description : Program for Graphs using Tensorflow in Python\n",
        "\n",
        "## Python Development Environment & Runtime - Python, Anaconda, Tensorflow, Tensorboard\n",
        "\n",
        "import tensorflow as vAR_tf\n",
        "\n",
        "vAR_CSLAB_g = vAR_tf.Graph()\n",
        "\n",
        "with vAR_CSLAB_g.as_default():\n",
        "    VAR_CSLAB_A = vAR_tf.constant(15, name=\"input_a\")\n",
        "    VAR_CSLAB_B = vAR_tf.constant(13, name=\"input_b\")\n",
        "    VAR_CSLAB_C = vAR_tf.add(VAR_CSLAB_A,VAR_CSLAB_B)\n",
        "    \n",
        "vAR_CSLAB_sess = vAR_tf.Session(graph=vAR_CSLAB_g)\n",
        "\n",
        "vAR_CSLAB_sess\n",
        "\n",
        "print(vAR_CSLAB_C)\n",
        "\n",
        "# ****************************************************************************************************************************\n",
        "#   Disclaimer.\n",
        "\n",
        "# We are providing this code block strictly for learning and researching, this is not a production\n",
        "# ready code. We have no liability on this particular code under any circumstances; users should use\n",
        "# this code on their own risk. All software, hardware and othr products that are referenced in these \n",
        "# materials belong to the respective vendor who developed or who owns this product.\n",
        "\n",
        "# ****************************************************************************************************************************\n",
        "  "
      ]
    }
  ]
}