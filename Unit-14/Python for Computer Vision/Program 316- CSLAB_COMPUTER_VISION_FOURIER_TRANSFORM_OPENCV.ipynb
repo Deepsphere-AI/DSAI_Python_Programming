{
  "nbformat": 4,
  "nbformat_minor": 0,
  "metadata": {
    "colab": {
      "provenance": [],
      "authorship_tag": "ABX9TyP7MnYkXK2ugeObUbpAPuqC",
      "include_colab_link": true
    },
    "kernelspec": {
      "name": "python3",
      "display_name": "Python 3"
    },
    "language_info": {
      "name": "python"
    }
  },
  "cells": [
    {
      "cell_type": "markdown",
      "metadata": {
        "id": "view-in-github",
        "colab_type": "text"
      },
      "source": [
        "<a href=\"https://colab.research.google.com/github/Deepsphere-AI/DSAI_Python_Programming/blob/main/Unit-14/Python%20for%20Computer%20Vision/Program%20316-%20CSLAB_COMPUTER_VISION_FOURIER_TRANSFORM_OPENCV.ipynb\" target=\"_parent\"><img src=\"https://colab.research.google.com/assets/colab-badge.svg\" alt=\"Open In Colab\"/></a>"
      ]
    },
    {
      "cell_type": "code",
      "execution_count": null,
      "metadata": {
        "id": "CL3MTQHeUGlw"
      },
      "outputs": [],
      "source": [
        "\n",
        "# *********************************************************************************************************************\n",
        "  \n",
        "  # File Name \t:   CSLAB_COMPUTER_VISION_FOURIER_TRANSFORM_OPENCV\n",
        "  # Purpose \t:   A Program in Python using Computer Vision for Fourier Transform\n",
        "  # Author\t:   Deepsphere.ai\n",
        "  # Reviewer \t:   Jothi Periasamy\n",
        "  # Date \t:   10/28/2022\n",
        "  # Version\t:   1.0\t\n",
        "  \n",
        "# ***********************************************************************************************************************\n",
        "\n",
        "## Program Description : Program for Fourier Transform using Opencv in Python\n",
        "\n",
        "## Python Development Environment & Runtime - Python, Anaconda\n",
        "\n",
        "import cv2 \n",
        "\n",
        "import numpy as vAR_np \n",
        "\n",
        "import os\n",
        "\n",
        "vAR_INI_File_Path = os.environ.get('PYTHON_TUTORIAL')\n",
        "\n",
        "import pandas as vAR_pd\n",
        "\n",
        "import configparser\n",
        "\n",
        "import pandas as vAR_pd\n",
        "\n",
        "vAR_Config = configparser.ConfigParser(allow_no_value=True)\n",
        "\n",
        "vAR_Config.read(vAR_INI_File_Path)\n",
        "\n",
        "vAR_CSLAB_FILE_NAME = vAR_Config['Data File Path']['vAR_CSLAB_PROGRAM_286_BIRDS_IMAGE']\n",
        "\n",
        "vAR_CSLAB_dft = cv2.dft(vAR_np.float32(vAR_CSLAB_img),flags = cv2.DFT_COMPLEX_OUTPUT)\n",
        "vAR_CSLAB_dft_shift = vAR_np.fft.fftshift(vAR_CSLAB_dft)\n",
        "vAR_CSLAB_magnitude_spectrum = 20*vAR_np.log(cv2.magnitude(vAR_CSLAB_dft_shift[:,:,0],vAR_CSLAB_dft_shift[:,:,1]))\n",
        "\n",
        "vAR_plt.subplot(121)\n",
        "vAR_plt.imshow(vAR_CSLAB_img, cmap = 'gray')\n",
        "vAR_plt.title('Input Image')\n",
        "vAR_plt.xticks([])\n",
        "vAR_plt.yticks([])\n",
        "vAR_plt.subplot(122)\n",
        "vAR_plt.imshow(vAR_CSLAB_magnitude_spectrum, cmap = 'gray')\n",
        "vAR_plt.title('Magnitude Spectrum')\n",
        "vAR_plt.xticks([])\n",
        "vAR_plt.yticks([])\n",
        "vAR_plt.show()\n",
        "\n",
        "# ****************************************************************************************************************************\n",
        "#   Disclaimer.\n",
        "\n",
        "# We are providing this code block strictly for learning and researching, this is not a production\n",
        "# ready code. We have no liability on this particular code under any circumstances; users should use\n",
        "# this code on their own risk. All software, hardware and othr products that are referenced in these \n",
        "# materials belong to the respective vendor who developed or who owns this product.\n",
        "\n",
        "# ****************************************************************************************************************************\n",
        "  "
      ]
    }
  ]
}