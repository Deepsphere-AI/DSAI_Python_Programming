{
  "nbformat": 4,
  "nbformat_minor": 0,
  "metadata": {
    "colab": {
      "provenance": [],
      "authorship_tag": "ABX9TyOdm9BOysE8Rtb7B7gQ4ws9",
      "include_colab_link": true
    },
    "kernelspec": {
      "name": "python3",
      "display_name": "Python 3"
    },
    "language_info": {
      "name": "python"
    }
  },
  "cells": [
    {
      "cell_type": "markdown",
      "metadata": {
        "id": "view-in-github",
        "colab_type": "text"
      },
      "source": [
        "<a href=\"https://colab.research.google.com/github/Deepsphere-AI/DSAI_Python_Programming/blob/main/Unit-14/Python%20for%20Computer%20Vision/Program%20317-%20CSLAB_COMPUTER_VISION_TEMPLATE_MATCHING_OPENCV.ipynb\" target=\"_parent\"><img src=\"https://colab.research.google.com/assets/colab-badge.svg\" alt=\"Open In Colab\"/></a>"
      ]
    },
    {
      "cell_type": "code",
      "execution_count": null,
      "metadata": {
        "id": "3I_7mlIaUf_9"
      },
      "outputs": [],
      "source": [
        "\n",
        "# *********************************************************************************************************************\n",
        "  \n",
        "  # File Name \t:   CSLAB_COMPUTER_VISION_TEMPLATE_MATCHING_OPENCV\n",
        "  # Purpose \t:   A Program in Python using Computer Vision for Templete Matching\n",
        "  # Author\t:   Deepsphere.ai\n",
        "  # Reviewer \t:   Jothi Periasamy\n",
        "  # Date \t:   10/28/2022\n",
        "  # Version\t:   1.0\t\n",
        "  \n",
        "# ***********************************************************************************************************************\n",
        "\n",
        "## Program Description : Program for Templete Matching using Opencv in Python\n",
        "\n",
        "## Python Development Environment & Runtime - Python, Anaconda\n",
        "\n",
        "import cv2 \n",
        "\n",
        "import numpy as vAR_np \n",
        "\n",
        "import os\n",
        "\n",
        "vAR_INI_File_Path = os.environ.get('PYTHON_TUTORIAL')\n",
        "\n",
        "import pandas as vAR_pd\n",
        "\n",
        "import configparser\n",
        "\n",
        "import pandas as vAR_pd\n",
        "\n",
        "vAR_Config = configparser.ConfigParser(allow_no_value=True)\n",
        "\n",
        "vAR_Config.read(vAR_INI_File_Path)\n",
        "\n",
        "vAR_CSLAB_FILE_NAME = vAR_Config['Data File Path']['vAR_CSLAB_PROGRAM_286_BIRDS_IMAGE']\n",
        "\n",
        "vAR_CSLAB_img2 = vAR_CSLAB_img.copy()\n",
        "vAR_CSLAB_template = cv2.imread('C:/Python_Programs/Birds.jpg',0)\n",
        "vAR_CSLAB_w, vAR_CSLAB_h = vAR_CSLAB_template.shape[::-1]\n",
        "\n",
        "# All the 6 methods for comparison in a list\n",
        "vAR_CSLAB_methods = ['cv2.TM_CCOEFF', 'cv2.TM_CCOEFF_NORMED', 'cv2.TM_CCORR',\n",
        "            'cv2.TM_CCORR_NORMED', 'cv2.TM_SQDIFF', 'cv2.TM_SQDIFF_NORMED']\n",
        "\n",
        "for meth in vAR_CSLAB_methods:\n",
        "    vAR_CSLAB_img = vAR_CSLAB_img2.copy()\n",
        "    vAR_CSLAB_method = eval(meth)\n",
        "\n",
        "    # Apply template Matching\n",
        "    vAR_CSLAB_res = cv2.matchTemplate(vAR_CSLAB_img,vAR_CSLAB_template,vAR_CSLAB_method)\n",
        "    vAR_CSLAB_min_val, vAR_CSLAB_max_val, vAR_CSLAB_min_loc, vAR_CSLAB_max_loc = cv2.minMaxLoc(vAR_CSLAB_res)\n",
        "\n",
        "    # If the method is TM_SQDIFF or TM_SQDIFF_NORMED, take minimum\n",
        "    if vAR_CSLAB_method in [cv2.TM_SQDIFF, cv2.TM_SQDIFF_NORMED]:\n",
        "        vAR_CSLAB_top_left = vAR_CSLAB_min_loc\n",
        "    else:\n",
        "        vAR_CSLAB_top_left = vAR_CSLAB_max_loc\n",
        "    vAR_CSLAB_bottom_right = (vAR_CSLAB_top_left[0] + vAR_CSLAB_w, vAR_CSLAB_top_left[1] + vAR_CSLAB_h)\n",
        "\n",
        "    cv2.rectangle(vAR_CSLAB_img,vAR_CSLAB_top_left, vAR_CSLAB_bottom_right, 255, 2)\n",
        "\n",
        "    vAR_plt.subplot(121)\n",
        "    vAR_plt.imshow(vAR_CSLAB_res,cmap = 'gray')\n",
        "    vAR_plt.title('Matching Result')\n",
        "    vAR_plt.xticks([])\n",
        "    vAR_plt.yticks([])\n",
        "    vAR_plt.subplot(122),\n",
        "    vAR_plt.imshow(vAR_CSLAB_img,cmap = 'gray')\n",
        "    vAR_plt.title('Detected Point')\n",
        "    vAR_plt.xticks([])\n",
        "    vAR_plt.yticks([])\n",
        "    vAR_plt.suptitle(meth)\n",
        "\n",
        "    vAR_plt.show()\n",
        "\n",
        "# ****************************************************************************************************************************\n",
        "#   Disclaimer.\n",
        "\n",
        "# We are providing this code block strictly for learning and researching, this is not a production\n",
        "# ready code. We have no liability on this particular code under any circumstances; users should use\n",
        "# this code on their own risk. All software, hardware and othr products that are referenced in these \n",
        "# materials belong to the respective vendor who developed or who owns this product.\n",
        "\n",
        "# ****************************************************************************************************************************\n",
        "  "
      ]
    }
  ]
}