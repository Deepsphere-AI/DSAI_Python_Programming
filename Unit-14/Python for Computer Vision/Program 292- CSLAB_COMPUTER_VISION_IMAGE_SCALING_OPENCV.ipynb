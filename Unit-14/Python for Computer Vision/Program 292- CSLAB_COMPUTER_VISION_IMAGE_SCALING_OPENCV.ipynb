{
  "nbformat": 4,
  "nbformat_minor": 0,
  "metadata": {
    "colab": {
      "provenance": [],
      "authorship_tag": "ABX9TyMzjCGf310eyoXBOwl7x6ns",
      "include_colab_link": true
    },
    "kernelspec": {
      "name": "python3",
      "display_name": "Python 3"
    },
    "language_info": {
      "name": "python"
    }
  },
  "cells": [
    {
      "cell_type": "markdown",
      "metadata": {
        "id": "view-in-github",
        "colab_type": "text"
      },
      "source": [
        "<a href=\"https://colab.research.google.com/github/Deepsphere-AI/DSAI_Python_Programming/blob/main/Unit-14/Python%20for%20Computer%20Vision/Program%20292-%20CSLAB_COMPUTER_VISION_IMAGE_SCALING_OPENCV.ipynb\" target=\"_parent\"><img src=\"https://colab.research.google.com/assets/colab-badge.svg\" alt=\"Open In Colab\"/></a>"
      ]
    },
    {
      "cell_type": "code",
      "execution_count": null,
      "metadata": {
        "id": "rA7WQ0KEEKHW"
      },
      "outputs": [],
      "source": [
        "\n",
        "# *********************************************************************************************************************\n",
        "  \n",
        "  # File Name \t:   CSLAB_COMPUTER_VISION_IMAGE_SCALING_OPENCV\n",
        "  # Purpose \t:   A Program in Python using Computer Vision for Image Scaling\n",
        "  # Author\t:   Deepsphere.ai\n",
        "  # Reviewer \t:   Jothi Periasamy\n",
        "  # Date \t:   10/28/2022\n",
        "  # Version\t:   1.0\t\n",
        "  \n",
        "# ***********************************************************************************************************************\n",
        "\n",
        "## Program Description : Program for Finding Contours using Opencv in Python\n",
        "\n",
        "## Python Development Environment & Runtime - Python, Anaconda\n",
        "\n",
        "import cv2 \n",
        "\n",
        "import numpy as vAR_np \n",
        "\n",
        "import os\n",
        "\n",
        "vAR_INI_File_Path = os.environ.get('PYTHON_TUTORIAL')\n",
        "\n",
        "import pandas as vAR_pd\n",
        "\n",
        "import configparser\n",
        "\n",
        "import pandas as vAR_pd\n",
        "\n",
        "vAR_Config = configparser.ConfigParser(allow_no_value=True)\n",
        "\n",
        "vAR_Config.read(vAR_INI_File_Path)\n",
        "\n",
        "vAR_CSLAB_FILE_NAME = vAR_Config['Data File Path']['vAR_CSLAB_PROGRAM_286_BIRDS_IMAGE']  \n",
        "  \n",
        "#vAR_CSLAB_FILE_NAME = 'C:/Python_Programs/Birds.jpg'\n",
        "\n",
        "try:  \n",
        "    vAR_CSLAB_img = cv2.imread(vAR_CSLAB_FILE_NAME) \n",
        "  \n",
        "    (vAR_CSLAB_height, vAR_CSLAB_width) = vAR_CSLAB_img.shape[:2] \n",
        "  \n",
        "    vAR_CSLAB_res = cv2.resize(vAR_CSLAB_img, (int(vAR_CSLAB_width / 2), int(vAR_CSLAB_height / 2)), interpolation = cv2.INTER_CUBIC) \n",
        "  \n",
        "    cv2.imwrite('result.jpg', vAR_CSLAB_res) \n",
        "  \n",
        "except IOError: \n",
        "    print ('Error while reading files !!!') \n",
        "    \n",
        "\n",
        "# ****************************************************************************************************************************\n",
        "#   Disclaimer.\n",
        "\n",
        "# We are providing this code block strictly for learning and researching, this is not a production\n",
        "# ready code. We have no liability on this particular code under any circumstances; users should use\n",
        "# this code on their own risk. All software, hardware and othr products that are referenced in these \n",
        "# materials belong to the respective vendor who developed or who owns this product.\n",
        "\n",
        "# ****************************************************************************************************************************\n",
        "  "
      ]
    }
  ]
}