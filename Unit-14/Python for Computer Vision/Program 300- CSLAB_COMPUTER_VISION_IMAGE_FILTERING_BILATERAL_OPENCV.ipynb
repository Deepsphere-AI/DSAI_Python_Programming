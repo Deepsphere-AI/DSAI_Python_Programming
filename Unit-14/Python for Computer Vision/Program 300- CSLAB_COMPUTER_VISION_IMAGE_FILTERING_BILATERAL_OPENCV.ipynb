{
  "nbformat": 4,
  "nbformat_minor": 0,
  "metadata": {
    "colab": {
      "provenance": [],
      "authorship_tag": "ABX9TyMYrp3vemdGbiyc9wb7Yke5",
      "include_colab_link": true
    },
    "kernelspec": {
      "name": "python3",
      "display_name": "Python 3"
    },
    "language_info": {
      "name": "python"
    }
  },
  "cells": [
    {
      "cell_type": "markdown",
      "metadata": {
        "id": "view-in-github",
        "colab_type": "text"
      },
      "source": [
        "<a href=\"https://colab.research.google.com/github/Deepsphere-AI/DSAI_Python_Programming/blob/main/Unit-14/Python%20for%20Computer%20Vision/Program%20300-%20CSLAB_COMPUTER_VISION_IMAGE_FILTERING_BILATERAL_OPENCV.ipynb\" target=\"_parent\"><img src=\"https://colab.research.google.com/assets/colab-badge.svg\" alt=\"Open In Colab\"/></a>"
      ]
    },
    {
      "cell_type": "code",
      "execution_count": null,
      "metadata": {
        "id": "BSXv6IsMIoeB"
      },
      "outputs": [],
      "source": [
        "\n",
        "# *********************************************************************************************************************\n",
        "  \n",
        "  # File Name \t:   CSLAB_COMPUTER_VISION_IMAGE_FILTERING_BILATERAL_OPENCV\n",
        "  # Purpose \t:   A Program in Python using Computer Vision for Image Filtering (Bilateral Filtering)\n",
        "  # Author\t:   Deepsphere.ai\n",
        "  # Reviewer \t:   Jothi Periasamy\n",
        "  # Date \t:   10/28/2022\n",
        "  # Version\t:   1.0\t\n",
        "  \n",
        "# ***********************************************************************************************************************\n",
        "\n",
        "## Program Description : Program for Image Filtering (Bilateral Filtering) using Opencv in Python\n",
        "\n",
        "## Python Development Environment & Runtime - Python, Anaconda\n",
        "\n",
        "import cv2 \n",
        "\n",
        "import numpy as vAR_np \n",
        "\n",
        "import os\n",
        "\n",
        "vAR_INI_File_Path = os.environ.get('PYTHON_TUTORIAL')\n",
        "\n",
        "import pandas as vAR_pd\n",
        "\n",
        "import configparser\n",
        "\n",
        "import pandas as vAR_pd\n",
        "\n",
        "vAR_Config = configparser.ConfigParser(allow_no_value=True)\n",
        "\n",
        "vAR_Config.read(vAR_INI_File_Path)\n",
        "\n",
        "vAR_CSLAB_FILE_NAME = vAR_Config['Data File Path']['vAR_CSLAB_PROGRAM_286_BIRDS_IMAGE']\n",
        "\n",
        "from matplotlib import pyplot as vAR_plt\n",
        "\n",
        "vAR_CSLAB_img = cv2.imread(vAR_CSLAB_FILE_NAME)\n",
        "vAR_CSLAB_blur = cv2.bilateralFilter(vAR_CSLAB_img,9,75,75)\n",
        "\n",
        "vAR_plt.subplot(121)\n",
        "\n",
        "vAR_plt.imshow(vAR_CSLAB_img)\n",
        "\n",
        "vAR_plt.title('Original')\n",
        "\n",
        "vAR_plt.xticks([])\n",
        "\n",
        "vAR_plt.yticks([])\n",
        "\n",
        "vAR_plt.subplot(122)\n",
        "\n",
        "vAR_plt.imshow(vAR_CSLAB_blur)\n",
        "\n",
        "vAR_plt.title('Bilateral')\n",
        "\n",
        "vAR_plt.xticks([])\n",
        "\n",
        "vAR_plt.yticks([])\n",
        "\n",
        "# ****************************************************************************************************************************\n",
        "#   Disclaimer.\n",
        "\n",
        "# We are providing this code block strictly for learning and researching, this is not a production\n",
        "# ready code. We have no liability on this particular code under any circumstances; users should use\n",
        "# this code on their own risk. All software, hardware and othr products that are referenced in these \n",
        "# materials belong to the respective vendor who developed or who owns this product.\n",
        "\n",
        "# ****************************************************************************************************************************\n",
        "  "
      ]
    }
  ]
}