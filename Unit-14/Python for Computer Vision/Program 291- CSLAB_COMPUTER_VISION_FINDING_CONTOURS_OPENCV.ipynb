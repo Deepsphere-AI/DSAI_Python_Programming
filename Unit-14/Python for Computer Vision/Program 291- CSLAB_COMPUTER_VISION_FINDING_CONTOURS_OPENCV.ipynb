{
  "nbformat": 4,
  "nbformat_minor": 0,
  "metadata": {
    "colab": {
      "provenance": [],
      "authorship_tag": "ABX9TyOElrkwnLiW6YHB/zeYBvNy",
      "include_colab_link": true
    },
    "kernelspec": {
      "name": "python3",
      "display_name": "Python 3"
    },
    "language_info": {
      "name": "python"
    }
  },
  "cells": [
    {
      "cell_type": "markdown",
      "metadata": {
        "id": "view-in-github",
        "colab_type": "text"
      },
      "source": [
        "<a href=\"https://colab.research.google.com/github/Deepsphere-AI/DSAI_Python_Programming/blob/main/Unit-14/Python%20for%20Computer%20Vision/Program%20291-%20CSLAB_COMPUTER_VISION_FINDING_CONTOURS_OPENCV.ipynb\" target=\"_parent\"><img src=\"https://colab.research.google.com/assets/colab-badge.svg\" alt=\"Open In Colab\"/></a>"
      ]
    },
    {
      "cell_type": "code",
      "execution_count": null,
      "metadata": {
        "id": "-hOl780j_wCj"
      },
      "outputs": [],
      "source": [
        "\n",
        "# *********************************************************************************************************************\n",
        "  \n",
        "  # File Name \t:   CSLAB_COMPUTER_VISION_FINDING_CONTOURS_OPENCV\n",
        "  # Purpose \t:   A Program in Python using Computer Vision for Finding Contours\n",
        "  # Author\t:   Deepsphere.ai\n",
        "  # Reviewer \t:   Jothi Periasamy\n",
        "  # Date \t:   10/28/2022\n",
        "  # Version\t:   1.0\t\n",
        "  \n",
        "# ***********************************************************************************************************************\n",
        "\n",
        "## Program Description : Program for Finding Contours using Opencv in Python\n",
        "\n",
        "## Python Development Environment & Runtime - Python, Anaconda\n",
        "\n",
        "import cv2\n",
        "\n",
        "vAR_CSLAB_cam = cv2.VideoCapture(0)\n",
        "\n",
        "vAR_CSLAB_lower_yellow = (18, 100, 210)\n",
        "\n",
        "vAR_CSLAB_upper_yellow = (40, 160, 245)\n",
        "\n",
        "while vAR_CSLAB_cam.isOpened():\n",
        "    vAR_CSLAB_ret, vAR_CSLAB_frame = vAR_CSLAB_cam.read()\n",
        "    \n",
        "    vAR_CSLAB_frame = cv2.cvtColor(vAR_CSLAB_frame, cv2.COLOR_BGR2HSV)\n",
        "    \n",
        "    vAR_CSLAB_mask = cv2.inRange(vAR_CSLAB_frame, vAR_CSLAB_lower_yellow, vAR_CSLAB_upper_yellow)\n",
        "    \n",
        "    _, contours, _ = cv2.findContours(vAR_CSLAB_mask, cv2.RETR_EXTERNAL,\n",
        "                                      cv2.CHAIN_APPROX_SIMPLE)\n",
        "    if len(contours) > 0:\n",
        "        \n",
        "        vAR_CSLAB_tennis_ball = max(contours, key=cv2.contourArea)\n",
        "        \n",
        "        vAR_CSLAB_x, vAR_CSLAB_y, vAR_CSLAB_w, vAR_CSLAB_h = cv2.boundingRect(vAR_CSLAB_tennis_ball)\n",
        "        \n",
        "        cv2.rectangle(vAR_CSLAB_frame, (vAR_CSLAB_x, vAR_CSLAB_y), (vAR_CSLAB_x+vAR_CSLAB_w, vAR_CSLAB_y+vAR_CSLAB_h), (0, 255, 0), thickness=3)\n",
        "        \n",
        "    cv2.imshow(\"frame\", vAR_CSLAB_frame)\n",
        "    \n",
        "    vAR_CSLAB_key = cv2.waitKey(1) & 0xff\n",
        "    \n",
        "    if vAR_CSLAB_key == 27:\n",
        "        \n",
        "        break\n",
        "\n",
        "# ****************************************************************************************************************************\n",
        "#   Disclaimer.\n",
        "\n",
        "# We are providing this code block strictly for learning and researching, this is not a production\n",
        "# ready code. We have no liability on this particular code under any circumstances; users should use\n",
        "# this code on their own risk. All software, hardware and othr products that are referenced in these \n",
        "# materials belong to the respective vendor who developed or who owns this product.\n",
        "\n",
        "# ****************************************************************************************************************************\n",
        "  "
      ]
    }
  ]
}