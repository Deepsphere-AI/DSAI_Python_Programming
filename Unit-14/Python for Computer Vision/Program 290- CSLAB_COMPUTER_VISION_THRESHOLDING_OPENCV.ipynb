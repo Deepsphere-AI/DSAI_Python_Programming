{
  "nbformat": 4,
  "nbformat_minor": 0,
  "metadata": {
    "colab": {
      "provenance": [],
      "authorship_tag": "ABX9TyNJqj2qu0i4PtZizdFQxXna",
      "include_colab_link": true
    },
    "kernelspec": {
      "name": "python3",
      "display_name": "Python 3"
    },
    "language_info": {
      "name": "python"
    }
  },
  "cells": [
    {
      "cell_type": "markdown",
      "metadata": {
        "id": "view-in-github",
        "colab_type": "text"
      },
      "source": [
        "<a href=\"https://colab.research.google.com/github/Deepsphere-AI/DSAI_Python_Programming/blob/main/Unit-14/Python%20for%20Computer%20Vision/Program%20290-%20CSLAB_COMPUTER_VISION_THRESHOLDING_OPENCV.ipynb\" target=\"_parent\"><img src=\"https://colab.research.google.com/assets/colab-badge.svg\" alt=\"Open In Colab\"/></a>"
      ]
    },
    {
      "cell_type": "code",
      "execution_count": null,
      "metadata": {
        "id": "SO1TI0LZ-5SX"
      },
      "outputs": [],
      "source": [
        "\n",
        "# *********************************************************************************************************************\n",
        "  \n",
        "#   File Name \t:   CSLAB_COMPUTER_VISION_THRESHOLDING_OPENCV\n",
        "#   Purpose \t:   A Program in Python using Computer Vision for Thresholding\n",
        "#   Author\t:   Durga Prasad\n",
        "#   Reviewer \t:   Jothi Periasamy\n",
        "#   Date \t:   10/28/2022\n",
        "#   Version\t:   1.0\t\n",
        "  \n",
        "# ***********************************************************************************************************************\n",
        "\n",
        "## Program Description : Program for Thresholding using Opencv in Python\n",
        "\n",
        "## Python Development Environment & Runtime - Python, Anaconda\n",
        "\n",
        "import cv2\n",
        "\n",
        "vAR_CSLAB_vAR_CSLAB_cam = cv2.VideoCapture(0)\n",
        "\n",
        "vAR_CSLAB_x, vAR_CSLAB_y, vAR_CSLAB_w, vAR_CSLAB_h = 400, 400, 100, 100\n",
        "\n",
        "while vAR_CSLAB_cam.isOpened():\n",
        "\n",
        "    vAR_CSLAB_ret, vAR_CSLAB_frame = vAR_CSLAB_cam.read()\n",
        "\n",
        "    vAR_CSLAB_frame = cv2.cvtColor(vAR_CSLAB_frame, cv2.COLOR_BGR2HSV)\n",
        "\n",
        "    cv2.rectangle(vAR_CSLAB_frame, (vAR_CSLAB_x, vAR_CSLAB_y), (vAR_CSLAB_x+vAR_CSLAB_w, vAR_CSLAB_y+vAR_CSLAB_h), (255, 255, 255), thickness=1)\n",
        "\n",
        "    cv2.putText(vAR_CSLAB_frame, \"HSV: {0}\".format(vAR_CSLAB_frame[vAR_CSLAB_y+1, vAR_CSLAB_x+1]), (vAR_CSLAB_x, 600),cv2.FONT_HERSHEY_SIMPLEX, 1, (255, 255, 255), thickness=2) \n",
        "\n",
        "    cv2.imshow(\"frame\", vAR_CSLAB_frame)\n",
        "\n",
        "    vAR_CSLAB_key = cv2.waitKey(1) & 0xff\n",
        "\n",
        "    if vAR_CSLAB_key == 27:\n",
        "\n",
        "        break\n",
        "\n",
        "# ****************************************************************************************************************************\n",
        "#   Disclaimer.\n",
        "\n",
        "# We are providing this code block strictly for learning and researching, this is not a production\n",
        "# ready code. We have no liability on this particular code under any circumstances; users should use\n",
        "# this code on their own risk. All software, hardware and othr products that are referenced in these \n",
        "# materials belong to the respective vendor who developed or who owns this product.\n",
        "\n",
        "# ****************************************************************************************************************************\n",
        "  "
      ]
    }
  ]
}