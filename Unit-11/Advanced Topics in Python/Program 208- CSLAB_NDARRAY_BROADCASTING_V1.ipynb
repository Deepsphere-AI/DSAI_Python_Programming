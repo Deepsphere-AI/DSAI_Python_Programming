{
  "nbformat": 4,
  "nbformat_minor": 0,
  "metadata": {
    "colab": {
      "provenance": [],
      "authorship_tag": "ABX9TyNPYLBQhDEHYWMcd8PbZGDi",
      "include_colab_link": true
    },
    "kernelspec": {
      "name": "python3",
      "display_name": "Python 3"
    },
    "language_info": {
      "name": "python"
    }
  },
  "cells": [
    {
      "cell_type": "markdown",
      "metadata": {
        "id": "view-in-github",
        "colab_type": "text"
      },
      "source": [
        "<a href=\"https://colab.research.google.com/github/Deepsphere-AI/DSAI_Python_Programming/blob/main/Unit-11/Advanced%20Topics%20in%20Python/Program%20208-%20CSLAB_NDARRAY_BROADCASTING_V1.ipynb\" target=\"_parent\"><img src=\"https://colab.research.google.com/assets/colab-badge.svg\" alt=\"Open In Colab\"/></a>"
      ]
    },
    {
      "cell_type": "code",
      "execution_count": null,
      "metadata": {
        "id": "MoN2zXd_OiBE"
      },
      "outputs": [],
      "source": [
        "\n",
        "# *********************************************************************************************************************\n",
        "  \n",
        "  # File Name \t:   CSLAB_NDARRAY_BROADCASTING_V1\n",
        "  # Purpose \t:   A Program in Python for Broadcasing of ndarray \n",
        "  # Author\t:   Deepsphere.ai\n",
        "  # Reviewer \t:   Jothi Periasamy\n",
        "  # Date \t:   10/27/2022\n",
        "  # Version\t:   1.0\t\n",
        "  \n",
        "# ***********************************************************************************************************************\n",
        "\n",
        "## Program Description : Program for Broadcasing of ndarray in Python\n",
        "\n",
        "## Python Development Environment & Runtime - Python, Anaconda\n",
        "\n",
        "import numpy as vAR_np\n",
        "\n",
        "from numpy.lib.stride_tricks import as_strided\n",
        "\n",
        "vAR_CSLAB_X = vAR_np.array([1, 2, 3, 4], dtype=vAR_np.int16)\n",
        "\n",
        "vAR_CSLAB_X2 = as_strided(vAR_CSLAB_X, strides=(0, 1*2), shape=(3, 4))\n",
        "\n",
        "vAR_CSLAB_Y = vAR_np.array([5, 6, 7], dtype=vAR_np.int16)\n",
        "\n",
        "vAR_CSLAB_Y2 = as_strided(vAR_CSLAB_Y, strides=(1*2, 0), shape=(3, 4))\n",
        "\n",
        "vAR_CSLAB_X2 * vAR_CSLAB_Y2\n",
        "\n",
        "vAR_CSLAB_X = vAR_np.array([1, 2, 3, 4], dtype=vAR_np.int16)\n",
        "\n",
        "vAR_CSLAB_Y = vAR_np.array([5, 6, 7], dtype=vAR_np.int16)\n",
        "\n",
        "vAR_CSLAB_X[vAR_np.newaxis,:] * vAR_CSLAB_Y[:,vAR_np.newaxis]\n",
        "\n",
        "# ****************************************************************************************************************************\n",
        "#   Disclaimer.\n",
        "\n",
        "# We are providing this code block strictly for learning and researching, this is not a production\n",
        "# ready code. We have no liability on this particular code under any circumstances; users should use\n",
        "# this code on their own risk. All software, hardware and othr products that are referenced in these \n",
        "# materials belong to the respective vendor who developed or who owns this product.\n",
        "\n",
        "# ****************************************************************************************************************************\n",
        "  "
      ]
    }
  ]
}