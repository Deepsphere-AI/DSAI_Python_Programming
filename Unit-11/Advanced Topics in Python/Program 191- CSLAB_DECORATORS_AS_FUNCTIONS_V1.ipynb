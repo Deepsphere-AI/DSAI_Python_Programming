{
  "nbformat": 4,
  "nbformat_minor": 0,
  "metadata": {
    "colab": {
      "provenance": [],
      "authorship_tag": "ABX9TyNf1mweUGmIru3tmSGpX5X1",
      "include_colab_link": true
    },
    "kernelspec": {
      "name": "python3",
      "display_name": "Python 3"
    },
    "language_info": {
      "name": "python"
    }
  },
  "cells": [
    {
      "cell_type": "markdown",
      "metadata": {
        "id": "view-in-github",
        "colab_type": "text"
      },
      "source": [
        "<a href=\"https://colab.research.google.com/github/Deepsphere-AI/DSAI_Python_Programming/blob/main/Unit-11/Advanced%20Topics%20in%20Python/Program%20191-%20CSLAB_DECORATORS_AS_FUNCTIONS_V1.ipynb\" target=\"_parent\"><img src=\"https://colab.research.google.com/assets/colab-badge.svg\" alt=\"Open In Colab\"/></a>"
      ]
    },
    {
      "cell_type": "code",
      "execution_count": null,
      "metadata": {
        "id": "erigNZJz7QK_"
      },
      "outputs": [],
      "source": [
        "\n",
        "# *********************************************************************************************************************\n",
        "  \n",
        "  # File Name \t:   CSLAB_DECORATORS_AS_FUNCTIONS_V1\n",
        "  # Purpose \t:   A Program in Python for Decorators Implemented as Functions\n",
        "  # Author\t:   Deepsphere.ai\n",
        "  # Reviewer \t:   Jothi Periasamy\n",
        "  # Date \t:   10/27/2022\n",
        "  # Version\t:   1.0\t\n",
        "  \n",
        "# ***********************************************************************************************************************\n",
        "\n",
        "## Program Description : Program for Decorators Implemented as Functions in Python\n",
        "\n",
        "## Python Development Environment & Runtime - Python, Anaconda\n",
        "\n",
        "def vAR_replacing_decorator_with_args(arg):\n",
        "    \n",
        "  print(\"defining the decorator\")\n",
        "\n",
        "  def vAR_decorator(function):\n",
        "      # in this inner function, arg is available too\n",
        "      print(\"doing decoration, %r\" % arg)\n",
        "      def vAR_wrapper(*args, **kwargs):\n",
        "          print(\"inside wrapper, %r %r\" % (args, kwargs))\n",
        "          return function(*args, **kwargs)\n",
        "      return vAR_wrapper\n",
        "  return vAR_decorator\n",
        "\n",
        "#@replacing_decorator_with_args(\"abc\")\n",
        "def vAR_function(*args, **kwargs):\n",
        "    print(\"inside function, %r %r\" % (args, kwargs))\n",
        "    return 14\n",
        "\n",
        "vAR_replacing_decorator_with_args(10)\n",
        "\n",
        "vAR_function(11, 12)\n",
        "\n",
        "# ****************************************************************************************************************************\n",
        "#   Disclaimer.\n",
        "\n",
        "# We are providing this code block strictly for learning and researching, this is not a production\n",
        "# ready code. We have no liability on this particular code under any circumstances; users should use\n",
        "# this code on their own risk. All software, hardware and othr products that are referenced in these \n",
        "# materials belong to the respective vendor who developed or who owns this product.\n",
        "\n",
        "# ****************************************************************************************************************************\n",
        "  "
      ]
    }
  ]
}