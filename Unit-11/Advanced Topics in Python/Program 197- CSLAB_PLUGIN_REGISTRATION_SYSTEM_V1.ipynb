{
  "nbformat": 4,
  "nbformat_minor": 0,
  "metadata": {
    "colab": {
      "provenance": [],
      "authorship_tag": "ABX9TyNb5Vq98lb7INzC8S71zvgA",
      "include_colab_link": true
    },
    "kernelspec": {
      "name": "python3",
      "display_name": "Python 3"
    },
    "language_info": {
      "name": "python"
    }
  },
  "cells": [
    {
      "cell_type": "markdown",
      "metadata": {
        "id": "view-in-github",
        "colab_type": "text"
      },
      "source": [
        "<a href=\"https://colab.research.google.com/github/Deepsphere-AI/DSAI_Python_Programming/blob/main/Unit-11/Advanced%20Topics%20in%20Python/Program%20197-%20CSLAB_PLUGIN_REGISTRATION_SYSTEM_V1.ipynb\" target=\"_parent\"><img src=\"https://colab.research.google.com/assets/colab-badge.svg\" alt=\"Open In Colab\"/></a>"
      ]
    },
    {
      "cell_type": "code",
      "execution_count": null,
      "metadata": {
        "id": "Fii8_YQLAWxC"
      },
      "outputs": [],
      "source": [
        "\n",
        "# *********************************************************************************************************************\n",
        "  \n",
        "  # File Name \t:   CSLAB_PLUGIN_REGISTRATION_SYSTEM_V1\n",
        "  # Purpose \t:   A Program in Python for Plugin Registration System\n",
        "  # Author\t:   Deepsphere.ai\n",
        "  # Reviewer \t:   Jothi Periasamy\n",
        "  # Date \t:   10/27/2022\n",
        "  # Version\t:   1.0\t\n",
        "  \n",
        "# ***********************************************************************************************************************\n",
        "\n",
        "## Program Description : Program for Plugin Registration System in Python\n",
        "\n",
        "## Python Development Environment & Runtime - Python, Anaconda\n",
        "\n",
        "class vAR_WordProcessor(object):\n",
        "    vAR_PLUGINS = []\n",
        "    def vAR_process(self, text):\n",
        "        for plugin in self.PLUGINS:\n",
        "            vAR_text = plugin().cleanup(text)\n",
        "        return vAR_text\n",
        "\n",
        "    @classmethod\n",
        "    def vAR_plugin(cls, plugin):\n",
        "        cls.vAR_PLUGINS.append(plugin)\n",
        "\n",
        "#@WordProcessor.plugin\n",
        "class vAR_CleanMdashesExtension(object):\n",
        "    def vAR_cleanup(self, text):\n",
        "        return vAR_text.replace('&mdash;', u'\\N{em dash}')\n",
        "\n",
        "vAR_WordProcessor()\n",
        "\n",
        "# ****************************************************************************************************************************\n",
        "#   Disclaimer.\n",
        "\n",
        "# We are providing this code block strictly for learning and researching, this is not a production\n",
        "# ready code. We have no liability on this particular code under any circumstances; users should use\n",
        "# this code on their own risk. All software, hardware and othr products that are referenced in these \n",
        "# materials belong to the respective vendor who developed or who owns this product.\n",
        "\n",
        "# ****************************************************************************************************************************\n",
        "  "
      ]
    }
  ]
}