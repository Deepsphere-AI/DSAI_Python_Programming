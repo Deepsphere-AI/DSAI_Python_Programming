{
  "nbformat": 4,
  "nbformat_minor": 0,
  "metadata": {
    "colab": {
      "provenance": [],
      "authorship_tag": "ABX9TyNv5mge5eQigAWIfkyc7nmz",
      "include_colab_link": true
    },
    "kernelspec": {
      "name": "python3",
      "display_name": "Python 3"
    },
    "language_info": {
      "name": "python"
    }
  },
  "cells": [
    {
      "cell_type": "markdown",
      "metadata": {
        "id": "view-in-github",
        "colab_type": "text"
      },
      "source": [
        "<a href=\"https://colab.research.google.com/github/Deepsphere-AI/DSAI_Python_Programming/blob/main/Unit-11/Advanced%20Topics%20in%20Python/Program%20199-%20CSLAB_CONTEXT_MANAGERS_CATCHING_EXCEPTIONS_V1.ipynb\" target=\"_parent\"><img src=\"https://colab.research.google.com/assets/colab-badge.svg\" alt=\"Open In Colab\"/></a>"
      ]
    },
    {
      "cell_type": "code",
      "execution_count": null,
      "metadata": {
        "id": "xNVxcBL8BoNB"
      },
      "outputs": [],
      "source": [
        "\n",
        "# *********************************************************************************************************************\n",
        "  \n",
        "  # File Name \t:   CSLAB_CONTEXT_MANAGERS_CATCHING_EXCEPTIONS_V1\n",
        "  # Purpose \t:   A Program in Python for Catching Exceptions inside Context Managers\n",
        "  # Author\t:   Deepsphere.ai\n",
        "  # Reviewer \t:   Jothi Periasamy\n",
        "  # Date \t:   10/27/2022\n",
        "  # Version\t:   1.0\t\n",
        "  \n",
        "# ***********************************************************************************************************************\n",
        "\n",
        "## Program Description : Program for Catching Exceptions inside Context Managers in Python\n",
        "\n",
        "## Python Development Environment & Runtime - Python, Anaconda\n",
        "\n",
        "class vAR_assert_raises(object):\n",
        "    # based on pytest and unittest.TestCase\n",
        "    def __init__(self, type):\n",
        "        self.type = type\n",
        "    \n",
        "    def __enter__(self):\n",
        "        pass\n",
        "    \n",
        "    def __exit__(self, type, value, traceback):\n",
        "        if type is None:\n",
        "            raise AssertionError('exception expected')\n",
        "        if issubclass(type, self.type):\n",
        "            return True # swallow the expected exception\n",
        "        raise AssertionError('wrong exception type')\n",
        "\n",
        "# ****************************************************************************************************************************\n",
        "#   Disclaimer.\n",
        "\n",
        "# We are providing this code block strictly for learning and researching, this is not a production\n",
        "# ready code. We have no liability on this particular code under any circumstances; users should use\n",
        "# this code on their own risk. All software, hardware and othr products that are referenced in these \n",
        "# materials belong to the respective vendor who developed or who owns this product.\n",
        "\n",
        "# ****************************************************************************************************************************\n",
        "  "
      ]
    }
  ]
}