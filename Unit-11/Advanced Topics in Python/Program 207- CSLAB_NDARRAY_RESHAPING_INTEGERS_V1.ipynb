{
  "nbformat": 4,
  "nbformat_minor": 0,
  "metadata": {
    "colab": {
      "provenance": [],
      "authorship_tag": "ABX9TyPPI3c9jlxdJXDwnm010OX4",
      "include_colab_link": true
    },
    "kernelspec": {
      "name": "python3",
      "display_name": "Python 3"
    },
    "language_info": {
      "name": "python"
    }
  },
  "cells": [
    {
      "cell_type": "markdown",
      "metadata": {
        "id": "view-in-github",
        "colab_type": "text"
      },
      "source": [
        "<a href=\"https://colab.research.google.com/github/Deepsphere-AI/DSAI_Python_Programming/blob/main/Unit-11/Advanced%20Topics%20in%20Python/Program%20207-%20CSLAB_NDARRAY_RESHAPING_INTEGERS_V1.ipynb\" target=\"_parent\"><img src=\"https://colab.research.google.com/assets/colab-badge.svg\" alt=\"Open In Colab\"/></a>"
      ]
    },
    {
      "cell_type": "code",
      "execution_count": null,
      "metadata": {
        "id": "K2ejyDEcOE_4"
      },
      "outputs": [],
      "source": [
        "\n",
        "# *********************************************************************************************************************\n",
        "  \n",
        "  # File Name \t:   CSLAB_NDARRAY_RESHAPING_INTEGERS_V1\n",
        "  # Purpose \t:   A Program in Python for Reshaping Integers in ndarray \n",
        "  # Author\t:   Deepsphere.ai\n",
        "  # Reviewer \t:   Jothi Periasamy\n",
        "  # Date \t:   10/27/2022\n",
        "  # Version\t:   1.0\t\n",
        "  \n",
        "# ***********************************************************************************************************************\n",
        "\n",
        "## Program Description : Program for Reshaping Integers in ndarray in Python\n",
        "\n",
        "## Python Development Environment & Runtime - Python, Anaconda\n",
        "\n",
        "import numpy as vAR_np\n",
        "\n",
        "vAR_CSLAB_X = vAR_np.array([1, 2, 3, 4, 5, 6], dtype=vAR_np.int32)\n",
        "\n",
        "vAR_CSLAB_y = vAR_CSLAB_X[::-1]\n",
        "\n",
        "vAR_CSLAB_y.strides\n",
        "\n",
        "vAR_CSLAB_y = vAR_CSLAB_X[2:]\n",
        "\n",
        "vAR_CSLAB_y\n",
        "\n",
        "vAR_CSLAB_Z = vAR_np.zeros((10, 10, 10), dtype=vAR_np.float)\n",
        "\n",
        "vAR_CSLAB_Z.strides\n",
        "\n",
        "vAR_CSLAB_Z[::2,::3,::4].strides\n",
        "\n",
        "vAR_CSLAB_A = vAR_np.arange(6, dtype=vAR_np.int8).reshape(3, 2)\n",
        "\n",
        "vAR_CSLAB_A\n",
        "\n",
        "# ****************************************************************************************************************************\n",
        "#   Disclaimer.\n",
        "\n",
        "# We are providing this code block strictly for learning and researching, this is not a production\n",
        "# ready code. We have no liability on this particular code under any circumstances; users should use\n",
        "# this code on their own risk. All software, hardware and othr products that are referenced in these \n",
        "# materials belong to the respective vendor who developed or who owns this product.\n",
        "\n",
        "# ****************************************************************************************************************************\n",
        "  "
      ]
    }
  ]
}