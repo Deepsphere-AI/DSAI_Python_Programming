{
  "nbformat": 4,
  "nbformat_minor": 0,
  "metadata": {
    "colab": {
      "provenance": [],
      "authorship_tag": "ABX9TyPfw7cNw6H5akN12DTqp9Og",
      "include_colab_link": true
    },
    "kernelspec": {
      "name": "python3",
      "display_name": "Python 3"
    },
    "language_info": {
      "name": "python"
    }
  },
  "cells": [
    {
      "cell_type": "markdown",
      "metadata": {
        "id": "view-in-github",
        "colab_type": "text"
      },
      "source": [
        "<a href=\"https://colab.research.google.com/github/Deepsphere-AI/DSAI_Python_Programming/blob/main/Unit-11/Python%20Advanced%20Topics/Program%20193-%20CSLAB_DECORATORS_COPYING_DOCSTRING_OTHER_ATTRIBUTES_V1.ipynb\" target=\"_parent\"><img src=\"https://colab.research.google.com/assets/colab-badge.svg\" alt=\"Open In Colab\"/></a>"
      ]
    },
    {
      "cell_type": "code",
      "execution_count": null,
      "metadata": {
        "id": "iJDuFQho9Zoj"
      },
      "outputs": [],
      "source": [
        "\n",
        "# *********************************************************************************************************************\n",
        "  \n",
        "  # File Name \t:   CSLAB_DECORATORS_COPYING_DOCSTRING_OTHER_ATTRIBUTES_V1\n",
        "  # Purpose \t:   A Program for Copying the docstring and other attributes of the original function using Decorators in Python\n",
        "  # Author\t:   Deepsphere.ai\n",
        "  # Reviewer \t:   Jothi Periasamy\n",
        "  # Date \t:   10/27/2022\n",
        "  # Version\t:   1.0\t\n",
        "  \n",
        "# ***********************************************************************************************************************\n",
        "\n",
        "## Program Description : Program for Copying the docstring and other attributes of the original function in Python\n",
        "\n",
        "## Python Development Environment & Runtime - Python, Anaconda\n",
        "\n",
        "import functools\n",
        "def vAR_replacing_decorator_with_args(arg):\n",
        "  print(\"defining the decorator\")\n",
        "  def vAR_decorator(function):\n",
        "      print(\"doing decoration, %r\" % arg)\n",
        "      def vAR_wrapper(*args, **kwargs):\n",
        "          print(\"inside wrapper, %r %r\" % (args, kwargs))\n",
        "          return function(*args, **kwargs)\n",
        "      return functools.update_wrapper(_wrapper, function)\n",
        "  return vAR_decorator\n",
        "\n",
        "#@replacing_decorator_with_args(\"abc\")\n",
        "def vAR_function():\n",
        "    \"extensive documentation\"\n",
        "    print(\"inside function\")\n",
        "    return 14\n",
        "\n",
        "vAR_replacing_decorator_with_args(20)\n",
        "\n",
        "vAR_function()\n",
        "\n",
        "# ****************************************************************************************************************************\n",
        "#   Disclaimer.\n",
        "\n",
        "# We are providing this code block strictly for learning and researching, this is not a production\n",
        "# ready code. We have no liability on this particular code under any circumstances; users should use\n",
        "# this code on their own risk. All software, hardware and othr products that are referenced in these \n",
        "# materials belong to the respective vendor who developed or who owns this product.\n",
        "\n",
        "# ****************************************************************************************************************************\n",
        "  "
      ]
    }
  ]
}