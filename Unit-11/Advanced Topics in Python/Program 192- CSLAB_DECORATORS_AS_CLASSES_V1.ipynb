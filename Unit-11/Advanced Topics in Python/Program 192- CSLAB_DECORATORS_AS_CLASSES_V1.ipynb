{
  "nbformat": 4,
  "nbformat_minor": 0,
  "metadata": {
    "colab": {
      "provenance": [],
      "authorship_tag": "ABX9TyMKC0TESRQqq5K4PlRbfO33",
      "include_colab_link": true
    },
    "kernelspec": {
      "name": "python3",
      "display_name": "Python 3"
    },
    "language_info": {
      "name": "python"
    }
  },
  "cells": [
    {
      "cell_type": "markdown",
      "metadata": {
        "id": "view-in-github",
        "colab_type": "text"
      },
      "source": [
        "<a href=\"https://colab.research.google.com/github/Deepsphere-AI/DSAI_Python_Programming/blob/main/Unit-11/Advanced%20Topics%20in%20Python/Program%20192-%20CSLAB_DECORATORS_AS_CLASSES_V1.ipynb\" target=\"_parent\"><img src=\"https://colab.research.google.com/assets/colab-badge.svg\" alt=\"Open In Colab\"/></a>"
      ]
    },
    {
      "cell_type": "code",
      "execution_count": null,
      "metadata": {
        "id": "mzZi117y8XJf"
      },
      "outputs": [],
      "source": [
        "\n",
        "# *********************************************************************************************************************\n",
        "  \n",
        "  # File Name \t:   CSLAB_DECORATORS_AS_CLASSES_V1\n",
        "  # Purpose \t:   A Program in Python for Decorators as Implemented Classes\n",
        "  # Author\t:   Deepsphere.ai\n",
        "  # Reviewer \t:   Jothi Periasamy\n",
        "  # Date \t:   10/27/2022\n",
        "  # Version\t:   1.0\t\n",
        "  \n",
        "# ***********************************************************************************************************************\n",
        "\n",
        "## Program Description : Program for Decorators Implemented as Classes in Python\n",
        "\n",
        "## Python Development Environment & Runtime - Python, Anaconda\n",
        "\n",
        "class vAR_decorator_class(object):\n",
        "  def __init__(self, arg):\n",
        "      # this method is called in the decorator expression\n",
        "      print(\"in decorator init, %s\" % arg)\n",
        "      self.arg = arg\n",
        "\n",
        "  def __call__(self, function):\n",
        "      # this method is called to do the job\n",
        "      print(\"in decorator call, %s\" % self.arg)\n",
        "      return function\n",
        "\n",
        "vAR_deco_instance = vAR_decorator_class('foo')\n",
        "\n",
        "##@deco_instance\n",
        "\n",
        "def vAR_function(*args, **kwargs):\n",
        "  print(\"in function, %s %s\" % (args, kwargs))\n",
        "\n",
        "vAR_function(20,30)\n",
        "\n",
        "# ****************************************************************************************************************************\n",
        "#   Disclaimer.\n",
        "\n",
        "# We are providing this code block strictly for learning and researching, this is not a production\n",
        "# ready code. We have no liability on this particular code under any circumstances; users should use\n",
        "# this code on their own risk. All software, hardware and othr products that are referenced in these \n",
        "# materials belong to the respective vendor who developed or who owns this product.\n",
        "\n",
        "# ****************************************************************************************************************************\n",
        "  "
      ]
    }
  ]
}