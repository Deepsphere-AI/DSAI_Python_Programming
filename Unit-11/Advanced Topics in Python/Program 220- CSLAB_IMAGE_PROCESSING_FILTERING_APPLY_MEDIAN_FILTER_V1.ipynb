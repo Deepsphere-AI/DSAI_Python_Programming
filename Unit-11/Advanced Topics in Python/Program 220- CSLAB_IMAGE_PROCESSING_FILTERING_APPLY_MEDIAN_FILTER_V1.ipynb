{
  "nbformat": 4,
  "nbformat_minor": 0,
  "metadata": {
    "colab": {
      "provenance": [],
      "authorship_tag": "ABX9TyPlTGsDISV00Y5SY0D6UJZa",
      "include_colab_link": true
    },
    "kernelspec": {
      "name": "python3",
      "display_name": "Python 3"
    },
    "language_info": {
      "name": "python"
    }
  },
  "cells": [
    {
      "cell_type": "markdown",
      "metadata": {
        "id": "view-in-github",
        "colab_type": "text"
      },
      "source": [
        "<a href=\"https://colab.research.google.com/github/Deepsphere-AI/DSAI_Python_Programming/blob/main/Unit-11/Advanced%20Topics%20in%20Python/Program%20220-%20CSLAB_IMAGE_PROCESSING_FILTERING_APPLY_MEDIAN_FILTER_V1.ipynb\" target=\"_parent\"><img src=\"https://colab.research.google.com/assets/colab-badge.svg\" alt=\"Open In Colab\"/></a>"
      ]
    },
    {
      "cell_type": "code",
      "execution_count": null,
      "metadata": {
        "id": "B4uxgAO-UAvu"
      },
      "outputs": [],
      "source": [
        "\n",
        "# *********************************************************************************************************************\n",
        "  \n",
        "  # File Name \t:   CSLAB_IMAGE_PROCESSING_FILTERING_APPLY_MEDIAN_FILTER_V1\n",
        "  # Purpose \t:   A Program in Python for Image Processing - Applying Median Filter\n",
        "  # Author\t:   Deepsphere.ai\n",
        "  # Reviewer \t:   Jothi Periasamy\n",
        "  # Date \t:   10/27/2022\n",
        "  # Version\t:   1.0\t\n",
        "  \n",
        "# ***********************************************************************************************************************\n",
        "\n",
        "## Program Description : Program for Image Processing - Applying Median Filter in Python\n",
        "\n",
        "## Python Development Environment & Runtime - Python, Anaconda\n",
        "\n",
        "import numpy as  vAR_np\n",
        "\n",
        "from scipy import ndimage\n",
        "\n",
        "import matplotlib.pyplot as vAR_plt\n",
        "\n",
        "from scipy import misc\n",
        "\n",
        "vAR_CSLAB_f = misc.face(gray=True)\n",
        "\n",
        "vAR_CSLAB_f = vAR_CSLAB_f[230:290, 220:320]\n",
        "\n",
        "vAR_CSLAB_noisy = vAR_CSLAB_f + 0.4 * vAR_CSLAB_f.std() * vAR_np.random.random(vAR_CSLAB_f.shape)\n",
        "\n",
        "vAR_CSLAB_med_denoised = ndimage.median_filter(vAR_CSLAB_noisy, 3)\n",
        "\n",
        "vAR_plt.imshow(vAR_CSLAB_med_denoised)\n",
        "\n",
        "\n",
        "# ****************************************************************************************************************************\n",
        "#   Disclaimer.\n",
        "\n",
        "# We are providing this code block strictly for learning and researching, this is not a production\n",
        "# ready code. We have no liability on this particular code under any circumstances; users should use\n",
        "# this code on their own risk. All software, hardware and othr products that are referenced in these \n",
        "# materials belong to the respective vendor who developed or who owns this product.\n",
        "\n",
        "# ****************************************************************************************************************************\n",
        "  "
      ]
    }
  ]
}