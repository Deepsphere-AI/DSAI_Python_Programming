{
  "nbformat": 4,
  "nbformat_minor": 0,
  "metadata": {
    "colab": {
      "provenance": [],
      "authorship_tag": "ABX9TyN0o9vBmp8avwk39bKPYxfG",
      "include_colab_link": true
    },
    "kernelspec": {
      "name": "python3",
      "display_name": "Python 3"
    },
    "language_info": {
      "name": "python"
    }
  },
  "cells": [
    {
      "cell_type": "markdown",
      "metadata": {
        "id": "view-in-github",
        "colab_type": "text"
      },
      "source": [
        "<a href=\"https://colab.research.google.com/github/Deepsphere-AI/DSAI_Python_Programming/blob/main/Unit-11/Advanced%20Topics%20in%20Python/Program%20189-%20CSLAB_CHAINING_GENERATORS_V1.ipynb\" target=\"_parent\"><img src=\"https://colab.research.google.com/assets/colab-badge.svg\" alt=\"Open In Colab\"/></a>"
      ]
    },
    {
      "cell_type": "code",
      "execution_count": null,
      "metadata": {
        "id": "E-T-r4eyxW_A"
      },
      "outputs": [],
      "source": [
        "\n",
        "# *********************************************************************************************************************\n",
        "  \n",
        "  # File Name \t:   CSLAB_CHAINING_GENERATORS_V1\n",
        "  # Purpose \t:   A Program in Python for Chaining Two Generators\n",
        "  # Author\t:   Deepsphere.ai\n",
        "  # Reviewer \t:   Jothi Periasamy\n",
        "  # Date \t:   10/27/2022\n",
        "  # Version\t:   1.0\t\n",
        "  \n",
        "# ***********************************************************************************************************************\n",
        "\n",
        "## Program Description : Program for Chaining Two Generators in Python\n",
        "\n",
        "## Python Development Environment & Runtime - Python, Anaconda\n",
        "\n",
        "import itertools\n",
        "\n",
        "def vAR_CSLAB_g():\n",
        "    print('--start--')\n",
        "    for i in itertools.count():\n",
        "        print('--yielding %i--' % i)\n",
        "        try:\n",
        "            vAR_CSLAB_ans = yield i\n",
        "        except GeneratorExit:\n",
        "            print('--closing--')\n",
        "            raise\n",
        "        except Exception as e:\n",
        "            print('--yield raised %r--' % e)\n",
        "        else:\n",
        "            print('--yield returned %s--' % vAR_CSLAB_ans)\n",
        "\n",
        "vAR_CSLAB_it = vAR_CSLAB_g()\n",
        "\n",
        "next(vAR_CSLAB_it)\n",
        "\n",
        "vAR_CSLAB_it.send(11)\n",
        "\n",
        "#subgen = some_other_generator()\n",
        "\n",
        "#for v in subgen:\n",
        "    #yield v\n",
        "\n",
        "CSLAB_it = vAR_CSLAB_g()\n",
        "\n",
        "next(CSLAB_it)\n",
        "\n",
        "# ****************************************************************************************************************************\n",
        "#   Disclaimer.\n",
        "\n",
        "# We are providing this code block strictly for learning and researching, this is not a production\n",
        "# ready code. We have no liability on this particular code under any circumstances; users should use\n",
        "# this code on their own risk. All software, hardware and othr products that are referenced in these \n",
        "# materials belong to the respective vendor who developed or who owns this product.\n",
        "\n",
        "# ****************************************************************************************************************************\n",
        "  "
      ]
    }
  ]
}