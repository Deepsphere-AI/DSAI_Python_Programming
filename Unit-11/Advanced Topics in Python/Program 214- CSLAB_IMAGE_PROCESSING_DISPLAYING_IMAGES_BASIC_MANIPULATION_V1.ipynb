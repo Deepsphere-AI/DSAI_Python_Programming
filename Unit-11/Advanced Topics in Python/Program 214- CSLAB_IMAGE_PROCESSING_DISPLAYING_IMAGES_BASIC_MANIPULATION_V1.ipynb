{
  "nbformat": 4,
  "nbformat_minor": 0,
  "metadata": {
    "colab": {
      "provenance": [],
      "authorship_tag": "ABX9TyPvXUKlgn9NQNt4v6UqW+mW",
      "include_colab_link": true
    },
    "kernelspec": {
      "name": "python3",
      "display_name": "Python 3"
    },
    "language_info": {
      "name": "python"
    }
  },
  "cells": [
    {
      "cell_type": "markdown",
      "metadata": {
        "id": "view-in-github",
        "colab_type": "text"
      },
      "source": [
        "<a href=\"https://colab.research.google.com/github/Deepsphere-AI/DSAI_Python_Programming/blob/main/Unit-11/Advanced%20Topics%20in%20Python/Program%20214-%20CSLAB_IMAGE_PROCESSING_DISPLAYING_IMAGES_BASIC_MANIPULATION_V1.ipynb\" target=\"_parent\"><img src=\"https://colab.research.google.com/assets/colab-badge.svg\" alt=\"Open In Colab\"/></a>"
      ]
    },
    {
      "cell_type": "code",
      "execution_count": null,
      "metadata": {
        "id": "8EDdzvuQRN4o"
      },
      "outputs": [],
      "source": [
        "\n",
        "# *********************************************************************************************************************\n",
        "  \n",
        "  # File Name \t:   CSLAB_IMAGE_PROCESSING_DISPLAYING_IMAGES_BASIC_MANIPULATION_V1\n",
        "  # Purpose \t:   A Program in Python for Basic Manipulation in Image Processing\n",
        "  # Author\t:   Deepsphere.ai\n",
        "  # Reviewer \t:   Jothi Periasamy\n",
        "  # Date \t:   10/27/2022\n",
        "  # Version\t:   1.0\t\n",
        "  \n",
        "# ***********************************************************************************************************************\n",
        "\n",
        "## Program Description : Program for Basic Manipulation in Image Processing in Python\n",
        "\n",
        "## Python Development Environment & Runtime - Python, Anaconda\n",
        "\n",
        "from scipy import misc\n",
        "\n",
        "import numpy as vAR_np\n",
        "\n",
        "vAR_CSLAB_face = misc.face(gray=True)\n",
        "\n",
        "vAR_CSLAB_face[0, 40]\n",
        "\n",
        "vAR_CSLAB_face[10:13, 20:23]\n",
        "\n",
        "vAR_CSLAB_face[100:120] = 255\n",
        "\n",
        "vAR_lx, vAR_ly = vAR_CSLAB_face.shape\n",
        "\n",
        "vAR_X, vAR_Y = vAR_np.ogrid[0:vAR_lx, 0:vAR_ly]\n",
        "\n",
        "vAR_CSLAB_mask = (vAR_X - vAR_lx / 2) ** 2 + (vAR_Y - vAR_ly / 2) ** 2 > vAR_lx * vAR_ly / 4\n",
        "\n",
        "vAR_CSLAB_face[vAR_CSLAB_mask] = 0\n",
        "\n",
        "vAR_CSLAB_face[range(400), range(400)] = 255\n",
        "\n",
        "vAR_plt.imshow(vAR_CSLAB_face) \n",
        "\n",
        "# ****************************************************************************************************************************\n",
        "#   Disclaimer.\n",
        "\n",
        "# We are providing this code block strictly for learning and researching, this is not a production\n",
        "# ready code. We have no liability on this particular code under any circumstances; users should use\n",
        "# this code on their own risk. All software, hardware and othr products that are referenced in these \n",
        "# materials belong to the respective vendor who developed or who owns this product.\n",
        "\n",
        "# ****************************************************************************************************************************\n",
        "  "
      ]
    }
  ]
}