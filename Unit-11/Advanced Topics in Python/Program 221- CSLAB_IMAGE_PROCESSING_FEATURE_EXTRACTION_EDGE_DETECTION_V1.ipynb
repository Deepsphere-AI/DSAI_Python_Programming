{
  "nbformat": 4,
  "nbformat_minor": 0,
  "metadata": {
    "colab": {
      "provenance": [],
      "authorship_tag": "ABX9TyOQfTq2fQd0AMiLyw+2l2GY",
      "include_colab_link": true
    },
    "kernelspec": {
      "name": "python3",
      "display_name": "Python 3"
    },
    "language_info": {
      "name": "python"
    }
  },
  "cells": [
    {
      "cell_type": "markdown",
      "metadata": {
        "id": "view-in-github",
        "colab_type": "text"
      },
      "source": [
        "<a href=\"https://colab.research.google.com/github/Deepsphere-AI/DSAI_Python_Programming/blob/main/Unit-11/Advanced%20Topics%20in%20Python/Program%20221-%20CSLAB_IMAGE_PROCESSING_FEATURE_EXTRACTION_EDGE_DETECTION_V1.ipynb\" target=\"_parent\"><img src=\"https://colab.research.google.com/assets/colab-badge.svg\" alt=\"Open In Colab\"/></a>"
      ]
    },
    {
      "cell_type": "code",
      "execution_count": null,
      "metadata": {
        "id": "Al2kI5xlUb3L"
      },
      "outputs": [],
      "source": [
        "\n",
        "# *********************************************************************************************************************\n",
        "  \n",
        "  # File Name \t:   CSLAB_IMAGE_PROCESSING_FEATURE_EXTRACTION_EDGE_DETECTION_V1\n",
        "  # Purpose \t:   A Program in Python for Image Processing - Edge Detection\n",
        "  # Author\t:   Deepsphere.ai\n",
        "  # Reviewer \t:   Jothi Periasamy\n",
        "  # Date \t:   10/27/2022\n",
        "  # Version\t:   1.0\t\n",
        "  \n",
        "# ***********************************************************************************************************************\n",
        "\n",
        "## Program Description : Program for Image Processing - Edge Detection in Python\n",
        "\n",
        "## Python Development Environment & Runtime - Python, Anaconda\n",
        "\n",
        "from scipy import misc\n",
        "\n",
        "import numpy as  vAR_np\n",
        "\n",
        "import numpy as  vAR_np\n",
        "\n",
        "from scipy import ndimage\n",
        "\n",
        "import matplotlib.pyplot as vAR_plt\n",
        "\n",
        "vAR_CSLAB_im = vAR_np.zeros((256, 256))\n",
        "\n",
        "vAR_CSLAB_im[64:-64, 64:-64] = 1\n",
        "\n",
        "CSLAB_im = ndimage.rotate(vAR_CSLAB_im, 15, mode='constant')\n",
        "\n",
        "CSLAB_im = ndimage.gaussian_filter(CSLAB_im, 8)\n",
        "\n",
        "vAR_plt.imshow(CSLAB_im)\n",
        "\n",
        "# ****************************************************************************************************************************\n",
        "#   Disclaimer.\n",
        "\n",
        "# We are providing this code block strictly for learning and researching, this is not a production\n",
        "# ready code. We have no liability on this particular code under any circumstances; users should use\n",
        "# this code on their own risk. All software, hardware and othr products that are referenced in these \n",
        "# materials belong to the respective vendor who developed or who owns this product.\n",
        "\n",
        "# ****************************************************************************************************************************\n",
        "  "
      ]
    }
  ]
}