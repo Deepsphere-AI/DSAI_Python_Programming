{
  "nbformat": 4,
  "nbformat_minor": 0,
  "metadata": {
    "colab": {
      "provenance": [],
      "authorship_tag": "ABX9TyOpyjnlT3t+IMUC0ZGC6hyN",
      "include_colab_link": true
    },
    "kernelspec": {
      "name": "python3",
      "display_name": "Python 3"
    },
    "language_info": {
      "name": "python"
    }
  },
  "cells": [
    {
      "cell_type": "markdown",
      "metadata": {
        "id": "view-in-github",
        "colab_type": "text"
      },
      "source": [
        "<a href=\"https://colab.research.google.com/github/Deepsphere-AI/DSAI_Python_Programming/blob/main/Unit-11/Advanced%20Topics%20in%20Python/Program%20188-%20CSLAB_BIDIRECTIONAL_COMMUNICATION_V1.ipynb\" target=\"_parent\"><img src=\"https://colab.research.google.com/assets/colab-badge.svg\" alt=\"Open In Colab\"/></a>"
      ]
    },
    {
      "cell_type": "code",
      "execution_count": null,
      "metadata": {
        "id": "FPqKTUY2w3Px"
      },
      "outputs": [],
      "source": [
        "\n",
        "# *********************************************************************************************************************\n",
        "  \n",
        "  # File Name \t:   CSLAB_BIDIRECTIONAL_COMMUNICATION_V1\n",
        "  # Purpose \t:   A Program in Python for Bidirectional Communication Between Client & a Server \n",
        "  # Author\t:   Deepsphere.ai\n",
        "  # Reviewer \t:   Jothi Periasamy\n",
        "  # Date \t:   10/27/2022\n",
        "  # Version\t:   1.0\t\n",
        "  \n",
        "# ***********************************************************************************************************************\n",
        "\n",
        "## Program Description : Program for Bidirectional Communication Between Client & a Server in Python\n",
        "\n",
        "## Python Development Environment & Runtime - Python, Anaconda\n",
        "\n",
        "import itertools\n",
        "\n",
        "def vAR_CSLAB_g():\n",
        "    print('--start--')\n",
        "    for i in itertools.count():\n",
        "        print('--yielding %i--' % i)\n",
        "        try:\n",
        "            vAR_CSLAB_ans = yield i\n",
        "        except GeneratorExit:\n",
        "            print('--closing--')\n",
        "            raise\n",
        "        except Exception as e:\n",
        "            print('--yield raised %r--' % e)\n",
        "        else:\n",
        "            print('--yield returned %s--' % vAR_CSLAB_ans)\n",
        "\n",
        "vAR_CSLAB_it = vAR_CSLAB_g()\n",
        "\n",
        "next(vAR_CSLAB_it)\n",
        "\n",
        "# ****************************************************************************************************************************\n",
        "#   Disclaimer.\n",
        "\n",
        "# We are providing this code block strictly for learning and researching, this is not a production\n",
        "# ready code. We have no liability on this particular code under any circumstances; users should use\n",
        "# this code on their own risk. All software, hardware and othr products that are referenced in these \n",
        "# materials belong to the respective vendor who developed or who owns this product.\n",
        "\n",
        "# ****************************************************************************************************************************\n",
        "  "
      ]
    }
  ]
}