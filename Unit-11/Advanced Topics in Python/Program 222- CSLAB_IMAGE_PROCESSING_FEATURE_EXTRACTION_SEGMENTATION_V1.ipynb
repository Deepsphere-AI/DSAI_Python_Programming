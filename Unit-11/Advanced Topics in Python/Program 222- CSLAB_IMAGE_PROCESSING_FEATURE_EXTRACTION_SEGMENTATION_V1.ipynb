{
  "nbformat": 4,
  "nbformat_minor": 0,
  "metadata": {
    "colab": {
      "provenance": [],
      "authorship_tag": "ABX9TyN8BrYU+Am/UEx6DD5SUEqP",
      "include_colab_link": true
    },
    "kernelspec": {
      "name": "python3",
      "display_name": "Python 3"
    },
    "language_info": {
      "name": "python"
    }
  },
  "cells": [
    {
      "cell_type": "markdown",
      "metadata": {
        "id": "view-in-github",
        "colab_type": "text"
      },
      "source": [
        "<a href=\"https://colab.research.google.com/github/Deepsphere-AI/DSAI_Python_Programming/blob/main/Unit-11/Python%20Advanced%20Topics/Program%20222-%20CSLAB_IMAGE_PROCESSING_FEATURE_EXTRACTION_SEGMENTATION_V1.ipynb\" target=\"_parent\"><img src=\"https://colab.research.google.com/assets/colab-badge.svg\" alt=\"Open In Colab\"/></a>"
      ]
    },
    {
      "cell_type": "code",
      "execution_count": null,
      "metadata": {
        "id": "fPkF5q3LU1s_"
      },
      "outputs": [],
      "source": [
        "\n",
        "# *********************************************************************************************************************\n",
        "  \n",
        "  # File Name \t:   CSLAB_IMAGE_PROCESSING_FEATURE_EXTRACTION_SEGMENTATION_V1\n",
        "  # Purpose \t:   A Program in Python for Image Processing - Segmentation\n",
        "  # Author\t:   Deepsphere.ai\n",
        "  # Reviewer \t:   Jothi Periasamy\n",
        "  # Date \t:   10/27/2022\n",
        "  # Version\t:   1.0\t\n",
        "  \n",
        "# ***********************************************************************************************************************\n",
        "\n",
        "## Program Description : Program for Image Processing - Segmentation in Python\n",
        "\n",
        "## Python Development Environment & Runtime - Python, Anaconda\n",
        "\n",
        "from scipy import misc\n",
        "\n",
        "import numpy as  vAR_np\n",
        "\n",
        "from scipy import ndimage\n",
        "\n",
        "import matplotlib.pyplot as vAR_plt\n",
        "\n",
        "vAR_CSLAB_n = 10\n",
        "\n",
        "vAR_CSLAB_l = 256\n",
        "\n",
        "vAR_CSLAB_im = vAR_np.zeros((vAR_CSLAB_l, vAR_CSLAB_l))\n",
        "\n",
        "vAR_np.random.seed(1)\n",
        "\n",
        "vAR_CSLAB_points = vAR_CSLAB_l*vAR_np.random.random((2, vAR_CSLAB_n**2))\n",
        "\n",
        "vAR_CSLAB_im[(vAR_CSLAB_points[0]).astype(vAR_np.int), (vAR_CSLAB_points[1]).astype(vAR_np.int)] = 1\n",
        "\n",
        "vAR_CSLAB_im = ndimage.gaussian_filter(vAR_CSLAB_im, sigma=vAR_CSLAB_l/(4.*vAR_CSLAB_n))\n",
        "\n",
        "vAR_plt.imshow(vAR_CSLAB_im)\n",
        "\n",
        "# ****************************************************************************************************************************\n",
        "#   Disclaimer.\n",
        "\n",
        "# We are providing this code block strictly for learning and researching, this is not a production\n",
        "# ready code. We have no liability on this particular code under any circumstances; users should use\n",
        "# this code on their own risk. All software, hardware and othr products that are referenced in these \n",
        "# materials belong to the respective vendor who developed or who owns this product.\n",
        "\n",
        "# ****************************************************************************************************************************\n",
        "  "
      ]
    }
  ]
}