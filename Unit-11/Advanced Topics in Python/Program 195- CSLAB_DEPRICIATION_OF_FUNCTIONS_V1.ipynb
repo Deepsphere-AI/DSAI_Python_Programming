{
  "nbformat": 4,
  "nbformat_minor": 0,
  "metadata": {
    "colab": {
      "provenance": [],
      "authorship_tag": "ABX9TyOgi4+9V0oys/bGuP2n7oyL",
      "include_colab_link": true
    },
    "kernelspec": {
      "name": "python3",
      "display_name": "Python 3"
    },
    "language_info": {
      "name": "python"
    }
  },
  "cells": [
    {
      "cell_type": "markdown",
      "metadata": {
        "id": "view-in-github",
        "colab_type": "text"
      },
      "source": [
        "<a href=\"https://colab.research.google.com/github/Deepsphere-AI/DSAI_Python_Programming/blob/main/Unit-11/Python%20Advanced%20Topics/Program%20195-%20CSLAB_DEPRICIATION_OF_FUNCTIONS_V1.ipynb\" target=\"_parent\"><img src=\"https://colab.research.google.com/assets/colab-badge.svg\" alt=\"Open In Colab\"/></a>"
      ]
    },
    {
      "cell_type": "code",
      "execution_count": null,
      "metadata": {
        "id": "aSCIxoHa-fJ_"
      },
      "outputs": [],
      "source": [
        "\n",
        "# *********************************************************************************************************************\n",
        "  \n",
        "  # File Name \t:   CSLAB_DEPRICIATION_OF_FUNCTIONS_V1\n",
        "  # Purpose \t:   A Program in Python for Depriciation of Functions\n",
        "  # Author\t:   Deepsphere.ai\n",
        "  # Reviewer \t:   Jothi Periasamy\n",
        "  # Date \t:   10/27/2022\n",
        "  # Version\t:   1.0\t\n",
        "  \n",
        "# ***********************************************************************************************************************\n",
        "\n",
        "## Program Description : Program for Depriciation of Functions in Python\n",
        "\n",
        "## Python Development Environment & Runtime - Python, Anaconda\n",
        "\n",
        "def Depreciation_Function():\n",
        "    \n",
        "    vAR_CSLAB_BV=5000\n",
        "    \n",
        "    vAR_CSLAB_Life=5\n",
        "\n",
        "    vAR_CSLAB_slvg=200\n",
        "\n",
        "    print ('%15s'%\"Year\"'%15s'%\"Dep\"'%15s'% \"BV\")\n",
        "\n",
        "for i in range(0,Life):\n",
        "    \n",
        "    Dep=((BV-slvg)*i)/Life\n",
        "    \n",
        "    AccDep=((BV-slvg)*(Life-i))/Life\n",
        "    \n",
        "    print ('%12.0f'%i,'%12.2f'%Dep, '%12.2f'%AccDep)\n",
        "\n",
        "# ****************************************************************************************************************************\n",
        "#   Disclaimer.\n",
        "\n",
        "# We are providing this code block strictly for learning and researching, this is not a production\n",
        "# ready code. We have no liability on this particular code under any circumstances; users should use\n",
        "# this code on their own risk. All software, hardware and othr products that are referenced in these \n",
        "# materials belong to the respective vendor who developed or who owns this product.\n",
        "\n",
        "# ****************************************************************************************************************************\n",
        "  "
      ]
    }
  ]
}