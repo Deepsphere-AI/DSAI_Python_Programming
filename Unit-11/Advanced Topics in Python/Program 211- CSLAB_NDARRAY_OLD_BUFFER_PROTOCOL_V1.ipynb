{
  "nbformat": 4,
  "nbformat_minor": 0,
  "metadata": {
    "colab": {
      "provenance": [],
      "authorship_tag": "ABX9TyMN1Lu8FBx1FszTInpPeLUi",
      "include_colab_link": true
    },
    "kernelspec": {
      "name": "python3",
      "display_name": "Python 3"
    },
    "language_info": {
      "name": "python"
    }
  },
  "cells": [
    {
      "cell_type": "markdown",
      "metadata": {
        "id": "view-in-github",
        "colab_type": "text"
      },
      "source": [
        "<a href=\"https://colab.research.google.com/github/Deepsphere-AI/DSAI_Python_Programming/blob/main/Unit-11/Python%20Advanced%20Topics/Program%20211-%20CSLAB_NDARRAY_OLD_BUFFER_PROTOCOL_V1.ipynb\" target=\"_parent\"><img src=\"https://colab.research.google.com/assets/colab-badge.svg\" alt=\"Open In Colab\"/></a>"
      ]
    },
    {
      "cell_type": "code",
      "execution_count": null,
      "metadata": {
        "id": "Kdd6TvFGP7fu"
      },
      "outputs": [],
      "source": [
        "\n",
        "# *********************************************************************************************************************\n",
        "  \n",
        "  # File Name \t:   CSLAB_NDARRAY_OLD_BUFFER_PROTOCOL_V1\n",
        "  # Purpose \t:   A Program in Python for Old Buffer Protocol of a ndarray\n",
        "  # Author\t:   Deepsphere.ai\n",
        "  # Reviewer \t:   Jothi Periasamy\n",
        "  # Date \t:   10/27/2022\n",
        "  # Version\t:   1.0\t\n",
        "  \n",
        "# ***********************************************************************************************************************\n",
        "\n",
        "## Program Description : Program for Old Buffer Protocol of a ndarray in Python\n",
        "\n",
        "## Python Development Environment & Runtime - Python, Anaconda\n",
        "\n",
        "import numpy as vAR_np\n",
        "\n",
        "from PIL import Image\n",
        "\n",
        "vAR_CSLAB_data = vAR_np.zeros((200, 200, 4), dtype=vAR_np.int8)\n",
        "\n",
        "vAR_CSLAB_data[:, :] = [255, 0, 0, 255] # Red\n",
        "\n",
        "vAR_CSLAB_data = vAR_CSLAB_data.view(vAR_np.int32).squeeze()\n",
        "\n",
        "vAR_CSLAB_img = Image.frombuffer(\"RGBA\", (200, 200), vAR_CSLAB_data, \"raw\", \"RGBA\", 0, 1)\n",
        "\n",
        "import os\n",
        "\n",
        "vAR_INI_File_Path = os.environ.get('PYTHON_TUTORIAL')\n",
        "\n",
        "import pandas as vAR_pd\n",
        "\n",
        "import configparser\n",
        "\n",
        "import matplotlib.pyplot as vAR_plt\n",
        "\n",
        "vAR_Config = configparser.ConfigParser(allow_no_value=True)\n",
        "\n",
        "vAR_Config.read(vAR_INI_File_Path)\n",
        "\n",
        "vAR_CSLAB_SAVE_IMAGE = vAR_Config['Data File Path']['vAR_CSLAB_PROGRAM_211_SAVE_IMAGE']\n",
        "\n",
        "vAR_CSLAB_img.save(vAR_CSLAB_SAVE_IMAGE)\n",
        "\n",
        "print('Image Saved')\n",
        "\n",
        "# ****************************************************************************************************************************\n",
        "#   Disclaimer.\n",
        "\n",
        "# We are providing this code block strictly for learning and researching, this is not a production\n",
        "# ready code. We have no liability on this particular code under any circumstances; users should use\n",
        "# this code on their own risk. All software, hardware and othr products that are referenced in these \n",
        "# materials belong to the respective vendor who developed or who owns this product.\n",
        "\n",
        "# ****************************************************************************************************************************\n",
        "  "
      ]
    }
  ]
}