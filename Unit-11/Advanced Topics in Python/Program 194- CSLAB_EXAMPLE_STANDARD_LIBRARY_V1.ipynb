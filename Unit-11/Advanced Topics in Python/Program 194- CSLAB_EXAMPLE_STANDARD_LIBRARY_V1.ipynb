{
  "nbformat": 4,
  "nbformat_minor": 0,
  "metadata": {
    "colab": {
      "provenance": [],
      "authorship_tag": "ABX9TyNlv8cfp9WQfAsYOGD0tXZa",
      "include_colab_link": true
    },
    "kernelspec": {
      "name": "python3",
      "display_name": "Python 3"
    },
    "language_info": {
      "name": "python"
    }
  },
  "cells": [
    {
      "cell_type": "markdown",
      "metadata": {
        "id": "view-in-github",
        "colab_type": "text"
      },
      "source": [
        "<a href=\"https://colab.research.google.com/github/Deepsphere-AI/DSAI_Python_Programming/blob/main/Unit-11/Advanced%20Topics%20in%20Python/Program%20194-%20CSLAB_EXAMPLE_STANDARD_LIBRARY_V1.ipynb\" target=\"_parent\"><img src=\"https://colab.research.google.com/assets/colab-badge.svg\" alt=\"Open In Colab\"/></a>"
      ]
    },
    {
      "cell_type": "code",
      "execution_count": null,
      "metadata": {
        "id": "JIxNi3-B-BJL"
      },
      "outputs": [],
      "source": [
        "\n",
        "# *********************************************************************************************************************\n",
        "  \n",
        "  # File Name \t:   CSLAB_EXAMPLE_STANDARD_LIBRARY_V1\n",
        "  # Purpose \t:   A Program in Python for Example of Standard Library\n",
        "  # Author\t:   Deepsphere.ai\n",
        "  # Reviewer \t:   Jothi Periasamy\n",
        "  # Date \t:   10/27/2022\n",
        "  # Version\t:   1.0\t\n",
        "  \n",
        "# ***********************************************************************************************************************\n",
        "\n",
        "## Program Description : Program for Example of Standard Library in Python\n",
        "\n",
        "## Python Development Environment & Runtime - Python, Anaconda\n",
        "\n",
        "import os\n",
        "import platform\n",
        "import logging\n",
        "\n",
        "if platform.platform().startswith('Windows'):\n",
        "    vAR_CSLAB_logging_file = os.path.join(os.getenv('HOMEDRIVE'),\n",
        "                                os.getenv('HOMEPATH'),\n",
        "                                'test.log')\n",
        "else:\n",
        "    vAR_CSLAB_logging_file = os.path.join(os.getenv('HOME'),\n",
        "                                'test.log')\n",
        "\n",
        "print(\"Logging to\", vAR_CSLAB_logging_file)\n",
        "\n",
        "logging.basicConfig(\n",
        "vAR_CSLAB_level=logging.DEBUG,\n",
        "format='%(asctime)s : %(levelname)s : %(message)s',\n",
        "filename=vAR_CSLAB_logging_file,\n",
        "vAR_CSLAB_filemode='w',\n",
        ")\n",
        "\n",
        "logging.debug(\"Start of the program\")\n",
        "logging.info(\"Doing something\")\n",
        "logging.warning(\"Dying now\")\n",
        "\n",
        "# ****************************************************************************************************************************\n",
        "#   Disclaimer.\n",
        "\n",
        "# We are providing this code block strictly for learning and researching, this is not a production\n",
        "# ready code. We have no liability on this particular code under any circumstances; users should use\n",
        "# this code on their own risk. All software, hardware and othr products that are referenced in these \n",
        "# materials belong to the respective vendor who developed or who owns this product.\n",
        "\n",
        "# ****************************************************************************************************************************\n",
        "  "
      ]
    }
  ]
}