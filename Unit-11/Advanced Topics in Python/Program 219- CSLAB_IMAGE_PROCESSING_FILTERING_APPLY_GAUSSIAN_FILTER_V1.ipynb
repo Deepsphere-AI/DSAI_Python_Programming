{
  "nbformat": 4,
  "nbformat_minor": 0,
  "metadata": {
    "colab": {
      "provenance": [],
      "authorship_tag": "ABX9TyOOfJTcd9abqdYn/GOeWAAV",
      "include_colab_link": true
    },
    "kernelspec": {
      "name": "python3",
      "display_name": "Python 3"
    },
    "language_info": {
      "name": "python"
    }
  },
  "cells": [
    {
      "cell_type": "markdown",
      "metadata": {
        "id": "view-in-github",
        "colab_type": "text"
      },
      "source": [
        "<a href=\"https://colab.research.google.com/github/Deepsphere-AI/DSAI_Python_Programming/blob/main/Unit-11/Python%20Advanced%20Topics/Program%20219-%20CSLAB_IMAGE_PROCESSING_FILTERING_APPLY_GAUSSIAN_FILTER_V1.ipynb\" target=\"_parent\"><img src=\"https://colab.research.google.com/assets/colab-badge.svg\" alt=\"Open In Colab\"/></a>"
      ]
    },
    {
      "cell_type": "code",
      "execution_count": null,
      "metadata": {
        "id": "zocd-vIRTk5_"
      },
      "outputs": [],
      "source": [
        "\n",
        "# *********************************************************************************************************************\n",
        "  \n",
        "  # File Name \t:   CSLAB_IMAGE_PROCESSING_FILTERING_APPLY_GAUSSIAN_FILTER_V1\n",
        "  # Purpose \t:   A Program in Python for Image Processing - Applying Gaussian Filter\n",
        "  # Author\t:   Deepsphere.ai\n",
        "  # Reviewer \t:   Jothi Periasamy\n",
        "  # Date \t:   10/27/2022\n",
        "  # Version\t:   1.0\t\n",
        "  \n",
        "# ***********************************************************************************************************************\n",
        "\n",
        "## Program Description : Program for Image Processing - Applying Gaussian Filter in Python\n",
        "\n",
        "## Python Development Environment & Runtime - Python, Anaconda\n",
        "\n",
        "import numpy as  vAR_np\n",
        "\n",
        "from scipy import ndimage\n",
        "\n",
        "import matplotlib.pyplot as vAR_plt\n",
        "\n",
        "from scipy import misc\n",
        "\n",
        "vAR_CSLAB_f = misc.face(gray=True)\n",
        "\n",
        "vAR_CSLAB_f = vAR_CSLAB_f[230:290, 220:320]\n",
        "\n",
        "vAR_CSLAB_noisy = vAR_CSLAB_f + 0.4 * vAR_CSLAB_f.std() * vAR_np.random.random(vAR_CSLAB_f.shape)\n",
        "\n",
        "vAR_CSLAB_gauss_denoised = ndimage.gaussian_filter(vAR_CSLAB_noisy, 2)\n",
        "\n",
        "vAR_plt.imshow(vAR_CSLAB_gauss_denoised)\n",
        "\n",
        "# ****************************************************************************************************************************\n",
        "#   Disclaimer.\n",
        "\n",
        "# We are providing this code block strictly for learning and researching, this is not a production\n",
        "# ready code. We have no liability on this particular code under any circumstances; users should use\n",
        "# this code on their own risk. All software, hardware and othr products that are referenced in these \n",
        "# materials belong to the respective vendor who developed or who owns this product.\n",
        "\n",
        "# ****************************************************************************************************************************\n",
        "  "
      ]
    }
  ]
}