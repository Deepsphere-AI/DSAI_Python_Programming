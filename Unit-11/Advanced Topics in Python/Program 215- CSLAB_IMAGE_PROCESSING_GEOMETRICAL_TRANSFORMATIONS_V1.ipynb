{
  "nbformat": 4,
  "nbformat_minor": 0,
  "metadata": {
    "colab": {
      "provenance": [],
      "authorship_tag": "ABX9TyNQh9/QCmcPv3TM+NRJ5CRE",
      "include_colab_link": true
    },
    "kernelspec": {
      "name": "python3",
      "display_name": "Python 3"
    },
    "language_info": {
      "name": "python"
    }
  },
  "cells": [
    {
      "cell_type": "markdown",
      "metadata": {
        "id": "view-in-github",
        "colab_type": "text"
      },
      "source": [
        "<a href=\"https://colab.research.google.com/github/Deepsphere-AI/DSAI_Python_Programming/blob/main/Unit-11/Advanced%20Topics%20in%20Python/Program%20215-%20CSLAB_IMAGE_PROCESSING_GEOMETRICAL_TRANSFORMATIONS_V1.ipynb\" target=\"_parent\"><img src=\"https://colab.research.google.com/assets/colab-badge.svg\" alt=\"Open In Colab\"/></a>"
      ]
    },
    {
      "cell_type": "code",
      "execution_count": null,
      "metadata": {
        "id": "RJzrn-dGRm5X"
      },
      "outputs": [],
      "source": [
        "\n",
        "# *********************************************************************************************************************\n",
        "  \n",
        "  # File Name \t:   CSLAB_IMAGE_PROCESSING_GEOMETRICAL_TRANSFORMATIONS_V1\n",
        "  # Purpose \t:   A Program in Python for Geometrical Transformations in  Image Processing \n",
        "  # Author\t:   Deepsphere.ai\n",
        "  # Reviewer \t:   Jothi Periasamy\n",
        "  # Date \t:   10/27/2022\n",
        "  # Version\t:   1.0\t\n",
        "  \n",
        "# ***********************************************************************************************************************\n",
        "\n",
        "## Program Description : Program for Geometrical Transformations in Image Processing in Python\n",
        "\n",
        "## Python Development Environment & Runtime - Python, Anaconda\n",
        "\n",
        "import numpy as vAR_np\n",
        "\n",
        "from scipy import ndimage\n",
        "\n",
        "vAR_CSLAB_face = misc.face(gray=True)\n",
        "\n",
        "vAR_lx, vAR_ly = vAR_CSLAB_face.shape\n",
        "\n",
        "vAR_crop_face = vAR_CSLAB_face[vAR_lx // 4: - vAR_lx // 4, vAR_ly // 4: - vAR_ly // 4]\n",
        "\n",
        "vAR_CSLAB_flip_ud_face = vAR_np.flipud(vAR_CSLAB_face)\n",
        "\n",
        "vAR_CSLAB_rotate_face = ndimage.rotate(vAR_CSLAB_face, 45)\n",
        "\n",
        "vAR_CSLAB_rotate_face_noreshape = ndimage.rotate(vAR_CSLAB_face, 45, reshape=False)\n",
        "\n",
        "vAR_plt.imshow(vAR_CSLAB_flip_ud_face)\n",
        "\n",
        "# ****************************************************************************************************************************\n",
        "#   Disclaimer.\n",
        "\n",
        "# We are providing this code block strictly for learning and researching, this is not a production\n",
        "# ready code. We have no liability on this particular code under any circumstances; users should use\n",
        "# this code on their own risk. All software, hardware and othr products that are referenced in these \n",
        "# materials belong to the respective vendor who developed or who owns this product.\n",
        "\n",
        "# ****************************************************************************************************************************\n",
        "  "
      ]
    }
  ]
}