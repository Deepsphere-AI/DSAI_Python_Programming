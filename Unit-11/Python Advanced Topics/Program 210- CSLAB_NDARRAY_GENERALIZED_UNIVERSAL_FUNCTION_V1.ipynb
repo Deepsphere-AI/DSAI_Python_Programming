{
  "nbformat": 4,
  "nbformat_minor": 0,
  "metadata": {
    "colab": {
      "provenance": [],
      "authorship_tag": "ABX9TyM2xUbkT+jv9w0CXyNmqfat",
      "include_colab_link": true
    },
    "kernelspec": {
      "name": "python3",
      "display_name": "Python 3"
    },
    "language_info": {
      "name": "python"
    }
  },
  "cells": [
    {
      "cell_type": "markdown",
      "metadata": {
        "id": "view-in-github",
        "colab_type": "text"
      },
      "source": [
        "<a href=\"https://colab.research.google.com/github/Deepsphere-AI/DSAI_Python_Programming/blob/main/Unit-11/Python%20Advanced%20Topics/Program%20210-%20CSLAB_NDARRAY_GENERALIZED_UNIVERSAL_FUNCTION_V1.ipynb\" target=\"_parent\"><img src=\"https://colab.research.google.com/assets/colab-badge.svg\" alt=\"Open In Colab\"/></a>"
      ]
    },
    {
      "cell_type": "code",
      "execution_count": null,
      "metadata": {
        "id": "D8Sj23CaPg0K"
      },
      "outputs": [],
      "source": [
        "\n",
        "# *********************************************************************************************************************\n",
        "  \n",
        "  # File Name \t:   CSLAB_NDARRAY_GENERALIZED_UNIVERSAL_FUNCTION_V1\n",
        "  # Purpose \t:   A Program in Python for Generalized Universal Function on ndarray \n",
        "  # Author\t:   Deepsphere.ai\n",
        "  # Reviewer \t:   Jothi Periasamy\n",
        "  # Date \t:   10/27/2022\n",
        "  # Version\t:   1.0\t\n",
        "  \n",
        "# ***********************************************************************************************************************\n",
        "\n",
        "## Program Description : Program for Generalized Universal Function on ndarray in Python\n",
        "\n",
        "## Python Development Environment & Runtime - Python, Anaconda\n",
        "\n",
        "import numpy as vAR_np\n",
        "\n",
        "vAR_np.random.seed(0)\n",
        "\n",
        "vAR_CSLAB_theta = vAR_np.linspace(0, vAR_np.pi, 3)\n",
        "\n",
        "print(\"vAR_CSLAB_theta      = \", vAR_CSLAB_theta)\n",
        "\n",
        "print(\"sin(vAR_CSLAB_theta) = \", vAR_np.sin(vAR_CSLAB_theta))\n",
        "\n",
        "print(\"cos(vAR_CSLAB_theta) = \", vAR_np.cos(vAR_CSLAB_theta))\n",
        "\n",
        "print(\"tan(vAR_CSLAB_theta) = \", vAR_np.tan(vAR_CSLAB_theta))\n",
        "\n",
        "# ****************************************************************************************************************************\n",
        "#   Disclaimer.\n",
        "\n",
        "# We are providing this code block strictly for learning and researching, this is not a production\n",
        "# ready code. We have no liability on this particular code under any circumstances; users should use\n",
        "# this code on their own risk. All software, hardware and othr products that are referenced in these \n",
        "# materials belong to the respective vendor who developed or who owns this product.\n",
        "\n",
        "# ****************************************************************************************************************************\n",
        "  "
      ]
    }
  ]
}