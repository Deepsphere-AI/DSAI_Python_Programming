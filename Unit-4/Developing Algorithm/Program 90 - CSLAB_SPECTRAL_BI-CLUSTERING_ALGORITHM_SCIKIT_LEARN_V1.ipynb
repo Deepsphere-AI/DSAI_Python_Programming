{
  "nbformat": 4,
  "nbformat_minor": 0,
  "metadata": {
    "colab": {
      "provenance": [],
      "authorship_tag": "ABX9TyOxK83+bLPdVz+enz2xRWSU",
      "include_colab_link": true
    },
    "kernelspec": {
      "name": "python3",
      "display_name": "Python 3"
    },
    "language_info": {
      "name": "python"
    }
  },
  "cells": [
    {
      "cell_type": "markdown",
      "metadata": {
        "id": "view-in-github",
        "colab_type": "text"
      },
      "source": [
        "<a href=\"https://colab.research.google.com/github/Deepsphere-AI/DSAI_Python_Programming/blob/main/Unit-4/Developing%20Algorithm/Program%2090%20-%20CSLAB_SPECTRAL_BI-CLUSTERING_ALGORITHM_SCIKIT_LEARN_V1.ipynb\" target=\"_parent\"><img src=\"https://colab.research.google.com/assets/colab-badge.svg\" alt=\"Open In Colab\"/></a>"
      ]
    },
    {
      "cell_type": "code",
      "execution_count": null,
      "metadata": {
        "id": "YGbpA3MjB9-f"
      },
      "outputs": [],
      "source": [
        "\n",
        "# *********************************************************************************************************************\n",
        "  \n",
        "  # File Name \t:   CSLAB_SPECTRAL_BI-CLUSTERING_ALGORITHM_SCIKIT_LEARN_V1\n",
        "  # Purpose \t:   A Program in Python for Spectral Bi-Clustering Algorithm Using SCIKIT LEARN\n",
        "  # Author\t:   Deepsphere.ai\n",
        "  # Reviewer \t:   Jothi Periasamy\n",
        "  # Date \t:   10/25/2022\n",
        "  # Version\t:   1.0\t\n",
        "  \n",
        "# ***********************************************************************************************************************\n",
        "\n",
        "## Program Description : Program for Spectral Bi-Clustering Algorithm in Python\n",
        "\n",
        "## Python Development Environment & Runtime - Python, Anaconda\n",
        "\n",
        "import numpy as vAR_np\n",
        "\n",
        "from matplotlib import pyplot as vAR_plt\n",
        "\n",
        "from sklearn.datasets import make_checkerboard\n",
        "\n",
        "from sklearn.datasets import samples_generator as vAR_sg\n",
        "\n",
        "from sklearn.cluster.bicluster import SpectralBiclustering\n",
        "\n",
        "from sklearn.metrics import consensus_score\n",
        "\n",
        "vAR_CSLAB_n_clusters = (4, 3)\n",
        "\n",
        "vAR_CSLAB_data, vAR_CSLAB_rows, vAR_CSLAB_columns = make_checkerboard(\n",
        "    shape=(300, 300), n_clusters=vAR_CSLAB_n_clusters, noise=10,\n",
        "    shuffle=False, random_state=0)\n",
        "\n",
        "vAR_plt.matshow(vAR_CSLAB_data, cmap=vAR_plt.cm.Blues)\n",
        "\n",
        "vAR_plt.title(\"Original dataset\")\n",
        "\n",
        "vAR_CSLAB_data, vAR_CSLAB_row_idx, vAR_CSLAB_col_idx = vAR_sg._shuffle(vAR_CSLAB_data, random_state=0)\n",
        "\n",
        "vAR_plt.matshow(vAR_CSLAB_data, cmap=vAR_plt.cm.Blues)\n",
        "\n",
        "vAR_plt.title(\"Shuffled dataset\")\n",
        "\n",
        "vAR_CSLAB_model = SpectralBiclustering(n_clusters=vAR_CSLAB_n_clusters, method='log',\n",
        "                             random_state=0)\n",
        "\n",
        "vAR_CSLAB_model.fit(vAR_CSLAB_data)\n",
        "\n",
        "vAR_CSLAB_score = consensus_score(vAR_CSLAB_model.biclusters_,\n",
        "                        (vAR_CSLAB_rows[:, vAR_CSLAB_row_idx], vAR_CSLAB_columns[:, vAR_CSLAB_col_idx]))\n",
        "\n",
        "print(\"consensus score: {:.1f}\".format(vAR_CSLAB_score))\n",
        "\n",
        "vAR_CSLAB_fit_data = vAR_CSLAB_data[vAR_np.argsort(vAR_CSLAB_model.row_labels_)]\n",
        " \n",
        "vAR_CSLAB_fit_data = vAR_CSLAB_fit_data[:, vAR_np.argsort(vAR_CSLAB_model.column_labels_)]\n",
        "\n",
        "vAR_plt.matshow(vAR_CSLAB_fit_data, cmap=vAR_plt.cm.Blues)\n",
        "\n",
        "vAR_plt.title(\"After biclustering; rearranged to show biclusters\")\n",
        "\n",
        "vAR_plt.matshow(vAR_np.outer(vAR_np.sort(vAR_CSLAB_model.row_labels_) + 1,\n",
        "                     vAR_np.sort(vAR_CSLAB_model.column_labels_) + 1),\n",
        "            cmap=vAR_plt.cm.Blues)\n",
        "\n",
        "vAR_plt.title(\"Checkerboard structure of rearranged data\")\n",
        "\n",
        "vAR_plt.show()\n",
        "\n",
        "# ****************************************************************************************************************************\n",
        "#   Disclaimer.\n",
        "\n",
        "# We are providing this code block strictly for learning and researching, this is not a production\n",
        "# ready code. We have no liability on this particular code under any circumstances; users should use\n",
        "# this code on their own risk. All software, hardware and othr products that are referenced in these \n",
        "# materials belong to the respective vendor who developed or who owns this product.\n",
        "\n",
        "# ****************************************************************************************************************************\n",
        "   "
      ]
    }
  ]
}