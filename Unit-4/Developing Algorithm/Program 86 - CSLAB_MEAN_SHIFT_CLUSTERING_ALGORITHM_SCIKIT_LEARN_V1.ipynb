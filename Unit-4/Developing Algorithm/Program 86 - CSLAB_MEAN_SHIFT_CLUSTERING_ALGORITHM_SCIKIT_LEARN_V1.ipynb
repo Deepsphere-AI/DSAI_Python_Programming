{
  "nbformat": 4,
  "nbformat_minor": 0,
  "metadata": {
    "colab": {
      "provenance": [],
      "authorship_tag": "ABX9TyOiL09eTZ2XKRXSVk09xsRp",
      "include_colab_link": true
    },
    "kernelspec": {
      "name": "python3",
      "display_name": "Python 3"
    },
    "language_info": {
      "name": "python"
    }
  },
  "cells": [
    {
      "cell_type": "markdown",
      "metadata": {
        "id": "view-in-github",
        "colab_type": "text"
      },
      "source": [
        "<a href=\"https://colab.research.google.com/github/Deepsphere-AI/DSAI_Python_Programming/blob/main/Unit-4/Developing%20Algorithm/Program%2086%20-%20CSLAB_MEAN_SHIFT_CLUSTERING_ALGORITHM_SCIKIT_LEARN_V1.ipynb\" target=\"_parent\"><img src=\"https://colab.research.google.com/assets/colab-badge.svg\" alt=\"Open In Colab\"/></a>"
      ]
    },
    {
      "cell_type": "code",
      "execution_count": null,
      "metadata": {
        "id": "fcDw9dqbtzFQ"
      },
      "outputs": [],
      "source": [
        "\n",
        "# *********************************************************************************************************************\n",
        "  \n",
        "  # File Name \t:   CSLAB_MEAN_SHIFT_CLUSTERING_ALGORITHM_SCIKIT_LEARN_V1\n",
        "  # Purpose \t:   A Program in Python for Mean Shift Clustering Algorithm Using SCIKIT LEARN\n",
        "  # Author\t:  Deepsphere.ai\n",
        "  # Reviewer \t:   Jothi Periasamy\n",
        "  # Date \t:   10/25/2022\n",
        "  # Version\t:   1.0\t\n",
        "\n",
        "# **********************************************************************************************************************\n",
        "\n",
        "## Program Description : Program for Mean Shift Clustering Algorithm in Python\n",
        "\n",
        "## Python Development Environment & Runtime - Python, Anaconda\n",
        "\n",
        "import numpy as vAR_np\n",
        "from sklearn.cluster import MeanShift, estimate_bandwidth\n",
        "from sklearn.datasets.samples_generator import make_blobs\n",
        "\n",
        "vAR_CSLAB_centers = [[1, 1], [-1, -1], [1, -1]]\n",
        "vAR_CSLAB_X, _ = make_blobs(n_samples=10000, centers=vAR_CSLAB_centers, cluster_std=0.6)\n",
        "\n",
        "vAR_CSLAB_bandwidth = estimate_bandwidth(vAR_CSLAB_X, quantile=0.2, n_samples=500)\n",
        "\n",
        "vAR_CSLAB_ms = MeanShift(bandwidth=vAR_CSLAB_bandwidth, bin_seeding=True)\n",
        "\n",
        "vAR_CSLAB_ms.fit(vAR_CSLAB_X)\n",
        "\n",
        "vAR_CSLAB_labels = vAR_CSLAB_ms.labels_\n",
        "\n",
        "vAR_CSLAB_cluster_centers = vAR_CSLAB_ms.cluster_centers_\n",
        "\n",
        "vAR_CSLAB_labels_unique = vAR_np.unique(vAR_CSLAB_labels)\n",
        "\n",
        "vAR_CSLAB_n_clusters_ = len(vAR_CSLAB_labels_unique)\n",
        "\n",
        "print(\"number of estimated clusters : %d\" % vAR_CSLAB_n_clusters_)\n",
        "\n",
        "import matplotlib.pyplot as vAR_plt\n",
        "\n",
        "from itertools import cycle\n",
        "\n",
        "vAR_plt.figure(1)\n",
        "\n",
        "vAR_plt.clf()\n",
        "\n",
        "vAR_CSLAB_colors = cycle('bgrcmykbgrcmykbgrcmykbgrcmyk')\n",
        "\n",
        "vAR_CSLAB_k = 3\n",
        "    \n",
        "vAR_CSLAB_my_members = vAR_CSLAB_labels == vAR_CSLAB_k\n",
        "\n",
        "for vAR_CSLAB_k, col in zip(range(vAR_CSLAB_n_clusters_), vAR_CSLAB_colors):\n",
        "    \n",
        "    vAR_CSLAB_my_members = vAR_CSLAB_labels == vAR_CSLAB_k\n",
        "    \n",
        "    vAR_CSLAB_cluster_center = vAR_CSLAB_cluster_centers\n",
        "    \n",
        "    vAR_plt.plot(vAR_CSLAB_X[vAR_CSLAB_my_members, 0], vAR_CSLAB_X[vAR_CSLAB_my_members, 1], col + '.')\n",
        "    \n",
        "    vAR_plt.plot(vAR_CSLAB_cluster_center[0], vAR_CSLAB_cluster_center[1], 'o', markerfacecolor=col,\n",
        "             markeredgecolor='k', markersize=14)\n",
        "\n",
        "vAR_plt.title('Estimated number of clusters: %d' % vAR_CSLAB_n_clusters_)\n",
        "\n",
        "vAR_plt.show()\n",
        "\n",
        "\n",
        " \n",
        "# ****************************************************************************************************************************\n",
        "#   Disclaimer.\n",
        "\n",
        "# We are providing this code block strictly for learning and researching, this is not a production\n",
        "# ready code. We have no liability on this particular code under any circumstances; users should use\n",
        "# this code on their own risk. All software, hardware and othr products that are referenced in these \n",
        "# materials belong to the respective vendor who developed or who owns this product.\n",
        "\n",
        "# ****************************************************************************************************************************\n",
        "   "
      ]
    }
  ]
}