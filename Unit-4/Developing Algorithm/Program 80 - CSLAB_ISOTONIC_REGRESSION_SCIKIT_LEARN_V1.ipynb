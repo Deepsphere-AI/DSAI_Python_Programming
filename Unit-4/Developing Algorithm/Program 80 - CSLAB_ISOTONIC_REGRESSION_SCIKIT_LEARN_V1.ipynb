{
  "nbformat": 4,
  "nbformat_minor": 0,
  "metadata": {
    "colab": {
      "provenance": [],
      "authorship_tag": "ABX9TyN82F4DyXSsybhaf4jRJuGe",
      "include_colab_link": true
    },
    "kernelspec": {
      "name": "python3",
      "display_name": "Python 3"
    },
    "language_info": {
      "name": "python"
    }
  },
  "cells": [
    {
      "cell_type": "markdown",
      "metadata": {
        "id": "view-in-github",
        "colab_type": "text"
      },
      "source": [
        "<a href=\"https://colab.research.google.com/github/Deepsphere-AI/DSAI_Python_Programming/blob/main/Unit-4/Developing%20Algorithm/Program%2080%20-%20CSLAB_ISOTONIC_REGRESSION_SCIKIT_LEARN_V1.ipynb\" target=\"_parent\"><img src=\"https://colab.research.google.com/assets/colab-badge.svg\" alt=\"Open In Colab\"/></a>"
      ]
    },
    {
      "cell_type": "code",
      "execution_count": null,
      "metadata": {
        "id": "qVUxyb_Lnd3r"
      },
      "outputs": [],
      "source": [
        "\n",
        "# *********************************************************************************************************************\n",
        "  \n",
        "  # File Name \t:   CSLAB_ISOTONIC_REGRESSION_SCIKIT_LEARN_V1\n",
        "  # Purpose \t:   A Program in Python for Isotonic Regression Using SCIKIT LEARN\n",
        "  # Author\t:   Deepsphere.ai\n",
        "  # Reviewer \t:   Jothi Periasamy\n",
        "  # Date \t:   10/25/2022\n",
        "  # Version\t:   1.0\t\n",
        " \n",
        "# ***********************************************************************************************************************\n",
        "\n",
        "## Program Description : Program for Isotonic Regression  in Python\n",
        "\n",
        "## Python Development Environment & Runtime - Python, Anaconda\n",
        "\n",
        "import numpy as vAR_np\n",
        "\n",
        "import matplotlib.pyplot as vAR_plt\n",
        "\n",
        "from matplotlib.collections import LineCollection\n",
        "\n",
        "from sklearn.linear_model import LinearRegression\n",
        "\n",
        "from sklearn.isotonic import IsotonicRegression\n",
        "\n",
        "from sklearn.utils import check_random_state\n",
        "\n",
        "vAR_CSLAB_n = 100\n",
        "\n",
        "vAR_CSLAB_x = vAR_np.arange(n)\n",
        "\n",
        "vAR_CSLAB_rs = check_random_state(0)\n",
        "\n",
        "vAR_CSLAB_y = vAR_CSLAB_rs.randint(-50, 50, size=(n,)) + 50. * vAR_np.log(1 + vAR_np.arange(n))\n",
        "\n",
        "# Fit IsotonicRegression and LinearRegression models\n",
        "\n",
        "vAR_CSLAB_ir = IsotonicRegression()\n",
        "\n",
        "vAR_CSLAB_y_ = vAR_CSLAB_ir.fit_transform(vAR_CSLAB_x, vAR_CSLAB_y)\n",
        "\n",
        "vAR_CSLAB_lr = LinearRegression()\n",
        "\n",
        "vAR_CSLAB_lr.fit(vAR_CSLAB_x[:, vAR_np.newaxis], vAR_CSLAB_y)  # x needs to be 2d for LinearRegression\n",
        "\n",
        "# plot result\n",
        "\n",
        "vAR_CSLAB_segments = [[[i, vAR_CSLAB_y[i]], [i, vAR_CSLAB_y_[i]]] for i in range(vAR_CSLAB_n)]\n",
        "\n",
        "vAR_CSLAB_lc = LineCollection(vAR_CSLAB_segments, zorder=0)\n",
        "\n",
        "vAR_CSLAB_lc.set_array(vAR_np.ones(len(vAR_CSLAB_y)))\n",
        "  \n",
        "vAR_CSLAB_lc.set_linewidths(0.5 * vAR_np.ones(vAR_CSLAB_n))\n",
        "\n",
        "vAR_CSLAB_fig = vAR_plt.figure()\n",
        "\n",
        "vAR_plt.plot(vAR_CSLAB_x, vAR_CSLAB_y, 'r.', markersize=12)\n",
        "\n",
        "vAR_plt.plot(vAR_CSLAB_x, vAR_CSLAB_y_, 'g.-', markersize=12)\n",
        "\n",
        "vAR_plt.plot(x, lr.predict(x[:, np.newaxis]), 'b-')\n",
        "\n",
        "vAR_plt.gca().add_collection(vAR_CSLAB_lc)\n",
        "\n",
        "vAR_plt.legend(('Data', 'Isotonic Fit', 'Linear Fit'), loc='lower right')\n",
        "\n",
        "vAR_plt.title('Isotonic regression')\n",
        "\n",
        "vAR_plt.show()\n",
        "\n",
        "# ****************************************************************************************************************************\n",
        "#   Disclaimer.\n",
        "\n",
        "# We are providing this code block strictly for learning and researching, this is not a production\n",
        "# ready code. We have no liability on this particular code under any circumstances; users should use\n",
        "# this code on their own risk. All software, hardware and othr products that are referenced in these \n",
        "# materials belong to the respective vendor who developed or who owns this product.\n",
        "\n",
        "# ****************************************************************************************************************************\n",
        "   "
      ]
    }
  ]
}