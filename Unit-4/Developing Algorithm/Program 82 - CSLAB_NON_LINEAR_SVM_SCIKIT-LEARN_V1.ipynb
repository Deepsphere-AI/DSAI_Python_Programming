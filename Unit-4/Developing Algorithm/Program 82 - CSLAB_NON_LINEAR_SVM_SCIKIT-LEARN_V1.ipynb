{
  "nbformat": 4,
  "nbformat_minor": 0,
  "metadata": {
    "colab": {
      "provenance": [],
      "authorship_tag": "ABX9TyNWDqVwWA03tMHf1pedGAIG",
      "include_colab_link": true
    },
    "kernelspec": {
      "name": "python3",
      "display_name": "Python 3"
    },
    "language_info": {
      "name": "python"
    }
  },
  "cells": [
    {
      "cell_type": "markdown",
      "metadata": {
        "id": "view-in-github",
        "colab_type": "text"
      },
      "source": [
        "<a href=\"https://colab.research.google.com/github/Deepsphere-AI/DSAI_Python_Programming/blob/main/Unit-4/Developing%20Algorithm/Program%2082%20-%20CSLAB_NON_LINEAR_SVM_SCIKIT-LEARN_V1.ipynb\" target=\"_parent\"><img src=\"https://colab.research.google.com/assets/colab-badge.svg\" alt=\"Open In Colab\"/></a>"
      ]
    },
    {
      "cell_type": "code",
      "execution_count": null,
      "metadata": {
        "id": "lSKFMQikrNxI"
      },
      "outputs": [],
      "source": [
        "\n",
        "# *********************************************************************************************************************\n",
        "  \n",
        "  # File Name \t:   CSLAB_NON_LINEAR_SVM_SCIKIT-LEARN_V1\n",
        "  # Purpose \t:   A Program in Python for Non Linear SVM using SCIKIT-LEARN\n",
        "  # Author\t:   Deepsphere.ai\n",
        "  # Reviewer \t:   Jothi Periasamy\n",
        "  # Date \t:   10/25/2022\n",
        "  # Version\t:   1.0\t\n",
        "  \n",
        "# ***********************************************************************************************************************\n",
        "  \n",
        "## Program Description : Program for Non Linear SVM in Python\n",
        "\n",
        "## Python Development Environment & Runtime - Python, Anaconda\n",
        "\n",
        "import numpy as vAR_np\n",
        "\n",
        "import matplotlib.pyplot as vAR_plt\n",
        "\n",
        "from sklearn import svm\n",
        "\n",
        "vAR_CSLAB_xx, vAR_CSLAB_yy = vAR_np.meshgrid(vAR_np.linspace(-3, 3, 500),\n",
        "                     vAR_np.linspace(-3, 3, 500))\n",
        "\n",
        "vAR_np.random.seed(0)\n",
        "\n",
        "vAR_CSLAB_X = vAR_np.random.randn(300, 2)\n",
        "\n",
        "vAR_CSLAB_Y = vAR_np.logical_xor(X[:, 0] > 0, X[:, 1] > 0)\n",
        "\n",
        "# fit the model\n",
        "\n",
        "vAR_CSLAB_clf = svm.NuSVC()\n",
        "\n",
        "vAR_CSLAB_clf.fit(X, Y)\n",
        "\n",
        "# plot the decision function for each datapoint on the grid\n",
        "\n",
        "vAR_CSLAB_Z = vAR_CSLAB_clf.decision_function(vAR_np.c_[vAR_CSLAB_xx.ravel(), vAR_CSLAB_yy.ravel()])\n",
        "\n",
        "vAR_CSLAB_Z = vAR_CSLAB_Z.reshape(vAR_CSLAB_xx.shape)\n",
        "\n",
        "vAR_plt.imshow(vAR_CSLAB_Z, interpolation='nearest',\n",
        "           extent=(vAR_CSLAB_xx.min(), vAR_CSLAB_xx.max(), vAR_CSLAB_yy.min(), vAR_CSLAB_yy.max()), aspect='auto',\n",
        "           origin='lower', cmap=plt.cm.PuOr_r)\n",
        "\n",
        "vAR_CSLAB_contours = vAR_plt.contour(vAR_CSLAB_xx, vAR_CSLAB_yy, vAR_CSLAB_Z, levels=[0], linewidths=2,\n",
        "                       linetypes='--')\n",
        "  \n",
        "vAR_plt.scatter(vAR_CSLAB_X[:, 0], vAR_CSLAB_X[:, 1], s=30, c=vAR_CSLAB_Y, cmap=vAR_plt.cm.Paired)\n",
        "\n",
        "vAR_plt.xticks(())\n",
        "\n",
        "vAR_plt.yticks(())\n",
        "\n",
        "vAR_plt.axis([-3, 3, -3, 3])\n",
        "\n",
        "vAR_plt.show()\n",
        "\n",
        "# ****************************************************************************************************************************\n",
        "#   Disclaimer.\n",
        "\n",
        "# We are providing this code block strictly for learning and researching, this is not a production\n",
        "# ready code. We have no liability on this particular code under any circumstances; users should use\n",
        "# this code on their own risk. All software, hardware and othr products that are referenced in these \n",
        "# materials belong to the respective vendor who developed or who owns this product.\n",
        "\n",
        "# ****************************************************************************************************************************\n",
        "  "
      ]
    }
  ]
}