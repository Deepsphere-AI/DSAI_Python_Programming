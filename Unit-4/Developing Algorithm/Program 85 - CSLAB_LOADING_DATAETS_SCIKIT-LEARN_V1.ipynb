{
  "nbformat": 4,
  "nbformat_minor": 0,
  "metadata": {
    "colab": {
      "provenance": [],
      "authorship_tag": "ABX9TyNKM3a+F8t/AtxFmGBGquyM",
      "include_colab_link": true
    },
    "kernelspec": {
      "name": "python3",
      "display_name": "Python 3"
    },
    "language_info": {
      "name": "python"
    }
  },
  "cells": [
    {
      "cell_type": "markdown",
      "metadata": {
        "id": "view-in-github",
        "colab_type": "text"
      },
      "source": [
        "<a href=\"https://colab.research.google.com/github/Deepsphere-AI/DSAI_Python_Programming/blob/main/Unit-4/Developing%20Algorithm/Program%2085%20-%20CSLAB_LOADING_DATAETS_SCIKIT-LEARN_V1.ipynb\" target=\"_parent\"><img src=\"https://colab.research.google.com/assets/colab-badge.svg\" alt=\"Open In Colab\"/></a>"
      ]
    },
    {
      "cell_type": "code",
      "execution_count": null,
      "metadata": {
        "id": "n0sNC6tKtRSe"
      },
      "outputs": [],
      "source": [
        "\n",
        "# *********************************************************************************************************************\n",
        "  \n",
        "  # File Name \t:   CSLAB_LOADING_DATAETS_SCIKIT-LEARN_V1\n",
        "  # Purpose \t:   A Program in Python for Loading a Dataset using SCIKIT-LEARN\n",
        "  # Author\t:   Deepsphere.ai\n",
        "  # Reviewer \t:   Jothi Periasamy\n",
        "  # Date \t:   10/25/2022\n",
        "  # Version\t:   1.0\t\n",
        " \n",
        "# ***********************************************************************************************************************\n",
        "  \n",
        "## Program Description : Program for Loading a Dataset in Python\n",
        "\n",
        "## Python Development Environment & Runtime - Python, Anaconda\n",
        "\n",
        "from sklearn import datasets\n",
        "\n",
        "vAR_CSLAB_iris = datasets.load_iris()\n",
        "\n",
        "vAR_CSLAB_digits = datasets.load_digits()\n",
        "\n",
        "print(vAR_CSLAB_digits.data) \n",
        "\n",
        "vAR_CSLAB_digits.target\n",
        "\n",
        "# ****************************************************************************************************************************\n",
        "#   Disclaimer.\n",
        "\n",
        "# We are providing this code block strictly for learning and researching, this is not a production\n",
        "# ready code. We have no liability on this particular code under any circumstances; users should use\n",
        "# this code on their own risk. All software, hardware and othr products that are referenced in these \n",
        "# materials belong to the respective vendor who developed or who owns this product.\n",
        "\n",
        "# ****************************************************************************************************************************\n",
        "  "
      ]
    }
  ]
}