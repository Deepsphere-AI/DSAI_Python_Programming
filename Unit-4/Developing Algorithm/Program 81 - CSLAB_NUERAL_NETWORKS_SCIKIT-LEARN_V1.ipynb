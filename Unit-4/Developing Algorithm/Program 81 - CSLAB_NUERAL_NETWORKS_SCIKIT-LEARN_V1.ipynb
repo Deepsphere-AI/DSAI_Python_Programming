{
  "nbformat": 4,
  "nbformat_minor": 0,
  "metadata": {
    "colab": {
      "provenance": [],
      "authorship_tag": "ABX9TyO7wU/3SWhpuvHqDfTXV3f1",
      "include_colab_link": true
    },
    "kernelspec": {
      "name": "python3",
      "display_name": "Python 3"
    },
    "language_info": {
      "name": "python"
    }
  },
  "cells": [
    {
      "cell_type": "markdown",
      "metadata": {
        "id": "view-in-github",
        "colab_type": "text"
      },
      "source": [
        "<a href=\"https://colab.research.google.com/github/Deepsphere-AI/DSAI_Python_Programming/blob/main/Unit-4/Developing%20Algorithm/Program%2081%20-%20CSLAB_NUERAL_NETWORKS_SCIKIT-LEARN_V1.ipynb\" target=\"_parent\"><img src=\"https://colab.research.google.com/assets/colab-badge.svg\" alt=\"Open In Colab\"/></a>"
      ]
    },
    {
      "cell_type": "code",
      "execution_count": null,
      "metadata": {
        "id": "JQRqZTAKqnjv"
      },
      "outputs": [],
      "source": [
        "\n",
        "# *********************************************************************************************************************\n",
        "  \n",
        "  # File Name \t:   CSLAB_NUERAL_NETWORKS_SCIKIT-LEARN_V1\n",
        "  # Purpose \t:   A Program in Python for Nueral Networks using SCIKIT-LEARN\n",
        "  # Author\t:   Deepsphere.ai\n",
        "  # Reviewer \t:   Jothi Periasamy\n",
        "  # Date \t:   10/25/2022\n",
        "  # Version\t:   1.0\t\n",
        "  \n",
        "# ***********************************************************************************************************************\n",
        "  \n",
        "## Program Description : Program for Nueral Networks in Python\n",
        "\n",
        "## Python Development Environment & Runtime - Python, Anaconda\n",
        "\n",
        "from sklearn.neural_network import MLPClassifier\n",
        "\n",
        "vAR_CSLAB_X = [[0., 0.], [1., 1.]]\n",
        "\n",
        "vAR_CSLAB_y = [0, 1]\n",
        "\n",
        "vAR_CSLAB_clf = MLPClassifier(solver='lbfgs', alpha=1e-5,\n",
        "                     hidden_layer_sizes=(5, 2), random_state=1)\n",
        "\n",
        "vAR_CSLAB_clf.fit(vAR_CSLAB_X, vAR_CSLAB_y)\n",
        "\n",
        "vAR_CSLAB_clf.predict([[2., 2.], [-1., -2.]])\n",
        "\n",
        "vAR_CSLAB_clf.predict_proba([[2., 2.], [1., 2.]])  \n",
        "\n",
        "vAR_CSLAB_X = [[0., 0.], [1., 1.]]\n",
        "\n",
        "vAR_CSLAB_y = [[0, 1], [1, 1]]\n",
        "\n",
        "vAR_CSLAB_clf = MLPClassifier(solver='lbfgs', alpha=1e-5,\n",
        "                     hidden_layer_sizes=(15,), random_state=1)\n",
        "\n",
        "vAR_CSLAB_clf.fit(vAR_CSLAB_X, vAR_CSLAB_y)\n",
        "\n",
        "vAR_CSLAB_clf.predict([[1., 2.]])\n",
        "        \n",
        "\n",
        "# ****************************************************************************************************************************\n",
        "#   Disclaimer.\n",
        "\n",
        "# We are providing this code block strictly for learning and researching, this is not a production\n",
        "# ready code. We have no liability on this particular code under any circumstances; users should use\n",
        "# this code on their own risk. All software, hardware and othr products that are referenced in these \n",
        "# materials belong to the respective vendor who developed or who owns this product.\n",
        "\n",
        "# ****************************************************************************************************************************\n",
        "  "
      ]
    }
  ]
}