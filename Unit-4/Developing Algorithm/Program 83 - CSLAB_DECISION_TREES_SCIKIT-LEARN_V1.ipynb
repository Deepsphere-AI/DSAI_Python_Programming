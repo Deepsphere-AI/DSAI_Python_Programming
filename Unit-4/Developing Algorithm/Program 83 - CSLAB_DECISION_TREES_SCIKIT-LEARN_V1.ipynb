{
  "nbformat": 4,
  "nbformat_minor": 0,
  "metadata": {
    "colab": {
      "provenance": [],
      "authorship_tag": "ABX9TyPdX5vRBxUG98Ztj3+3tFT4",
      "include_colab_link": true
    },
    "kernelspec": {
      "name": "python3",
      "display_name": "Python 3"
    },
    "language_info": {
      "name": "python"
    }
  },
  "cells": [
    {
      "cell_type": "markdown",
      "metadata": {
        "id": "view-in-github",
        "colab_type": "text"
      },
      "source": [
        "<a href=\"https://colab.research.google.com/github/Deepsphere-AI/DSAI_Python_Programming/blob/main/Unit-4/Developing%20Algorithm/Program%2083%20-%20CSLAB_DECISION_TREES_SCIKIT-LEARN_V1.ipynb\" target=\"_parent\"><img src=\"https://colab.research.google.com/assets/colab-badge.svg\" alt=\"Open In Colab\"/></a>"
      ]
    },
    {
      "cell_type": "code",
      "execution_count": null,
      "metadata": {
        "id": "zO_AwmlGrzQh"
      },
      "outputs": [],
      "source": [
        "\n",
        "# *********************************************************************************************************************\n",
        "  \n",
        "  # File Name \t:   CSLAB_DECISION_TREES_SCIKIT-LEARN_V1\n",
        "  # Purpose \t:   A Program in Python for Decision Trees using SCIKIT-LEARN\n",
        "  # Author\t:   Deepsphere.ai\n",
        "  # Reviewer \t:   Jothi Periasamy\n",
        "  # Date \t:   10/25/2022\n",
        "  # Version\t:   1.0\t\n",
        "  \n",
        "# ***********************************************************************************************************************\n",
        "  \n",
        "## Program Description : Program for Decision Trees in Python\n",
        "\n",
        "## Python Development Environment & Runtime - Python, Anaconda\n",
        "\n",
        "import numpy as vAR_np\n",
        "\n",
        "import matplotlib.pyplot as vAR_plt\n",
        "\n",
        "from sklearn.datasets import load_iris\n",
        "\n",
        "from sklearn.tree import DecisionTreeRegressor\n",
        "\n",
        "vAR_CSLAB_iris = load_iris()\n",
        "\n",
        "# Create a random dataset\n",
        "\n",
        "vAR_CSLAB_rng = vAR_np.random.RandomState(1)\n",
        "\n",
        "vAR_CSLAB_X = vAR_np.sort(200 * vAR_CSLAB_rng.rand(100, 1) - 100, axis=0)\n",
        "\n",
        "vAR_CSLAB_y = vAR_np.array([vAR_np.pi * vAR_np.sin(X).ravel(), vAR_np.pi * vAR_np.cos(X).ravel()]).T\n",
        "\n",
        "#vAR_CSLAB_y[::5, :] += (0.5 - vAR_CSLAB_rng.rand(20, 2))\n",
        "\n",
        "# Fit regression model\n",
        "\n",
        "vAR_CSLAB_clf_1 = DecisionTreeRegressor(max_depth=2)\n",
        "\n",
        "vAR_CSLAB_clf_2 = DecisionTreeRegressor(max_depth=5)\n",
        "\n",
        "vAR_CSLAB_clf_3 = DecisionTreeRegressor(max_depth=8)\n",
        "\n",
        "vAR_CSLAB_clf_1.fit(vAR_CSLAB_iris.data, vAR_CSLAB_iris.target)\n",
        "\n",
        "vAR_CSLAB_clf_2.fit(vAR_CSLAB_iris.data, vAR_CSLAB_iris.target)\n",
        "\n",
        "vAR_CSLAB_clf_3.fit(vAR_CSLAB_iris.data, vAR_CSLAB_iris.target)\n",
        "\n",
        "# Predict\n",
        "\n",
        "vAR_CSLAB_y_1 = vAR_CSLAB_clf_1.predict(vAR_CSLAB_iris.data[:50])\n",
        "\n",
        "vAR_CSLAB_y_2 = vAR_CSLAB_clf_2.predict(vAR_CSLAB_iris.data[:50])\n",
        "\n",
        "vAR_CSLAB_y_3 = vAR_CSLAB_clf_3.predict(vAR_CSLAB_iris.data[:50])\n",
        "\n",
        "print(vAR_CSLAB_y_1)\n",
        "\n",
        "print(vAR_CSLAB_y_2)\n",
        "\n",
        "print(vAR_CSLAB_y_3)\n",
        "\n",
        "# ****************************************************************************************************************************\n",
        "#   Disclaimer.\n",
        "\n",
        "# We are providing this code block strictly for learning and researching, this is not a production\n",
        "# ready code. We have no liability on this particular code under any circumstances; users should use\n",
        "# this code on their own risk. All software, hardware and othr products that are referenced in these \n",
        "# materials belong to the respective vendor who developed or who owns this product.\n",
        "\n",
        "# ****************************************************************************************************************************\n",
        "  "
      ]
    }
  ]
}