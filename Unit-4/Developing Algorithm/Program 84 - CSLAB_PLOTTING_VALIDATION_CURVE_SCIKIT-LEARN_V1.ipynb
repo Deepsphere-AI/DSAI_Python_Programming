{
  "nbformat": 4,
  "nbformat_minor": 0,
  "metadata": {
    "colab": {
      "provenance": [],
      "authorship_tag": "ABX9TyNbU2sUpu5TD+bylNI5TCWx",
      "include_colab_link": true
    },
    "kernelspec": {
      "name": "python3",
      "display_name": "Python 3"
    },
    "language_info": {
      "name": "python"
    }
  },
  "cells": [
    {
      "cell_type": "markdown",
      "metadata": {
        "id": "view-in-github",
        "colab_type": "text"
      },
      "source": [
        "<a href=\"https://colab.research.google.com/github/Deepsphere-AI/DSAI_Python_Programming/blob/main/Unit-4/Developing%20Algorithm/Program%2084%20-%20CSLAB_PLOTTING_VALIDATION_CURVE_SCIKIT-LEARN_V1.ipynb\" target=\"_parent\"><img src=\"https://colab.research.google.com/assets/colab-badge.svg\" alt=\"Open In Colab\"/></a>"
      ]
    },
    {
      "cell_type": "code",
      "execution_count": null,
      "metadata": {
        "id": "PJUO34s0ssMo"
      },
      "outputs": [],
      "source": [
        "\n",
        "# *********************************************************************************************************************\n",
        "  \n",
        "  # File Name \t:   CSLAB_PLOTTING_VALIDATION_CURVE_SCIKIT-LEARN_V1\n",
        "  # Purpose \t:   A Program in Python for Plotting Validation Curve using SCIKIT-LEARN\n",
        "  # Author\t:   Deepsphere.ai\n",
        "  # Reviewer \t:   Jothi Periasamy\n",
        "  # Date \t:   10/25/2022\n",
        "  # Version\t:   1.0\t\n",
        "  \n",
        "# ***********************************************************************************************************************\n",
        "  \n",
        "## Program Description : Program for Plotting Validation Curve in Python\n",
        "\n",
        "## Python Development Environment & Runtime - Python, Anaconda\n",
        "\n",
        "import matplotlib.pyplot as plt\n",
        "\n",
        "import numpy as np\n",
        "\n",
        "from sklearn.datasets import load_digits\n",
        "\n",
        "from sklearn.svm import SVC\n",
        "\n",
        "from sklearn.learning_curve import validation_curve\n",
        "\n",
        "vAR_CSLAB_digits = load_digits()\n",
        "\n",
        "vAR_CSLAB_X, vAR_CSLAB_y = vAR_CSLAB_digits.data, vAR_CSLAB_digits.target\n",
        "\n",
        "vAR_CSLAB_param_range = vAR_np.logspace(-6, -1, 5)\n",
        "\n",
        "vAR_CSLAB_train_scores, vAR_CSLAB_test_scores = validation_curve(\n",
        "    \n",
        "  SVC(), vAR_CSLAB_X, vAR_CSLAB_y, param_name=\"gamma\", param_range=vAR_CSLAB_param_range,\n",
        "    \n",
        "  cv=10, scoring=\"accuracy\", n_jobs=1)\n",
        "\n",
        "vAR_CSLAB_train_scores_mean = vAR_np.mean(vAR_CSLAB_train_scores, axis=1)\n",
        "\n",
        "vAR_CSLAB_train_scores_std = vAR_np.std(vAR_CSLAB_train_scores, axis=1)\n",
        "\n",
        "vAR_CSLAB_test_scores_mean = vAR_np.mean(vAR_CSLAB_test_scores, axis=1)\n",
        "\n",
        "vAR_CSLAB_test_scores_std = vAR_np.std(vAR_CSLAB_test_scores, axis=1)\n",
        "\n",
        "vAR_plt.title(\"Validation Curve with SVM\")\n",
        "\n",
        "vAR_plt.xlabel(\"$\\gamma$\")\n",
        " \n",
        "vAR_plt.ylabel(\"Score\")\n",
        "\n",
        "vAR_plt.ylim(0.0, 1.1)\n",
        "\n",
        "vAR_plt.semilogx(vAR_CSLAB_param_range, vAR_CSLAB_train_scores_mean, label=\"Training score\", color=\"r\")\n",
        "\n",
        "vAR_plt.fill_between(vAR_CSLAB_param_range, vAR_CSLAB_train_scores_mean - vAR_CSLAB_train_scores_std,\n",
        "                 vAR_CSLAB_train_scores_mean + vAR_CSLAB_train_scores_std, alpha=0.2, color=\"r\")\n",
        "  \n",
        "vAR_plt.semilogx(vAR_CSLAB_param_range, vAR_CSLAB_test_scores_mean, label=\"Cross-validation score\",\n",
        "             color=\"g\")\n",
        "\n",
        "vAR_plt.fill_between(vAR_CSLAB_param_range, vAR_CSLAB_test_scores_mean - vAR_CSLAB_test_scores_std,\n",
        "                 vAR_CSLAB_test_scores_mean + vAR_CSLAB_test_scores_std, alpha=0.2, color=\"g\")\n",
        " \n",
        "vAR_plt.legend(loc=\"best\")\n",
        "\n",
        "vAR_plt.show()\n",
        "\n",
        "# ****************************************************************************************************************************\n",
        "#   Disclaimer.\n",
        "\n",
        "# We are providing this code block strictly for learning and researching, this is not a production\n",
        "# ready code. We have no liability on this particular code under any circumstances; users should use\n",
        "# this code on their own risk. All software, hardware and othr products that are referenced in these \n",
        "# materials belong to the respective vendor who developed or who owns this product.\n",
        "\n",
        "# ****************************************************************************************************************************\n",
        "  "
      ]
    }
  ]
}