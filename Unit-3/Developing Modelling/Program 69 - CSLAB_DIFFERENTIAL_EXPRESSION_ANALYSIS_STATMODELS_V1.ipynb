{
  "nbformat": 4,
  "nbformat_minor": 0,
  "metadata": {
    "colab": {
      "provenance": [],
      "authorship_tag": "ABX9TyOwQs0OcGwSI7ESjmoL+XPS",
      "include_colab_link": true
    },
    "kernelspec": {
      "name": "python3",
      "display_name": "Python 3"
    },
    "language_info": {
      "name": "python"
    }
  },
  "cells": [
    {
      "cell_type": "markdown",
      "metadata": {
        "id": "view-in-github",
        "colab_type": "text"
      },
      "source": [
        "<a href=\"https://colab.research.google.com/github/Deepsphere-AI/DSAI_Python_Programming/blob/main/Unit-3/Developing%20Modelling/Program%2069%20-%20CSLAB_DIFFERENTIAL_EXPRESSION_ANALYSIS_STATMODELS_V1.ipynb\" target=\"_parent\"><img src=\"https://colab.research.google.com/assets/colab-badge.svg\" alt=\"Open In Colab\"/></a>"
      ]
    },
    {
      "cell_type": "code",
      "execution_count": null,
      "metadata": {
        "id": "iURVhRebLllP"
      },
      "outputs": [],
      "source": [
        "\n",
        "# *********************************************************************************************************************\n",
        "  \n",
        "  # File Name \t:   CSLAB_DIFFERENTIAL_EXPRESSION_ANALYSIS_V1\n",
        "  # Purpose \t:   A Program in Python for Differential Expression Analysis using SNS Package\n",
        "  # Author\t:   Deepsphere.ai\n",
        "  # Reviewer \t:   Jothi Periasamy\n",
        "  # Date \t:   10/25/2022\n",
        "  # Version\t:   1.0\t\n",
        "  \n",
        "# ***********************************************************************************************************************\n",
        "\n",
        "## Program Description : Program for Differential Expression Analysis using SNS Package in Python\n",
        "\n",
        "## Python Development Environment & Runtime - Python, Anaconda\n",
        "\n",
        "import numpy as vAR_np\n",
        "\n",
        "import pandas as vAR_pd\n",
        "\n",
        "import seaborn as vAR_sns\n",
        "\n",
        "import matplotlib.pyplot as vAR_plt\n",
        "\n",
        "import os\n",
        "\n",
        "vAR_INI_File_Path = os.environ.get('PYTHON_TUTORIAL')\n",
        "\n",
        "import pandas as vAR_pd\n",
        "\n",
        "import configparser\n",
        "\n",
        "import pandas as vAR_pd\n",
        "\n",
        "vAR_Config = configparser.ConfigParser(allow_no_value=True)\n",
        "\n",
        "vAR_Config.read(vAR_INI_File_Path)\n",
        "\n",
        "vAR_CSLAB_AMV1 = vAR_Config['Data File Path']['vAR_CSLAB_PROGRAM_69_AMV1'] \n",
        "\n",
        "vAR_CSLAB_AMV1 = vAR_CSLAB_AMV1\n",
        "\n",
        "vAR_CSLAB_AMV1 = vAR_pd.read_csv(vAR_CSLAB_AMV1)\n",
        "\n",
        "vAR_CSLAB_AMV2 = vAR_Config['Data File Path']['vAR_CSLAB_PROGRAM_69_AMV2'] \n",
        "\n",
        "vAR_CSLAB_AMV2 = vAR_CSLAB_AMV2\n",
        "\n",
        "vAR_CSLAB_AMV2 = vAR_pd.read_csv(vAR_CSLAB_AMV2)\n",
        "\n",
        "vAR_CSLAB_AMV1.replace(['A','P','M'],['1','2','3'],inplace=True)\n",
        "\n",
        "vAR_CSLAB_AMV2.replace(['A','P','M'],['1','2','3'],inplace=True)\n",
        "\n",
        "vAR_sns.heatmap(vAR_CSLAB_AMV1.corr()) \n",
        "\n",
        "vAR_plt.figure(figsize=(18,12)) \n",
        "\n",
        "#vAR_plt.show()\n",
        "\n",
        "\n",
        "# ****************************************************************************************************************************\n",
        "#   Disclaimer.\n",
        "\n",
        "# We are providing this code block strictly for learning and researching, this is not a production\n",
        "# ready code. We have no liability on this particular code under any circumstances; users should use\n",
        "# this code on their own risk. All software, hardware and othr products that are referenced in these \n",
        "# materials belong to the respective vendor who developed or who owns this product.\n",
        "\n",
        "# ****************************************************************************************************************************\n",
        "  "
      ]
    }
  ]
}