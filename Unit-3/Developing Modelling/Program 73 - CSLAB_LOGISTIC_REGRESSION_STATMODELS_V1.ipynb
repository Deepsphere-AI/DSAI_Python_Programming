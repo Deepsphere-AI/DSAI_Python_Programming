{
  "nbformat": 4,
  "nbformat_minor": 0,
  "metadata": {
    "colab": {
      "provenance": [],
      "authorship_tag": "ABX9TyM6XWZq17jG5zysKqLHL8q+",
      "include_colab_link": true
    },
    "kernelspec": {
      "name": "python3",
      "display_name": "Python 3"
    },
    "language_info": {
      "name": "python"
    }
  },
  "cells": [
    {
      "cell_type": "markdown",
      "metadata": {
        "id": "view-in-github",
        "colab_type": "text"
      },
      "source": [
        "<a href=\"https://colab.research.google.com/github/Deepsphere-AI/DSAI_Python_Programming/blob/main/Unit-3/Developing%20Modelling/Program%2073%20-%20CSLAB_LOGISTIC_REGRESSION_STATMODELS_V1.ipynb\" target=\"_parent\"><img src=\"https://colab.research.google.com/assets/colab-badge.svg\" alt=\"Open In Colab\"/></a>"
      ]
    },
    {
      "cell_type": "code",
      "execution_count": null,
      "metadata": {
        "id": "c1WxbzItPAxX"
      },
      "outputs": [],
      "source": [
        "\n",
        "# *********************************************************************************************************************\n",
        "  \n",
        "  # File Name \t:   CSLAB_LOGISTIC_REGRESSION_V1\n",
        "  # Purpose \t:   A Program in Python for Logistic Regression using statsmodels Package\n",
        "  # Author\t:   Deepsphere.ai\n",
        "  # Reviewer \t:   Jothi Periasamy\n",
        "  # Date \t:   10/25/2022\n",
        "  # Version\t:   1.0\t\n",
        "  \n",
        "# ***********************************************************************************************************************\n",
        "\n",
        "## Program Description : Program for Logistic Regression using statsmodels Package in Python\n",
        "\n",
        "## Python Development Environment & Runtime - Python, Anaconda\n",
        "\n",
        "from statsmodels.discrete.discrete_model import Logit\n",
        "\n",
        "import numpy as vAR_np\n",
        "\n",
        "import matplotlib.pyplot as vAR_plt\n",
        "\n",
        "vAR_CSLAB_n = 200\n",
        "\n",
        "vAR_CSLAB_p = 10\n",
        "\n",
        "vAR_CSLAB_lpred = vAR_CSLAB_exog[:,0] + 0.5*vAR_CSLAB_exog[:,1] - 0.5*vAR_CSLAB_exog[:,2]\n",
        "\n",
        "vAR_CSLAB_prob = 1 / (1 + vAR_np.exp(-vAR_CSLAB_lpred))\n",
        "\n",
        "vAR_CSLAB_mod = Logit(vAR_CSLAB_endog, vAR_CSLAB_exog)\n",
        "\n",
        "vAR_CSLAB_rslt1 = vAR_CSLAB_mod.fit()\n",
        "\n",
        "print (vAR_CSLAB_rslt1.summary())\n",
        "\n",
        "vAR_CSLAB_rslt2 = vAR_CSLAB_mod.fit_regularized(alpha=10, disp=False)\n",
        "\n",
        "print (vAR_CSLAB_rslt2.summary())\n",
        "\n",
        "vAR_CSLAB_alpha = vAR_np.linspace(0, 50, 50)\n",
        "\n",
        "vAR_CSLAB_params = []\n",
        "\n",
        "for a in vAR_CSLAB_alpha:\n",
        "    \n",
        "    vAR_CSLAB_rslt2 = vAR_CSLAB_mod.fit_regularized(alpha=a, disp=False)\n",
        "    \n",
        "vAR_CSLAB_params.append(vAR_CSLAB_rslt2.params)\n",
        "\n",
        "vAR_CSLAB_params = vAR_np.asarray(vAR_CSLAB_params)\n",
        "\n",
        "vAR_plt.clf()\n",
        "\n",
        "vAR_CSLAB_cmap = {0: \"red\", 1: \"green\", 2: \"blue\"}\n",
        "\n",
        "for k in range(10):\n",
        "    \n",
        "    vAR_CSLAB_color = 'grey'\n",
        "    \n",
        "if k in (0, 1, 2):\n",
        "    \n",
        "    vAR_CSLAB_color = cmap[k]\n",
        "\n",
        "\n",
        "# ****************************************************************************************************************************\n",
        "#   Disclaimer.\n",
        "\n",
        "# We are providing this code block strictly for learning and researching, this is not a production\n",
        "# ready code. We have no liability on this particular code under any circumstances; users should use\n",
        "# this code on their own risk. All software, hardware and othr products that are referenced in these \n",
        "# materials belong to the respective vendor who developed or who owns this product.\n",
        "\n",
        "# ****************************************************************************************************************************\n",
        "  "
      ]
    }
  ]
}