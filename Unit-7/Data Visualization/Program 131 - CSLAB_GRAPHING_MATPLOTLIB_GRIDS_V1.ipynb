{
  "nbformat": 4,
  "nbformat_minor": 0,
  "metadata": {
    "colab": {
      "provenance": [],
      "authorship_tag": "ABX9TyO2eLi5X4abQqoKSHEcxfmh",
      "include_colab_link": true
    },
    "kernelspec": {
      "name": "python3",
      "display_name": "Python 3"
    },
    "language_info": {
      "name": "python"
    }
  },
  "cells": [
    {
      "cell_type": "markdown",
      "metadata": {
        "id": "view-in-github",
        "colab_type": "text"
      },
      "source": [
        "<a href=\"https://colab.research.google.com/github/Deepsphere-AI/DSAI_Python_Programming/blob/main/Unit-7/Data%20Visualization/Program%20131%20-%20CSLAB_GRAPHING_MATPLOTLIB_GRIDS_V1.ipynb\" target=\"_parent\"><img src=\"https://colab.research.google.com/assets/colab-badge.svg\" alt=\"Open In Colab\"/></a>"
      ]
    },
    {
      "cell_type": "code",
      "execution_count": null,
      "metadata": {
        "id": "fccmlEq29kCc"
      },
      "outputs": [],
      "source": [
        "\n",
        "# *********************************************************************************************************************\n",
        "  \n",
        "  File Name \t:   CSLAB_GRAPHING_MATPLOTLIB_GRIDS_V1\n",
        "  Purpose \t:   A Program in Python for Chart Grids in matplotlib\n",
        "  Author\t:   Deepsphere.ai\n",
        "  Reviewer \t:   Jothi Periasamy\n",
        "  Date \t:   10/26/2022\n",
        "  Version\t:   1.0\t\n",
        "  \n",
        "# ***********************************************************************************************************************\n",
        "   \n",
        "## Program Description : Program for Chart Grids in matplotlib in Python\n",
        "\n",
        "## Python Development Environment & Runtime - Python, Anaconda\n",
        "\n",
        "from pylab import *\n",
        "\n",
        "vAR_CSLAB_ax = axes([0.025,0.025,0.95,0.95])\n",
        "\n",
        "vAR_CSLAB_ax.set_xlim(0,4)\n",
        "\n",
        "vAR_CSLAB_ax.set_ylim(0,3)\n",
        "\n",
        "vAR_CSLAB_ax.xaxis.set_major_locator(MultipleLocator(1.0))\n",
        "\n",
        "vAR_CSLAB_ax.xaxis.set_minor_locator(MultipleLocator(0.1))\n",
        "\n",
        "vAR_CSLAB_ax.yaxis.set_major_locator(MultipleLocator(1.0))\n",
        " \n",
        "vAR_CSLAB_ax.yaxis.set_minor_locator(MultipleLocator(0.1))\n",
        "\n",
        "vAR_CSLAB_ax.grid(which='major', axis='x', linewidth=0.75, linestyle='-', color='0.75')\n",
        "\n",
        "vAR_CSLAB_ax.grid(which='minor', axis='x', linewidth=0.25, linestyle='-', color='0.75')\n",
        "\n",
        "vAR_CSLAB_ax.grid(which='major', axis='y', linewidth=0.75, linestyle='-', color='0.75')\n",
        " \n",
        "vAR_CSLAB_ax.grid(which='minor', axis='y', linewidth=0.25, linestyle='-', color='0.75')\n",
        " \n",
        "vAR_CSLAB_ax.set_xticklabels([])\n",
        "\n",
        "vAR_CSLAB_ax.set_yticklabels([])\n",
        "\n",
        "show()\n",
        "\n",
        "# ****************************************************************************************************************************\n",
        "#   Disclaimer.\n",
        "\n",
        "# We are providing this code block strictly for learning and researching, this is not a production\n",
        "# ready code. We have no liability on this particular code under any circumstances; users should use\n",
        "# this code on their own risk. All software, hardware and othr products that are referenced in these \n",
        "# materials belong to the respective vendor who developed or who owns this product.\n",
        "\n",
        "# ****************************************************************************************************************************\n",
        "  "
      ]
    }
  ]
}