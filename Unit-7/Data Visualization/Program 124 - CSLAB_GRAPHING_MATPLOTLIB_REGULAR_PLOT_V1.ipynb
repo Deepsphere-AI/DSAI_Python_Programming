{
  "nbformat": 4,
  "nbformat_minor": 0,
  "metadata": {
    "colab": {
      "provenance": [],
      "authorship_tag": "ABX9TyNmxOff2mi8eMHb0TZThi60",
      "include_colab_link": true
    },
    "kernelspec": {
      "name": "python3",
      "display_name": "Python 3"
    },
    "language_info": {
      "name": "python"
    }
  },
  "cells": [
    {
      "cell_type": "markdown",
      "metadata": {
        "id": "view-in-github",
        "colab_type": "text"
      },
      "source": [
        "<a href=\"https://colab.research.google.com/github/Deepsphere-AI/DSAI_Python_Programming/blob/main/Unit-7/Data%20Visualization/Program%20124%20-%20CSLAB_GRAPHING_MATPLOTLIB_REGULAR_PLOT_V1.ipynb\" target=\"_parent\"><img src=\"https://colab.research.google.com/assets/colab-badge.svg\" alt=\"Open In Colab\"/></a>"
      ]
    },
    {
      "cell_type": "code",
      "execution_count": null,
      "metadata": {
        "id": "D_1XAayH5m3d"
      },
      "outputs": [],
      "source": [
        "\n",
        "# *********************************************************************************************************************\n",
        "  \n",
        "  # File Name \t:   CSLAB_GRAPHING_MATPLOTLIB_REGULAR_PLOT_V1\n",
        "  # Purpose \t:   A Program in Python for Regular Plot in matplotlib\n",
        "  # Author\t:   Deepsphere.ai\n",
        "  # Reviewer \t:   Jothi Periasamy\n",
        "  # Date \t:   10/26/2022\n",
        "  # Version\t:   1.0\t\n",
        "  \n",
        "# ***********************************************************************************************************************\n",
        "   \n",
        "## Program Description : Program for Regular Plot in matplotlib in Python\n",
        "\n",
        "## Python Development Environment & Runtime - Python, Anaconda\n",
        "\n",
        "from pylab import *\n",
        "\n",
        "import numpy as vAR_np\n",
        "\n",
        "vAR_CSLAB_n=100\n",
        "\n",
        "vAR_CSLAB_X = vAR_np.linspace(-vAR_np.pi,vAR_np.pi,vAR_CSLAB_n,endpoint=True)\n",
        "\n",
        "vAR_CSLAB_Y = vAR_np.sin(2*vAR_CSLAB_X)\n",
        "\n",
        "axes([0.025,0.025,0.95,0.95])\n",
        "\n",
        "plot (vAR_CSLAB_X, vAR_CSLAB_Y+1, color='blue', alpha=1.00)\n",
        "  \n",
        "fill_between(vAR_CSLAB_X, 1, vAR_CSLAB_Y+1, color='blue', alpha=.25)\n",
        "\n",
        "plot (vAR_CSLAB_X, vAR_CSLAB_Y-1, color='blue', alpha=1.00)\n",
        "\n",
        "fill_between(vAR_CSLAB_X, -1, vAR_CSLAB_Y-1, (vAR_CSLAB_Y-1) > -1, color='blue', alpha=.25)\n",
        " \n",
        "fill_between(vAR_CSLAB_X, -1, vAR_CSLAB_Y-1, (vAR_CSLAB_Y-1) < -1, color='red',  alpha=.25)\n",
        "\n",
        "xlim(-vAR_np.pi,vAR_np.pi), xticks([])\n",
        "\n",
        "ylim(-2.5,2.5), yticks([])\n",
        "\n",
        "show()\n",
        "\n",
        "# ****************************************************************************************************************************\n",
        "#   Disclaimer.\n",
        "\n",
        "# We are providing this code block strictly for learning and researching, this is not a production\n",
        "# ready code. We have no liability on this particular code under any circumstances; users should use\n",
        "# this code on their own risk. All software, hardware and othr products that are referenced in these \n",
        "# materials belong to the respective vendor who developed or who owns this product.\n",
        "\n",
        "# ****************************************************************************************************************************\n",
        "  "
      ]
    }
  ]
}