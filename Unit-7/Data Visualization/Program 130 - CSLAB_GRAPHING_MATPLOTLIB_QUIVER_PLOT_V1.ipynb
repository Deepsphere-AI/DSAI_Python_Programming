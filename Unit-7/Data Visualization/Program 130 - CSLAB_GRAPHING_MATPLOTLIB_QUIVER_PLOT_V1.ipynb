{
  "nbformat": 4,
  "nbformat_minor": 0,
  "metadata": {
    "colab": {
      "provenance": [],
      "authorship_tag": "ABX9TyM7IPfR50Fm3ZyxoDC/h/B2",
      "include_colab_link": true
    },
    "kernelspec": {
      "name": "python3",
      "display_name": "Python 3"
    },
    "language_info": {
      "name": "python"
    }
  },
  "cells": [
    {
      "cell_type": "markdown",
      "metadata": {
        "id": "view-in-github",
        "colab_type": "text"
      },
      "source": [
        "<a href=\"https://colab.research.google.com/github/Deepsphere-AI/DSAI_Python_Programming/blob/main/Unit-7/Data%20Visualization/Program%20130%20-%20CSLAB_GRAPHING_MATPLOTLIB_QUIVER_PLOT_V1.ipynb\" target=\"_parent\"><img src=\"https://colab.research.google.com/assets/colab-badge.svg\" alt=\"Open In Colab\"/></a>"
      ]
    },
    {
      "cell_type": "code",
      "execution_count": null,
      "metadata": {
        "id": "i65GKoMt8wZT"
      },
      "outputs": [],
      "source": [
        "\n",
        "# *********************************************************************************************************************\n",
        "  \n",
        "  # File Name \t:   CSLAB_GRAPHING_MATPLOTLIB_QUIVER_PLOT_V1\n",
        "  # Purpose \t:   A Program in Python for Quiver Plot in matplotlib\n",
        "  # Author\t:   Deepsphere.ai\n",
        "  # Reviewer \t:   Jothi Periasamy\n",
        "  # Date \t:   10/26/2022\n",
        "  # Version\t:   1.0\t\n",
        "  \n",
        "# ***********************************************************************************************************************\n",
        "   \n",
        "## Program Description : Program for Quiver Plot in matplotlib in Python\n",
        "\n",
        "## Python Development Environment & Runtime - Python, Anaconda\n",
        "\n",
        "from pylab import *\n",
        "\n",
        "import numpy as vAR_np\n",
        "\n",
        "import matplotlib.pyplot as vAR_plt\n",
        "\n",
        "vAR_CSLAB_n = 8\n",
        "\n",
        "vAR_CSLAB_X,vAR_CSLAB_Y = vAR_np.mgrid[0:vAR_CSLAB_n,0:vAR_CSLAB_n]\n",
        "\n",
        "vAR_CSLAB_T = vAR_np.arctan2(vAR_CSLAB_Y-vAR_CSLAB_n/2.0, vAR_CSLAB_X-vAR_CSLAB_n/2.0)\n",
        "\n",
        "vAR_CSLAB_R = 10+vAR_np.sqrt((vAR_CSLAB_Y-vAR_CSLAB_n/2.0)**2+(vAR_CSLAB_X-vAR_CSLAB_n/2.0)**2)\n",
        "\n",
        "vAR_CSLAB_U,vAR_CSLAB_V = vAR_CSLAB_R*vAR_np.cos(vAR_CSLAB_T), vAR_CSLAB_R*vAR_np.sin(vAR_CSLAB_T)\n",
        "\n",
        "axes([0.025,0.025,0.95,0.95])\n",
        "\n",
        "quiver(vAR_CSLAB_X,vAR_CSLAB_Y,vAR_CSLAB_U,vAR_CSLAB_V,vAR_CSLAB_R, alpha=.5)\n",
        "\n",
        "quiver(vAR_CSLAB_X,vAR_CSLAB_Y,vAR_CSLAB_U,vAR_CSLAB_V, edgecolor='k', facecolor='None', linewidth=.5)\n",
        "\n",
        "xlim(-1,vAR_CSLAB_n), xticks([])\n",
        "\n",
        "ylim(-1,vAR_CSLAB_n), yticks([])\n",
        "\n",
        "show()\n",
        "\n",
        "# ****************************************************************************************************************************\n",
        "#   Disclaimer.\n",
        "\n",
        "# We are providing this code block strictly for learning and researching, this is not a production\n",
        "# ready code. We have no liability on this particular code under any circumstances; users should use\n",
        "# this code on their own risk. All software, hardware and othr products that are referenced in these \n",
        "# materials belong to the respective vendor who developed or who owns this product.\n",
        "\n",
        "# ****************************************************************************************************************************\n",
        "  "
      ]
    }
  ]
}