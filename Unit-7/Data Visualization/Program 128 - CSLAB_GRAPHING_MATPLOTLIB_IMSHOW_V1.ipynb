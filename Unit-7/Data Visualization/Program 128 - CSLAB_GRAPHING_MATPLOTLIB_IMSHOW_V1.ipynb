{
  "nbformat": 4,
  "nbformat_minor": 0,
  "metadata": {
    "colab": {
      "provenance": [],
      "authorship_tag": "ABX9TyMTi8F05qGtZXp3HPXNedEn",
      "include_colab_link": true
    },
    "kernelspec": {
      "name": "python3",
      "display_name": "Python 3"
    },
    "language_info": {
      "name": "python"
    }
  },
  "cells": [
    {
      "cell_type": "markdown",
      "metadata": {
        "id": "view-in-github",
        "colab_type": "text"
      },
      "source": [
        "<a href=\"https://colab.research.google.com/github/Deepsphere-AI/DSAI_Python_Programming/blob/main/Unit-7/Data%20Visualization/Program%20128%20-%20CSLAB_GRAPHING_MATPLOTLIB_IMSHOW_V1.ipynb\" target=\"_parent\"><img src=\"https://colab.research.google.com/assets/colab-badge.svg\" alt=\"Open In Colab\"/></a>"
      ]
    },
    {
      "cell_type": "code",
      "execution_count": null,
      "metadata": {
        "id": "lQGCzRwl7eKK"
      },
      "outputs": [],
      "source": [
        "\n",
        "# *********************************************************************************************************************\n",
        "  \n",
        "  # File Name \t:   CSLAB_GRAPHING_MATPLOTLIB_IMSHOW_V1\n",
        "  # Purpose \t:   A Program in Python for IMSHOW in matplotlib\n",
        "  # Author\t:   Deepsphere.ai\n",
        "  # Reviewer \t:   Jothi Periasamy\n",
        "  # Date \t:   10/26/2022\n",
        "  # Version\t:   1.0\t\n",
        "  \n",
        "# ***********************************************************************************************************************\n",
        "   \n",
        "## Program Description : Program for IMSHOW in matplotlib in Python\n",
        "\n",
        "## Python Development Environment & Runtime - Python, Anaconda\n",
        "\n",
        "from pylab import *\n",
        "\n",
        "import numpy as vAR_np\n",
        "\n",
        "def f(vAR_CSLAB_x,vAR_CSLAB_y):\n",
        "    \n",
        "    return (1-vAR_CSLAB_x/2+vAR_CSLAB_x**5+vAR_CSLAB_y**3)*vAR_np.exp(-vAR_CSLAB_x**2-vAR_CSLAB_y**2)\n",
        "\n",
        "    vAR_CSLAB_n = 10\n",
        "\n",
        "    vAR_CSLAB_x = vAR_np.linspace(-3,3,3.5*vAR_CSLAB_n)\n",
        "\n",
        "    vAR_CSLAB_y = vAR_np.linspace(-3,3,3.0*vAR_CSLAB_n)\n",
        "\n",
        "    vAR_CSLAB_X,vAR_CSLAB_Y = np.meshgrid(vAR_CSLAB_x,vAR_CSLAB_y)\n",
        "\n",
        "    vAR_CSLAB_Z = f(vAR_CSLAB_X,vAR_CSLAB_Y)\n",
        "\n",
        "    axes([0.025,0.025,0.95,0.95])\n",
        "\n",
        "    imshow(vAR_CSLAB_Z,interpolation='nearest', cmap='bone', origin='lower')\n",
        "\n",
        "    colorbar(shrink=.92)\n",
        "\n",
        "    xticks([]), yticks([])\n",
        "\n",
        "    show()\n",
        "    \n",
        "f(5,10)    \n",
        "\n",
        "# ****************************************************************************************************************************\n",
        "#   Disclaimer.\n",
        "\n",
        "# We are providing this code block strictly for learning and researching, this is not a production\n",
        "# ready code. We have no liability on this particular code under any circumstances; users should use\n",
        "# this code on their own risk. All software, hardware and othr products that are referenced in these \n",
        "# materials belong to the respective vendor who developed or who owns this product.\n",
        "\n",
        "# ****************************************************************************************************************************\n",
        "  "
      ]
    }
  ]
}