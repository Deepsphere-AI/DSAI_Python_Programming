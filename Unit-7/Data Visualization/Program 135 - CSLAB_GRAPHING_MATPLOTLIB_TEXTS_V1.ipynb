{
  "nbformat": 4,
  "nbformat_minor": 0,
  "metadata": {
    "colab": {
      "provenance": [],
      "authorship_tag": "ABX9TyMKe4hlMCpWAoLAObnDAeIs",
      "include_colab_link": true
    },
    "kernelspec": {
      "name": "python3",
      "display_name": "Python 3"
    },
    "language_info": {
      "name": "python"
    }
  },
  "cells": [
    {
      "cell_type": "markdown",
      "metadata": {
        "id": "view-in-github",
        "colab_type": "text"
      },
      "source": [
        "<a href=\"https://colab.research.google.com/github/Deepsphere-AI/DSAI_Python_Programming/blob/main/Unit-7/Data%20Visualization/Program%20135%20-%20CSLAB_GRAPHING_MATPLOTLIB_TEXTS_V1.ipynb\" target=\"_parent\"><img src=\"https://colab.research.google.com/assets/colab-badge.svg\" alt=\"Open In Colab\"/></a>"
      ]
    },
    {
      "cell_type": "code",
      "execution_count": null,
      "metadata": {
        "id": "LsszmFNH_m3K"
      },
      "outputs": [],
      "source": [
        "\n",
        "# *********************************************************************************************************************\n",
        "  \n",
        "  # File Name \t:   CSLAB_GRAPHING_MATPLOTLIB_TEXTS_V1\n",
        "  # Purpose \t:   A Program in Python for Texts in matplotlib\n",
        "  # Author\t:   Deepsphere.ai\n",
        "  # Reviewer \t:   Jothi Periasamy\n",
        "  # Date \t:   10/26/2022\n",
        "  # Version\t:   1.0\t\n",
        "  \n",
        "# ***********************************************************************************************************************\n",
        "   \n",
        "## Program Description : Program for Texts in matplotlib in Python\n",
        "\n",
        "## Python Development Environment & Runtime - Python, Anaconda\n",
        "\n",
        "import matplotlib\n",
        "\n",
        "import matplotlib.pyplot as vAR_plt\n",
        "\n",
        "vAR_CSLAB_fig = vAR_plt.figure()\n",
        "\n",
        "vAR_CSLAB_fig.suptitle('bold figure suptitle', fontsize=14, fontweight='bold')\n",
        "\n",
        "vAR_CSLAB_ax = vAR_CSLAB_fig.add_subplot(111)\n",
        "\n",
        "vAR_CSLAB_fig.subplots_adjust(top=0.85)\n",
        "\n",
        "vAR_CSLAB_ax.set_title('axes title')\n",
        "\n",
        "vAR_CSLAB_ax.set_xlabel('xlabel')\n",
        "vAR_CSLAB_ax.set_ylabel('ylabel')\n",
        "\n",
        "vAR_CSLAB_ax.text(3, 8, 'boxed italics text in data coords', style='italic',\n",
        "        bbox={'facecolor': 'red', 'alpha': 0.5, 'pad': 10})\n",
        "\n",
        "vAR_CSLAB_ax.text(2, 6, r'an equation: $E=mc^2$', fontsize=15)\n",
        "\n",
        "vAR_CSLAB_ax.text(3, 2, 'unicode: Institut f�r Festk�rperphysik')\n",
        "\n",
        "vAR_CSLAB_ax.text(0.95, 0.01, 'colored text in axes coords',\n",
        "        verticalalignment='bottom', horizontalalignment='right',\n",
        "        transform=ax.transAxes,\n",
        "        color='green', fontsize=15)\n",
        "\n",
        "\n",
        "vAR_CSLAB_ax.plot([2], [1], 'o')\n",
        "vAR_CSLAB_ax.annotate('annotate', xy=(2, 1), xytext=(3, 4),\n",
        "            arrowprops=dict(facecolor='black', shrink=0.05))\n",
        "\n",
        "vAR_CSLAB_ax.axis([0, 10, 0, 10])\n",
        "\n",
        "vAR_plt.show()\n",
        "\n",
        "# ****************************************************************************************************************************\n",
        "#   Disclaimer.\n",
        "\n",
        "# We are providing this code block strictly for learning and researching, this is not a production\n",
        "# ready code. We have no liability on this particular code under any circumstances; users should use\n",
        "# this code on their own risk. All software, hardware and othr products that are referenced in these \n",
        "# materials belong to the respective vendor who developed or who owns this product.\n",
        "\n",
        "# ****************************************************************************************************************************\n",
        "  "
      ]
    }
  ]
}