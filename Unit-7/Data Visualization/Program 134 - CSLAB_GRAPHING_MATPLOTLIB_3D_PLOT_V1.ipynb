{
  "nbformat": 4,
  "nbformat_minor": 0,
  "metadata": {
    "colab": {
      "provenance": [],
      "authorship_tag": "ABX9TyMf56Xb3mhycVGfEEqkpU4N",
      "include_colab_link": true
    },
    "kernelspec": {
      "name": "python3",
      "display_name": "Python 3"
    },
    "language_info": {
      "name": "python"
    }
  },
  "cells": [
    {
      "cell_type": "markdown",
      "metadata": {
        "id": "view-in-github",
        "colab_type": "text"
      },
      "source": [
        "<a href=\"https://colab.research.google.com/github/Deepsphere-AI/DSAI_Python_Programming/blob/main/Unit-7/Data%20Visualization/Program%20134%20-%20CSLAB_GRAPHING_MATPLOTLIB_3D_PLOT_V1.ipynb\" target=\"_parent\"><img src=\"https://colab.research.google.com/assets/colab-badge.svg\" alt=\"Open In Colab\"/></a>"
      ]
    },
    {
      "cell_type": "code",
      "execution_count": null,
      "metadata": {
        "id": "j1PpW63h-7L0"
      },
      "outputs": [],
      "source": [
        "\n",
        "# *********************************************************************************************************************\n",
        "  \n",
        "  # File Name \t:   CSLAB_GRAPHING_MATPLOTLIB_3D_PLOT_V1\n",
        "  # Purpose \t:   A Program in Python for 3D Plot in matplotlib\n",
        "  # Author\t:   Deepsphere.ai\n",
        "  # Reviewer \t:   Jothi Periasamy\n",
        "  # Date \t:   10/26/2022\n",
        "  # Version\t:   1.0\t\n",
        "  \n",
        "# ***********************************************************************************************************************\n",
        "   \n",
        "## Program Description : Program for 3D Plot in matplotlib in Python\n",
        "\n",
        "## Python Development Environment & Runtime - Python, Anaconda\n",
        "\n",
        "from pylab import *\n",
        "\n",
        "from mpl_toolkits.mplot3d import Axes3D\n",
        "\n",
        "import numpy as vAR_np\n",
        "\n",
        "vAR_CSLAB_fig = figure()\n",
        "\n",
        "vAR_CSLAB_ax = Axes3D(vAR_CSLAB_fig)\n",
        "\n",
        "vAR_CSLAB_X = vAR_np.arange(-4, 4, 0.25)\n",
        "\n",
        "vAR_CSLAB_Y = vAR_np.arange(-4, 4, 0.25)\n",
        "\n",
        "vAR_CSLAB_X, vAR_CSLAB_Y = vAR_np.meshgrid(vAR_CSLAB_X, vAR_CSLAB_Y)\n",
        "\n",
        "vAR_CSLAB_R = vAR_np.sqrt(vAR_CSLAB_X**2 + vAR_CSLAB_Y**2)\n",
        "\n",
        "vAR_CSLAB_Z = vAR_np.sin(vAR_CSLAB_R)\n",
        "\n",
        "vAR_CSLAB_ax.plot_surface(vAR_CSLAB_X, vAR_CSLAB_Y, vAR_CSLAB_Z, rstride=1, cstride=1, cmap=cm.hot)\n",
        "\n",
        "vAR_CSLAB_ax.contourf(vAR_CSLAB_X, vAR_CSLAB_Y, vAR_CSLAB_Z, zdir='z', offset=-2, cmap=cm.hot)\n",
        "\n",
        "vAR_CSLAB_ax.set_zlim(-2,2)\n",
        "\n",
        "show()\n",
        "\n",
        "# ****************************************************************************************************************************\n",
        "#   Disclaimer.\n",
        "\n",
        "# We are providing this code block strictly for learning and researching, this is not a production\n",
        "# ready code. We have no liability on this particular code under any circumstances; users should use\n",
        "# this code on their own risk. All software, hardware and othr products that are referenced in these \n",
        "# materials belong to the respective vendor who developed or who owns this product.\n",
        "\n",
        "# ****************************************************************************************************************************\n",
        "  "
      ]
    }
  ]
}