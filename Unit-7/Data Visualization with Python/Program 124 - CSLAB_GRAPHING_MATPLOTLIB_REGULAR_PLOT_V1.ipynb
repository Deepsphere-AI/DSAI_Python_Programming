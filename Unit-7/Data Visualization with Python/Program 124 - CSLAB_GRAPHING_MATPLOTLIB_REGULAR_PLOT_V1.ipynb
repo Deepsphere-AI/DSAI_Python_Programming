{
  "nbformat": 4,
  "nbformat_minor": 0,
  "metadata": {
    "colab": {
      "provenance": [],
      "include_colab_link": true
    },
    "kernelspec": {
      "name": "python3",
      "display_name": "Python 3"
    },
    "language_info": {
      "name": "python"
    }
  },
  "cells": [
    {
      "cell_type": "markdown",
      "metadata": {
        "id": "view-in-github",
        "colab_type": "text"
      },
      "source": [
        "<a href=\"https://colab.research.google.com/github/Deepsphere-AI/DSAI_Python_Programming/blob/main/Unit-7/Data%20Visualization%20with%20Python/Program%20124%20-%20CSLAB_GRAPHING_MATPLOTLIB_REGULAR_PLOT_V1.ipynb\" target=\"_parent\"><img src=\"https://colab.research.google.com/assets/colab-badge.svg\" alt=\"Open In Colab\"/></a>"
      ]
    },
    {
      "cell_type": "code",
      "execution_count": 15,
      "metadata": {
        "id": "D_1XAayH5m3d",
        "colab": {
          "base_uri": "https://localhost:8080/",
          "height": 539
        },
        "outputId": "270d5dfe-9f0e-425e-ad6a-6b3c161b8eaf"
      },
      "outputs": [
        {
          "output_type": "stream",
          "name": "stdout",
          "text": [
            "Drive already mounted at /content/drive; to attempt to forcibly remount, call drive.mount(\"/content/drive\", force_remount=True).\n",
            "<class 'pandas.core.frame.DataFrame'>\n",
            "RangeIndex: 150 entries, 0 to 149\n",
            "Data columns (total 5 columns):\n",
            " #   Column         Non-Null Count  Dtype  \n",
            "---  ------         --------------  -----  \n",
            " 0   SepalLengthCm  150 non-null    float64\n",
            " 1   SepalWidthCm   150 non-null    float64\n",
            " 2   PetalLengthCm  150 non-null    float64\n",
            " 3   PetalWidthCm   150 non-null    float64\n",
            " 4   Species        150 non-null    int64  \n",
            "dtypes: float64(4), int64(1)\n",
            "memory usage: 6.0 KB\n",
            "Accuracy of the model is 97.37\n"
          ]
        },
        {
          "output_type": "execute_result",
          "data": {
            "text/plain": [
              "<matplotlib.axes._subplots.AxesSubplot at 0x7f8d61b90490>"
            ]
          },
          "metadata": {},
          "execution_count": 15
        },
        {
          "output_type": "display_data",
          "data": {
            "text/plain": [
              "<Figure size 432x288 with 1 Axes>"
            ],
            "image/png": "[encoded data removed]"
          },
          "metadata": {
            "needs_background": "light"
          }
        }
      ],
      "source": [
        "\n",
        "# *********************************************************************************************************************\n",
        "  \n",
        "  # File Name \t:   CSLAB_GRAPHING_MATPLOTLIB_REGULAR_PLOT_V1\n",
        "  # Purpose \t:   A Program in Python for Regular Plot in matplotlib\n",
        "  # Author\t:   Deepsphere.ai\n",
        "  # Reviewer \t:   Jothi Periasamy\n",
        "  # Date \t:   10/26/2022\n",
        "  # Version\t:   1.0\t\n",
        "  \n",
        "# ***********************************************************************************************************************\n",
        "   \n",
        "## Program Description : Program for Regular Plot in matplotlib in Python\n",
        "\n",
        "## Python Development Environment & Runtime - Python, Anaconda\n",
        "\n",
        "import pandas as pd\n",
        "import numpy as np\n",
        "import matplotlib.pyplot as plt\n",
        "import seaborn as sns\n",
        "import warnings\n",
        "warnings.simplefilter(\"ignore\")\n",
        "from sklearn.model_selection import train_test_split\n",
        "from sklearn.linear_model import LogisticRegression\n",
        "from sklearn.metrics import accuracy_score,confusion_matrix\n",
        "\n",
        "from google.colab import drive\n",
        "drive.mount('/content/drive')\n",
        "\n",
        "#Import iris dataset\n",
        "\n",
        "vAR_CSLAB_df=pd.read_csv(r'/content/drive/MyDrive/Semester-4/Data Science for Enterprise/Data/Iris.csv')\n",
        "\n",
        "vAR_CSLAB_df.head()\n",
        "\n",
        "vAR_CSLAB_df.info()\n",
        "\n",
        "#checking for null values\n",
        "\n",
        "vAR_CSLAB_df.isnull().sum()\n",
        "\n",
        "vAR_CSLAB_df.columns\n",
        "\n",
        "vAR_CSLAB_df['Species'].value_counts()\n",
        "\n",
        "sns.countplot(vAR_CSLAB_df['Species'])\n",
        "\n",
        "# Select all the features\n",
        "\n",
        "vAR_CSLAB_x=vAR_CSLAB_df.iloc[:,:4]\n",
        "\n",
        "# Select the Label\n",
        "\n",
        "vAR_CSLAB_y=vAR_CSLAB_df.iloc[:,4]\n",
        "\n",
        "vAR_CSLAB_x_train,vAR_CSLAB_x_test,vAR_CSLAB_y_train,vAR_CSLAB_y_test=train_test_split(vAR_CSLAB_x,vAR_CSLAB_y,random_state=0)\n",
        "\n",
        "vAR_CSLAB_model=LogisticRegression()\n",
        "\n",
        "vAR_CSLAB_model.fit(vAR_CSLAB_x_train,vAR_CSLAB_y_train)\n",
        "\n",
        "vAR_CSLAB_y_pred=vAR_CSLAB_model.predict(vAR_CSLAB_x_test)\n",
        "\n",
        "vAR_CSLAB_y_pred\n",
        "\n",
        "confusion_matrix(vAR_CSLAB_y_test,vAR_CSLAB_y_pred)\n",
        "\n",
        "vAR_CSLAB_accuracy=accuracy_score(vAR_CSLAB_y_test,vAR_CSLAB_y_pred)*100\n",
        "\n",
        "print(\"Accuracy of the model is {:.2f}\".format(vAR_CSLAB_accuracy))\n",
        "\n",
        "vAR_CSLAB_y_pred = pd.DataFrame(vAR_CSLAB_y_pred)\n",
        "\n",
        "sns.barplot(data=vAR_CSLAB_y_pred)\n",
        "\n",
        "# ****************************************************************************************************************************\n",
        "#   Disclaimer.\n",
        "\n",
        "# We are providing this code block strictly for learning and researching, this is not a production\n",
        "# ready code. We have no liability on this particular code under any circumstances; users should use\n",
        "# this code on their own risk. All software, hardware and othr products that are referenced in these \n",
        "# materials belong to the respective vendor who developed or who owns this product.\n",
        "\n",
        "# ****************************************************************************************************************************\n",
        "  "
      ]
    },
    {
      "cell_type": "code",
      "source": [],
      "metadata": {
        "id": "Q6IUQ4fmdU0R"
      },
      "execution_count": null,
      "outputs": []
    }
  ]
}