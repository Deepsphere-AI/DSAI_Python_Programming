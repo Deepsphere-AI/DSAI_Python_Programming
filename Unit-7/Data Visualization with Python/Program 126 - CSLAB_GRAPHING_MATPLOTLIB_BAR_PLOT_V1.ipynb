{
  "nbformat": 4,
  "nbformat_minor": 0,
  "metadata": {
    "colab": {
      "provenance": [],
      "authorship_tag": "ABX9TyN/kPKcddUCPysmKQ07QilQ",
      "include_colab_link": true
    },
    "kernelspec": {
      "name": "python3",
      "display_name": "Python 3"
    },
    "language_info": {
      "name": "python"
    }
  },
  "cells": [
    {
      "cell_type": "markdown",
      "metadata": {
        "id": "view-in-github",
        "colab_type": "text"
      },
      "source": [
        "<a href=\"https://colab.research.google.com/github/Deepsphere-AI/DSAI_Python_Programming/blob/main/Unit-7/Data%20Visualization%20with%20Python/Program%20126%20-%20CSLAB_GRAPHING_MATPLOTLIB_BAR_PLOT_V1.ipynb\" target=\"_parent\"><img src=\"https://colab.research.google.com/assets/colab-badge.svg\" alt=\"Open In Colab\"/></a>"
      ]
    },
    {
      "cell_type": "code",
      "execution_count": null,
      "metadata": {
        "id": "Wja6Blof6gsG"
      },
      "outputs": [],
      "source": [
        "\n",
        "# *********************************************************************************************************************\n",
        "  \n",
        "  # File Name \t:   CSLAB_GRAPHING_MATPLOTLIB_BAR_PLOT_V1\n",
        "  # Purpose \t:   A Program in Python for Bar Plot in matplotlib\n",
        "  # Author\t:   Deepsphere.ai\n",
        "  # Reviewer \t:   Jothi Periasamy\n",
        "  # Date \t:   10/26/2022\n",
        "  # Version\t:   1.0\t\n",
        "  \n",
        "# ***********************************************************************************************************************\n",
        "   \n",
        "## Program Description : Program for Bar Plot in matplotlib in Python\n",
        "\n",
        "## Python Development Environment & Runtime - Python, Anaconda\n",
        "\n",
        "from pylab import *\n",
        "\n",
        "import numpy as vAR_np\n",
        "\n",
        "vAR_CSLAB_n = 12\n",
        "\n",
        "vAR_CSLAB_X = vAR_np.arange(n)\n",
        "\n",
        "vAR_CSLAB_Y1 = (1-vAR_CSLAB_X/float(vAR_CSLAB_n)) * vAR_np.random.uniform(0.5,1.0,vAR_CSLAB_n)\n",
        "\n",
        "vAR_CSLAB_Y2 = (1-vAR_CSLAB_X/float(vAR_CSLAB_n)) * vAR_np.random.uniform(0.5,1.0,vAR_CSLAB_n)\n",
        "\n",
        "axes([0.025,0.025,0.95,0.95])\n",
        "\n",
        "bar(vAR_CSLAB_X, +vAR_CSLAB_Y1, facecolor='#9999ff', edgecolor='white')\n",
        "  \n",
        "bar(vAR_CSLAB_X, -vAR_CSLAB_Y2, facecolor='#ff9999', edgecolor='white')\n",
        "\n",
        "for vAR_CSLAB_x,vAR_CSLAB_y in zip(vAR_CSLAB_X,vAR_CSLAB_Y1):\n",
        "    \n",
        "    text(vAR_CSLAB_x+0.4, vAR_CSLAB_y+0.05, '%.2f' % vAR_CSLAB_y, ha='center', va= 'bottom')\n",
        "\n",
        "for vAR_CSLAB_x,vAR_CSLAB_y in zip(vAR_CSLAB_X,vAR_CSLAB_Y2):\n",
        "    \n",
        "    text(vAR_CSLAB_x+0.4, -vAR_CSLAB_y-0.05, '%.2f' % vAR_CSLAB_y, ha='center', va= 'top')\n",
        "\n",
        "xlim(-.5,vAR_CSLAB_n), xticks([])\n",
        "  \n",
        "ylim(-1.25,+1.25), yticks([])\n",
        "\n",
        "show()\n",
        "\n",
        "# ****************************************************************************************************************************\n",
        "#   Disclaimer.\n",
        "\n",
        "# We are providing this code block strictly for learning and researching, this is not a production\n",
        "# ready code. We have no liability on this particular code under any circumstances; users should use\n",
        "# this code on their own risk. All software, hardware and othr products that are referenced in these \n",
        "# materials belong to the respective vendor who developed or who owns this product.\n",
        "\n",
        "# ****************************************************************************************************************************\n",
        "  "
      ]
    }
  ]
}