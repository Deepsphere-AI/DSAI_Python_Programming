{
  "nbformat": 4,
  "nbformat_minor": 0,
  "metadata": {
    "colab": {
      "provenance": [],
      "authorship_tag": "ABX9TyMyEoq8rR3OJWmEdfOoous4",
      "include_colab_link": true
    },
    "kernelspec": {
      "name": "python3",
      "display_name": "Python 3"
    },
    "language_info": {
      "name": "python"
    }
  },
  "cells": [
    {
      "cell_type": "markdown",
      "metadata": {
        "id": "view-in-github",
        "colab_type": "text"
      },
      "source": [
        "<a href=\"https://colab.research.google.com/github/Deepsphere-AI/DSAI_Python_Programming/blob/main/Unit-7/Data%20Visualization%20with%20Python/Program%20127%20-%20CSLAB_GRAPHING_MATPLOTLIB_CONTOUR_PLOT_V1.ipynb\" target=\"_parent\"><img src=\"https://colab.research.google.com/assets/colab-badge.svg\" alt=\"Open In Colab\"/></a>"
      ]
    },
    {
      "cell_type": "code",
      "execution_count": null,
      "metadata": {
        "id": "APgEzcqJ6-ZW"
      },
      "outputs": [],
      "source": [
        "\n",
        "# *********************************************************************************************************************\n",
        "  \n",
        "  # File Name \t:   CSLAB_GRAPHING_MATPLOTLIB_CONTOUR_PLOT_V1\n",
        "  # Purpose \t:   A Program in Python for Contour Plot in matplotlib\n",
        "  # Author\t:   Deepsphere.ai\n",
        "  # Reviewer \t:   Jothi Periasamy\n",
        "  # Date \t:   10/26/2022\n",
        "  # Version\t:   1.0\t\n",
        "  \n",
        "# ***********************************************************************************************************************\n",
        "   \n",
        "## Program Description : Program for Contour Plot in matplotlib in Python\n",
        "\n",
        "## Python Development Environment & Runtime - Python, Anaconda\n",
        "\n",
        "from pylab import *\n",
        "\n",
        "import numpy as vAR_np\n",
        "\n",
        "def f(vAR_CSLAB_x,vAR_CSLAB_y):\n",
        "    \n",
        "    return (1-vAR_CSLAB_x/2+vAR_CSLAB_x**5+vAR_CSLAB_y**3)*vAR_np.exp(-vAR_CSLAB_x**2-vAR_CSLAB_y**2)\n",
        "\n",
        "    vAR_CSLAB_n = 256\n",
        "\n",
        "    vAR_CSLAB_x = vAR_np.linspace(-3,3,vAR_CSLAB_n)\n",
        "\n",
        "    vAR_CSLAB_y = vAR_np.linspace(-3,3,vAR_CSLAB_n)\n",
        "\n",
        "    vAR_CSLAB_X,vAR_CSLAB_Y = vAR_np.meshgrid(vAR_CSLAB_x,vAR_CSLAB_y)\n",
        "\n",
        "    axes([0.025,0.025,0.95,0.95])\n",
        "\n",
        "    contourf(vAR_CSLAB_X, vAR_CSLAB_Y, f(vAR_CSLAB_X,vAR_CSLAB_Y), 8, alpha=.75, cmap=cm.hot)\n",
        "  \n",
        "    vAR_CSLAB_C = contour(vAR_CSLAB_X, vAR_CSLAB_Y, f(vAR_CSLAB_X,vAR_CSLAB_Y), 8, colors='black', linewidth=.5)\n",
        "\n",
        "    clabel(vAR_CSLAB_C, inline=1, fontsize=10)\n",
        "\n",
        "    xticks([]), yticks([])\n",
        "\n",
        "    show()\n",
        "    \n",
        "f(4,5)    \n",
        "\n",
        "# ****************************************************************************************************************************\n",
        "#   Disclaimer.\n",
        "\n",
        "# We are providing this code block strictly for learning and researching, this is not a production\n",
        "# ready code. We have no liability on this particular code under any circumstances; users should use\n",
        "# this code on their own risk. All software, hardware and othr products that are referenced in these \n",
        "# materials belong to the respective vendor who developed or who owns this product.\n",
        "\n",
        "# ****************************************************************************************************************************\n",
        "  "
      ]
    }
  ]
}