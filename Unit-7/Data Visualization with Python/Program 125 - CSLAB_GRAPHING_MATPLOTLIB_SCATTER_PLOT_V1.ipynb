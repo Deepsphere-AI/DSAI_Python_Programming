{
  "nbformat": 4,
  "nbformat_minor": 0,
  "metadata": {
    "colab": {
      "provenance": [],
      "authorship_tag": "ABX9TyMwdCr8FtB/yHzxmbehVPqe",
      "include_colab_link": true
    },
    "kernelspec": {
      "name": "python3",
      "display_name": "Python 3"
    },
    "language_info": {
      "name": "python"
    }
  },
  "cells": [
    {
      "cell_type": "markdown",
      "metadata": {
        "id": "view-in-github",
        "colab_type": "text"
      },
      "source": [
        "<a href=\"https://colab.research.google.com/github/Deepsphere-AI/DSAI_Python_Programming/blob/main/Unit-7/Data%20Visualization%20with%20Python/Program%20125%20-%20CSLAB_GRAPHING_MATPLOTLIB_SCATTER_PLOT_V1.ipynb\" target=\"_parent\"><img src=\"https://colab.research.google.com/assets/colab-badge.svg\" alt=\"Open In Colab\"/></a>"
      ]
    },
    {
      "cell_type": "code",
      "execution_count": null,
      "metadata": {
        "id": "l7uxOSp-6C6z"
      },
      "outputs": [],
      "source": [
        "\n",
        "# *********************************************************************************************************************\n",
        "  \n",
        "  # File Name \t:   CSLAB_GRAPHING_MATPLOTLIB_SCATTER_PLOT_V1\n",
        "  # Purpose \t:   A Program in Python for Scatter Plot in matplotlib\n",
        "  # Author\t:   Deepsphere.ai\n",
        "  # Reviewer \t:   Jothi Periasamy\n",
        "  # Date \t:  10/26/2022\n",
        "  # Version\t:   1.0\t\n",
        "  \n",
        "# ***********************************************************************************************************************\n",
        "   \n",
        "## Program Description : Program for Scatter PLot in matplotlib in Python\n",
        "\n",
        "## Python Development Environment & Runtime - Python, Anaconda\n",
        "\n",
        "import numpy as vAR_np\n",
        "\n",
        "vAR_CSLAB_n = 50\n",
        "\n",
        "vAR_CSLAB_X = vAR_np.random.normal(0,1,vAR_CSLAB_n)\n",
        "\n",
        "vAR_CSLAB_Y = vAR_np.random.normal(0,1,vAR_CSLAB_n)\n",
        "\n",
        "vAR_CSLAB_T = vAR_np.arctan2(vAR_CSLAB_Y,vAR_CSLAB_X)\n",
        "\n",
        "axes([0.025,0.025,0.95,0.95])\n",
        "\n",
        "scatter(vAR_CSLAB_X,vAR_CSLAB_Y, s=75, c=vAR_CSLAB_T, alpha=.5)\n",
        "\n",
        "xlim(-1.5,1.5), xticks([])\n",
        "  \n",
        "ylim(-1.5,1.5), yticks([])\n",
        "\n",
        "show()\n",
        "\n",
        "# ****************************************************************************************************************************\n",
        "#   Disclaimer.\n",
        "\n",
        "# We are providing this code block strictly for learning and researching, this is not a production\n",
        "# ready code. We have no liability on this particular code under any circumstances; users should use\n",
        "# this code on their own risk. All software, hardware and othr products that are referenced in these \n",
        "# materials belong to the respective vendor who developed or who owns this product.\n",
        "\n",
        "# ****************************************************************************************************************************\n",
        "  "
      ]
    }
  ]
}