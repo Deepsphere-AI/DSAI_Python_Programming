{
  "nbformat": 4,
  "nbformat_minor": 0,
  "metadata": {
    "colab": {
      "provenance": [],
      "include_colab_link": true
    },
    "kernelspec": {
      "name": "python3",
      "display_name": "Python 3"
    },
    "language_info": {
      "name": "python"
    }
  },
  "cells": [
    {
      "cell_type": "markdown",
      "metadata": {
        "id": "view-in-github",
        "colab_type": "text"
      },
      "source": [
        "<a href=\"https://colab.research.google.com/github/Deepsphere-AI/DSAI_Python_Programming/blob/main/Unit-7/Data%20Visualization%20with%20Python/Program%20125%20-%20CSLAB_GRAPHING_MATPLOTLIB_SCATTER_PLOT_V1.ipynb\" target=\"_parent\"><img src=\"https://colab.research.google.com/assets/colab-badge.svg\" alt=\"Open In Colab\"/></a>"
      ]
    },
    {
      "cell_type": "code",
      "execution_count": 15,
      "metadata": {
        "id": "l7uxOSp-6C6z",
        "colab": {
          "base_uri": "https://localhost:8080/",
          "height": 1000
        },
        "outputId": "04a74012-4d48-4f5d-d681-98dadb52cf8f"
      },
      "outputs": [
        {
          "output_type": "stream",
          "name": "stdout",
          "text": [
            "Drive already mounted at /content/drive; to attempt to forcibly remount, call drive.mount(\"/content/drive\", force_remount=True).\n",
            "<class 'pandas.core.frame.DataFrame'>\n",
            "RangeIndex: 99 entries, 0 to 98\n",
            "Data columns (total 60 columns):\n",
            " #   Column                                 Non-Null Count  Dtype \n",
            "---  ------                                 --------------  ----- \n",
            " 0   patient_nbr                            99 non-null     int64 \n",
            " 1   Race                                   99 non-null     object\n",
            " 2   Gender                                 99 non-null     object\n",
            " 3   Age                                    99 non-null     object\n",
            " 4   Weight(KG)                             99 non-null     int64 \n",
            " 5   Education Level (Grade)                99 non-null     int64 \n",
            " 6   Occuptation                            99 non-null     object\n",
            " 7   Maritial Status                        99 non-null     object\n",
            " 8   Spouse                                 99 non-null     object\n",
            " 9   Hospital                               99 non-null     object\n",
            " 10  admission_type_id                      99 non-null     int64 \n",
            " 11  discharge_disposition_id               99 non-null     int64 \n",
            " 12  admission_source_id                    99 non-null     int64 \n",
            " 13  time_in_hospital                       99 non-null     int64 \n",
            " 14  medical_specialty                      99 non-null     object\n",
            " 15  num_lab_procedures                     99 non-null     int64 \n",
            " 16  num_procedures                         99 non-null     int64 \n",
            " 17  num_medications                        99 non-null     int64 \n",
            " 18  Travel History                         99 non-null     object\n",
            " 19  Smoking Habits                         99 non-null     object\n",
            " 20  Sleeping History (Hours in a Day)      99 non-null     int64 \n",
            " 21  Walking Activity (No of Steps a Days)  99 non-null     int64 \n",
            " 22  Workout                                99 non-null     object\n",
            " 23  Blood Pressure                         99 non-null     object\n",
            " 24  Diabetes                               99 non-null     object\n",
            " 25  diag_1                                 99 non-null     object\n",
            " 26  diag_2                                 99 non-null     object\n",
            " 27  diag_3                                 99 non-null     object\n",
            " 28  number_diagnoses                       99 non-null     int64 \n",
            " 29  max_glu_serum                          99 non-null     object\n",
            " 30  A1Cresult                              99 non-null     object\n",
            " 31  metformin                              99 non-null     object\n",
            " 32  repaglinide                            99 non-null     object\n",
            " 33  nateglinide                            99 non-null     object\n",
            " 34  chlorpropamide                         99 non-null     object\n",
            " 35  glimepiride                            99 non-null     object\n",
            " 36  acetohexamide                          99 non-null     object\n",
            " 37  glipizide                              99 non-null     object\n",
            " 38  glyburide                              99 non-null     object\n",
            " 39  tolbutamide                            99 non-null     object\n",
            " 40  pioglitazone                           99 non-null     object\n",
            " 41  rosiglitazone                          99 non-null     object\n",
            " 42  acarbose                               99 non-null     object\n",
            " 43  miglitol                               99 non-null     object\n",
            " 44  troglitazone                           99 non-null     object\n",
            " 45  tolazamide                             99 non-null     object\n",
            " 46  examide                                99 non-null     object\n",
            " 47  citoglipton                            99 non-null     object\n",
            " 48  insulin                                99 non-null     object\n",
            " 49  glyburide-metformin                    99 non-null     object\n",
            " 50  glipizide-metformin                    99 non-null     object\n",
            " 51  glimepiride-pioglitazone               99 non-null     object\n",
            " 52  metformin-rosiglitazone                99 non-null     object\n",
            " 53  metformin-pioglitazone                 99 non-null     object\n",
            " 54  change                                 99 non-null     object\n",
            " 55  diabetesMed                            99 non-null     object\n",
            " 56  Choloestrol                            99 non-null     object\n",
            " 57  Alcohol                                99 non-null     object\n",
            " 58  Recreational Drugs                     99 non-null     object\n",
            " 59  Readmission(Y/N)                       99 non-null     int64 \n",
            "dtypes: int64(14), object(46)\n",
            "memory usage: 46.5+ KB\n",
            "Accuracy of the model is 88.00\n"
          ]
        },
        {
          "output_type": "execute_result",
          "data": {
            "text/plain": [
              "<matplotlib.axes._subplots.AxesSubplot at 0x7f9d64744e80>"
            ]
          },
          "metadata": {},
          "execution_count": 15
        },
        {
          "output_type": "display_data",
          "data": {
            "text/plain": [
              "<Figure size 432x288 with 1 Axes>"
            ],
            "image/png": "[encoded data removed]"
          },
          "metadata": {
            "needs_background": "light"
          }
        }
      ],
      "source": [
        "\n",
        "# *********************************************************************************************************************\n",
        "  \n",
        "  # File Name \t:   CSLAB_GRAPHING_MATPLOTLIB_SCATTER_PLOT_V1\n",
        "  # Purpose \t:   A Program in Python for Scatter Plot in matplotlib\n",
        "  # Author\t:   Deepsphere.ai\n",
        "  # Reviewer \t:   Jothi Periasamy\n",
        "  # Date \t:  10/26/2022\n",
        "  # Version\t:   1.0\t\n",
        "  \n",
        "# ***********************************************************************************************************************\n",
        "   \n",
        "## Program Description : Program for Scatter PLot in matplotlib in Python\n",
        "\n",
        "## Python Development Environment & Runtime - Python, Anaconda\n",
        "\n",
        "import pandas as pd\n",
        "import numpy as np\n",
        "import matplotlib.pyplot as plt\n",
        "import seaborn as sns\n",
        "import warnings\n",
        "warnings.simplefilter(\"ignore\")\n",
        "from sklearn.model_selection import train_test_split\n",
        "from sklearn.linear_model import LogisticRegression\n",
        "from sklearn.metrics import accuracy_score,confusion_matrix\n",
        "\n",
        "from google.colab import drive\n",
        "drive.mount('/content/drive')\n",
        "\n",
        "#Import the Patient Readmission dataset\n",
        "\n",
        "vAR_CSLAB_df=pd.read_csv(r'/content/drive/MyDrive/Semester-4/Data Science for Enterprise/Data/Patient Readmission.csv')\n",
        "\n",
        "vAR_CSLAB_df.head()\n",
        "\n",
        "vAR_CSLAB_df.info()\n",
        "\n",
        "#checking for null values\n",
        "\n",
        "vAR_CSLAB_df.isnull().sum()\n",
        "\n",
        "vAR_CSLAB_df.columns\n",
        "\n",
        "vAR_CSLAB_df['Readmission(Y/N)'].value_counts()\n",
        "\n",
        "sns.countplot(vAR_CSLAB_df['Readmission(Y/N)'])\n",
        "\n",
        "# Select all the features\n",
        "\n",
        "vAR_CSLAB_x=vAR_CSLAB_df[['Weight(KG)','time_in_hospital', 'num_lab_procedures','num_procedures','num_medications','Sleeping History (Hours in a Day)','Walking Activity (No of Steps a Days)','number_diagnoses']]\n",
        "\n",
        "# Select the Label\n",
        "\n",
        "vAR_CSLAB_y=vAR_CSLAB_df['Readmission(Y/N)']\n",
        "\n",
        "vAR_CSLAB_x_train,vAR_CSLAB_x_test,vAR_CSLAB_y_train,vAR_CSLAB_y_test=train_test_split(vAR_CSLAB_x,vAR_CSLAB_y,random_state=0)\n",
        "\n",
        "vAR_CSLAB_model=LogisticRegression()\n",
        "\n",
        "vAR_CSLAB_model.fit(vAR_CSLAB_x_train,vAR_CSLAB_y_train)\n",
        "\n",
        "vAR_CSLAB_y_pred=vAR_CSLAB_model.predict(vAR_CSLAB_x_test)\n",
        "\n",
        "vAR_CSLAB_y_pred\n",
        "\n",
        "confusion_matrix(vAR_CSLAB_y_test,vAR_CSLAB_y_pred)\n",
        "\n",
        "vAR_CSLAB_accuracy=accuracy_score(vAR_CSLAB_y_test,vAR_CSLAB_y_pred)*100\n",
        "\n",
        "print(\"Accuracy of the model is {:.2f}\".format(vAR_CSLAB_accuracy))\n",
        "\n",
        "vAR_CSLAB_y_pred = pd.DataFrame(vAR_CSLAB_y_pred)\n",
        "\n",
        "vAR_CSLAB_y_pred.head(2)\n",
        "\n",
        "vAR_CSLAB_df1 = vAR_CSLAB_df.merge(vAR_CSLAB_y_pred,left_index=True, right_index=True)\n",
        "\n",
        "vAR_CSLAB_df1\n",
        "\n",
        "sns.scatterplot(data=vAR_CSLAB_df1, x=\"patient_nbr\", y=\"Readmission(Y/N)\")\n",
        "\n",
        "# ****************************************************************************************************************************\n",
        "#   Disclaimer.\n",
        "\n",
        "# We are providing this code block strictly for learning and researching, this is not a production\n",
        "# ready code. We have no liability on this particular code under any circumstances; users should use\n",
        "# this code on their own risk. All software, hardware and othr products that are referenced in these \n",
        "# materials belong to the respective vendor who developed or who owns this product.\n",
        "\n",
        "# ****************************************************************************************************************************\n",
        "  "
      ]
    },
    {
      "cell_type": "code",
      "source": [],
      "metadata": {
        "id": "Yeb6e1OOidzw"
      },
      "execution_count": null,
      "outputs": []
    }
  ]
}