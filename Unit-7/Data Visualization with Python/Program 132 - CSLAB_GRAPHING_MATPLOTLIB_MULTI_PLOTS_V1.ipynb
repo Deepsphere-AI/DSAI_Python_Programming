{
  "nbformat": 4,
  "nbformat_minor": 0,
  "metadata": {
    "colab": {
      "provenance": [],
      "authorship_tag": "ABX9TyNxPcvUqxcPPE0F0+EUtJ58",
      "include_colab_link": true
    },
    "kernelspec": {
      "name": "python3",
      "display_name": "Python 3"
    },
    "language_info": {
      "name": "python"
    }
  },
  "cells": [
    {
      "cell_type": "markdown",
      "metadata": {
        "id": "view-in-github",
        "colab_type": "text"
      },
      "source": [
        "<a href=\"https://colab.research.google.com/github/Deepsphere-AI/DSAI_Python_Programming/blob/main/Unit-7/Data%20Visualization%20with%20Python/Program%20132%20-%20CSLAB_GRAPHING_MATPLOTLIB_MULTI_PLOTS_V1.ipynb\" target=\"_parent\"><img src=\"https://colab.research.google.com/assets/colab-badge.svg\" alt=\"Open In Colab\"/></a>"
      ]
    },
    {
      "cell_type": "code",
      "execution_count": null,
      "metadata": {
        "id": "6iv23XNr-AxN"
      },
      "outputs": [],
      "source": [
        "\n",
        "# *********************************************************************************************************************\n",
        "  \n",
        "  # File Name \t:   CSLAB_GRAPHING_MATPLOTLIB_MULTI_PLOTS_V1\n",
        "  # Purpose \t:   A Program in Python for Multi Plots in matplotlib\n",
        "  # Author\t:   Deepsphere.ai\n",
        "  # Reviewer \t:   Jothi Periasamy\n",
        "  # Date \t:   10/26/2022\n",
        "  # Version\t:   1.0\t\n",
        "  \n",
        "# ***********************************************************************************************************************\n",
        "   \n",
        "## Program Description : Program for Multi Plots in matplotlib in Python\n",
        "\n",
        "## Python Development Environment & Runtime - Python, Anaconda\n",
        "\n",
        "from pylab import *\n",
        "\n",
        "vAR_CSLAB_fig =figure()\n",
        "\n",
        "vAR_CSLAB_fig.subplots_adjust(bottom=0.025, left=0.025, top = 0.975, right=0.975)\n",
        "\n",
        "subplot(2,1,1)\n",
        "\n",
        "xticks([]), yticks([])\n",
        "\n",
        "subplot(2,3,4)\n",
        "\n",
        "xticks([]), yticks([])\n",
        "\n",
        "subplot(2,3,5)\n",
        "\n",
        "xticks([]), yticks([])\n",
        "\n",
        "subplot(2,3,6)\n",
        "  \n",
        "xticks([]), yticks([])\n",
        "\n",
        "show()\n",
        "\n",
        "# ****************************************************************************************************************************\n",
        "#   Disclaimer.\n",
        "\n",
        "# We are providing this code block strictly for learning and researching, this is not a production\n",
        "# ready code. We have no liability on this particular code under any circumstances; users should use\n",
        "# this code on their own risk. All software, hardware and othr products that are referenced in these \n",
        "# materials belong to the respective vendor who developed or who owns this product.\n",
        "\n",
        "# ****************************************************************************************************************************\n",
        "  "
      ]
    }
  ]
}