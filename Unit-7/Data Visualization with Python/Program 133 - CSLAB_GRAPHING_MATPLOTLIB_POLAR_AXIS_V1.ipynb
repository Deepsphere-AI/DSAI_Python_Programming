{
  "nbformat": 4,
  "nbformat_minor": 0,
  "metadata": {
    "colab": {
      "provenance": [],
      "authorship_tag": "ABX9TyNM45+HKTfyD69tDhkZZTAM",
      "include_colab_link": true
    },
    "kernelspec": {
      "name": "python3",
      "display_name": "Python 3"
    },
    "language_info": {
      "name": "python"
    }
  },
  "cells": [
    {
      "cell_type": "markdown",
      "metadata": {
        "id": "view-in-github",
        "colab_type": "text"
      },
      "source": [
        "<a href=\"https://colab.research.google.com/github/Deepsphere-AI/DSAI_Python_Programming/blob/main/Unit-7/Data%20Visualization%20with%20Python/Program%20133%20-%20CSLAB_GRAPHING_MATPLOTLIB_POLAR_AXIS_V1.ipynb\" target=\"_parent\"><img src=\"https://colab.research.google.com/assets/colab-badge.svg\" alt=\"Open In Colab\"/></a>"
      ]
    },
    {
      "cell_type": "code",
      "execution_count": null,
      "metadata": {
        "id": "5z6dPshn-gMX"
      },
      "outputs": [],
      "source": [
        "\n",
        "# *********************************************************************************************************************\n",
        "  \n",
        "  # File Name \t:   CSLAB_GRAPHING_MATPLOTLIB_POLAR_AXIS_V1\n",
        "  # Purpose \t:   A Program in Python for Polar Axis in matplotlib\n",
        "  # Author\t:   Deepsphere.ai\n",
        "  # Reviewer \t:   Jothi Periasamy\n",
        "  # Date \t:   10/26/2022\n",
        "  # Version\t:   1.0\t\n",
        "  \n",
        "# ***********************************************************************************************************************\n",
        "   \n",
        "## Program Description : Program for Polar Axis in matplotlib in Python\n",
        "\n",
        "## Python Development Environment & Runtime - Python, Anaconda\n",
        "\n",
        "from pylab import *\n",
        "\n",
        "import numpy as vAR_np\n",
        "\n",
        "vAR_CSLAB_ax = axes([0.025,0.025,0.95,0.95], polar=True)\n",
        "\n",
        "vAR_CSLAB_N = 20\n",
        "\n",
        "vAR_CSLAB_theta = vAR_np.arange(0.0, 2*vAR_np.pi, 2*vAR_np.pi/vAR_CSLAB_N)\n",
        "\n",
        "vAR_CSLAB_radii = 10*vAR_np.random.rand(vAR_CSLAB_N)\n",
        "\n",
        "vAR_CSLAB_width = vAR_np.pi/4*vAR_np.random.rand(vAR_CSLAB_N)\n",
        "\n",
        "vAR_CSLAB_bars = bar(vAR_CSLAB_theta, vAR_CSLAB_radii, width=vAR_CSLAB_width, bottom=0.0)\n",
        "\n",
        "for vAR_CSLAB_r,vAR_CSLAB_bar in zip(vAR_CSLAB_radii, vAR_CSLAB_bars):\n",
        "    \n",
        "    vAR_CSLAB_bar.set_facecolor( cm.jet(vAR_CSLAB_r/10.))\n",
        "    \n",
        "    vAR_CSLAB_bar.set_alpha(0.5)\n",
        "    \n",
        "    vAR_CSLAB_ax = axes([0.025,0.025,0.95,0.95])\n",
        "\n",
        "    vAR_CSLAB_ax.set_xticklabels([])\n",
        "  \n",
        "    vAR_CSLAB_ax.set_yticklabels([])\n",
        "\n",
        "    show()\n",
        "\n",
        "# ****************************************************************************************************************************\n",
        "#   Disclaimer.\n",
        "\n",
        "# We are providing this code block strictly for learning and researching, this is not a production\n",
        "# ready code. We have no liability on this particular code under any circumstances; users should use\n",
        "# this code on their own risk. All software, hardware and othr products that are referenced in these \n",
        "# materials belong to the respective vendor who developed or who owns this product.\n",
        "\n",
        "# ****************************************************************************************************************************\n",
        "  "
      ]
    }
  ]
}