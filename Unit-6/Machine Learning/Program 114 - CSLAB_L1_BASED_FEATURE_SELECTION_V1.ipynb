{
  "nbformat": 4,
  "nbformat_minor": 0,
  "metadata": {
    "colab": {
      "provenance": [],
      "authorship_tag": "ABX9TyMhRfOa41ex3AT17nu/T/gL",
      "include_colab_link": true
    },
    "kernelspec": {
      "name": "python3",
      "display_name": "Python 3"
    },
    "language_info": {
      "name": "python"
    }
  },
  "cells": [
    {
      "cell_type": "markdown",
      "metadata": {
        "id": "view-in-github",
        "colab_type": "text"
      },
      "source": [
        "<a href=\"https://colab.research.google.com/github/Deepsphere-AI/DSAI_Python_Programming/blob/main/Unit-6/Machine%20Learning/Program%20114%20-%20CSLAB_L1_BASED_FEATURE_SELECTION_V1.ipynb\" target=\"_parent\"><img src=\"https://colab.research.google.com/assets/colab-badge.svg\" alt=\"Open In Colab\"/></a>"
      ]
    },
    {
      "cell_type": "code",
      "execution_count": null,
      "metadata": {
        "id": "682XzVEazZTO"
      },
      "outputs": [],
      "source": [
        "\n",
        "# *********************************************************************************************************************\n",
        "  \n",
        "  # File Name \t:   CSLAB_L1_BASED_FEATURE_SELECTION_V1\n",
        "  # Purpose \t:   A Program in Python for L1 Based Feature Selection\n",
        "  # Author\t:   Deepsphere.ai\n",
        "  # Reviewer \t:   Jothi Periasamy\n",
        "  # Date \t:   10/26/2022\n",
        "  # Version\t:   1.0\t\n",
        "  \n",
        "# **********************************************************************************************************************\n",
        "\n",
        "## Program Description : Program for L1 Based Feature Selection in Python\n",
        "\n",
        "## Python Development Environment & Runtime - Python, Anaconda\n",
        "\n",
        "from sklearn.svm import LinearSVC\n",
        "\n",
        "from sklearn.datasets import load_iris\n",
        "\n",
        "from sklearn.feature_selection import SelectFromModel\n",
        "\n",
        "vAR_CSLAB_iris = load_iris()\n",
        "\n",
        "vAR_CSLAB_X, vAR_CSLAB_y = vAR_CSLAB_iris.data, vAR_CSLAB_iris.target\n",
        "\n",
        "vAR_CSLAB_X.shape\n",
        "\n",
        "vAR_CSLAB_lsvc = LinearSVC(C=0.01, penalty=\"l1\", dual=False).fit(vAR_CSLAB_X, vAR_CSLAB_y)\n",
        "\n",
        "vAR_CSLAB_model = SelectFromModel(vAR_CSLAB_lsvc, prefit=True)\n",
        "\n",
        "vAR_CSLAB_X_new = model.transform(vAR_CSLAB_X)\n",
        "\n",
        "vAR_CSLAB_X_new.shape\n",
        "\n",
        "# ****************************************************************************************************************************\n",
        "#   Disclaimer.\n",
        "\n",
        "# We are providing this code block strictly for learning and researching, this is not a production\n",
        "# ready code. We have no liability on this particular code under any circumstances; users should use\n",
        "# this code on their own risk. All software, hardware and othr products that are referenced in these \n",
        "# materials belong to the respective vendor who developed or who owns this product.\n",
        "\n",
        "# ****************************************************************************************************************************\n",
        "   "
      ]
    }
  ]
}