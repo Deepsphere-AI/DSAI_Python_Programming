{
  "nbformat": 4,
  "nbformat_minor": 0,
  "metadata": {
    "colab": {
      "provenance": [],
      "authorship_tag": "ABX9TyPoZlA06rgAT95Zz2x/cVkf",
      "include_colab_link": true
    },
    "kernelspec": {
      "name": "python3",
      "display_name": "Python 3"
    },
    "language_info": {
      "name": "python"
    }
  },
  "cells": [
    {
      "cell_type": "markdown",
      "metadata": {
        "id": "view-in-github",
        "colab_type": "text"
      },
      "source": [
        "<a href=\"https://colab.research.google.com/github/Deepsphere-AI/DSAI_Python_Programming/blob/main/Unit-6/Machine%20Learning/Program%20109%20-%20CSLAB_GRAPH_ADDING_EDGES_NETWORKX_V1.ipynb\" target=\"_parent\"><img src=\"https://colab.research.google.com/assets/colab-badge.svg\" alt=\"Open In Colab\"/></a>"
      ]
    },
    {
      "cell_type": "code",
      "execution_count": null,
      "metadata": {
        "id": "B_0-vjlfw3Wf"
      },
      "outputs": [],
      "source": [
        "\n",
        "# *********************************************************************************************************************\n",
        "  \n",
        "  # File Name \t:   CSLAB_GRAPH_ADDING_EDGES_NETWORKX_V1\n",
        "  # Purpose \t:   A Program in Python for Adding Edges to a Graph With NetworkX Package\n",
        "  # Author\t:  Deepsphere.ai\n",
        "  # Reviewer \t:   Jothi Periasamy\n",
        "  # Date \t:   10/26/2022\n",
        "  # Version\t:   1.0\t\n",
        "  \n",
        "# ***********************************************************************************************************************\n",
        "  \n",
        "## Program Description : Program for Adding Edges to a Graph With NetworkX Package in Python\n",
        "\n",
        "## Python Development Environment & Runtime - Python, Anaconda\n",
        "\n",
        "import networkx as vAR_nx\n",
        "\n",
        "vAR_CSLAB_G=vAR_nx.Graph()\n",
        "\n",
        "vAR_CSLAB_G.add_node(\"a\")\n",
        "\n",
        "vAR_CSLAB_G.add_nodes_from([\"b\",\"c\"])\n",
        "\n",
        "vAR_CSLAB_G.add_edge(1,2)\n",
        "\n",
        "vAR_edge = (\"d\", \"e\")\n",
        "\n",
        "vAR_CSLAB_G.add_edge(*vAR_edge)\n",
        "\n",
        "vAR_edge = (\"a\", \"b\")\n",
        "\n",
        "vAR_CSLAB_G.add_edge(*vAR_edge)\n",
        "\n",
        "print(\"Nodes of graph: \")\n",
        "\n",
        "print(CSLAB_G.nodes())\n",
        "\n",
        "print(\"Edges of graph: \")\n",
        "\n",
        "print(vAR_CSLAB_G.edges())\n",
        "\n",
        "# ****************************************************************************************************************************\n",
        "#   Disclaimer.\n",
        "\n",
        "# We are providing this code block strictly for learning and researching, this is not a production\n",
        "# ready code. We have no liability on this particular code under any circumstances; users should use\n",
        "# this code on their own risk. All software, hardware and othr products that are referenced in these \n",
        "# materials belong to the respective vendor who developed or who owns this product.\n",
        "\n",
        "# ****************************************************************************************************************************\n",
        "  "
      ]
    }
  ]
}