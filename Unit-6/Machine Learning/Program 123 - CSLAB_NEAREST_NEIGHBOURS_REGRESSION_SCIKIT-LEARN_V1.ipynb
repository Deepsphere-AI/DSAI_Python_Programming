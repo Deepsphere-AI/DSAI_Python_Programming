{
  "nbformat": 4,
  "nbformat_minor": 0,
  "metadata": {
    "colab": {
      "provenance": [],
      "authorship_tag": "ABX9TyPFA3IO45yOJ2e4W315Wx1x",
      "include_colab_link": true
    },
    "kernelspec": {
      "name": "python3",
      "display_name": "Python 3"
    },
    "language_info": {
      "name": "python"
    }
  },
  "cells": [
    {
      "cell_type": "markdown",
      "metadata": {
        "id": "view-in-github",
        "colab_type": "text"
      },
      "source": [
        "<a href=\"https://colab.research.google.com/github/Deepsphere-AI/DSAI_Python_Programming/blob/main/Unit-6/Machine%20Learning/Program%20123%20-%20CSLAB_NEAREST_NEIGHBOURS_REGRESSION_SCIKIT-LEARN_V1.ipynb\" target=\"_parent\"><img src=\"https://colab.research.google.com/assets/colab-badge.svg\" alt=\"Open In Colab\"/></a>"
      ]
    },
    {
      "cell_type": "code",
      "execution_count": null,
      "metadata": {
        "id": "mc8PFpyK5CDI"
      },
      "outputs": [],
      "source": [
        "\n",
        "# *********************************************************************************************************************\n",
        "  \n",
        "  # File Name \t:   CSLAB_NEAREST_NEIGHBOURS_REGRESSION_SCIKIT-LEARN_V1\n",
        "  # Purpose \t:   A Program in Python for Nearest Neighbour Classification using SCIKIT-LEARN\n",
        "  # Author\t:   Deepsphere.ai\n",
        "  # Reviewer \t:   Jothi Periasamy\n",
        "  # Date \t:   10/26/2022\n",
        "  # Version\t:   1.0\t\n",
        "  \n",
        "# ***********************************************************************************************************************\n",
        "  \n",
        "## Program Description : Program for Nearest Neighbour Classification using SCIKIT-LEARN in Python\n",
        "\n",
        "## Python Development Environment & Runtime - Python, Anaconda\n",
        "\n",
        "import numpy as vAR_np\n",
        "\n",
        "import matplotlib.pyplot as vAR_plt\n",
        "\n",
        "from sklearn import neighbors\n",
        "\n",
        "vAR_np.random.seed(0)\n",
        "\n",
        "vAR_CSLAB_X = vAR_np.sort(5 * vAR_np.random.rand(40, 1), axis=0)\n",
        "\n",
        "vAR_CSLAB_T = vAR_np.linspace(0, 5, 500)[:, vAR_np.newaxis]\n",
        "\n",
        "vAR_CSLAB_y = vAR_np.sin(vAR_CSLAB_X).ravel()\n",
        "\n",
        "# Add noise to targets\n",
        "\n",
        "vAR_CSLAB_y[::5] += 1 * (0.5 - vAR_np.random.rand(8))\n",
        "\n",
        "# Fit regression model\n",
        "\n",
        "vAR_CSLAB_n_neighbors = 5\n",
        "\n",
        "for i, vAR_CSLAB_weights in enumerate(['uniform', 'distance']):\n",
        "    \n",
        "    vAR_CSLAB_knn = neighbors.KNeighborsRegressor(vAR_CSLAB_n_neighbors, weights=vAR_CSLAB_weights)\n",
        "    \n",
        "    vAR_CSLAB_y_ = vAR_CSLAB_knn.fit(vAR_CSLAB_X, vAR_CSLAB_y).predict(vAR_CSLAB_T)\n",
        "\n",
        "    vAR_plt.subplot(2, 1, i + 1)\n",
        "    \n",
        "    vAR_plt.scatter(vAR_CSLAB_X, vAR_CSLAB_y, c='k', label='data')\n",
        "    \n",
        "    vAR_plt.plot(vAR_CSLAB_T, vAR_CSLAB_y_, c='g', label='prediction')\n",
        "   \n",
        "    vAR_plt.axis('tight')\n",
        "    \n",
        "    vAR_plt.legend()\n",
        "    \n",
        "    vAR_plt.title(\"KNeighborsRegressor (k = %i, weights = '%s')\" % (vAR_CSLAB_n_neighbors, vAR_CSLAB_weights))\n",
        "\n",
        "vAR_plt.show()\n",
        "\n",
        "# ****************************************************************************************************************************\n",
        "#   Disclaimer.\n",
        "\n",
        "# We are providing this code block strictly for learning and researching, this is not a production\n",
        "# ready code. We have no liability on this particular code under any circumstances; users should use\n",
        "# this code on their own risk. All software, hardware and othr products that are referenced in these \n",
        "# materials belong to the respective vendor who developed or who owns this product.\n",
        "\n",
        "# ****************************************************************************************************************************\n",
        "  "
      ]
    }
  ]
}