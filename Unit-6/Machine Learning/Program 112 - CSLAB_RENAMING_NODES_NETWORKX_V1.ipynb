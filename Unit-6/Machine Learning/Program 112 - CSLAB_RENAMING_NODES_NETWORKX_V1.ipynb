{
  "nbformat": 4,
  "nbformat_minor": 0,
  "metadata": {
    "colab": {
      "provenance": [],
      "authorship_tag": "ABX9TyPj2OlrU5Mz2Lghp4USFKvp",
      "include_colab_link": true
    },
    "kernelspec": {
      "name": "python3",
      "display_name": "Python 3"
    },
    "language_info": {
      "name": "python"
    }
  },
  "cells": [
    {
      "cell_type": "markdown",
      "metadata": {
        "id": "view-in-github",
        "colab_type": "text"
      },
      "source": [
        "<a href=\"https://colab.research.google.com/github/Deepsphere-AI/DSAI_Python_Programming/blob/main/Unit-6/Machine%20Learning/Program%20112%20-%20CSLAB_RENAMING_NODES_NETWORKX_V1.ipynb\" target=\"_parent\"><img src=\"https://colab.research.google.com/assets/colab-badge.svg\" alt=\"Open In Colab\"/></a>"
      ]
    },
    {
      "cell_type": "code",
      "execution_count": null,
      "metadata": {
        "id": "Hc4sy79dyPMk"
      },
      "outputs": [],
      "source": [
        "\n",
        "# *********************************************************************************************************************\n",
        "  \n",
        "  # File Name \t:   CSLAB_RENAMING_NODES_NETWORKX_V1\n",
        "  # Purpose \t:   A Program in Python for Renaming Nodes of a Graph using NetworkX Package\n",
        "  # Author\t:   Deepsphere.ai\n",
        "  # Reviewer \t:   Jothi Periasamy\n",
        "  # Date \t:   10/26/2022\n",
        "  # Version\t:   1.0\t\n",
        " \n",
        "# ***********************************************************************************************************************\n",
        "  \n",
        "## Program Description : Program for Renaming Nodes a Graph using NetworkX Package in Python\n",
        "\n",
        "## Python Development Environment & Runtime - Python, Anaconda\n",
        "\n",
        "import os\n",
        "\n",
        "vAR_INI_File_Path = os.environ.get('PYTHON_TUTORIAL')\n",
        "\n",
        "import pandas as vAR_pd\n",
        "\n",
        "import configparser\n",
        "\n",
        "import matplotlib.pyplot as vAR_plt\n",
        "\n",
        "vAR_Config = configparser.ConfigParser(allow_no_value=True)\n",
        "\n",
        "vAR_Config.read(vAR_INI_File_Path)\n",
        "\n",
        "vAR_CSLAB_Save_Graph = vAR_Config['Data File Path']['vAR_CSLAB_PROGRAM_112_SAVE_GRAPH'] \n",
        "\n",
        "import networkx as vAR_nx\n",
        "\n",
        "import matplotlib.pyplot as vAR_plt\n",
        "\n",
        "vAR_CSLAB_G=vAR_nx.path_graph(4)\n",
        "\n",
        "vAR_cities = {0:\"Toronto\",1:\"London\",2:\"Berlin\",3:\"New York\"}\n",
        "\n",
        "vAR_CSLAB_H=nx.relabel_nodes(vAR_CSLAB_G,vAR_cities)\n",
        " \n",
        "print(\"Nodes of graph: \")\n",
        "\n",
        "print(vAR_CSLAB_H.nodes())\n",
        "\n",
        "print(\"Edges of graph: \")\n",
        "\n",
        "print(vAR_CSLAB_H.edges())\n",
        "\n",
        "vAR_nx.draw(vAR_CSLAB_H)\n",
        "\n",
        "vAR_plt.savefig(vAR_CSLAB_Save_Graph)\n",
        "\n",
        "\n",
        "/****************************************************************************************************************************\n",
        "  Disclaimer.\n",
        "\n",
        "We are providing this code block strictly for learning and researching, this is not a production\n",
        "ready code. We have no liability on this particular code under any circumstances; users should use\n",
        "this code on their own risk. All software, hardware and othr products that are referenced in these \n",
        "materials belong to the respective vendor who developed or who owns this product.\n",
        "\n",
        "/****************************************************************************************************************************\n",
        "  "
      ]
    }
  ]
}