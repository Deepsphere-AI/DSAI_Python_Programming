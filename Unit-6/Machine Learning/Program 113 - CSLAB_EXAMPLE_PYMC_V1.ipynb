{
  "nbformat": 4,
  "nbformat_minor": 0,
  "metadata": {
    "colab": {
      "provenance": [],
      "authorship_tag": "ABX9TyMbo2qEey5krpnE7/ZfVPnp",
      "include_colab_link": true
    },
    "kernelspec": {
      "name": "python3",
      "display_name": "Python 3"
    },
    "language_info": {
      "name": "python"
    }
  },
  "cells": [
    {
      "cell_type": "markdown",
      "metadata": {
        "id": "view-in-github",
        "colab_type": "text"
      },
      "source": [
        "<a href=\"https://colab.research.google.com/github/Deepsphere-AI/DSAI_Python_Programming/blob/main/Unit-6/Machine%20Learning/Program%20113%20-%20CSLAB_EXAMPLE_PYMC_V1.ipynb\" target=\"_parent\"><img src=\"https://colab.research.google.com/assets/colab-badge.svg\" alt=\"Open In Colab\"/></a>"
      ]
    },
    {
      "cell_type": "code",
      "execution_count": null,
      "metadata": {
        "id": "prCnt1lJy6CD"
      },
      "outputs": [],
      "source": [
        "\n",
        "# *********************************************************************************************************************\n",
        "  \n",
        "  # File Name \t:   CSLAB_EXAMPLE_PYMC_V1\n",
        "  # Purpose \t:   A Program in Python PYMC Package\n",
        "  # Author\t:   Deepsphere.ai\n",
        "  # Reviewer \t:   Jothi Periasamy\n",
        "  # Date \t:   10/26/2022\n",
        "  # Version\t:   1.0\t\n",
        "  \n",
        "# ***********************************************************************************************************************\n",
        "  \n",
        "## Program Description : Program for PYMC Package in Python\n",
        "\n",
        "## Python Development Environment & Runtime - Python, Anaconda\n",
        "\n",
        "import numpy as vAR_np\n",
        "import matplotlib.pyplot as vAR_plt\n",
        "vAR_plt.style.use('seaborn-darkgrid')\n",
        "\n",
        "# Initialize random number generator\n",
        "vAR_np.random.seed(123)\n",
        "\n",
        "# True parameter values\n",
        "vAR_CSLAB_alpha, vAR_CSLAB_sigma = 1, 1\n",
        "vAR_CSLAB_beta = [1, 2.5]\n",
        "\n",
        "# Size of dataset\n",
        "vAR_CSLAB_size = 100\n",
        "\n",
        "# Predictor variable\n",
        "vAR_CSLAB_X1 = vAR_np.random.randn(vAR_CSLAB_size)\n",
        "vAR_CSLAB_X2 = vAR_np.random.randn(vAR_CSLAB_size) * 0.2\n",
        "\n",
        "# Simulate outcome variable\n",
        "vAR_CSLAB_Y = vAR_CSLAB_alpha + vAR_CSLAB_beta[0]*vAR_CSLAB_X1 + vAR_CSLAB_beta[1]*vAR_CSLAB_X2 + np.random.randn(vAR_CSLAB_size)*vAR_CSLAB_sigma\n",
        "\n",
        "%matplotlib inline\n",
        "\n",
        "fig, axes = vAR_plt.subplots(1, 2, sharex=True, figsize=(10,4))\n",
        "axes[0].scatter(vAR_CSLAB_X1, vAR_CSLAB_Y)\n",
        "axes[1].scatter(vAR_CSLAB_X2, vAR_CSLAB_Y)\n",
        "axes[0].set_ylabel('Y'); axes[0].set_xlabel('vAR_CSLAB_X1'); axes[1].set_xlabel('vAR_CSLAB_X2');\n",
        "\n",
        "# ****************************************************************************************************************************\n",
        "#   Disclaimer.\n",
        "\n",
        "# We are providing this code block strictly for learning and researching, this is not a production\n",
        "# ready code. We have no liability on this particular code under any circumstances; users should use\n",
        "# this code on their own risk. All software, hardware and othr products that are referenced in these \n",
        "# materials belong to the respective vendor who developed or who owns this product.\n",
        "\n",
        "# ****************************************************************************************************************************\n",
        "  "
      ]
    }
  ]
}