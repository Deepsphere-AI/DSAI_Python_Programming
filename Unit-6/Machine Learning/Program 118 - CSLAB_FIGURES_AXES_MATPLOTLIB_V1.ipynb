{
  "nbformat": 4,
  "nbformat_minor": 0,
  "metadata": {
    "colab": {
      "provenance": [],
      "authorship_tag": "ABX9TyMzvXIq0fwQzsck07DPSFI1",
      "include_colab_link": true
    },
    "kernelspec": {
      "name": "python3",
      "display_name": "Python 3"
    },
    "language_info": {
      "name": "python"
    }
  },
  "cells": [
    {
      "cell_type": "markdown",
      "metadata": {
        "id": "view-in-github",
        "colab_type": "text"
      },
      "source": [
        "<a href=\"https://colab.research.google.com/github/Deepsphere-AI/DSAI_Python_Programming/blob/main/Unit-6/Machine%20Learning/Program%20118%20-%20CSLAB_FIGURES_AXES_MATPLOTLIB_V1.ipynb\" target=\"_parent\"><img src=\"https://colab.research.google.com/assets/colab-badge.svg\" alt=\"Open In Colab\"/></a>"
      ]
    },
    {
      "cell_type": "code",
      "execution_count": null,
      "metadata": {
        "id": "s8mOBKL72CUP"
      },
      "outputs": [],
      "source": [
        "\n",
        "# *********************************************************************************************************************\n",
        "  \n",
        "  # File Name \t:   CSLAB_FIGURES_AXES_MATPLOTLIB_V1\n",
        "  # Purpose \t:   A Program in Python for Figures & Axes using Matplotlib Package\n",
        "  # Author\t:  Deepsphere.ai\n",
        "  # Reviewer \t:   Jothi Periasamy\n",
        "  # Date \t:   10/26/2022\n",
        "  # Version\t:   1.0\t\n",
        "  \n",
        "# ***********************************************************************************************************************\n",
        "\n",
        "## Program Description : Program for Figures & Axes using Matplotlib Package in Python\n",
        "\n",
        "## Python Development Environment & Runtime - Python, Anaconda\n",
        "\n",
        "import numpy as vAR_np\n",
        "\n",
        "import matplotlib.pyplot as vAR_plt\n",
        "\n",
        "def f(t):\n",
        "    \n",
        "    return vAR_np.exp(-t) * vAR_np.cos(2*vAR_np.pi*t)\n",
        "\n",
        "vAR_CSLAB_t1 = vAR_np.arange(0.0, 5.0, 0.1)\n",
        "\n",
        "vAR_CSLAB_t2 = vAR_np.arange(0.0, 5.0, 0.02)\n",
        "\n",
        "vAR_plt.figure(1)\n",
        "\n",
        "vAR_plt.subplot(211)\n",
        "\n",
        "vAR_plt.plot(vAR_CSLAB_t1, f(vAR_CSLAB_t1), 'bo', vAR_CSLAB_t2, f(vAR_CSLAB_t2), 'k')\n",
        "\n",
        "vAR_plt.subplot(212)\n",
        "\n",
        "vAR_plt.plot(vAR_CSLAB_t2, vAR_np.cos(2*vAR_np.pi*vAR_CSLAB_t2), 'r--')\n",
        "\n",
        "vAR_plt.show()\n",
        "\n",
        "# ****************************************************************************************************************************\n",
        "#   Disclaimer.\n",
        "\n",
        "# We are providing this code block strictly for learning and researching, this is not a production\n",
        "# ready code. We have no liability on this particular code under any circumstances; users should use\n",
        "# this code on their own risk. All software, hardware and othr products that are referenced in these \n",
        "# materials belong to the respective vendor who developed or who owns this product.\n",
        "\n",
        "# ****************************************************************************************************************************\n",
        "  "
      ]
    }
  ]
}