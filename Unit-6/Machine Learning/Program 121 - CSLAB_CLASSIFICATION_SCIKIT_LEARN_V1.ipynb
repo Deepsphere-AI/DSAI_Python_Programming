{
  "nbformat": 4,
  "nbformat_minor": 0,
  "metadata": {
    "colab": {
      "provenance": [],
      "authorship_tag": "ABX9TyNdJ33SFIKUocM25LNpavhq",
      "include_colab_link": true
    },
    "kernelspec": {
      "name": "python3",
      "display_name": "Python 3"
    },
    "language_info": {
      "name": "python"
    }
  },
  "cells": [
    {
      "cell_type": "markdown",
      "metadata": {
        "id": "view-in-github",
        "colab_type": "text"
      },
      "source": [
        "<a href=\"https://colab.research.google.com/github/Deepsphere-AI/DSAI_Python_Programming/blob/main/Unit-6/Machine%20Learning/Program%20121%20-%20CSLAB_CLASSIFICATION_SCIKIT_LEARN_V1.ipynb\" target=\"_parent\"><img src=\"https://colab.research.google.com/assets/colab-badge.svg\" alt=\"Open In Colab\"/></a>"
      ]
    },
    {
      "cell_type": "code",
      "execution_count": null,
      "metadata": {
        "id": "Q-C1sHcQ4Jo3"
      },
      "outputs": [],
      "source": [
        "\n",
        "# *********************************************************************************************************************\n",
        "  \n",
        "  # File Name \t:   CSLAB_CLASSIFICATION_SCIKIT_LEARN_V1\n",
        "  # Purpose \t:   A Program in Python for Classification Using SCIKIT LEARN\n",
        "  # Author\t:   Deepsphere.ai\n",
        "  # Reviewer \t:   Jothi Periasamy\n",
        "  # Date \t:   10/26/2022\n",
        "  # Version\t:   1.0\t\n",
        "  \n",
        "# ***********************************************************************************************************************\n",
        "\n",
        "## Program Description : Program for Classification Using SCIKIT LEARN in Python\n",
        "\n",
        "## Python Development Environment & Runtime - Python, Anaconda\n",
        "\n",
        "import os\n",
        "\n",
        "vAR_INI_File_Path = os.environ.get('PYTHON_TUTORIAL')\n",
        "\n",
        "import numpy as vAR_np\n",
        "\n",
        "import pandas as vAR_pd\n",
        "\n",
        "import configparser\n",
        "\n",
        "import matplotlib.pyplot as vAR_plt\n",
        "\n",
        "vAR_Config = configparser.ConfigParser(allow_no_value=True)\n",
        "\n",
        "vAR_Config.read(vAR_INI_File_Path)\n",
        "\n",
        "vAR_CSLAB_Iris = vAR_Config['Data File Path']['vAR_CSLAB_PROGRAM_121_IRIS']  \n",
        "\n",
        "vAR_CSLAB_Iris = vAR_pd.read_csv(vAR_CSLAB_Iris)\n",
        "\n",
        "vAR_CSLAB_Iris.head()\n",
        "\n",
        "vAR_CSLAB_X = vAR_CSLAB_Iris.iloc[:,0:4]\n",
        "\n",
        "vAR_CSLAB_y = vAR_CSLAB_Iris.iloc[:,4:]\n",
        "\n",
        "from sklearn.preprocessing import StandardScaler\n",
        "\n",
        "from sklearn.model_selection import cross_val_score\n",
        "\n",
        "from sklearn.model_selection import train_test_split\n",
        "\n",
        "vAR_CSLAB_X_train, vAR_CSLAB_X_test, vAR_CSLAB_y_train, vAR_CSLAB_y_test = train_test_split(vAR_CSLAB_X, vAR_CSLAB_y, test_size=0.3, random_state=0)\n",
        "\n",
        "vAR_CSLAB_sc = StandardScaler()\n",
        "\n",
        "vAR_CSLAB_sc.fit(vAR_CSLAB_X_train)\n",
        "\n",
        "vAR_CSLAB_X_train_std = vAR_CSLAB_sc.transform(vAR_CSLAB_X_train)\n",
        "\n",
        "vAR_CSLAB_X_test_std = vAR_CSLAB_sc.transform(vAR_CSLAB_X_test)\n",
        "\n",
        "from sklearn.svm import SVC\n",
        "\n",
        "vAR_CSLAB_svm = SVC(kernel='rbf', random_state=0, gamma=.10, C=1.0)\n",
        "\n",
        "vAR_CSLAB_svm.fit(vAR_CSLAB_X_train_std, vAR_CSLAB_y_train)\n",
        "\n",
        "vAR_CSLAB_svm.predict(vAR_CSLAB_X_test)\n",
        "\n",
        "# ****************************************************************************************************************************\n",
        "#   Disclaimer.\n",
        "\n",
        "# We are providing this code block strictly for learning and researching, this is not a production\n",
        "# ready code. We have no liability on this particular code under any circumstances; users should use\n",
        "# this code on their own risk. All software, hardware and othr products that are referenced in these \n",
        "# materials belong to the respective vendor who developed or who owns this product.\n",
        "\n",
        "# ****************************************************************************************************************************\n",
        "   "
      ]
    }
  ]
}