{
  "nbformat": 4,
  "nbformat_minor": 0,
  "metadata": {
    "colab": {
      "provenance": [],
      "authorship_tag": "ABX9TyNvoMVSM/ckCRj1ex7wvm1z",
      "include_colab_link": true
    },
    "kernelspec": {
      "name": "python3",
      "display_name": "Python 3"
    },
    "language_info": {
      "name": "python"
    }
  },
  "cells": [
    {
      "cell_type": "markdown",
      "metadata": {
        "id": "view-in-github",
        "colab_type": "text"
      },
      "source": [
        "<a href=\"https://colab.research.google.com/github/Deepsphere-AI/DSAI_Python_Programming/blob/main/Unit-9/Assignments/Program%20149%20-%20CSLAB_CUSTOMER_RETENTION_ANALYSIS_V1.ipynb\" target=\"_parent\"><img src=\"https://colab.research.google.com/assets/colab-badge.svg\" alt=\"Open In Colab\"/></a>"
      ]
    },
    {
      "cell_type": "code",
      "execution_count": null,
      "metadata": {
        "id": "ewDAWM32WkOQ"
      },
      "outputs": [],
      "source": [
        "\n",
        "# *********************************************************************************************************************\n",
        "  \n",
        "  # File Name \t:   CSLAB_CUSTOMER_RETENTION_ANALYSIS_V1\n",
        "  # Purpose \t:   A Program in Python For Customer Retention Analysis\n",
        "  # Author\t:   Deepsphere.ai\n",
        "  # Reviewer \t:   Jothi Periasamy\n",
        "  # Date \t:   10/26/2022\n",
        "  # Version\t:   1.0\t\n",
        "  \n",
        "# ***********************************************************************************************************************\n",
        "\n",
        "## Program Description : Program For Customer Retention Analysis in Python\n",
        "\n",
        "## Python Development Environment & Runtime - Python, Anaconda\n",
        "\n",
        "from mpl_toolkits.mplot3d import Axes3D\n",
        "\n",
        "from matplotlib.collections import PolyCollection\n",
        "\n",
        "from matplotlib.colors import colorConverter\n",
        "\n",
        "import matplotlib.pyplot as vAR_plt\n",
        "\n",
        "import numpy as vAR_np\n",
        "\n",
        "vAR_CSLAB_fig = vAR_plt.figure()\n",
        "\n",
        "vAR_CSLAB_ax = vAR_CSLAB_fig.gca(projection='3d')\n",
        "\n",
        "def cc(arg):\n",
        "    \n",
        "    return colorConverter.to_rgba(arg, alpha=0.6)\n",
        "\n",
        "vAR_CSLAB_xs = vAR_np.arange(0, 10, 0.4)\n",
        "\n",
        "vAR_CSLAB_verts = []\n",
        "\n",
        "vAR_CSLAB_zs = [0.0, 1.0, 2.0, 3.0]\n",
        "\n",
        "for z in vAR_CSLAB_zs:\n",
        "    \n",
        "    vAR_CSLAB_ys = vAR_np.random.rand(len(vAR_CSLAB_xs))\n",
        "    \n",
        "    vAR_CSLAB_ys[0], vAR_CSLAB_ys[-1] = 0, 0\n",
        "    \n",
        "    vAR_CSLAB_verts.append(list(zip(vAR_CSLAB_xs, ys)))\n",
        "\n",
        "vAR_CSLAB_poly = PolyCollection(vAR_CSLAB_verts, facecolors=[cc('r'), cc('g'), cc('b'),\n",
        "                                         cc('y')])\n",
        "vAR_CSLAB_poly.set_alpha(0.7)\n",
        "\n",
        "vAR_CSLAB_ax.add_collection3d(vAR_CSLAB_poly, zs=zs, zdir='y')\n",
        "\n",
        "vAR_CSLAB_ax.set_xlim3d(0, 10)\n",
        "\n",
        "vAR_CSLAB_ax.set_ylim3d(-1, 4)\n",
        "\n",
        "vAR_CSLAB_ax.set_zlabel('Z')\n",
        "\n",
        "vAR_CSLAB_ax.set_zlim3d(0, 1)\n",
        "\n",
        "vAR_plt.show()\n",
        "\n",
        "# ****************************************************************************************************************************\n",
        "#   Disclaimer.\n",
        "\n",
        "# We are providing this code block strictly for learning and researching, this is not a production\n",
        "# ready code. We have no liability on this particular code under any circumstances; users should use\n",
        "# this code on their own risk. All software, hardware and othr products that are referenced in these \n",
        "# materials belong to the respective vendor who developed or who owns this product.\n",
        "\n",
        "# ****************************************************************************************************************************\n",
        "   "
      ]
    }
  ]
}