{
  "nbformat": 4,
  "nbformat_minor": 0,
  "metadata": {
    "colab": {
      "provenance": [],
      "authorship_tag": "ABX9TyPy8prqOsJHPlSvshQG6Ngo",
      "include_colab_link": true
    },
    "kernelspec": {
      "name": "python3",
      "display_name": "Python 3"
    },
    "language_info": {
      "name": "python"
    }
  },
  "cells": [
    {
      "cell_type": "markdown",
      "metadata": {
        "id": "view-in-github",
        "colab_type": "text"
      },
      "source": [
        "<a href=\"https://colab.research.google.com/github/Deepsphere-AI/DSAI_Python_Programming/blob/main/Unit-9/Assignments/Program%20160%20-%20CSLAB_CUSTOMER_MARKET_SHARE_V1.ipynb\" target=\"_parent\"><img src=\"https://colab.research.google.com/assets/colab-badge.svg\" alt=\"Open In Colab\"/></a>"
      ]
    },
    {
      "cell_type": "code",
      "execution_count": null,
      "metadata": {
        "id": "0MLNQ_Tfybys"
      },
      "outputs": [],
      "source": [
        "\n",
        "# *********************************************************************************************************************\n",
        "  \n",
        "  # File Name \t:   CSLAB_CUSTOMER_MARKET_SHARE_V1\n",
        "  # Purpose \t:   A Program in Python For Customer Market Share Analysis\n",
        "  # Author\t:   Deepsphere.ai\n",
        "  # Reviewer \t:   Jothi Periasamy\n",
        "  # Date \t:   10/26/2022\n",
        "  # Version\t:   1.0\t\n",
        "  \n",
        "# ***********************************************************************************************************************\n",
        "\n",
        "## Program Description : Program For Customer Market Share Analysis in Python\n",
        "\n",
        "## Python Development Environment & Runtime - Python, Anaconda\n",
        "\n",
        "import matplotlib.pyplot as vAR_plt\n",
        "\n",
        "import numpy as vAR_np\n",
        "\n",
        "vAR_CSLAB_data = ((3, 1000), (10, 3), (100, 30), (500, 800), (50, 1))\n",
        "\n",
        "vAR_plt.yscale('log')\n",
        "\n",
        "vAR_CSLAB_dim = len(vAR_CSLAB_data[0])\n",
        "\n",
        "vAR_CSLAB_w = 0.75\n",
        "\n",
        "vAR_CSLAB_dimw = vAR_CSLAB_w / vAR_CSLAB_dim\n",
        "\n",
        "vAR_CSLAB_x = vAR_np.arange(len(vAR_CSLAB_data))\n",
        " \n",
        "for i in range(len(vAR_CSLAB_data[0])):\n",
        "    \n",
        "    vAR_CSLAB_y = [d[i] for d in vAR_CSLAB_data]\n",
        "    \n",
        "vAR_CSLAB_b = vAR_plt.bar(vAR_CSLAB_x + i * vAR_CSLAB_dimw, vAR_CSLAB_y, vAR_CSLAB_dimw, bottom=0.001)\n",
        "\n",
        "vAR_plt.xticks(vAR_CSLAB_x + vAR_CSLAB_w / 2)\n",
        "\n",
        "vAR_plt.ylim((0.001, 1000))\n",
        "\n",
        "vAR_plt.show()\n",
        "\n",
        "# ****************************************************************************************************************************\n",
        "#   Disclaimer.\n",
        "\n",
        "# We are providing this code block strictly for learning and researching, this is not a production\n",
        "# ready code. We have no liability on this particular code under any circumstances; users should use\n",
        "# this code on their own risk. All software, hardware and othr products that are referenced in these \n",
        "# materials belong to the respective vendor who developed or who owns this product.\n",
        "\n",
        "# ****************************************************************************************************************************\n",
        "   "
      ]
    }
  ]
}