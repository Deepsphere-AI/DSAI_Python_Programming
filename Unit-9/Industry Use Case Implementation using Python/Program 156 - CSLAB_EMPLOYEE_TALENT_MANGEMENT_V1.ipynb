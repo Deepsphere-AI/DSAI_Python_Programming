{
  "nbformat": 4,
  "nbformat_minor": 0,
  "metadata": {
    "colab": {
      "provenance": [],
      "authorship_tag": "ABX9TyP1/g1bjwCWFsBHWa6GVbFY",
      "include_colab_link": true
    },
    "kernelspec": {
      "name": "python3",
      "display_name": "Python 3"
    },
    "language_info": {
      "name": "python"
    }
  },
  "cells": [
    {
      "cell_type": "markdown",
      "metadata": {
        "id": "view-in-github",
        "colab_type": "text"
      },
      "source": [
        "<a href=\"https://colab.research.google.com/github/Deepsphere-AI/DSAI_Python_Programming/blob/main/Unit-9/Industry%20Use%20Case%20Implementation%20using%20Python/Program%20156%20-%20CSLAB_EMPLOYEE_TALENT_MANGEMENT_V1.ipynb\" target=\"_parent\"><img src=\"https://colab.research.google.com/assets/colab-badge.svg\" alt=\"Open In Colab\"/></a>"
      ]
    },
    {
      "cell_type": "code",
      "execution_count": null,
      "metadata": {
        "id": "cwXT13ZawB2m"
      },
      "outputs": [],
      "source": [
        "\n",
        "# *********************************************************************************************************************\n",
        "  \n",
        "  # File Name \t:   CSLAB_EMPLOYEE_TALENT_MANGEMENT_V1\n",
        "  # Purpose \t:   A Program in Python For Employee Talent Management Analysis\n",
        "  # Author\t:   Deepsphere.ai\n",
        "  # Reviewer \t:   Jothi Periasamy\n",
        "  # Date \t:   10/26/2022\n",
        "  # Version\t:   1.0\t\n",
        "  \n",
        "# ***********************************************************************************************************************\n",
        "\n",
        "## Program Description : Program For Employee Talent Management Analysis in Python\n",
        "\n",
        "## Python Development Environment & Runtime - Python, Anaconda\n",
        "\n",
        "import matplotlib.pyplot as vAR_plt\n",
        "\n",
        "from mpl_toolkits.mplot3d import Axes3D\n",
        "\n",
        "import matplotlib.tri as vAR_tri\n",
        "\n",
        "import numpy as vAR_np\n",
        "\n",
        "import math\n",
        "\n",
        "# First create the x and y coordinates of the points.\n",
        "\n",
        "vAR_CSLAB_n_angles = 48\n",
        "\n",
        "vAR_CSLAB_n_radii = 8\n",
        "\n",
        "vAR_CSLAB_min_radius = 0.25\n",
        "\n",
        "vAR_CSLAB_radii = vAR_np.linspace(vAR_CSLAB_min_radius, 0.95, vAR_CSLAB_n_radii)\n",
        "\n",
        "vAR_CSLAB_angles = vAR_np.linspace(0, 2*math.pi, vAR_CSLAB_n_angles, endpoint=False)\n",
        "\n",
        "vAR_CSLAB_angles = vAR_np.repeat(vAR_CSLAB_angles[..., vAR_np.newaxis], vAR_CSLAB_n_radii, axis=1)\n",
        "\n",
        "vAR_CSLAB_angles[:, 1::2] += math.pi/vAR_CSLAB_n_angles\n",
        "\n",
        "vAR_CSLAB_x = (vAR_CSLAB_radii*vAR_np.cos(vAR_CSLAB_angles)).flatten()\n",
        "\n",
        "vAR_CSLAB_y = (vAR_CSLAB_radii*vAR_np.sin(vAR_CSLAB_angles)).flatten()\n",
        "\n",
        "vAR_CSLAB_z = (vAR_np.cos(vAR_CSLAB_radii)*vAR_np.cos(vAR_CSLAB_angles*3.0)).flatten()\n",
        "\n",
        "# Create a custom triangulation\n",
        " \n",
        "vAR_CSLAB_triang = vAR_tri.Triangulation(vAR_CSLAB_x, vAR_CSLAB_y)\n",
        "\n",
        "# Mask off unwanted triangles.\n",
        "\n",
        "vAR_CSLAB_xmid = vAR_CSLAB_x[vAR_CSLAB_triang.triangles].mean(axis=1)\n",
        " \n",
        "vAR_CSLAB_ymid = vAR_CSLAB_y[vAR_CSLAB_triang.triangles].mean(axis=1)\n",
        "\n",
        "vAR_CSLAB_mask = vAR_np.where(vAR_CSLAB_xmid*vAR_CSLAB_xmid + vAR_CSLAB_ymid*vAR_CSLAB_ymid < vAR_CSLAB_min_radius*vAR_CSLAB_min_radius, 1, 0)\n",
        "\n",
        "vAR_CSLAB_triang.set_mask(vAR_CSLAB_mask)\n",
        "\n",
        "vAR_plt.figure()\n",
        "\n",
        "vAR_plt.gca(projection='3d')\n",
        "\n",
        "vAR_plt.tricontourf(vAR_CSLAB_triang, vAR_CSLAB_z)\n",
        "\n",
        "vAR_plt.show()\n",
        "\n",
        "# ****************************************************************************************************************************\n",
        "#   Disclaimer.\n",
        "\n",
        "# We are providing this code block strictly for learning and researching, this is not a production\n",
        "# ready code. We have no liability on this particular code under any circumstances; users should use\n",
        "# this code on their own risk. All software, hardware and othr products that are referenced in these \n",
        "# materials belong to the respective vendor who developed or who owns this product.\n",
        "\n",
        "# ****************************************************************************************************************************\n",
        "   "
      ]
    }
  ]
}