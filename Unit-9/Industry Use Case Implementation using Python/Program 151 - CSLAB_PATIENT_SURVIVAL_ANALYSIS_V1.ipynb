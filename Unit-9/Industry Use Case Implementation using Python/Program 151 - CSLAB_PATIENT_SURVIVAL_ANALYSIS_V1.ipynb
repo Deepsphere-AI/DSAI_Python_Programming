{
  "nbformat": 4,
  "nbformat_minor": 0,
  "metadata": {
    "colab": {
      "provenance": [],
      "authorship_tag": "ABX9TyOzPMSwM7EfWe7gmxjWrUA7",
      "include_colab_link": true
    },
    "kernelspec": {
      "name": "python3",
      "display_name": "Python 3"
    },
    "language_info": {
      "name": "python"
    }
  },
  "cells": [
    {
      "cell_type": "markdown",
      "metadata": {
        "id": "view-in-github",
        "colab_type": "text"
      },
      "source": [
        "<a href=\"https://colab.research.google.com/github/Deepsphere-AI/DSAI_Python_Programming/blob/main/Unit-9/Industry%20Use%20Case%20Implementation%20using%20Python/Program%20151%20-%20CSLAB_PATIENT_SURVIVAL_ANALYSIS_V1.ipynb\" target=\"_parent\"><img src=\"https://colab.research.google.com/assets/colab-badge.svg\" alt=\"Open In Colab\"/></a>"
      ]
    },
    {
      "cell_type": "code",
      "execution_count": null,
      "metadata": {
        "id": "VFgD-LMmYJpt"
      },
      "outputs": [],
      "source": [
        "\n",
        "# *********************************************************************************************************************\n",
        "  \n",
        "  # File Name \t:   CSLAB_PATIENT_SURVIVAL_ANALYSIS_V1\n",
        "  # Purpose \t:   A Program in Python For Patient Survival Analysis\n",
        "  # Author\t:   Deepsphere.ai\n",
        "  # Reviewer \t:   Jothi Periasamy\n",
        "  # Date \t:   10/26/2022\n",
        "  # Version\t:   1.0\t\n",
        "  \n",
        "# ***********************************************************************************************************************\n",
        "\n",
        "## Program Description : Program For Patient Survival Analysis in Python\n",
        "\n",
        "## Python Development Environment & Runtime - Python, Anaconda\n",
        "\n",
        "import numpy as np\n",
        "\n",
        "from mpl_toolkits.mplot3d import Axes3D\n",
        "\n",
        "import matplotlib.pyplot as vAR_plt\n",
        "\n",
        "VAR_CSLAB_n = 50\n",
        "\n",
        "VAR_CSLAB_vmin = 10\n",
        "\n",
        "VAR_CSLAB_vmax = 50\n",
        "\n",
        "def randrange(VAR_CSLAB_n, VAR_CSLAB_vmin, VAR_CSLAB_vmax):\n",
        "    \n",
        "    return (VAR_CSLAB_vmax - VAR_CSLAB_vmin)*vAR_np.random.rand(VAR_CSLAB_n) + VAR_CSLAB_vmin\n",
        "\n",
        "VAR_CSLAB_fig = vAR_plt.figure()\n",
        "\n",
        "VAR_CSLAB_ax = VAR_CSLAB_fig.add_subplot(111, projection='3d')\n",
        "\n",
        "for VAR_CSLAB_c, VAR_CSLAB_m, VAR_CSLAB_zl, VAR_CSLAB_zh in [('r', 'o', -50, -25), ('b', '^', -30, -5)]:\n",
        "    \n",
        "    VAR_CSLAB_xs = randrange(VAR_CSLAB_n, 23, 32)\n",
        "    \n",
        "    VAR_CSLAB_ys = randrange(VAR_CSLAB_n, 0, 100)\n",
        "    \n",
        "    VAR_CSLAB_zs = randrange(VAR_CSLAB_n, VAR_CSLAB_zl, VAR_CSLAB_zh)\n",
        "    \n",
        "    VAR_CSLAB_ax.scatter(VAR_CSLAB_xs, VAR_CSLAB_ys, VAR_CSLAB_zs, c=VAR_CSLAB_c, marker=VAR_CSLAB_m)\n",
        "\n",
        "vAR_plt.show()\n",
        "\n",
        "# ****************************************************************************************************************************\n",
        "#   Disclaimer.\n",
        "\n",
        "# We are providing this code block strictly for learning and researching, this is not a production\n",
        "# ready code. We have no liability on this particular code under any circumstances; users should use\n",
        "# this code on their own risk. All software, hardware and othr products that are referenced in these \n",
        "# materials belong to the respective vendor who developed or who owns this product.\n",
        "\n",
        "# ****************************************************************************************************************************\n",
        "   "
      ]
    }
  ]
}