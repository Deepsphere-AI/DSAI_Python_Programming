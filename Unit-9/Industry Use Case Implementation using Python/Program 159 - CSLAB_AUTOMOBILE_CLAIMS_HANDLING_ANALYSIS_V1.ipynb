{
  "nbformat": 4,
  "nbformat_minor": 0,
  "metadata": {
    "colab": {
      "provenance": [],
      "authorship_tag": "ABX9TyPaJuIY/hKXXqIQ9kpsmMQR",
      "include_colab_link": true
    },
    "kernelspec": {
      "name": "python3",
      "display_name": "Python 3"
    },
    "language_info": {
      "name": "python"
    }
  },
  "cells": [
    {
      "cell_type": "markdown",
      "metadata": {
        "id": "view-in-github",
        "colab_type": "text"
      },
      "source": [
        "<a href=\"https://colab.research.google.com/github/Deepsphere-AI/DSAI_Python_Programming/blob/main/Unit-9/Assignments/Program%20159%20-%20CSLAB_AUTOMOBILE_CLAIMS_HANDLING_ANALYSIS_V1.ipynb\" target=\"_parent\"><img src=\"https://colab.research.google.com/assets/colab-badge.svg\" alt=\"Open In Colab\"/></a>"
      ]
    },
    {
      "cell_type": "code",
      "execution_count": null,
      "metadata": {
        "id": "1CiyjrSCx7zx"
      },
      "outputs": [],
      "source": [
        "\n",
        "# *********************************************************************************************************************\n",
        "  \n",
        "  # File Name \t:   CSLAB_AUTOMOBILE_CLAIMS_HANDLING_ANALYSIS_V1\n",
        "  # Purpose \t:   A Program in Python For Auto Claims Handling\n",
        "  # Author\t:   Deepsphere.ai\n",
        "  # Reviewer \t:   Jothi Periasamy\n",
        "  # Date \t:   10/26/2022\n",
        "  # Version\t:   1.0\t\n",
        "  \n",
        "# ***********************************************************************************************************************\n",
        "\n",
        "## Program Description : Program For Auto Claims Handling Analysis in Python\n",
        "\n",
        "## Python Development Environment & Runtime - Python, Anaconda\n",
        "\n",
        "from mpl_toolkits.mplot3d import axes3d\n",
        "\n",
        "import matplotlib.pyplot as vAR_plt\n",
        "\n",
        "import numpy as vAR_np\n",
        "\n",
        "import time\n",
        "\n",
        "def generate(X, Y, phi):\n",
        "    \n",
        "    vAR_CSLAB_R = 1 - vAR_np.sqrt(vAR_CSLAB_X**2 + vAR_CSLAB_Y**2)\n",
        "    \n",
        "    return vAR_np.cos(2 * vAR_np.pi * vAR_CSLAB_X + phi) * vAR_CSLAB_R\n",
        "\n",
        "vAR_CSLAB_fig = vAR_plt.figure()\n",
        "\n",
        "vAR_CSLAB_ax = vAR_CSLAB_fig.add_subplot(111, projection='3d')\n",
        "\n",
        "vAR_CSLAB_xs = vAR_np.linspace(-1, 1, 50)\n",
        " \n",
        "vAR_CSLAB_ys = vAR_np.linspace(-1, 1, 50)\n",
        "\n",
        "vAR_CSLAB_X, vAR_CSLAB_Y = vAR_np.meshgrid(vAR_CSLAB_xs, vAR_CSLAB_ys)\n",
        "\n",
        "vAR_CSLAB_Z = generate(vAR_CSLAB_X, vAR_CSLAB_Y, 0.0)\n",
        "\n",
        "vAR_CSLAB_wframe = None\n",
        "\n",
        "vAR_CSLAB_tstart = time.time()\n",
        "\n",
        "for phi in vAR_np.linspace(0, 360 / 2 / vAR_np.pi, 100):\n",
        "    \n",
        "    vAR_CSLAB_oldcol = vAR_CSLAB_wframe\n",
        "\n",
        "vAR_CSLAB_Z = generate(vAR_CSLAB_X, vAR_CSLAB_Y, phi)\n",
        "    \n",
        "vAR_CSLAB_wframe = vAR_CSLAB_ax.plot_wireframe(vAR_CSLAB_X, vAR_CSLAB_Y, vAR_CSLAB_Z, rstride=2, cstride=2)\n",
        "\n",
        "vAR_plt.pause(.001)\n",
        "\n",
        "print('FPS: %f' % (100 / (time.time() - vAR_CSLAB_tstart)))\n",
        "\n",
        "# ****************************************************************************************************************************\n",
        "#   Disclaimer.\n",
        "\n",
        "# We are providing this code block strictly for learning and researching, this is not a production\n",
        "# ready code. We have no liability on this particular code under any circumstances; users should use\n",
        "# this code on their own risk. All software, hardware and othr products that are referenced in these \n",
        "# materials belong to the respective vendor who developed or who owns this product.\n",
        "\n",
        "# ****************************************************************************************************************************\n",
        "   "
      ]
    }
  ]
}