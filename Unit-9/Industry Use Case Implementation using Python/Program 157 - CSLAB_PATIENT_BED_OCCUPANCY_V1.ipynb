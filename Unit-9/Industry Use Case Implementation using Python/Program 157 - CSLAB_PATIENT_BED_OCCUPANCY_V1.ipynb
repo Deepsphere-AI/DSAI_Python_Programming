{
  "nbformat": 4,
  "nbformat_minor": 0,
  "metadata": {
    "colab": {
      "provenance": [],
      "authorship_tag": "ABX9TyOBL813SdQTvRDm3v8lEQZg",
      "include_colab_link": true
    },
    "kernelspec": {
      "name": "python3",
      "display_name": "Python 3"
    },
    "language_info": {
      "name": "python"
    }
  },
  "cells": [
    {
      "cell_type": "markdown",
      "metadata": {
        "id": "view-in-github",
        "colab_type": "text"
      },
      "source": [
        "<a href=\"https://colab.research.google.com/github/Deepsphere-AI/DSAI_Python_Programming/blob/main/Unit-9/Industry%20Use%20Case%20Implementation%20using%20Python/Program%20157%20-%20CSLAB_PATIENT_BED_OCCUPANCY_V1.ipynb\" target=\"_parent\"><img src=\"https://colab.research.google.com/assets/colab-badge.svg\" alt=\"Open In Colab\"/></a>"
      ]
    },
    {
      "cell_type": "code",
      "execution_count": null,
      "metadata": {
        "id": "YcrzdkZgwzov"
      },
      "outputs": [],
      "source": [
        "\n",
        "# *********************************************************************************************************************\n",
        "  \n",
        "  # File Name \t:   CSLAB_PATIENT_BED_OCCUPANCY_V1\n",
        "  # Purpose \t:   A Program in Python For Patient Bed Occupancy\n",
        "  # Author\t:   Deepsphere.ai\n",
        "  # Reviewer \t:   Jothi Periasamy\n",
        "  # Date \t:   10/26/2022\n",
        "  # Version\t:   1.0\t\n",
        "  \n",
        "# ***********************************************************************************************************************\n",
        "\n",
        "## Program Description : Program For Patient Bed Occupancy in Python\n",
        "\n",
        "## Python Development Environment & Runtime - Python, Anaconda\n",
        "\n",
        "from mpl_toolkits.mplot3d import Axes3D\n",
        "\n",
        "from matplotlib import cm\n",
        "\n",
        "import matplotlib.pyplot as vAR_plt\n",
        "\n",
        "import numpy as vAR_np\n",
        "\n",
        "vAR_CSLAB_n_angles = 36\n",
        "\n",
        "vAR_CSLAB_n_radii = 8\n",
        "\n",
        "vAR_CSLAB_radii = vAR_np.linspace(0.125, 1.0, vAR_CSLAB_n_radii)\n",
        "\n",
        "vAR_CSLAB_angles = vAR_np.linspace(0, 2*vAR_np.pi, vAR_CSLAB_n_angles, endpoint=False)\n",
        "\n",
        "vAR_CSLAB_angles = vAR_np.repeat(vAR_CSLAB_angles[..., vAR_np.newaxis], vAR_CSLAB_n_radii, axis=1)\n",
        "\n",
        "vAR_CSLAB_x = vAR_np.append(0, (vAR_CSLAB_radii*vAR_np.cos(vAR_CSLAB_angles)).flatten())\n",
        "\n",
        "vAR_CSLAB_y = vAR_np.append(0, (vAR_CSLAB_radii*vAR_np.sin(vAR_CSLAB_angles)).flatten())\n",
        "\n",
        "vAR_CSLAB_z = vAR_np.sin(-vAR_CSLAB_x*vAR_CSLAB_y)\n",
        "\n",
        "vAR_CSLAB_fig = vAR_plt.figure()\n",
        "\n",
        "vAR_CSLAB_ax = vAR_CSLAB_fig.gca(projection='3d')\n",
        "\n",
        "vAR_CSLAB_ax.plot_trisurf(vAR_CSLAB_x, vAR_CSLAB_y, vAR_CSLAB_z, cmap=cm.jet, linewidth=0.2)\n",
        "\n",
        "vAR_plt.show()\n",
        "\n",
        "# ****************************************************************************************************************************\n",
        "#   Disclaimer.\n",
        "\n",
        "# We are providing this code block strictly for learning and researching, this is not a production\n",
        "# ready code. We have no liability on this particular code under any circumstances; users should use\n",
        "# this code on their own risk. All software, hardware and othr products that are referenced in these \n",
        "# materials belong to the respective vendor who developed or who owns this product.\n",
        "\n",
        "# ****************************************************************************************************************************\n",
        "   "
      ]
    }
  ]
}