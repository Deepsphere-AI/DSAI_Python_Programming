{
  "nbformat": 4,
  "nbformat_minor": 0,
  "metadata": {
    "colab": {
      "provenance": [],
      "authorship_tag": "ABX9TyO4Ztm5wSKcMJvYQBZT0TOS",
      "include_colab_link": true
    },
    "kernelspec": {
      "name": "python3",
      "display_name": "Python 3"
    },
    "language_info": {
      "name": "python"
    }
  },
  "cells": [
    {
      "cell_type": "markdown",
      "metadata": {
        "id": "view-in-github",
        "colab_type": "text"
      },
      "source": [
        "<a href=\"https://colab.research.google.com/github/Deepsphere-AI/DSAI_Python_Programming/blob/main/Unit-9/Assignments/Program%20153%20-%20CSLAB_SALES_GROWTH_ANALYSIS_V1.ipynb\" target=\"_parent\"><img src=\"https://colab.research.google.com/assets/colab-badge.svg\" alt=\"Open In Colab\"/></a>"
      ]
    },
    {
      "cell_type": "code",
      "execution_count": null,
      "metadata": {
        "id": "hbwULUioeRBV"
      },
      "outputs": [],
      "source": [
        "\n",
        "# *********************************************************************************************************************\n",
        "  \n",
        "  # File Name \t:   CSLAB_SALES_GROWTH_ANALYSIS_V1\n",
        "  # Purpose \t:   A Program in Python For Sales Growth Analysis\n",
        "  # Author\t:   Deepsphere.ai\n",
        "  # Reviewer \t:   Jothi Periasamy\n",
        "  # Date \t:   10/26/2022\n",
        "  # Version\t:   1.0\t\n",
        "  \n",
        "# ***********************************************************************************************************************\n",
        "\n",
        "## Program Description : Program For Sales Growth Analysis in Python\n",
        "\n",
        "## Python Development Environment & Runtime - Python, Anaconda\n",
        "\n",
        "from mpl_toolkits.mplot3d import Axes3D\n",
        "\n",
        "import matplotlib.pyplot as vAR_plt\n",
        "\n",
        "import numpy as vAR_np\n",
        "\n",
        "vAR_CSLAB_fig = vAR_plt.figure()\n",
        "\n",
        "vAR_CSLAB_ax = vAR_CSLAB_fig.add_subplot(111, projection='3d')\n",
        "\n",
        "vAR_CSLAB_u = vAR_np.linspace(0, 2 * vAR_np.pi, 100)\n",
        " \n",
        "vAR_CSLAB_v = vAR_np.linspace(0, vAR_np.pi, 100)\n",
        "\n",
        "vAR_CSLAB_x = 10 * vAR_np.outer(vAR_np.cos(vAR_CSLAB_u), vAR_np.sin(vAR_CSLAB_v))\n",
        "\n",
        "vAR_CSLAB_y = 10 * vAR_np.outer(vAR_np.sin(vAR_CSLAB_u), vAR_np.sin(vAR_CSLAB_v))\n",
        "\n",
        "vAR_CSLAB_z = 10 * vAR_np.outer(vAR_np.ones(vAR_np.size(vAR_CSLAB_u)), vAR_np.cos(vAR_CSLAB_v))\n",
        "\n",
        "vAR_CSLAB_ax.plot_surface(vAR_CSLAB_x, vAR_CSLAB_y, vAR_CSLAB_z, rstride=4, cstride=4, color='b')\n",
        "\n",
        "vAR_plt.show()\n",
        "\n",
        "# ****************************************************************************************************************************\n",
        "#   Disclaimer.\n",
        "\n",
        "# We are providing this code block strictly for learning and researching, this is not a production\n",
        "# ready code. We have no liability on this particular code under any circumstances; users should use\n",
        "# this code on their own risk. All software, hardware and othr products that are referenced in these \n",
        "# materials belong to the respective vendor who developed or who owns this product.\n",
        "\n",
        "# ****************************************************************************************************************************\n",
        "   "
      ]
    }
  ]
}