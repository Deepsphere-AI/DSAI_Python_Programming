{
  "nbformat": 4,
  "nbformat_minor": 0,
  "metadata": {
    "colab": {
      "provenance": [],
      "authorship_tag": "ABX9TyNUn6yYMCJjkRn+vLql+Sxx",
      "include_colab_link": true
    },
    "kernelspec": {
      "name": "python3",
      "display_name": "Python 3"
    },
    "language_info": {
      "name": "python"
    }
  },
  "cells": [
    {
      "cell_type": "markdown",
      "metadata": {
        "id": "view-in-github",
        "colab_type": "text"
      },
      "source": [
        "<a href=\"https://colab.research.google.com/github/Deepsphere-AI/DSAI_Python_Programming/blob/main/Unit-9/Industry%20Use%20Case%20Implementation%20using%20Python/Program%20155%20-%20CSLAB_PRODUCT_CUSTOMER_SEGMENTATION_V1.ipynb\" target=\"_parent\"><img src=\"https://colab.research.google.com/assets/colab-badge.svg\" alt=\"Open In Colab\"/></a>"
      ]
    },
    {
      "cell_type": "code",
      "execution_count": null,
      "metadata": {
        "id": "cJpf5xuQvJXS"
      },
      "outputs": [],
      "source": [
        "\n",
        "# *********************************************************************************************************************\n",
        "  \n",
        "  # File Name \t:   CSLAB_PRODUCT_CUSTOMER_SEGMENTATION_V1\n",
        "  # Purpose \t:   A Program in Python For Product Customer Segmentation Analysis\n",
        "  # Author\t:   Deepsphere.ai\n",
        "  # Reviewer \t:   Jothi Periasamy\n",
        "  # Date \t:   10/26/2022\n",
        "  # Version\t:   1.0\t\n",
        "  \n",
        "# ***********************************************************************************************************************\n",
        "\n",
        "## Program Description : Program For Product Customer Segmentation Analysis in Python\n",
        "\n",
        "## Python Development Environment & Runtime - Python, Anaconda\n",
        "\n",
        "from mpl_toolkits.mplot3d import Axes3D\n",
        "\n",
        "import matplotlib\n",
        "\n",
        "import numpy as vAR_np\n",
        "\n",
        "from matplotlib import cm\n",
        "\n",
        "from matplotlib import pyplot as vAR_plt\n",
        "\n",
        "vAR_CSLAB_step = 0.04\n",
        "\n",
        "vAR_CSLAB_maxval = 1.0\n",
        "\n",
        "vAR_CSLAB_fig = vAR_plt.figure()\n",
        "\n",
        "vAR_CSLAB_ax = vAR_CSLAB_fig.add_subplot(111, projection='3d')\n",
        "\n",
        "# create supporting points in polar coordinates\n",
        "\n",
        "vAR_CSLAB_r = vAR_np.linspace(0, 1.25, 50)\n",
        "\n",
        "vAR_CSLAB_p = vAR_np.linspace(0, 2*vAR_np.pi, 50)\n",
        "\n",
        "vAR_CSLAB_R, vAR_CSLAB_P = vAR_np.meshgrid(vAR_CSLAB_r, vAR_CSLAB_p)\n",
        "\n",
        "# transform them to cartesian system\n",
        "\n",
        "vAR_CSLAB_X, vAR_CSLAB_Y = vAR_CSLAB_R*vAR_np.cos(vAR_CSLAB_P), vAR_CSLAB_R*vAR_np.sin(vAR_CSLAB_P)\n",
        "\n",
        "vAR_CSLAB_Z = ((vAR_CSLAB_R**2 - 1)**2)\n",
        "\n",
        "vAR_CSLAB_ax.plot_surface(vAR_CSLAB_X, vAR_CSLAB_Y, vAR_CSLAB_Z, rstride=1, cstride=1, cmap=cm.YlGnBu_r)\n",
        "\n",
        "vAR_CSLAB_ax.set_zlim3d(0, 1)\n",
        "\n",
        "vAR_CSLAB_ax.set_zlabel(r'$V(\\phi)$')\n",
        "\n",
        "vAR_plt.show()\n",
        "\n",
        "# ****************************************************************************************************************************\n",
        "#   Disclaimer.\n",
        "\n",
        "# We are providing this code block strictly for learning and researching, this is not a production\n",
        "# ready code. We have no liability on this particular code under any circumstances; users should use\n",
        "# this code on their own risk. All software, hardware and othr products that are referenced in these \n",
        "# materials belong to the respective vendor who developed or who owns this product.\n",
        "\n",
        "# ****************************************************************************************************************************\n",
        "   "
      ]
    }
  ]
}