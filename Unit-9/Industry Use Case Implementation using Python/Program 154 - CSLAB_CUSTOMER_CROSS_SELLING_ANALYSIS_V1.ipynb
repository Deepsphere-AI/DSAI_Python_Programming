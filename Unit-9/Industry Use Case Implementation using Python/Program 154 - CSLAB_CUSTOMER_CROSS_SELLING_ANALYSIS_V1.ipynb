{
  "nbformat": 4,
  "nbformat_minor": 0,
  "metadata": {
    "colab": {
      "provenance": [],
      "authorship_tag": "ABX9TyNrZFZ5CP5MBV65Sw7LVRQx",
      "include_colab_link": true
    },
    "kernelspec": {
      "name": "python3",
      "display_name": "Python 3"
    },
    "language_info": {
      "name": "python"
    }
  },
  "cells": [
    {
      "cell_type": "markdown",
      "metadata": {
        "id": "view-in-github",
        "colab_type": "text"
      },
      "source": [
        "<a href=\"https://colab.research.google.com/github/Deepsphere-AI/DSAI_Python_Programming/blob/main/Unit-9/Industry%20Use%20Case%20Implementation%20using%20Python/Program%20154%20-%20CSLAB_CUSTOMER_CROSS_SELLING_ANALYSIS_V1.ipynb\" target=\"_parent\"><img src=\"https://colab.research.google.com/assets/colab-badge.svg\" alt=\"Open In Colab\"/></a>"
      ]
    },
    {
      "cell_type": "code",
      "execution_count": null,
      "metadata": {
        "id": "Sa1FInfplYqd"
      },
      "outputs": [],
      "source": [
        "\n",
        "# ********************************************************************************************************************\n",
        "  \n",
        "  # File Name \t:   CSLAB_CUSTOMER_CROSS_SELLING_ANALYSIS_V1\n",
        "  # Purpose \t:   A Program in Python For Customer Cross Selling Analysis\n",
        "  # Author\t:   Deepsphere.ai\n",
        "  # Reviewer \t:   Jothi Periasamy\n",
        "  # Date \t:   10/26/2022\n",
        "  # Version\t:   1.0\t\n",
        "  \n",
        "# ***********************************************************************************************************************\n",
        "\n",
        "## Program Description : Program For Customer Cross Selling Analysis in Python\n",
        "\n",
        "## Python Development Environment & Runtime - Python, Anaconda\n",
        "\n",
        "from mpl_toolkits.mplot3d import Axes3D\n",
        "\n",
        "from matplotlib import cm\n",
        "\n",
        "from matplotlib.ticker import LinearLocator\n",
        "\n",
        "import matplotlib.pyplot as vAR_plt\n",
        "\n",
        "import numpy as vAR_np\n",
        "\n",
        "vAR_CSLAB_fig = vAR_plt.figure()\n",
        "\n",
        "vAR_CSLAB_ax = vAR_CSLAB_fig.gca(projection='3d')\n",
        "\n",
        "vAR_CSLAB_X = vAR_np.arange(-5, 5, 0.25)\n",
        "\n",
        "vAR_CSLAB_xlen = len(vAR_CSLAB_X)\n",
        "\n",
        "vAR_CSLAB_Y = vAR_np.arange(-5, 5, 0.25)\n",
        "\n",
        "vAR_CSLAB_ylen = len(vAR_CSLAB_Y)\n",
        "\n",
        "vAR_CSLAB_X, vAR_CSLAB_Y = vAR_np.meshgrid(vAR_CSLAB_X, vAR_CSLAB_Y)\n",
        "\n",
        "vAR_CSLAB_R = vAR_np.sqrt(vAR_CSLAB_X**2 + vAR_CSLAB_Y**2)\n",
        "\n",
        "vAR_CSLAB_Z = vAR_np.sin(vAR_CSLAB_R)\n",
        "\n",
        "vAR_CSLAB_colortuple = ('y', 'b')\n",
        "\n",
        "vAR_CSLAB_colors = vAR_np.empty(vAR_CSLAB_X.shape, dtype=str)\n",
        "\n",
        "for y in range(vAR_CSLAB_ylen):\n",
        "    \n",
        "    for x in range(vAR_CSLAB_xlen):\n",
        "        \n",
        "        vAR_CSLAB_colors[x, y] = vAR_CSLAB_colortuple[(x + y) % len(vAR_CSLAB_colortuple)]\n",
        "\n",
        "vAR_CSLAB_surf = vAR_CSLAB_ax.plot_surface(vAR_CSLAB_X, vAR_CSLAB_Y, vAR_CSLAB_Z, rstride=1, cstride=1, facecolors=vAR_CSLAB_colors,\n",
        "                       linewidth=0, antialiased=False)\n",
        "\n",
        "vAR_CSLAB_ax.set_zlim3d(-1, 1)\n",
        "\n",
        "vAR_CSLAB_ax.w_zaxis.set_major_locator(LinearLocator(6))\n",
        "\n",
        "vAR_plt.show()\n",
        "\n",
        "# ****************************************************************************************************************************\n",
        "#   Disclaimer.\n",
        "\n",
        "# We are providing this code block strictly for learning and researching, this is not a production\n",
        "# ready code. We have no liability on this particular code under any circumstances; users should use\n",
        "# this code on their own risk. All software, hardware and othr products that are referenced in these \n",
        "# materials belong to the respective vendor who developed or who owns this product.\n",
        "\n",
        "# ****************************************************************************************************************************\n",
        "   "
      ]
    }
  ]
}