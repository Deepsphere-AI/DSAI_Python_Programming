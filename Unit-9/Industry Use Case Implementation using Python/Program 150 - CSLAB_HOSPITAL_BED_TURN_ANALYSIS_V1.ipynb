{
  "nbformat": 4,
  "nbformat_minor": 0,
  "metadata": {
    "colab": {
      "provenance": [],
      "authorship_tag": "ABX9TyPA1lPoalk4mH8WzWjbS6Sf",
      "include_colab_link": true
    },
    "kernelspec": {
      "name": "python3",
      "display_name": "Python 3"
    },
    "language_info": {
      "name": "python"
    }
  },
  "cells": [
    {
      "cell_type": "markdown",
      "metadata": {
        "id": "view-in-github",
        "colab_type": "text"
      },
      "source": [
        "<a href=\"https://colab.research.google.com/github/Deepsphere-AI/DSAI_Python_Programming/blob/main/Unit-9/Industry%20Use%20Case%20Implementation%20using%20Python/Program%20150%20-%20CSLAB_HOSPITAL_BED_TURN_ANALYSIS_V1.ipynb\" target=\"_parent\"><img src=\"https://colab.research.google.com/assets/colab-badge.svg\" alt=\"Open In Colab\"/></a>"
      ]
    },
    {
      "cell_type": "code",
      "execution_count": null,
      "metadata": {
        "id": "xY9stXgrXgW6"
      },
      "outputs": [],
      "source": [
        "\n",
        "# *********************************************************************************************************************\n",
        "  \n",
        "  # File Name \t:   CSLAB_HOSPITAL_BED_TURN_ANALYSIS_V1\n",
        "  # Purpose \t:   A Program in Python For Hospital Bed Turn Analysis\n",
        "  # Author\t:   Deepsphere.ai\n",
        "  # Reviewer \t:   Jothi Periasamy\n",
        "  # Date \t:   10/26/2022\n",
        "  # Version\t:   1.0\t\n",
        "  \n",
        "# ***********************************************************************************************************************\n",
        "\n",
        "## Program Description : Program For Hospital Bed Turn Analysis in Python\n",
        "\n",
        "## Python Development Environment & Runtime - Python, Anaconda\n",
        "\n",
        "from mpl_toolkits.mplot3d import Axes3D\n",
        "\n",
        "import matplotlib.pyplot as vAR_plt\n",
        "\n",
        "import numpy as vAR_np\n",
        "\n",
        "vAR_CSLAB_fig = vAR_plt.figure()\n",
        "\n",
        "vAR_CSLAB_ax = vAR_CSLAB_fig.add_subplot(111, projection='3d')\n",
        "\n",
        "vAR_CSLAB_x, vAR_CSLAB_y = vAR_np.random.rand(2, 100) * 4\n",
        "\n",
        "vAR_CSLAB_hist, vAR_CSLAB_xedges, vAR_CSLAB_yedges = vAR_np.histogram2d(vAR_CSLAB_x, vAR_CSLAB_y, bins=4)\n",
        "\n",
        "vAR_CSLAB_elements = (len(vAR_CSLAB_xedges) - 1) * (len(vAR_CSLAB_yedges) - 1)\n",
        "\n",
        "vAR_CSLAB_xpos, vAR_CSLAB_ypos = vAR_np.meshgrid(vAR_CSLAB_xedges[:-1] + 0.25, vAR_CSLAB_yedges[:-1] + 0.25)\n",
        "\n",
        "vAR_CSLAB_xpos = vAR_CSLAB_xpos.flatten()\n",
        "\n",
        "vAR_CSLAB_ypos = vAR_CSLAB_ypos.flatten()\n",
        "\n",
        "vAR_CSLAB_zpos = vAR_np.zeros(vAR_CSLAB_elements)\n",
        "\n",
        "vAR_CSLAB_dx = 0.5 * vAR_np.ones_like(vAR_CSLAB_zpos)\n",
        "\n",
        "vAR_CSLAB_dy = vAR_CSLAB_dx.copy()\n",
        "\n",
        "vAR_CSLAB_dz = vAR_CSLAB_hist.flatten()\n",
        "\n",
        "vAR_CSLAB_ax.bar3d(vAR_CSLAB_xpos, vAR_CSLAB_ypos, vAR_CSLAB_zpos, vAR_CSLAB_dx, vAR_CSLAB_dy, vAR_CSLAB_dz, color='b', zsort='average')\n",
        "\n",
        "vAR_plt.show()\n",
        "\n",
        "# ****************************************************************************************************************************\n",
        "#   Disclaimer.\n",
        "\n",
        "# We are providing this code block strictly for learning and researching, this is not a production\n",
        "# ready code. We have no liability on this particular code under any circumstances; users should use\n",
        "# this code on their own risk. All software, hardware and othr products that are referenced in these \n",
        "# materials belong to the respective vendor who developed or who owns this product.\n",
        "\n",
        "# ****************************************************************************************************************************\n",
        "   "
      ]
    }
  ]
}