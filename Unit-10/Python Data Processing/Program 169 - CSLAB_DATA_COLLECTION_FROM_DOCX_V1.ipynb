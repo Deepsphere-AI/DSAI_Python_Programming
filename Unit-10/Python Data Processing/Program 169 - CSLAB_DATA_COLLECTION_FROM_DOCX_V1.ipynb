{
  "nbformat": 4,
  "nbformat_minor": 0,
  "metadata": {
    "colab": {
      "provenance": [],
      "authorship_tag": "ABX9TyOO0Op4516JC23pLJeauPAM",
      "include_colab_link": true
    },
    "kernelspec": {
      "name": "python3",
      "display_name": "Python 3"
    },
    "language_info": {
      "name": "python"
    }
  },
  "cells": [
    {
      "cell_type": "markdown",
      "metadata": {
        "id": "view-in-github",
        "colab_type": "text"
      },
      "source": [
        "<a href=\"https://colab.research.google.com/github/Deepsphere-AI/DSAI_Python_Programming/blob/main/Unit-10/Python%20Data%20Processing/Program%20169%20-%20CSLAB_DATA_COLLECTION_FROM_DOCX_V1.ipynb\" target=\"_parent\"><img src=\"https://colab.research.google.com/assets/colab-badge.svg\" alt=\"Open In Colab\"/></a>"
      ]
    },
    {
      "cell_type": "code",
      "execution_count": null,
      "metadata": {
        "id": "trCl4d1pEBGD"
      },
      "outputs": [],
      "source": [
        "\n",
        "# *********************************************************************************************************************\n",
        "  \n",
        "  # File Name \t:   CSLAB_DATA_COLLECTION_FROM_WORD_V1\n",
        "  # Purpose \t:   A Program in Python for Collecting Data from a Word Document\n",
        "  # Author\t:   Deepsphere.ai\n",
        "  # Reviewer \t:   Jothi Periasamy\n",
        "  # Date \t:   10/26/2022\n",
        "  # Version\t:   1.0\t\n",
        "  \n",
        "# ***********************************************************************************************************************\n",
        "\n",
        "## Program Description : Program for Collecting Data from a Word Document in Python\n",
        "\n",
        "## Python Development Environment & Runtime - Python, Anaconda\n",
        "\n",
        "from docx import Document\n",
        "\n",
        "import os\n",
        "\n",
        "vAR_INI_File_Path = os.environ.get('PYTHON_TUTORIAL')\n",
        "\n",
        "import pandas as vAR_pd\n",
        "\n",
        "import configparser\n",
        "\n",
        "import matplotlib.pyplot as vAR_plt\n",
        "\n",
        "vAR_Config = configparser.ConfigParser(allow_no_value=True)\n",
        "\n",
        "vAR_Config.read(vAR_INI_File_Path)\n",
        "\n",
        "vAR_CSLAB_DC_DOCX = vAR_Config['Data File Path']['vAR_CSLAB_PROGRAM_169_DATA_COLLECTION_DOC']\n",
        "\n",
        "vAR_CSLAB_DC_DOCX = Document(vAR_CSLAB_DC_DOCX)\n",
        "\n",
        "print (vAR_CSLAB_DC_DOCX.element)\n",
        "\n",
        "# ****************************************************************************************************************************\n",
        "#   Disclaimer.\n",
        "\n",
        "# We are providing this code block strictly for learning and researching, this is not a production\n",
        "# ready code. We have no liability on this particular code under any circumstances; users should use\n",
        "# this code on their own risk. All software, hardware and othr products that are referenced in these \n",
        "# materials belong to the respective vendor who developed or who owns this product.\n",
        "\n",
        "# ****************************************************************************************************************************\n",
        "  "
      ]
    }
  ]
}