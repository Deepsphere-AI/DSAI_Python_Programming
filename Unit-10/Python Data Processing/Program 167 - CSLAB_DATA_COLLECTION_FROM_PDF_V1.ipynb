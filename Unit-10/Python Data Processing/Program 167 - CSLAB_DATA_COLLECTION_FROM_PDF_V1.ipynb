{
  "nbformat": 4,
  "nbformat_minor": 0,
  "metadata": {
    "colab": {
      "provenance": [],
      "authorship_tag": "ABX9TyOvVA0kUAqId6Rfu3lfVelb",
      "include_colab_link": true
    },
    "kernelspec": {
      "name": "python3",
      "display_name": "Python 3"
    },
    "language_info": {
      "name": "python"
    }
  },
  "cells": [
    {
      "cell_type": "markdown",
      "metadata": {
        "id": "view-in-github",
        "colab_type": "text"
      },
      "source": [
        "<a href=\"https://colab.research.google.com/github/Deepsphere-AI/DSAI_Python_Programming/blob/main/Unit-10/Python%20Data%20Processing/Program%20167%20-%20CSLAB_DATA_COLLECTION_FROM_PDF_V1.ipynb\" target=\"_parent\"><img src=\"https://colab.research.google.com/assets/colab-badge.svg\" alt=\"Open In Colab\"/></a>"
      ]
    },
    {
      "cell_type": "code",
      "execution_count": null,
      "metadata": {
        "id": "kMaSd2toDBWO"
      },
      "outputs": [],
      "source": [
        "\n",
        "# *********************************************************************************************************************\n",
        "  \n",
        "  # File Name \t:   CSLAB_DATA_COLLECTION_FROM_PDF_V1\n",
        "  # Purpose \t:   A Program in Python for Collecting Data from a PDF File\n",
        "  # Author\t:   Deepsphere.ai\n",
        "  # Reviewer \t:   Jothi Periasamy\n",
        "  # Date \t:   10/26/2022\n",
        "  # Version\t:   1.0\t\n",
        "  \n",
        "# ***********************************************************************************************************************\n",
        "\n",
        "## Program Description : Program for Collecting Data from a PDF File in Python\n",
        "\n",
        "## Python Development Environment & Runtime - Python, Anaconda\n",
        "\n",
        "import PyPDF2\n",
        "\n",
        "import os\n",
        "\n",
        "vAR_INI_File_Path = os.environ.get('PYTHON_TUTORIAL')\n",
        "\n",
        "import pandas as vAR_pd\n",
        "\n",
        "import configparser\n",
        "\n",
        "import matplotlib.pyplot as vAR_plt\n",
        "\n",
        "vAR_Config = configparser.ConfigParser(allow_no_value=True)\n",
        "\n",
        "vAR_Config.read(vAR_INI_File_Path)\n",
        "\n",
        "vAR_CSLAB_DC_PDF = vAR_Config['Data File Path']['vAR_CSLAB_PROGRAM_167_DATA_COLLECTION_PDF']\n",
        "\n",
        "vAR_CSLAB_DC_PDF = open(vAR_CSLAB_DC_PDF,'rb')\n",
        "\n",
        "vAR_CSLAB_DC_PDF = PyPDF2.PdfFileReader(vAR_CSLAB_DC_PDF)\n",
        "\n",
        "vAR_CSLAB_DC_PDF_PAGES = vAR_CSLAB_DC_PDF.getNumPages()\n",
        "\n",
        "vAR_CSLAB_DC_PDF_PAGES = vAR_CSLAB_DC_PDF.getPage(0)\n",
        "\n",
        "vAR_CSLAB_DC_PDF_CONTENT = vAR_CSLAB_DC_PDF_PAGES.extractText()\n",
        "\n",
        "print (vAR_CSLAB_DC_PDF_CONTENT.encode('utf-8'))\n",
        "\n",
        "\n",
        "# ****************************************************************************************************************************\n",
        "#   Disclaimer.\n",
        "\n",
        "# We are providing this code block strictly for learning and researching, this is not a production\n",
        "# ready code. We have no liability on this particular code under any circumstances; users should use\n",
        "# this code on their own risk. All software, hardware and othr products that are referenced in these \n",
        "# materials belong to the respective vendor who developed or who owns this product.\n",
        "\n",
        "# ****************************************************************************************************************************\n",
        "  "
      ]
    }
  ]
}