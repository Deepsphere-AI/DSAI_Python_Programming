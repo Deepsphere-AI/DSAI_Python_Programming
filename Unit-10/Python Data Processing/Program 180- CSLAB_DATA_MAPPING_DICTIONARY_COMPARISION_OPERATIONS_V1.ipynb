{
  "nbformat": 4,
  "nbformat_minor": 0,
  "metadata": {
    "colab": {
      "provenance": [],
      "authorship_tag": "ABX9TyOSQuph2D/NYEnAIV35X9nm",
      "include_colab_link": true
    },
    "kernelspec": {
      "name": "python3",
      "display_name": "Python 3"
    },
    "language_info": {
      "name": "python"
    }
  },
  "cells": [
    {
      "cell_type": "markdown",
      "metadata": {
        "id": "view-in-github",
        "colab_type": "text"
      },
      "source": [
        "<a href=\"https://colab.research.google.com/github/Deepsphere-AI/DSAI_Python_Programming/blob/main/Unit-10/Python%20Data%20Processing/Program%20180-%20CSLAB_DATA_MAPPING_DICTIONARY_COMPARISION_OPERATIONS_V1.ipynb\" target=\"_parent\"><img src=\"https://colab.research.google.com/assets/colab-badge.svg\" alt=\"Open In Colab\"/></a>"
      ]
    },
    {
      "cell_type": "code",
      "execution_count": null,
      "metadata": {
        "id": "aC6mLPXUqR38"
      },
      "outputs": [],
      "source": [
        "\n",
        "# *********************************************************************************************************************\n",
        "  \n",
        "  # File Name \t:   CSLAB_DATA_MAPPING_DICTIONARY_COMPARISION_OPERATIONS_V1\n",
        "  # Purpose \t:   A Program in Python for Mapping Data using Dictionary Comparision Operations\n",
        "  # Author\t:   Deepsphere.ai\n",
        "  # Reviewer \t:   Jothi Periasamy\n",
        "  # Date \t:   10/27/2022\n",
        "  # Version\t:   1.0\t\n",
        "  \n",
        "# ***********************************************************************************************************************\n",
        "\n",
        "## Program Description : Program for Mapping Data using Dictionary Comparision Operations in Python\n",
        "\n",
        "## Python Development Environment & Runtime - Python, Anaconda\n",
        "\n",
        "vAR_CSLAB_colors = { \"blue\": (0x30,0x30,0xff), \"green\": (0x30,0xff,0x97),\"red\": (0xff,0x30,0x97), \"yellow\": (0xff,0xff,0x30) }\n",
        "\n",
        "\"blue\" in vAR_CSLAB_colors\n",
        "\n",
        "(0x30,0x30,0xff) in vAR_CSLAB_colors\n",
        "\n",
        "\"orange\" not in vAR_CSLAB_colors\n",
        "\n",
        "# ****************************************************************************************************************************\n",
        "#   Disclaimer.\n",
        "\n",
        "# We are providing this code block strictly for learning and researching, this is not a production\n",
        "# ready code. We have no liability on this particular code under any circumstances; users should use\n",
        "# this code on their own risk. All software, hardware and othr products that are referenced in these \n",
        "# materials belong to the respective vendor who developed or who owns this product.\n",
        "\n",
        "# ****************************************************************************************************************************\n",
        "  "
      ]
    }
  ]
}