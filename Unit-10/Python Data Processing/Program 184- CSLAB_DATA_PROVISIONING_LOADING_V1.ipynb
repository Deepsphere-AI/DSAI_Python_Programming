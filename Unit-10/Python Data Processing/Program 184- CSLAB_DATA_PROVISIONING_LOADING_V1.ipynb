{
  "nbformat": 4,
  "nbformat_minor": 0,
  "metadata": {
    "colab": {
      "provenance": [],
      "authorship_tag": "ABX9TyMCVmu5aQzaZjMWzoz3TxnN",
      "include_colab_link": true
    },
    "kernelspec": {
      "name": "python3",
      "display_name": "Python 3"
    },
    "language_info": {
      "name": "python"
    }
  },
  "cells": [
    {
      "cell_type": "markdown",
      "metadata": {
        "id": "view-in-github",
        "colab_type": "text"
      },
      "source": [
        "<a href=\"https://colab.research.google.com/github/Deepsphere-AI/DSAI_Python_Programming/blob/main/Unit-10/Python%20Data%20Processing/Program%20184-%20CSLAB_DATA_PROVISIONING_LOADING_V1.ipynb\" target=\"_parent\"><img src=\"https://colab.research.google.com/assets/colab-badge.svg\" alt=\"Open In Colab\"/></a>"
      ]
    },
    {
      "cell_type": "code",
      "execution_count": null,
      "metadata": {
        "id": "ks9SdYKvtHki"
      },
      "outputs": [],
      "source": [
        "\n",
        "# *********************************************************************************************************************\n",
        "  \n",
        "  # File Name \t:   CSLAB_DATA_PROVISIONING_LOADING_V1\n",
        "  # Purpose \t:   A Program in Python for Data Provisioning - Loading\n",
        "  # Author\t:   Deepsphere.ai\n",
        "  # Reviewer \t:   Jothi Periasamy\n",
        "  # Date \t:   10/27/2022\n",
        "  # Version\t:   1.0\t\n",
        "  \n",
        "# ***********************************************************************************************************************\n",
        "\n",
        "## Program Description : Program for Data Provisioning - Loading in Python\n",
        "\n",
        "## Python Development Environment & Runtime - Python, Anaconda\n",
        "\n",
        "import os\n",
        "\n",
        "vAR_INI_File_Path = os.environ.get('PYTHON_TUTORIAL')\n",
        "\n",
        "import pandas as vAR_pd\n",
        "\n",
        "import configparser\n",
        "\n",
        "import matplotlib.pyplot as vAR_plt\n",
        "\n",
        "vAR_Config = configparser.ConfigParser(allow_no_value=True)\n",
        "\n",
        "vAR_Config.read(vAR_INI_File_Path)\n",
        "\n",
        "vAR_CSLAB_DC_SAP_HANA_DSN = vAR_Config['Data File Path']['vAR_CSLAB_PROGRAM_173_DATA_COLLECTION_SAP_HANA_DSN']\n",
        "\n",
        "vAR_CSLAB_DC_SAP_HANA_UID = vAR_Config['Data File Path']['vAR_CSLAB_PROGRAM_173_DATA_COLLECTION_SAP_HANA_UID']\n",
        "\n",
        "vAR_CSLAB_DC_SAP_HANA_PWD = vAR_Config['Data File Path']['vAR_CSLAB_PROGRAM_173_DATA_COLLECTION_SAP_HANA_PWD']\n",
        "\n",
        "#vAR_CSLAB_CONN = vAR_pyodbc.connect('DSN=vAR_CSLAB_DC_SAP_HANA_DSN; UID=vAR_CSLAB_DC_SAP_HANA_UID; PWD=vAR_CSLAB_DC_SAP_HANA_PWD')\n",
        "\n",
        "#vAR_CSLAB_CURSOR = CSLAB_CONN.cursor()\n",
        "\n",
        "#vAR_CSLAB_STMNT = 'INSERT INTO DURGA.LEASE'\n",
        "\n",
        "#vAR_CSLAB_CURSOR.execute(vAR_CSLAB_STMNT)\n",
        "\n",
        "#vAR_CSLAB_RESULT = vAR_CSLAB_CURSOR.fetchall()\n",
        "\n",
        "#print (vAR_CSLAB_RESULT)\n",
        "\n",
        "\n",
        "# ****************************************************************************************************************************\n",
        "#   Disclaimer.\n",
        "\n",
        "# We are providing this code block strictly for learning and researching, this is not a production\n",
        "# ready code. We have no liability on this particular code under any circumstances; users should use\n",
        "# this code on their own risk. All software, hardware and othr products that are referenced in these \n",
        "# materials belong to the respective vendor who developed or who owns this product.\n",
        "\n",
        "# ****************************************************************************************************************************\n",
        "  "
      ]
    }
  ]
}