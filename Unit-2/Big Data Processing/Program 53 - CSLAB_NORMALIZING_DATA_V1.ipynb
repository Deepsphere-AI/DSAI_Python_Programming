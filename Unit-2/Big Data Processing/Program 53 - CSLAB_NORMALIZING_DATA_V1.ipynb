{
  "nbformat": 4,
  "nbformat_minor": 0,
  "metadata": {
    "colab": {
      "provenance": [],
      "authorship_tag": "ABX9TyPBegFIyV7TGfg8o0Atw80D",
      "include_colab_link": true
    },
    "kernelspec": {
      "name": "python3",
      "display_name": "Python 3"
    },
    "language_info": {
      "name": "python"
    }
  },
  "cells": [
    {
      "cell_type": "markdown",
      "metadata": {
        "id": "view-in-github",
        "colab_type": "text"
      },
      "source": [
        "<a href=\"https://colab.research.google.com/github/Deepsphere-AI/DSAI_Python_Programming/blob/main/Unit-2/Big%20Data%20Processing/Program%2053%20-%20CSLAB_NORMALIZING_DATA_V1.ipynb\" target=\"_parent\"><img src=\"https://colab.research.google.com/assets/colab-badge.svg\" alt=\"Open In Colab\"/></a>"
      ]
    },
    {
      "cell_type": "code",
      "execution_count": null,
      "metadata": {
        "id": "JBx7OtUvxwRc"
      },
      "outputs": [],
      "source": [
        "\n",
        "# *********************************************************************************************************************\n",
        "  \n",
        "  # File Name \t:   CSLAB_NORMALIZING_DATA_V1\n",
        "  # Purpose \t:   A Program in Python for Normalizing Data\n",
        "  # Author\t:   Deepsphere.ai\n",
        "  # Reviewer \t:   Jothi Periasamy\n",
        "  # Date \t:   10/25/2022 \n",
        "  # Version\t:   1.0\t\n",
        "  \n",
        "# ***********************************************************************************************************************\n",
        "\n",
        "## Program Description : Program for Normalizing Data in Python\n",
        "\n",
        "## Python Development Environment & Runtime - Python, Anaconda\n",
        "\n",
        "# Normalize the data attributes for the Iris dataset.\n",
        "\n",
        "from sklearn.datasets import load_iris\n",
        "\n",
        "from sklearn import preprocessing\n",
        "\n",
        "# load the iris dataset\n",
        "\n",
        "vAR_CSLAB_iris = load_iris()\n",
        "\n",
        "print(vAR_CSLAB_iris.data.shape)\n",
        "\n",
        "# separate the data from the target attributes\n",
        "\n",
        "vAR_CSLAB_CSLAB_X = vAR_CSLAB_iris.data\n",
        "\n",
        "vAR_CSLAB_CSLAB_Y = vAR_CSLAB_iris.target\n",
        "\n",
        "# normalize the data attributes\n",
        "\n",
        "vAR_CSLAB_normalized_CSLAB_X = preprocessing.normalize(vAR_CSLAB_CSLAB_X)\n",
        "\n",
        "vAR_CSLAB_normalized_CSLAB_X\n",
        "\n",
        "\n",
        "# ****************************************************************************************************************************\n",
        "#   Disclaimer.\n",
        "\n",
        "# We are providing this code block strictly for learning and researching, this is not a production\n",
        "# ready code. We have no liability on this particular code under any circumstances; users should use\n",
        "# this code on their own risk. All software, hardware and othr products that are referenced in these \n",
        "# materials belong to the respective vendor who developed or who owns this product.\n",
        "\n",
        "# ****************************************************************************************************************************\n",
        "  "
      ]
    }
  ]
}