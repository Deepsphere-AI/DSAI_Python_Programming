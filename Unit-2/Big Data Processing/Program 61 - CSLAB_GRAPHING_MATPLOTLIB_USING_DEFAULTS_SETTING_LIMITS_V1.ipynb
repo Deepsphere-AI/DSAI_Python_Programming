{
  "nbformat": 4,
  "nbformat_minor": 0,
  "metadata": {
    "colab": {
      "provenance": [],
      "authorship_tag": "ABX9TyNhgYRccrbCG4OUAHqVzqtV",
      "include_colab_link": true
    },
    "kernelspec": {
      "name": "python3",
      "display_name": "Python 3"
    },
    "language_info": {
      "name": "python"
    }
  },
  "cells": [
    {
      "cell_type": "markdown",
      "metadata": {
        "id": "view-in-github",
        "colab_type": "text"
      },
      "source": [
        "<a href=\"https://colab.research.google.com/github/Deepsphere-AI/DSAI_Python_Programming/blob/main/Unit-2/Big%20Data%20Processing/Program%2061%20-%20CSLAB_GRAPHING_MATPLOTLIB_USING_DEFAULTS_SETTING_LIMITS_V1.ipynb\" target=\"_parent\"><img src=\"https://colab.research.google.com/assets/colab-badge.svg\" alt=\"Open In Colab\"/></a>"
      ]
    },
    {
      "cell_type": "code",
      "execution_count": null,
      "metadata": {
        "id": "Vi0tTmt6_Nfb"
      },
      "outputs": [],
      "source": [
        "\n",
        "# *********************************************************************************************************************\n",
        "  \n",
        "  # File Name \t:   CSLAB_GRAPHING_MATPLOTLIB_USING_DEFAULTS_SETTING_LIMITS_V1\n",
        "  # Purpose \t:   A Program in Python for Using & Setting Defaults in matplotlib\n",
        "  # Author\t:   Deepsphere.ai\n",
        "  # Reviewer \t:   Jothi Periasamy\n",
        "  # Date \t:   10/25/2022\n",
        "  # Version\t:   1.0\t\n",
        "  \n",
        "# ***********************************************************************************************************************\n",
        "   \n",
        "## Program Description : Program Using & Defaults in matplotlib in Python\n",
        "\n",
        "## Python Development Environment & Runtime - Python, Anaconda\n",
        "\n",
        "from pylab import *\n",
        "\n",
        "import numpy as vAR_np\n",
        "\n",
        "vAR_CSLAB_X = vAR_np.linspace(-vAR_np.pi, vAR_np.pi, 256,endpoint=True)\n",
        "\n",
        "vAR_CSLAB_C,vAR_CSLAB_S = vAR_np.cos(vAR_CSLAB_X), vAR_np.sin(vAR_CSLAB_X)\n",
        "\n",
        "plot(vAR_CSLAB_X,vAR_CSLAB_C)\n",
        " \n",
        "plot(vAR_CSLAB_X,vAR_CSLAB_S)\n",
        "\n",
        "xlim(-4.0,4.0)\n",
        "\n",
        "ylim(-1.0,1.0)\n",
        "\n",
        "xlim(vAR_CSLAB_X.min()*1.1, vAR_CSLAB_X.max()*1.1)\n",
        "\n",
        "\n",
        "  ylim(C.min()*1.1, C.max()*1.1)\n",
        "\n",
        "  xmin ,xmax = X.min(), X.max()\n",
        "\n",
        "  dx = (xmax - xmin) * 0.2\n",
        "\n",
        "  xlim(xmin - dx, xmax + dx)\n",
        "\n",
        "  show()    \n",
        "\n",
        "# ****************************************************************************************************************************\n",
        "#   Disclaimer.\n",
        "\n",
        "# We are providing this code block strictly for learning and researching, this is not a production\n",
        "# ready code. We have no liability on this particular code under any circumstances; users should use\n",
        "# this code on their own risk. All software, hardware and othr products that are referenced in these \n",
        "# materials belong to the respective vendor who developed or who owns this product.\n",
        "\n",
        "# ****************************************************************************************************************************\n",
        "  "
      ]
    }
  ]
}