{
  "nbformat": 4,
  "nbformat_minor": 0,
  "metadata": {
    "colab": {
      "provenance": [],
      "authorship_tag": "ABX9TyOrzv8TviQExm2pgbUadtLS",
      "include_colab_link": true
    },
    "kernelspec": {
      "name": "python3",
      "display_name": "Python 3"
    },
    "language_info": {
      "name": "python"
    }
  },
  "cells": [
    {
      "cell_type": "markdown",
      "metadata": {
        "id": "view-in-github",
        "colab_type": "text"
      },
      "source": [
        "<a href=\"https://colab.research.google.com/github/Deepsphere-AI/DSAI_Python_Programming/blob/main/Unit-2/Big%20Data%20Processing/Program%2068%20-%20CSLAB_READING_DATA_FROM_HANA_TO_PYTHON_V1.ipynb\" target=\"_parent\"><img src=\"https://colab.research.google.com/assets/colab-badge.svg\" alt=\"Open In Colab\"/></a>"
      ]
    },
    {
      "cell_type": "code",
      "execution_count": null,
      "metadata": {
        "id": "XucyxseSDage"
      },
      "outputs": [],
      "source": [
        "\n",
        "# **************************************************************************************\n",
        "  \n",
        "  # File Name \t:   CSLAB_READING_DATA_FROM_HANA_TO_PYTHON\n",
        "  # Purpose \t:   A Program in Python for Reading Data from SAP HANA Database\n",
        "  # Author\t:   Deepsphere.ai\n",
        "  # Reviewer \t:   Jothi Periasamy\n",
        "  # Date \t:   10/25/2022\n",
        "  # Version\t:   1.0\t\n",
        "  \n",
        "# **************************************************************************************\n",
        " \n",
        "## Program Description : Program for Reading Data from SAP HANA Database in Python\n",
        "\n",
        "## Python Development Environment & Runtime - Python, Anaconda\n",
        "\n",
        "#!/usr/bin/python\n",
        " \n",
        "# -*- coding: utf-8 -*-\n",
        "\n",
        "import pypyodbc as pyodbc \n",
        "\n",
        "#vAR_CSLAB_CONN = pyodbc.connect('DSN=DS;UID=DURGA;PWD=Delhi123')\n",
        "\n",
        "#vAR_CSLAB_CURSOR = vAR_CSLAB_CONN.cursor()\n",
        "\n",
        "#vAR_CSLAB_STMNT = 'SELECT * FROM DURGA.TICKETS'\n",
        "\n",
        "#vAR_CSLAB_CURSOR.execute(vAR_CSLAB_STMNT)\n",
        "\n",
        "#vAR_CSLAB_RESULT = vAR_CSLAB_CURSOR.fetchall()\n",
        "\n",
        "#print (CSLAB_RESULT)\n",
        "\n",
        "   \n",
        "# **************************************************************************************\n",
        "#   Disclaimer.\n",
        "\n",
        "# We are providing this code block strictly for learning and researching, this is not a production ready code. We have no liability on this particular code under any circumstances; users should use this code on their own risk. \n",
        "\n",
        "# All software, hardware and othr products that are referenced in these materials belong to the respective vendor who developed or who owns this product.\n",
        "\n",
        "# **************************************************************************************\n",
        "  "
      ]
    }
  ]
}