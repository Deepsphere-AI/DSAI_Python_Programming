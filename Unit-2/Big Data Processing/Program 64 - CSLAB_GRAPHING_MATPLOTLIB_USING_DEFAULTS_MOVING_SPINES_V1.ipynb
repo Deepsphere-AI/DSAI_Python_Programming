{
  "nbformat": 4,
  "nbformat_minor": 0,
  "metadata": {
    "colab": {
      "provenance": [],
      "authorship_tag": "ABX9TyMNoQMDSQfkiFkce/9o+SMM",
      "include_colab_link": true
    },
    "kernelspec": {
      "name": "python3",
      "display_name": "Python 3"
    },
    "language_info": {
      "name": "python"
    }
  },
  "cells": [
    {
      "cell_type": "markdown",
      "metadata": {
        "id": "view-in-github",
        "colab_type": "text"
      },
      "source": [
        "<a href=\"https://colab.research.google.com/github/Deepsphere-AI/DSAI_Python_Programming/blob/main/Unit-2/Big%20Data%20Processing/Program%2064%20-%20CSLAB_GRAPHING_MATPLOTLIB_USING_DEFAULTS_MOVING_SPINES_V1.ipynb\" target=\"_parent\"><img src=\"https://colab.research.google.com/assets/colab-badge.svg\" alt=\"Open In Colab\"/></a>"
      ]
    },
    {
      "cell_type": "code",
      "execution_count": null,
      "metadata": {
        "id": "kHSYADsLBKQb"
      },
      "outputs": [],
      "source": [
        "\n",
        "# *********************************************************************************************************************\n",
        "  \n",
        "  # File Name \t:   CSLAB_GRAPHING_MATPLOTLIB_USING_DEFAULTS_MOVING_SPINES_V1\n",
        "  # Purpose \t:   A Program in Python for Using Defaults & Moving Spines in matplotlib\n",
        "  # Author\t:   Deepsphere.ai\n",
        "  # Reviewer \t:   Jothi Periasamy\n",
        "  # Date \t:   10/25/2022\n",
        "  # Version\t:   1.0\t\n",
        "   \n",
        "\n",
        "# ***********************************************************************************************************************\n",
        "   \n",
        "## Program Description : Program for Using Defaults & Moving Spines in matplotlib in Python\n",
        "\n",
        "## Python Development Environment & Runtime - Python, Anaconda\n",
        "\n",
        "from pylab import *\n",
        "\n",
        "import numpy as vAR_np\n",
        "\n",
        "vAR_CSLAB_X = vAR_np.linspace(-vAR_np.pi, vAR_np.pi, 256,endpoint=True)\n",
        "\n",
        "vAR_CSLAB_C,vAR_CSLAB_S = vAR_np.cos(vAR_CSLAB_X), vAR_np.sin(vAR_CSLAB_X)\n",
        "\n",
        "plot(vAR_CSLAB_X,vAR_CSLAB_C)\n",
        " \n",
        "plot(vAR_CSLAB_X,vAR_CSLAB_S)\n",
        "\n",
        "xlim(-4.0,4.0)\n",
        "\n",
        "ylim(-1.0,1.0)\n",
        "\n",
        "xlim(vAR_CSLAB_X.min()*1.1, vAR_CSLAB_X.max()*1.1)\n",
        "\n",
        "ylim(vAR_CSLAB_C.min()*1.1, vAR_CSLAB_C.max()*1.1)\n",
        "\n",
        "vAR_CSLAB_xmin, vAR_CSLAB_xmax = vAR_CSLAB_X.min(), vAR_CSLAB_X.max()\n",
        "\n",
        "vAR_CSLAB_dx = (vAR_CSLAB_xmax - vAR_CSLAB_xmin) * 0.2\n",
        "\n",
        "xlim(vAR_CSLAB_xmin - vAR_CSLAB_dx, vAR_CSLAB_xmax + vAR_CSLAB_dx)\n",
        "\n",
        "xticks( [-vAR_np.pi, -vAR_np.pi/2, 0, vAR_np.pi/2, vAR_np.pi])\n",
        "\n",
        "yticks([-1, 0, +1])\n",
        "\n",
        "xticks([-vAR_np.pi, -vAR_np.pi/2, 0, vAR_np.pi/2, vAR_np.pi],\n",
        "       [r'$-\\pi$', r'$-\\pi/2$', r'$0$', r'$+\\pi/2$', r'$+\\pi$'])\n",
        "\n",
        "yticks([-1, 0, +1],\n",
        "       [r'$-1$', r'$0$', r'$+1$'])\n",
        "\n",
        "vAR_CSLAB_ax = gca()\n",
        "\n",
        "vAR_CSLAB_ax.spines['right'].set_color('none')\n",
        "\n",
        "vAR_CSLAB_ax.spines['top'].set_color('none')\n",
        "\n",
        "vAR_CSLAB_ax.xaxis.set_ticks_position('bottom')\n",
        "\n",
        "vAR_CSLAB_ax.spines['bottom'].set_position(('data',0))\n",
        " \n",
        "vAR_CSLAB_ax.yaxis.set_ticks_position('left')\n",
        " \n",
        "vAR_CSLAB_ax.spines['left'].set_position(('data',0))\n",
        " \n",
        "show()    \n",
        "\n",
        "# ****************************************************************************************************************************\n",
        "#   Disclaimer.\n",
        "\n",
        "# We are providing this code block strictly for learning and researching, this is not a production\n",
        "# ready code. We have no liability on this particular code under any circumstances; users should use\n",
        "# this code on their own risk. All software, hardware and othr products that are referenced in these \n",
        "# materials belong to the respective vendor who developed or who owns this product.\n",
        "\n",
        "# ****************************************************************************************************************************\n",
        "  "
      ]
    }
  ]
}